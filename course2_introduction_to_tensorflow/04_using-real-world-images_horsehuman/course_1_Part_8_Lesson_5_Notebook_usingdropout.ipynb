{
  "nbformat": 4,
  "nbformat_minor": 0,
  "metadata": {
    "accelerator": "GPU",
    "colab": {
      "name": "Horse-or-Human-WithDropouts.ipynb",
      "provenance": [],
      "collapsed_sections": [],
      "toc_visible": true,
      "include_colab_link": true
    },
    "kernelspec": {
      "display_name": "Python 3",
      "language": "python",
      "name": "python3"
    },
    "language_info": {
      "codemirror_mode": {
        "name": "ipython",
        "version": 3
      },
      "file_extension": ".py",
      "mimetype": "text/x-python",
      "name": "python",
      "nbconvert_exporter": "python",
      "pygments_lexer": "ipython3",
      "version": "3.8.0"
    }
  },
  "cells": [
    {
      "cell_type": "markdown",
      "metadata": {
        "id": "view-in-github",
        "colab_type": "text"
      },
      "source": [
        "<a href=\"https://colab.research.google.com/github/poojasaxena/tensorflow-developer-zertificate-coursera/blob/main/course1_introduction_to_tensorflow/04_using-real-world-images_horsehuman/course_1_Part_8_Lesson_5_Notebook_usingdropout.ipynb\" target=\"_parent\"><img src=\"https://colab.research.google.com/assets/colab-badge.svg\" alt=\"Open In Colab\"/></a>"
      ]
    },
    {
      "cell_type": "markdown",
      "metadata": {
        "id": "Ns_efrnfW-fE"
      },
      "source": [
        "<a href=\"https://colab.research.google.com/github/poojasaxena/tensorflow-developer-zertificate-coursera/blob/main/course1_introduction_to_tensorflow/04_using-real-world-images_horsehuman/course_1_Part_8_Lesson_5_Notebook_usingdropout.ipynb#scrollTo=src2B9K_T48R\">\n",
        "  <img src=\"https://colab.research.google.com/assets/colab-badge.svg\" alt=\"Open In Colab\"/>\n",
        "</a>"
      ]
    },
    {
      "cell_type": "code",
      "metadata": {
        "id": "mA86EhgyW-fK",
        "outputId": "1d5a135b-ec5f-4e8b-f034-e58c583c2711",
        "colab": {
          "base_uri": "https://localhost:8080/"
        }
      },
      "source": [
        "import os\n",
        "import zipfile\n",
        "\n",
        "if os.path.isdir('/tmp/horse-or-human'):\n",
        "    print('dataset horse-or-human exist:', os.listdir('/tmp/horse-or-human/'))\n",
        "else:\n",
        "    print('Uploading dataset, horse-or-human =====')\n",
        "    !wget --no-check-certificate \\\n",
        "    https://storage.googleapis.com/laurencemoroney-blog.appspot.com/horse-or-human.zip \\\n",
        "    -O /tmp/horse-or-human.zip\n",
        "    local_zip = '/tmp/horse-or-human.zip'\n",
        "    zip_ref = zipfile.ZipFile(local_zip, 'r')\n",
        "    zip_ref.extractall('/tmp/horse-or-human')\n",
        "\n",
        "if os.path.isdir('/tmp/validation-horse-or-human'):\n",
        "    print('Dataset exist:', os.listdir('/tmp/vlidation-horse-or-human'))\n",
        "else:\n",
        "    print('Uploading dataset, horse-or-human-validation =====')\n",
        "    !wget --no-check-certificate \\\n",
        "    https://storage.googleapis.com/laurencemoroney-blog.appspot.com/validation-horse-or-human.zip \\\n",
        "    -O /tmp/validation-horse-or-human.zip\n",
        "    local_zip = '/tmp/validation-horse-or-human.zip'\n",
        "    zip_ref = zipfile.ZipFile(local_zip, 'r')\n",
        "    zip_ref.extractall('/tmp/validation-horse-or-human')\n",
        "    zip_ref.close()"
      ],
      "execution_count": 2,
      "outputs": [
        {
          "output_type": "stream",
          "text": [
            "Uploading dataset, horse-or-human =====\n",
            "--2021-03-09 09:40:56--  https://storage.googleapis.com/laurencemoroney-blog.appspot.com/horse-or-human.zip\n",
            "Resolving storage.googleapis.com (storage.googleapis.com)... 74.125.206.128, 64.233.167.128, 64.233.166.128, ...\n",
            "Connecting to storage.googleapis.com (storage.googleapis.com)|74.125.206.128|:443... connected.\n",
            "HTTP request sent, awaiting response... 200 OK\n",
            "Length: 149574867 (143M) [application/zip]\n",
            "Saving to: ‘/tmp/horse-or-human.zip’\n",
            "\n",
            "/tmp/horse-or-human 100%[===================>] 142.65M  40.2MB/s    in 3.5s    \n",
            "\n",
            "2021-03-09 09:41:00 (40.2 MB/s) - ‘/tmp/horse-or-human.zip’ saved [149574867/149574867]\n",
            "\n",
            "Uploading dataset, horse-or-human-validation =====\n",
            "--2021-03-09 09:41:01--  https://storage.googleapis.com/laurencemoroney-blog.appspot.com/validation-horse-or-human.zip\n",
            "Resolving storage.googleapis.com (storage.googleapis.com)... 142.251.5.128, 74.125.206.128, 64.233.167.128, ...\n",
            "Connecting to storage.googleapis.com (storage.googleapis.com)|142.251.5.128|:443... connected.\n",
            "HTTP request sent, awaiting response... 200 OK\n",
            "Length: 11480187 (11M) [application/zip]\n",
            "Saving to: ‘/tmp/validation-horse-or-human.zip’\n",
            "\n",
            "/tmp/validation-hor 100%[===================>]  10.95M  18.1MB/s    in 0.6s    \n",
            "\n",
            "2021-03-09 09:41:01 (18.1 MB/s) - ‘/tmp/validation-horse-or-human.zip’ saved [11480187/11480187]\n",
            "\n"
          ],
          "name": "stdout"
        }
      ]
    },
    {
      "cell_type": "code",
      "metadata": {
        "id": "RXZT2UsyIVe_"
      },
      "source": [
        "# Directory with our training horse pictures\n",
        "train_horse_dir = os.path.join('/tmp/horse-or-human/horses')\n",
        "\n",
        "# Directory with our training human pictures\n",
        "train_human_dir = os.path.join('/tmp/horse-or-human/humans')\n",
        "\n",
        "# Directory with our training horse pictures\n",
        "validation_horse_dir = os.path.join('/tmp/validation-horse-or-human/horses')\n",
        "\n",
        "# Directory with our training human pictures\n",
        "validation_human_dir = os.path.join('/tmp/validation-horse-or-human/humans')"
      ],
      "execution_count": 3,
      "outputs": []
    },
    {
      "cell_type": "markdown",
      "metadata": {
        "id": "5oqBkNBJmtUv"
      },
      "source": [
        "## Building a Small Model from Scratch\n",
        "\n",
        "But before we continue, let's start defining the model:\n",
        "\n",
        "Step 1 will be to import tensorflow."
      ]
    },
    {
      "cell_type": "code",
      "metadata": {
        "id": "qvfZg3LQbD-5"
      },
      "source": [
        "import tensorflow as tf"
      ],
      "execution_count": 4,
      "outputs": []
    },
    {
      "cell_type": "markdown",
      "metadata": {
        "id": "BnhYCP4tdqjC"
      },
      "source": [
        "We then add convolutional layers as in the previous example, and flatten the final result to feed into the densely connected layers."
      ]
    },
    {
      "cell_type": "markdown",
      "metadata": {
        "id": "gokG5HKpdtzm"
      },
      "source": [
        "Finally we add the densely connected layers. \n",
        "\n",
        "Note that because we are facing a two-class classification problem, i.e. a *binary classification problem*, we will end our network with a [*sigmoid* activation](https://wikipedia.org/wiki/Sigmoid_function), so that the output of our network will be a single scalar between 0 and 1, encoding the probability that the current image is class 1 (as opposed to class 0)."
      ]
    },
    {
      "cell_type": "code",
      "metadata": {
        "id": "PixZ2s5QbYQ3"
      },
      "source": [
        "model = tf.keras.models.Sequential([\n",
        "    # Note the input shape is the desired size of the image 300x300 with 3 bytes color\n",
        "    # This is the first convolution\n",
        "    tf.keras.layers.Conv2D(16, (3,3), activation='relu', input_shape=(300, 300, 3)),\n",
        "    tf.keras.layers.MaxPooling2D(2, 2),\n",
        "    # The second convolution\n",
        "    tf.keras.layers.Conv2D(32, (3,3), activation='relu'),\n",
        "    tf.keras.layers.Dropout(0.5),\n",
        "    tf.keras.layers.MaxPooling2D(2,2),\n",
        "    # The third convolution\n",
        "    tf.keras.layers.Conv2D(64, (3,3), activation='relu'),\n",
        "    tf.keras.layers.Dropout(0.5),\n",
        "    tf.keras.layers.MaxPooling2D(2,2),\n",
        "    # The fourth convolution\n",
        "    tf.keras.layers.Conv2D(64, (3,3), activation='relu'),\n",
        "    tf.keras.layers.MaxPooling2D(2,2),\n",
        "    # The fifth convolution\n",
        "    tf.keras.layers.Conv2D(64, (3,3), activation='relu'),\n",
        "    tf.keras.layers.MaxPooling2D(2,2),\n",
        "    # Flatten the results to feed into a DNN\n",
        "    \n",
        "    tf.keras.layers.Flatten(),\n",
        "    tf.keras.layers.Dropout(0.5),\n",
        "    # 512 neuron hidden layer\n",
        "    tf.keras.layers.Dense(512, activation='relu'),\n",
        "    # Only 1 output neuron. It will contain a value from 0-1 where 0 for 1 class ('horses') and 1 for the other ('humans')\n",
        "    tf.keras.layers.Dense(1, activation='sigmoid')\n",
        "])"
      ],
      "execution_count": 5,
      "outputs": []
    },
    {
      "cell_type": "code",
      "metadata": {
        "id": "8DHWhFP_uhq3"
      },
      "source": [
        "from tensorflow.keras.optimizers import RMSprop\n",
        "\n",
        "model.compile(loss='binary_crossentropy',\n",
        "              optimizer=RMSprop(lr=1e-4),\n",
        "              metrics=['accuracy'])"
      ],
      "execution_count": 6,
      "outputs": []
    },
    {
      "cell_type": "code",
      "metadata": {
        "id": "ClebU9NJg99G",
        "outputId": "4ee28263-1d68-4f0b-d7fb-54cffb8547c6",
        "colab": {
          "base_uri": "https://localhost:8080/"
        }
      },
      "source": [
        "from tensorflow.keras.preprocessing.image import ImageDataGenerator\n",
        "\n",
        "# All images will be rescaled by 1./255\n",
        "train_datagen = ImageDataGenerator(\n",
        "      rescale=1./255,\n",
        "      rotation_range=40,\n",
        "      width_shift_range=0.2,\n",
        "      height_shift_range=0.2,\n",
        "      shear_range=0.2,\n",
        "      zoom_range=0.2,\n",
        "      horizontal_flip=True,\n",
        "      fill_mode='nearest')\n",
        "\n",
        "validation_datagen = ImageDataGenerator(rescale=1/255)\n",
        "\n",
        "# Flow training images in batches of 128 using train_datagen generator\n",
        "train_generator = train_datagen.flow_from_directory(\n",
        "        '/tmp/horse-or-human/',  # This is the source directory for training images\n",
        "        target_size=(300, 300),  # All images will be resized to 150x150\n",
        "        batch_size=128,\n",
        "        # Since we use binary_crossentropy loss, we need binary labels\n",
        "        class_mode='binary')\n",
        "\n",
        "# Flow training images in batches of 128 using train_datagen generator\n",
        "validation_generator = validation_datagen.flow_from_directory(\n",
        "        '/tmp/validation-horse-or-human/',  # This is the source directory for training images\n",
        "        target_size=(300, 300),  # All images will be resized to 150x150\n",
        "        batch_size=32,\n",
        "        # Since we use binary_crossentropy loss, we need binary labels\n",
        "        class_mode='binary')"
      ],
      "execution_count": 7,
      "outputs": [
        {
          "output_type": "stream",
          "text": [
            "Found 1027 images belonging to 2 classes.\n",
            "Found 256 images belonging to 2 classes.\n"
          ],
          "name": "stdout"
        }
      ]
    },
    {
      "cell_type": "code",
      "metadata": {
        "id": "Fb1_lgobv81m",
        "outputId": "8b8c3d52-d741-45d4-f699-1641dd53a95e",
        "colab": {
          "base_uri": "https://localhost:8080/"
        }
      },
      "source": [
        "history = model.fit(\n",
        "      train_generator,\n",
        "      steps_per_epoch=8,  \n",
        "      epochs=100,\n",
        "      verbose=1,\n",
        "      validation_data = validation_generator,\n",
        "      validation_steps=8)"
      ],
      "execution_count": 8,
      "outputs": [
        {
          "output_type": "stream",
          "text": [
            "Epoch 1/100\n",
            "8/8 [==============================] - 56s 3s/step - loss: 0.7323 - accuracy: 0.4993 - val_loss: 0.6968 - val_accuracy: 0.5000\n",
            "Epoch 2/100\n",
            "8/8 [==============================] - 26s 3s/step - loss: 0.6679 - accuracy: 0.6240 - val_loss: 0.6954 - val_accuracy: 0.5039\n",
            "Epoch 3/100\n",
            "8/8 [==============================] - 26s 3s/step - loss: 0.6337 - accuracy: 0.6697 - val_loss: 0.6935 - val_accuracy: 0.5000\n",
            "Epoch 4/100\n",
            "8/8 [==============================] - 26s 4s/step - loss: 0.5751 - accuracy: 0.7079 - val_loss: 0.6910 - val_accuracy: 0.5000\n",
            "Epoch 5/100\n",
            "8/8 [==============================] - 26s 3s/step - loss: 0.5880 - accuracy: 0.6964 - val_loss: 0.7064 - val_accuracy: 0.5000\n",
            "Epoch 6/100\n",
            "8/8 [==============================] - 26s 3s/step - loss: 0.5781 - accuracy: 0.6844 - val_loss: 0.7013 - val_accuracy: 0.5000\n",
            "Epoch 7/100\n",
            "8/8 [==============================] - 26s 3s/step - loss: 0.5704 - accuracy: 0.6793 - val_loss: 0.6924 - val_accuracy: 0.5000\n",
            "Epoch 8/100\n",
            "8/8 [==============================] - 26s 3s/step - loss: 0.5378 - accuracy: 0.7240 - val_loss: 0.7011 - val_accuracy: 0.5000\n",
            "Epoch 9/100\n",
            "8/8 [==============================] - 28s 3s/step - loss: 0.5661 - accuracy: 0.6911 - val_loss: 0.6923 - val_accuracy: 0.5000\n",
            "Epoch 10/100\n",
            "8/8 [==============================] - 25s 3s/step - loss: 0.5456 - accuracy: 0.7092 - val_loss: 0.6731 - val_accuracy: 0.5039\n",
            "Epoch 11/100\n",
            "8/8 [==============================] - 25s 3s/step - loss: 0.5624 - accuracy: 0.7140 - val_loss: 0.6938 - val_accuracy: 0.5000\n",
            "Epoch 12/100\n",
            "8/8 [==============================] - 26s 3s/step - loss: 0.5293 - accuracy: 0.7446 - val_loss: 0.7052 - val_accuracy: 0.5000\n",
            "Epoch 13/100\n",
            "8/8 [==============================] - 26s 3s/step - loss: 0.5427 - accuracy: 0.7297 - val_loss: 0.6843 - val_accuracy: 0.5000\n",
            "Epoch 14/100\n",
            "8/8 [==============================] - 25s 4s/step - loss: 0.5285 - accuracy: 0.7502 - val_loss: 0.6977 - val_accuracy: 0.5000\n",
            "Epoch 15/100\n",
            "8/8 [==============================] - 25s 3s/step - loss: 0.4788 - accuracy: 0.7722 - val_loss: 0.6944 - val_accuracy: 0.5000\n",
            "Epoch 16/100\n",
            "8/8 [==============================] - 25s 3s/step - loss: 0.5145 - accuracy: 0.7501 - val_loss: 0.7140 - val_accuracy: 0.5000\n",
            "Epoch 17/100\n",
            "8/8 [==============================] - 25s 3s/step - loss: 0.4741 - accuracy: 0.7792 - val_loss: 0.7176 - val_accuracy: 0.5039\n",
            "Epoch 18/100\n",
            "8/8 [==============================] - 25s 4s/step - loss: 0.4524 - accuracy: 0.7865 - val_loss: 0.7474 - val_accuracy: 0.5000\n",
            "Epoch 19/100\n",
            "8/8 [==============================] - 25s 3s/step - loss: 0.4961 - accuracy: 0.7586 - val_loss: 0.7176 - val_accuracy: 0.5000\n",
            "Epoch 20/100\n",
            "8/8 [==============================] - 26s 3s/step - loss: 0.4931 - accuracy: 0.7528 - val_loss: 0.6802 - val_accuracy: 0.5391\n",
            "Epoch 21/100\n",
            "8/8 [==============================] - 26s 3s/step - loss: 0.5016 - accuracy: 0.7460 - val_loss: 0.6784 - val_accuracy: 0.5391\n",
            "Epoch 22/100\n",
            "8/8 [==============================] - 26s 4s/step - loss: 0.4687 - accuracy: 0.7774 - val_loss: 0.6852 - val_accuracy: 0.5391\n",
            "Epoch 23/100\n",
            "8/8 [==============================] - 26s 3s/step - loss: 0.4567 - accuracy: 0.7908 - val_loss: 0.7142 - val_accuracy: 0.5312\n",
            "Epoch 24/100\n",
            "8/8 [==============================] - 26s 3s/step - loss: 0.4411 - accuracy: 0.7961 - val_loss: 0.7076 - val_accuracy: 0.5391\n",
            "Epoch 25/100\n",
            "8/8 [==============================] - 26s 3s/step - loss: 0.4258 - accuracy: 0.8160 - val_loss: 0.8188 - val_accuracy: 0.5000\n",
            "Epoch 26/100\n",
            "8/8 [==============================] - 26s 3s/step - loss: 0.4432 - accuracy: 0.8113 - val_loss: 0.7680 - val_accuracy: 0.5117\n",
            "Epoch 27/100\n",
            "8/8 [==============================] - 26s 3s/step - loss: 0.4329 - accuracy: 0.8026 - val_loss: 0.7670 - val_accuracy: 0.5234\n",
            "Epoch 28/100\n",
            "8/8 [==============================] - 26s 3s/step - loss: 0.4270 - accuracy: 0.7912 - val_loss: 0.8199 - val_accuracy: 0.5078\n",
            "Epoch 29/100\n",
            "8/8 [==============================] - 26s 3s/step - loss: 0.4234 - accuracy: 0.7884 - val_loss: 0.6589 - val_accuracy: 0.5547\n",
            "Epoch 30/100\n",
            "8/8 [==============================] - 26s 3s/step - loss: 0.4286 - accuracy: 0.7901 - val_loss: 0.7507 - val_accuracy: 0.5391\n",
            "Epoch 31/100\n",
            "8/8 [==============================] - 26s 4s/step - loss: 0.3629 - accuracy: 0.8337 - val_loss: 0.7637 - val_accuracy: 0.5391\n",
            "Epoch 32/100\n",
            "8/8 [==============================] - 25s 4s/step - loss: 0.4132 - accuracy: 0.8099 - val_loss: 0.7680 - val_accuracy: 0.5430\n",
            "Epoch 33/100\n",
            "8/8 [==============================] - 26s 3s/step - loss: 0.3440 - accuracy: 0.8534 - val_loss: 0.7437 - val_accuracy: 0.5508\n",
            "Epoch 34/100\n",
            "8/8 [==============================] - 25s 3s/step - loss: 0.4207 - accuracy: 0.8328 - val_loss: 0.7896 - val_accuracy: 0.5469\n",
            "Epoch 35/100\n",
            "8/8 [==============================] - 26s 3s/step - loss: 0.3390 - accuracy: 0.8554 - val_loss: 0.8632 - val_accuracy: 0.5352\n",
            "Epoch 36/100\n",
            "8/8 [==============================] - 25s 3s/step - loss: 0.3827 - accuracy: 0.8254 - val_loss: 0.7037 - val_accuracy: 0.5625\n",
            "Epoch 37/100\n",
            "8/8 [==============================] - 25s 3s/step - loss: 0.3892 - accuracy: 0.8070 - val_loss: 0.8034 - val_accuracy: 0.5430\n",
            "Epoch 38/100\n",
            "8/8 [==============================] - 26s 3s/step - loss: 0.3650 - accuracy: 0.8293 - val_loss: 0.6102 - val_accuracy: 0.6406\n",
            "Epoch 39/100\n",
            "8/8 [==============================] - 25s 3s/step - loss: 0.4774 - accuracy: 0.7827 - val_loss: 0.8759 - val_accuracy: 0.5273\n",
            "Epoch 40/100\n",
            "8/8 [==============================] - 25s 4s/step - loss: 0.3199 - accuracy: 0.8687 - val_loss: 0.9885 - val_accuracy: 0.5000\n",
            "Epoch 41/100\n",
            "8/8 [==============================] - 25s 3s/step - loss: 0.4186 - accuracy: 0.8070 - val_loss: 0.5643 - val_accuracy: 0.7109\n",
            "Epoch 42/100\n",
            "8/8 [==============================] - 26s 3s/step - loss: 0.5450 - accuracy: 0.7964 - val_loss: 0.8789 - val_accuracy: 0.5391\n",
            "Epoch 43/100\n",
            "8/8 [==============================] - 26s 3s/step - loss: 0.3615 - accuracy: 0.8458 - val_loss: 0.8902 - val_accuracy: 0.5391\n",
            "Epoch 44/100\n",
            "8/8 [==============================] - 26s 3s/step - loss: 0.4684 - accuracy: 0.8111 - val_loss: 0.7905 - val_accuracy: 0.5586\n",
            "Epoch 45/100\n",
            "8/8 [==============================] - 25s 3s/step - loss: 0.3233 - accuracy: 0.8643 - val_loss: 0.5974 - val_accuracy: 0.6641\n",
            "Epoch 46/100\n",
            "8/8 [==============================] - 26s 3s/step - loss: 0.2920 - accuracy: 0.8802 - val_loss: 1.0454 - val_accuracy: 0.5234\n",
            "Epoch 47/100\n",
            "8/8 [==============================] - 26s 3s/step - loss: 0.3441 - accuracy: 0.8504 - val_loss: 0.9887 - val_accuracy: 0.5391\n",
            "Epoch 48/100\n",
            "8/8 [==============================] - 25s 3s/step - loss: 0.3068 - accuracy: 0.8713 - val_loss: 0.7784 - val_accuracy: 0.5820\n",
            "Epoch 49/100\n",
            "8/8 [==============================] - 25s 3s/step - loss: 0.3315 - accuracy: 0.8578 - val_loss: 0.8364 - val_accuracy: 0.5820\n",
            "Epoch 50/100\n",
            "8/8 [==============================] - 26s 4s/step - loss: 0.2387 - accuracy: 0.9067 - val_loss: 0.7673 - val_accuracy: 0.6016\n",
            "Epoch 51/100\n",
            "8/8 [==============================] - 26s 3s/step - loss: 0.3818 - accuracy: 0.8226 - val_loss: 0.9449 - val_accuracy: 0.5391\n",
            "Epoch 52/100\n",
            "8/8 [==============================] - 28s 4s/step - loss: 0.2785 - accuracy: 0.8823 - val_loss: 0.9311 - val_accuracy: 0.5508\n",
            "Epoch 53/100\n",
            "8/8 [==============================] - 26s 3s/step - loss: 0.2961 - accuracy: 0.8644 - val_loss: 0.9123 - val_accuracy: 0.5547\n",
            "Epoch 54/100\n",
            "8/8 [==============================] - 25s 4s/step - loss: 0.2666 - accuracy: 0.8869 - val_loss: 0.9711 - val_accuracy: 0.5508\n",
            "Epoch 55/100\n",
            "8/8 [==============================] - 25s 4s/step - loss: 0.3675 - accuracy: 0.8419 - val_loss: 1.0185 - val_accuracy: 0.5430\n",
            "Epoch 56/100\n",
            "8/8 [==============================] - 25s 3s/step - loss: 0.2231 - accuracy: 0.9038 - val_loss: 0.9739 - val_accuracy: 0.5859\n",
            "Epoch 57/100\n",
            "8/8 [==============================] - 25s 3s/step - loss: 0.3116 - accuracy: 0.8673 - val_loss: 0.8955 - val_accuracy: 0.5391\n",
            "Epoch 58/100\n",
            "8/8 [==============================] - 26s 3s/step - loss: 0.2336 - accuracy: 0.9091 - val_loss: 0.9136 - val_accuracy: 0.5625\n",
            "Epoch 59/100\n",
            "8/8 [==============================] - 25s 3s/step - loss: 0.2556 - accuracy: 0.8897 - val_loss: 1.2768 - val_accuracy: 0.5195\n",
            "Epoch 60/100\n",
            "8/8 [==============================] - 25s 3s/step - loss: 0.2343 - accuracy: 0.9133 - val_loss: 1.1961 - val_accuracy: 0.5117\n",
            "Epoch 61/100\n",
            "8/8 [==============================] - 25s 3s/step - loss: 0.2343 - accuracy: 0.9006 - val_loss: 0.9395 - val_accuracy: 0.5820\n",
            "Epoch 62/100\n",
            "8/8 [==============================] - 26s 3s/step - loss: 0.2762 - accuracy: 0.8721 - val_loss: 1.0662 - val_accuracy: 0.5469\n",
            "Epoch 63/100\n",
            "8/8 [==============================] - 25s 3s/step - loss: 0.2061 - accuracy: 0.9250 - val_loss: 1.4132 - val_accuracy: 0.5078\n",
            "Epoch 64/100\n",
            "8/8 [==============================] - 26s 3s/step - loss: 0.2784 - accuracy: 0.8885 - val_loss: 1.0290 - val_accuracy: 0.5469\n",
            "Epoch 65/100\n",
            "8/8 [==============================] - 26s 3s/step - loss: 0.2024 - accuracy: 0.9079 - val_loss: 0.9434 - val_accuracy: 0.5977\n",
            "Epoch 66/100\n",
            "8/8 [==============================] - 26s 3s/step - loss: 0.2738 - accuracy: 0.8800 - val_loss: 0.8572 - val_accuracy: 0.6094\n",
            "Epoch 67/100\n",
            "8/8 [==============================] - 26s 3s/step - loss: 0.2518 - accuracy: 0.8890 - val_loss: 1.5449 - val_accuracy: 0.5078\n",
            "Epoch 68/100\n",
            "8/8 [==============================] - 26s 4s/step - loss: 0.3092 - accuracy: 0.8767 - val_loss: 1.1708 - val_accuracy: 0.5234\n",
            "Epoch 69/100\n",
            "8/8 [==============================] - 25s 4s/step - loss: 0.1774 - accuracy: 0.9352 - val_loss: 1.0698 - val_accuracy: 0.5469\n",
            "Epoch 70/100\n",
            "8/8 [==============================] - 25s 3s/step - loss: 0.2509 - accuracy: 0.8965 - val_loss: 1.0032 - val_accuracy: 0.5742\n",
            "Epoch 71/100\n",
            "8/8 [==============================] - 26s 3s/step - loss: 0.2133 - accuracy: 0.9099 - val_loss: 1.1214 - val_accuracy: 0.5312\n",
            "Epoch 72/100\n",
            "8/8 [==============================] - 25s 3s/step - loss: 0.1887 - accuracy: 0.9304 - val_loss: 1.1356 - val_accuracy: 0.5273\n",
            "Epoch 73/100\n",
            "8/8 [==============================] - 28s 3s/step - loss: 0.1715 - accuracy: 0.9428 - val_loss: 1.0144 - val_accuracy: 0.5703\n",
            "Epoch 74/100\n",
            "8/8 [==============================] - 26s 3s/step - loss: 0.2235 - accuracy: 0.8896 - val_loss: 1.0505 - val_accuracy: 0.5742\n",
            "Epoch 75/100\n",
            "8/8 [==============================] - 25s 3s/step - loss: 0.2551 - accuracy: 0.8787 - val_loss: 1.2370 - val_accuracy: 0.5234\n",
            "Epoch 76/100\n",
            "8/8 [==============================] - 25s 3s/step - loss: 0.2473 - accuracy: 0.8902 - val_loss: 1.2662 - val_accuracy: 0.5234\n",
            "Epoch 77/100\n",
            "8/8 [==============================] - 25s 3s/step - loss: 0.2849 - accuracy: 0.8895 - val_loss: 1.0864 - val_accuracy: 0.5312\n",
            "Epoch 78/100\n",
            "8/8 [==============================] - 25s 4s/step - loss: 0.2465 - accuracy: 0.9061 - val_loss: 1.1967 - val_accuracy: 0.5352\n",
            "Epoch 79/100\n",
            "8/8 [==============================] - 25s 3s/step - loss: 0.2268 - accuracy: 0.9107 - val_loss: 1.2224 - val_accuracy: 0.5195\n",
            "Epoch 80/100\n",
            "8/8 [==============================] - 25s 3s/step - loss: 0.1884 - accuracy: 0.9239 - val_loss: 1.2263 - val_accuracy: 0.5312\n",
            "Epoch 81/100\n",
            "8/8 [==============================] - 25s 3s/step - loss: 0.2119 - accuracy: 0.9212 - val_loss: 0.8500 - val_accuracy: 0.6016\n",
            "Epoch 82/100\n",
            "8/8 [==============================] - 25s 4s/step - loss: 0.3728 - accuracy: 0.8034 - val_loss: 0.9878 - val_accuracy: 0.5469\n",
            "Epoch 83/100\n",
            "8/8 [==============================] - 25s 3s/step - loss: 0.2162 - accuracy: 0.9172 - val_loss: 1.2093 - val_accuracy: 0.5391\n",
            "Epoch 84/100\n",
            "8/8 [==============================] - 25s 3s/step - loss: 0.1980 - accuracy: 0.9134 - val_loss: 1.0480 - val_accuracy: 0.5781\n",
            "Epoch 85/100\n",
            "8/8 [==============================] - 25s 3s/step - loss: 0.2448 - accuracy: 0.9072 - val_loss: 1.4988 - val_accuracy: 0.5078\n",
            "Epoch 86/100\n",
            "8/8 [==============================] - 25s 3s/step - loss: 0.2318 - accuracy: 0.9143 - val_loss: 1.1177 - val_accuracy: 0.5742\n",
            "Epoch 87/100\n",
            "8/8 [==============================] - 25s 3s/step - loss: 0.2187 - accuracy: 0.8998 - val_loss: 1.2813 - val_accuracy: 0.5312\n",
            "Epoch 88/100\n",
            "8/8 [==============================] - 25s 3s/step - loss: 0.1701 - accuracy: 0.9346 - val_loss: 0.8991 - val_accuracy: 0.6289\n",
            "Epoch 89/100\n",
            "8/8 [==============================] - 25s 3s/step - loss: 0.2483 - accuracy: 0.8951 - val_loss: 1.3407 - val_accuracy: 0.5195\n",
            "Epoch 90/100\n",
            "8/8 [==============================] - 27s 3s/step - loss: 0.1608 - accuracy: 0.9298 - val_loss: 1.4278 - val_accuracy: 0.5156\n",
            "Epoch 91/100\n",
            "8/8 [==============================] - 25s 3s/step - loss: 0.2415 - accuracy: 0.9000 - val_loss: 1.2332 - val_accuracy: 0.5430\n",
            "Epoch 92/100\n",
            "8/8 [==============================] - 25s 3s/step - loss: 0.1738 - accuracy: 0.9438 - val_loss: 1.2151 - val_accuracy: 0.5352\n",
            "Epoch 93/100\n",
            "8/8 [==============================] - 25s 3s/step - loss: 0.1870 - accuracy: 0.9299 - val_loss: 1.1116 - val_accuracy: 0.5664\n",
            "Epoch 94/100\n",
            "8/8 [==============================] - 25s 4s/step - loss: 0.1989 - accuracy: 0.9215 - val_loss: 1.1503 - val_accuracy: 0.5625\n",
            "Epoch 95/100\n",
            "8/8 [==============================] - 27s 3s/step - loss: 0.1601 - accuracy: 0.9399 - val_loss: 1.5080 - val_accuracy: 0.5156\n",
            "Epoch 96/100\n",
            "8/8 [==============================] - 25s 3s/step - loss: 0.1899 - accuracy: 0.9226 - val_loss: 1.4617 - val_accuracy: 0.5273\n",
            "Epoch 97/100\n",
            "8/8 [==============================] - 25s 3s/step - loss: 0.1595 - accuracy: 0.9247 - val_loss: 1.3236 - val_accuracy: 0.5312\n",
            "Epoch 98/100\n",
            "8/8 [==============================] - 25s 3s/step - loss: 0.1903 - accuracy: 0.9165 - val_loss: 1.2327 - val_accuracy: 0.5586\n",
            "Epoch 99/100\n",
            "8/8 [==============================] - 25s 3s/step - loss: 0.1442 - accuracy: 0.9494 - val_loss: 1.3240 - val_accuracy: 0.5430\n",
            "Epoch 100/100\n",
            "8/8 [==============================] - 25s 3s/step - loss: 0.2745 - accuracy: 0.9099 - val_loss: 1.0747 - val_accuracy: 0.5781\n"
          ],
          "name": "stdout"
        }
      ]
    },
    {
      "cell_type": "code",
      "metadata": {
        "id": "7zNPRWOVJdOH",
        "outputId": "b8f665dd-e6e0-4c14-8e24-5ff03d089f9b",
        "colab": {
          "base_uri": "https://localhost:8080/",
          "height": 545
        }
      },
      "source": [
        "import matplotlib.pyplot as plt\n",
        "acc = history.history['accuracy']\n",
        "val_acc = history.history['val_accuracy']\n",
        "loss = history.history['loss']\n",
        "val_loss = history.history['val_loss']\n",
        "\n",
        "epochs = range(len(acc))\n",
        "\n",
        "plt.plot(epochs, acc, 'bo', label='Training accuracy')\n",
        "plt.plot(epochs, val_acc, 'b', label='Validation accuracy')\n",
        "plt.title('Training and validation accuracy')\n",
        "\n",
        "plt.figure()\n",
        "\n",
        "plt.plot(epochs, loss, 'bo', label='Training Loss')\n",
        "plt.plot(epochs, val_loss, 'b', label='Validation Loss')\n",
        "plt.title('Training and validation loss')\n",
        "plt.legend()\n",
        "\n",
        "plt.show()"
      ],
      "execution_count": 9,
      "outputs": [
        {
          "output_type": "display_data",
          "data": {
            "image/png": "[encoded data removed]",
            "text/plain": [
              "<Figure size 432x288 with 1 Axes>"
            ]
          },
          "metadata": {
            "tags": [],
            "needs_background": "light"
          }
        },
        {
          "output_type": "display_data",
          "data": {
            "image/png": "[encoded data removed]",
            "text/plain": [
              "<Figure size 432x288 with 1 Axes>"
            ]
          },
          "metadata": {
            "tags": [],
            "needs_background": "light"
          }
        }
      ]
    }
  ]
}