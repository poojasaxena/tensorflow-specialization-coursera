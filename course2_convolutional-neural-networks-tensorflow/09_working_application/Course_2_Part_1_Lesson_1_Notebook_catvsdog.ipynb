{
 "cells": [
  {
   "cell_type": "markdown",
   "metadata": {
    "colab_type": "text",
    "id": "view-in-github"
   },
   "source": [
    "<a href=\"https://colab.research.google.com/github/poojasaxena/tensorflow-developer-zertificate-coursera/blob/main/running_application.ipynb\" target=\"_parent\"><img src=\"https://colab.research.google.com/assets/colab-badge.svg\" alt=\"Open In Colab\"/></a>"
   ]
  },
  {
   "cell_type": "code",
   "execution_count": 1,
   "metadata": {},
   "outputs": [
    {
     "data": {
      "application/javascript": [
       "IPython.notebook.set_autosave_interval(30000)"
      ]
     },
     "metadata": {},
     "output_type": "display_data"
    },
    {
     "name": "stdout",
     "output_type": "stream",
     "text": [
      "Autosaving every 30 seconds\n"
     ]
    }
   ],
   "source": [
    "%autosave 30"
   ]
  },
  {
   "cell_type": "markdown",
   "metadata": {},
   "source": [
    "# Download Dataset from Kaggle"
   ]
  },
  {
   "cell_type": "markdown",
   "metadata": {},
   "source": [
    "## Setting up logger"
   ]
  },
  {
   "cell_type": "code",
   "execution_count": 2,
   "metadata": {},
   "outputs": [
    {
     "name": "stderr",
     "output_type": "stream",
     "text": [
      "INFO:03:52:45 PM: logger <Logger test-logger (INFO)> has Disable::False\n"
     ]
    }
   ],
   "source": [
    "import logging\n",
    "logging.basicConfig(format='%(levelname)s:%(asctime)s: %(message)s',datefmt='%I:%M:%S %p',\n",
    "                    level=logging.INFO)\n",
    "logger= logging.getLogger('test-logger')\n",
    "logger.disabled=False\n",
    "logger.info(f\"logger {logger} has Disable::{logger.disabled}\")"
   ]
  },
  {
   "cell_type": "markdown",
   "metadata": {},
   "source": [
    "## in Google colab\n",
    "* use this [reference](https://www.kaggle.com/general/74235)"
   ]
  },
  {
   "cell_type": "code",
   "execution_count": 3,
   "metadata": {
    "colab": {
     "base_uri": "https://localhost:8080/",
     "height": 89,
     "resources": {
      "http://localhost:8080/nbextensions/google.colab/files.js": {
       "data": "Ly8gQ29weXJpZ2h0IDIwMTcgR29vZ2xlIExMQwovLwovLyBMaWNlbnNlZCB1bmRlciB0aGUgQXBhY2hlIExpY2Vuc2UsIFZlcnNpb24gMi4wICh0aGUgIkxpY2Vuc2UiKTsKLy8geW91IG1heSBub3QgdXNlIHRoaXMgZmlsZSBleGNlcHQgaW4gY29tcGxpYW5jZSB3aXRoIHRoZSBMaWNlbnNlLgovLyBZb3UgbWF5IG9idGFpbiBhIGNvcHkgb2YgdGhlIExpY2Vuc2UgYXQKLy8KLy8gICAgICBodHRwOi8vd3d3LmFwYWNoZS5vcmcvbGljZW5zZXMvTElDRU5TRS0yLjAKLy8KLy8gVW5sZXNzIHJlcXVpcmVkIGJ5IGFwcGxpY2FibGUgbGF3IG9yIGFncmVlZCB0byBpbiB3cml0aW5nLCBzb2Z0d2FyZQovLyBkaXN0cmlidXRlZCB1bmRlciB0aGUgTGljZW5zZSBpcyBkaXN0cmlidXRlZCBvbiBhbiAiQVMgSVMiIEJBU0lTLAovLyBXSVRIT1VUIFdBUlJBTlRJRVMgT1IgQ09ORElUSU9OUyBPRiBBTlkgS0lORCwgZWl0aGVyIGV4cHJlc3Mgb3IgaW1wbGllZC4KLy8gU2VlIHRoZSBMaWNlbnNlIGZvciB0aGUgc3BlY2lmaWMgbGFuZ3VhZ2UgZ292ZXJuaW5nIHBlcm1pc3Npb25zIGFuZAovLyBsaW1pdGF0aW9ucyB1bmRlciB0aGUgTGljZW5zZS4KCi8qKgogKiBAZmlsZW92ZXJ2aWV3IEhlbHBlcnMgZm9yIGdvb2dsZS5jb2xhYiBQeXRob24gbW9kdWxlLgogKi8KKGZ1bmN0aW9uKHNjb3BlKSB7CmZ1bmN0aW9uIHNwYW4odGV4dCwgc3R5bGVBdHRyaWJ1dGVzID0ge30pIHsKICBjb25zdCBlbGVtZW50ID0gZG9jdW1lbnQuY3JlYXRlRWxlbWVudCgnc3BhbicpOwogIGVsZW1lbnQudGV4dENvbnRlbnQgPSB0ZXh0OwogIGZvciAoY29uc3Qga2V5IG9mIE9iamVjdC5rZXlzKHN0eWxlQXR0cmlidXRlcykpIHsKICAgIGVsZW1lbnQuc3R5bGVba2V5XSA9IHN0eWxlQXR0cmlidXRlc1trZXldOwogIH0KICByZXR1cm4gZWxlbWVudDsKfQoKLy8gTWF4IG51bWJlciBvZiBieXRlcyB3aGljaCB3aWxsIGJlIHVwbG9hZGVkIGF0IGEgdGltZS4KY29uc3QgTUFYX1BBWUxPQURfU0laRSA9IDEwMCAqIDEwMjQ7CgpmdW5jdGlvbiBfdXBsb2FkRmlsZXMoaW5wdXRJZCwgb3V0cHV0SWQpIHsKICBjb25zdCBzdGVwcyA9IHVwbG9hZEZpbGVzU3RlcChpbnB1dElkLCBvdXRwdXRJZCk7CiAgY29uc3Qgb3V0cHV0RWxlbWVudCA9IGRvY3VtZW50LmdldEVsZW1lbnRCeUlkKG91dHB1dElkKTsKICAvLyBDYWNoZSBzdGVwcyBvbiB0aGUgb3V0cHV0RWxlbWVudCB0byBtYWtlIGl0IGF2YWlsYWJsZSBmb3IgdGhlIG5leHQgY2FsbAogIC8vIHRvIHVwbG9hZEZpbGVzQ29udGludWUgZnJvbSBQeXRob24uCiAgb3V0cHV0RWxlbWVudC5zdGVwcyA9IHN0ZXBzOwoKICByZXR1cm4gX3VwbG9hZEZpbGVzQ29udGludWUob3V0cHV0SWQpOwp9CgovLyBUaGlzIGlzIHJvdWdobHkgYW4gYXN5bmMgZ2VuZXJhdG9yIChub3Qgc3VwcG9ydGVkIGluIHRoZSBicm93c2VyIHlldCksCi8vIHdoZXJlIHRoZXJlIGFyZSBtdWx0aXBsZSBhc3luY2hyb25vdXMgc3RlcHMgYW5kIHRoZSBQeXRob24gc2lkZSBpcyBnb2luZwovLyB0byBwb2xsIGZvciBjb21wbGV0aW9uIG9mIGVhY2ggc3RlcC4KLy8gVGhpcyB1c2VzIGEgUHJvbWlzZSB0byBibG9jayB0aGUgcHl0aG9uIHNpZGUgb24gY29tcGxldGlvbiBvZiBlYWNoIHN0ZXAsCi8vIHRoZW4gcGFzc2VzIHRoZSByZXN1bHQgb2YgdGhlIHByZXZpb3VzIHN0ZXAgYXMgdGhlIGlucHV0IHRvIHRoZSBuZXh0IHN0ZXAuCmZ1bmN0aW9uIF91cGxvYWRGaWxlc0NvbnRpbnVlKG91dHB1dElkKSB7CiAgY29uc3Qgb3V0cHV0RWxlbWVudCA9IGRvY3VtZW50LmdldEVsZW1lbnRCeUlkKG91dHB1dElkKTsKICBjb25zdCBzdGVwcyA9IG91dHB1dEVsZW1lbnQuc3RlcHM7CgogIGNvbnN0IG5leHQgPSBzdGVwcy5uZXh0KG91dHB1dEVsZW1lbnQubGFzdFByb21pc2VWYWx1ZSk7CiAgcmV0dXJuIFByb21pc2UucmVzb2x2ZShuZXh0LnZhbHVlLnByb21pc2UpLnRoZW4oKHZhbHVlKSA9PiB7CiAgICAvLyBDYWNoZSB0aGUgbGFzdCBwcm9taXNlIHZhbHVlIHRvIG1ha2UgaXQgYXZhaWxhYmxlIHRvIHRoZSBuZXh0CiAgICAvLyBzdGVwIG9mIHRoZSBnZW5lcmF0b3IuCiAgICBvdXRwdXRFbGVtZW50Lmxhc3RQcm9taXNlVmFsdWUgPSB2YWx1ZTsKICAgIHJldHVybiBuZXh0LnZhbHVlLnJlc3BvbnNlOwogIH0pOwp9CgovKioKICogR2VuZXJhdG9yIGZ1bmN0aW9uIHdoaWNoIGlzIGNhbGxlZCBiZXR3ZWVuIGVhY2ggYXN5bmMgc3RlcCBvZiB0aGUgdXBsb2FkCiAqIHByb2Nlc3MuCiAqIEBwYXJhbSB7c3RyaW5nfSBpbnB1dElkIEVsZW1lbnQgSUQgb2YgdGhlIGlucHV0IGZpbGUgcGlja2VyIGVsZW1lbnQuCiAqIEBwYXJhbSB7c3RyaW5nfSBvdXRwdXRJZCBFbGVtZW50IElEIG9mIHRoZSBvdXRwdXQgZGlzcGxheS4KICogQHJldHVybiB7IUl0ZXJhYmxlPCFPYmplY3Q+fSBJdGVyYWJsZSBvZiBuZXh0IHN0ZXBzLgogKi8KZnVuY3Rpb24qIHVwbG9hZEZpbGVzU3RlcChpbnB1dElkLCBvdXRwdXRJZCkgewogIGNvbnN0IGlucHV0RWxlbWVudCA9IGRvY3VtZW50LmdldEVsZW1lbnRCeUlkKGlucHV0SWQpOwogIGlucHV0RWxlbWVudC5kaXNhYmxlZCA9IGZhbHNlOwoKICBjb25zdCBvdXRwdXRFbGVtZW50ID0gZG9jdW1lbnQuZ2V0RWxlbWVudEJ5SWQob3V0cHV0SWQpOwogIG91dHB1dEVsZW1lbnQuaW5uZXJIVE1MID0gJyc7CgogIGNvbnN0IHBpY2tlZFByb21pc2UgPSBuZXcgUHJvbWlzZSgocmVzb2x2ZSkgPT4gewogICAgaW5wdXRFbGVtZW50LmFkZEV2ZW50TGlzdGVuZXIoJ2NoYW5nZScsIChlKSA9PiB7CiAgICAgIHJlc29sdmUoZS50YXJnZXQuZmlsZXMpOwogICAgfSk7CiAgfSk7CgogIGNvbnN0IGNhbmNlbCA9IGRvY3VtZW50LmNyZWF0ZUVsZW1lbnQoJ2J1dHRvbicpOwogIGlucHV0RWxlbWVudC5wYXJlbnRFbGVtZW50LmFwcGVuZENoaWxkKGNhbmNlbCk7CiAgY2FuY2VsLnRleHRDb250ZW50ID0gJ0NhbmNlbCB1cGxvYWQnOwogIGNvbnN0IGNhbmNlbFByb21pc2UgPSBuZXcgUHJvbWlzZSgocmVzb2x2ZSkgPT4gewogICAgY2FuY2VsLm9uY2xpY2sgPSAoKSA9PiB7CiAgICAgIHJlc29sdmUobnVsbCk7CiAgICB9OwogIH0pOwoKICAvLyBXYWl0IGZvciB0aGUgdXNlciB0byBwaWNrIHRoZSBmaWxlcy4KICBjb25zdCBmaWxlcyA9IHlpZWxkIHsKICAgIHByb21pc2U6IFByb21pc2UucmFjZShbcGlja2VkUHJvbWlzZSwgY2FuY2VsUHJvbWlzZV0pLAogICAgcmVzcG9uc2U6IHsKICAgICAgYWN0aW9uOiAnc3RhcnRpbmcnLAogICAgfQogIH07CgogIGNhbmNlbC5yZW1vdmUoKTsKCiAgLy8gRGlzYWJsZSB0aGUgaW5wdXQgZWxlbWVudCBzaW5jZSBmdXJ0aGVyIHBpY2tzIGFyZSBub3QgYWxsb3dlZC4KICBpbnB1dEVsZW1lbnQuZGlzYWJsZWQgPSB0cnVlOwoKICBpZiAoIWZpbGVzKSB7CiAgICByZXR1cm4gewogICAgICByZXNwb25zZTogewogICAgICAgIGFjdGlvbjogJ2NvbXBsZXRlJywKICAgICAgfQogICAgfTsKICB9CgogIGZvciAoY29uc3QgZmlsZSBvZiBmaWxlcykgewogICAgY29uc3QgbGkgPSBkb2N1bWVudC5jcmVhdGVFbGVtZW50KCdsaScpOwogICAgbGkuYXBwZW5kKHNwYW4oZmlsZS5uYW1lLCB7Zm9udFdlaWdodDogJ2JvbGQnfSkpOwogICAgbGkuYXBwZW5kKHNwYW4oCiAgICAgICAgYCgke2ZpbGUudHlwZSB8fCAnbi9hJ30pIC0gJHtmaWxlLnNpemV9IGJ5dGVzLCBgICsKICAgICAgICBgbGFzdCBtb2RpZmllZDogJHsKICAgICAgICAgICAgZmlsZS5sYXN0TW9kaWZpZWREYXRlID8gZmlsZS5sYXN0TW9kaWZpZWREYXRlLnRvTG9jYWxlRGF0ZVN0cmluZygpIDoKICAgICAgICAgICAgICAgICAgICAgICAgICAgICAgICAgICAgJ24vYSd9IC0gYCkpOwogICAgY29uc3QgcGVyY2VudCA9IHNwYW4oJzAlIGRvbmUnKTsKICAgIGxpLmFwcGVuZENoaWxkKHBlcmNlbnQpOwoKICAgIG91dHB1dEVsZW1lbnQuYXBwZW5kQ2hpbGQobGkpOwoKICAgIGNvbnN0IGZpbGVEYXRhUHJvbWlzZSA9IG5ldyBQcm9taXNlKChyZXNvbHZlKSA9PiB7CiAgICAgIGNvbnN0IHJlYWRlciA9IG5ldyBGaWxlUmVhZGVyKCk7CiAgICAgIHJlYWRlci5vbmxvYWQgPSAoZSkgPT4gewogICAgICAgIHJlc29sdmUoZS50YXJnZXQucmVzdWx0KTsKICAgICAgfTsKICAgICAgcmVhZGVyLnJlYWRBc0FycmF5QnVmZmVyKGZpbGUpOwogICAgfSk7CiAgICAvLyBXYWl0IGZvciB0aGUgZGF0YSB0byBiZSByZWFkeS4KICAgIGxldCBmaWxlRGF0YSA9IHlpZWxkIHsKICAgICAgcHJvbWlzZTogZmlsZURhdGFQcm9taXNlLAogICAgICByZXNwb25zZTogewogICAgICAgIGFjdGlvbjogJ2NvbnRpbnVlJywKICAgICAgfQogICAgfTsKCiAgICAvLyBVc2UgYSBjaHVua2VkIHNlbmRpbmcgdG8gYXZvaWQgbWVzc2FnZSBzaXplIGxpbWl0cy4gU2VlIGIvNjIxMTU2NjAuCiAgICBsZXQgcG9zaXRpb24gPSAwOwogICAgZG8gewogICAgICBjb25zdCBsZW5ndGggPSBNYXRoLm1pbihmaWxlRGF0YS5ieXRlTGVuZ3RoIC0gcG9zaXRpb24sIE1BWF9QQVlMT0FEX1NJWkUpOwogICAgICBjb25zdCBjaHVuayA9IG5ldyBVaW50OEFycmF5KGZpbGVEYXRhLCBwb3NpdGlvbiwgbGVuZ3RoKTsKICAgICAgcG9zaXRpb24gKz0gbGVuZ3RoOwoKICAgICAgY29uc3QgYmFzZTY0ID0gYnRvYShTdHJpbmcuZnJvbUNoYXJDb2RlLmFwcGx5KG51bGwsIGNodW5rKSk7CiAgICAgIHlpZWxkIHsKICAgICAgICByZXNwb25zZTogewogICAgICAgICAgYWN0aW9uOiAnYXBwZW5kJywKICAgICAgICAgIGZpbGU6IGZpbGUubmFtZSwKICAgICAgICAgIGRhdGE6IGJhc2U2NCwKICAgICAgICB9LAogICAgICB9OwoKICAgICAgbGV0IHBlcmNlbnREb25lID0gZmlsZURhdGEuYnl0ZUxlbmd0aCA9PT0gMCA/CiAgICAgICAgICAxMDAgOgogICAgICAgICAgTWF0aC5yb3VuZCgocG9zaXRpb24gLyBmaWxlRGF0YS5ieXRlTGVuZ3RoKSAqIDEwMCk7CiAgICAgIHBlcmNlbnQudGV4dENvbnRlbnQgPSBgJHtwZXJjZW50RG9uZX0lIGRvbmVgOwoKICAgIH0gd2hpbGUgKHBvc2l0aW9uIDwgZmlsZURhdGEuYnl0ZUxlbmd0aCk7CiAgfQoKICAvLyBBbGwgZG9uZS4KICB5aWVsZCB7CiAgICByZXNwb25zZTogewogICAgICBhY3Rpb246ICdjb21wbGV0ZScsCiAgICB9CiAgfTsKfQoKc2NvcGUuZ29vZ2xlID0gc2NvcGUuZ29vZ2xlIHx8IHt9OwpzY29wZS5nb29nbGUuY29sYWIgPSBzY29wZS5nb29nbGUuY29sYWIgfHwge307CnNjb3BlLmdvb2dsZS5jb2xhYi5fZmlsZXMgPSB7CiAgX3VwbG9hZEZpbGVzLAogIF91cGxvYWRGaWxlc0NvbnRpbnVlLAp9Owp9KShzZWxmKTsK",
       "headers": [
        [
         "content-type",
         "application/javascript"
        ]
       ],
       "ok": true,
       "status": 200,
       "status_text": ""
      }
     }
    },
    "id": "pOGxUpO83d4_",
    "outputId": "974f2ec3-8a1e-4256-b261-74cf7a7bb7b1"
   },
   "outputs": [],
   "source": [
    "#from google.colab import files\n",
    "#files.upload()"
   ]
  },
  {
   "cell_type": "code",
   "execution_count": 4,
   "metadata": {
    "id": "jBLbilTm38H5"
   },
   "outputs": [],
   "source": [
    " #! kaggle datasets list | grep 'cat'"
   ]
  },
  {
   "cell_type": "code",
   "execution_count": 5,
   "metadata": {
    "colab": {
     "base_uri": "https://localhost:8080/"
    },
    "id": "lydj0Nki38Ks",
    "outputId": "5236a2c0-baad-4fd2-e5a5-83ccbd634a6b"
   },
   "outputs": [],
   "source": [
    "#! kaggle competitions download -c \"dogs-vs-cats\""
   ]
  },
  {
   "cell_type": "markdown",
   "metadata": {
    "colab": {
     "base_uri": "https://localhost:8080/",
     "height": 164
    },
    "id": "1ZQbw9Pd40uy",
    "outputId": "85382832-1281-46f1-8cf5-17f17b1f75f7"
   },
   "source": [
    "## in Jupyter-notebook"
   ]
  },
  {
   "cell_type": "code",
   "execution_count": 6,
   "metadata": {},
   "outputs": [
    {
     "name": "stdout",
     "output_type": "stream",
     "text": [
      "Do you want to fresh start with downloading dataset? yes\n"
     ]
    },
    {
     "name": "stderr",
     "output_type": "stream",
     "text": [
      "WARNING:03:52:55 PM: Clearning /tmp/dogs_vs_cats/, as you asked for!\n",
      "INFO:03:53:00 PM: You are ready for fresh start!!\n"
     ]
    }
   ],
   "source": [
    "import os\n",
    "import string\n",
    "import shutil\n",
    "\n",
    "base_dir = \"/tmp/dogs_vs_cats/\"\n",
    "\n",
    "fresh_start = input(\"Do you want to fresh start with downloading dataset? \").upper()\n",
    "\n",
    "if \"YES\" in fresh_start:\n",
    "    if not os.path.exists(base_dir):\n",
    "        logger.error(f\"The path {base_dir} does not exist.\")\n",
    "    else:\n",
    "        logger.warning(f'Clearning {base_dir}, as you asked for!')\n",
    "        shutil.rmtree(base_dir)\n",
    "        logger.info(\"You are ready for fresh start!!\")\n",
    "else:\n",
    "    logger.info('Enjoy working non-fresh!')"
   ]
  },
  {
   "cell_type": "code",
   "execution_count": 7,
   "metadata": {},
   "outputs": [],
   "source": [
    "import kaggle\n",
    "from kaggle.api.kaggle_api_extended import KaggleApi\n",
    "import zipfile \n",
    "\n",
    "def upload_kaggle_dataset(kaggle_dataset_name, base_dir_name):\n",
    "    if os.path.exists(base_dir_name):\n",
    "        logger.info(f\"Dataset {kaggle_dataset_name} is avalable in {base_dir_name} with content: \\n {os.listdir(base_dir_name)}\")\n",
    "        return\n",
    "    else:\n",
    "        logger.debug(\"Authenticating kaggle API======\")\n",
    "        api=KaggleApi()\n",
    "        api.authenticate()\n",
    "        api.competition_download_files(kaggle_dataset_name)\n",
    "    \n",
    "        logger.debug(\"Authenticated, downloading Dataset =======\")\n",
    "        with zipfile.ZipFile(kaggle_dataset_name+'.zip', mode='r') as zip_ref:\n",
    "            zip_ref.extractall(base_dir_name)\n",
    "            zip_ref.close()\n",
    "        logger.info(f\"Dataset {kaggle_dataset_name} is downloaded in {base_dir_name} with content: \\n {os.listdir(base_dir_name)}\")"
   ]
  },
  {
   "cell_type": "code",
   "execution_count": 8,
   "metadata": {},
   "outputs": [
    {
     "name": "stderr",
     "output_type": "stream",
     "text": [
      "INFO:03:53:02 PM: Dataset dogs-vs-cats is downloaded in /tmp/dogs_vs_cats/ with content: \n",
      " ['sampleSubmission.csv', 'test1.zip', 'train.zip']\n"
     ]
    }
   ],
   "source": [
    "## Lets download the kaggle dataset\n",
    "kaggle_dataset_name = \"dogs-vs-cats\"\n",
    "upload_kaggle_dataset(kaggle_dataset_name, base_dir_name=base_dir)"
   ]
  },
  {
   "cell_type": "code",
   "execution_count": 9,
   "metadata": {},
   "outputs": [],
   "source": [
    "## unzipped train/test directories\n",
    "def unzip_sub_directories(train_zip_name, test_zip_name, base_dir_name):\n",
    "    \n",
    "    global unzip_train_dir,unzip_test_dir\n",
    "    \n",
    "    unzip_train_dir = os.path.join(base_dir, train_zip_name.split('.')[0])\n",
    "    unzip_test_dir = os.path.join(base_dir, test_zip_name.split('.')[0])\n",
    "\n",
    "    if os.path.exists(unzip_train_dir) and os.path.exists(unzip_test_dir):\n",
    "        logger.warning(f'Unzipped directory of train/test exists in {base_dir_name}: \\n {os.listdir(base_dir_name)}')\n",
    "        return\n",
    "    else:\n",
    "        logger.info(f'Unzipping train/test directory in {base_dir_name} ======')\n",
    "\n",
    "        ## Lets unzip the train/test zip files\n",
    "        for zipped in [os.path.join(base_dir, train_zip_name), os.path.join(base_dir, test_zip_name)]:\n",
    "            with zipfile.ZipFile(zipped, mode='r') as zip_ref:\n",
    "                zip_ref.extractall(base_dir_name)\n",
    "            zip_ref.close()\n",
    "        \n",
    "        logger.info(f'Finished, dataset exists in {base_dir_name} : \\n {os.listdir(base_dir_name)}') "
   ]
  },
  {
   "cell_type": "code",
   "execution_count": 10,
   "metadata": {},
   "outputs": [
    {
     "name": "stderr",
     "output_type": "stream",
     "text": [
      "INFO:03:53:02 PM: Unzipping train/test directory in /tmp/dogs_vs_cats/ ======\n",
      "INFO:03:53:14 PM: Finished, dataset exists in /tmp/dogs_vs_cats/ : \n",
      " ['sampleSubmission.csv', 'test1', 'test1.zip', 'train', 'train.zip']\n"
     ]
    }
   ],
   "source": [
    "## lets unzip our test/train zip file name, in case they are not\n",
    "\n",
    "## assign the train/test zip names \n",
    "sample,test_zip, train_zip = os.listdir(base_dir)\n",
    "\n",
    "## unzip the train/test \n",
    "unzip_sub_directories(train_zip, test_zip, base_dir_name=base_dir)"
   ]
  },
  {
   "cell_type": "code",
   "execution_count": 11,
   "metadata": {},
   "outputs": [],
   "source": [
    "## dataset directory : /tmp/dogs_vs_cats/training/cat&dog vs /tmp/dogs_vs_cat/validation/cat&dog\n",
    "\n",
    "def create_dataset_structure(dir_name=[], sub_dir_name=[]):\n",
    "        \n",
    "    global train_dir, validation_dir, train_cats_dir,train_dogs_dir,validation_cats_dir, validation_dogs_dir\n",
    "    \n",
    "    train_dir = os.path.join(base_dir, dir_name[0])\n",
    "    validation_dir = os.path.join(base_dir, dir_name[1])\n",
    "    \n",
    "    # Directory with our training cat/dog pictures\n",
    "    train_cats_dir = os.path.join(train_dir, sub_dir_name[0])\n",
    "    train_dogs_dir = os.path.join(train_dir, sub_dir_name[1])\n",
    "\n",
    "    # Directory with our validation cat/dog pictures\n",
    "    validation_cats_dir = os.path.join(validation_dir, sub_dir_name[0])\n",
    "    validation_dogs_dir = os.path.join(validation_dir, sub_dir_name[1])\n",
    "\n",
    "    if os.path.exists(train_dir) and os.path.exists(validation_dir):\n",
    "        logger.warning(f\"Training and validation directory already exist at: \\n {train_cats_dir}, {train_dogs_dir} \\n {validation_cats_dir} {validation_dogs_dir} \\n Existing!!\")\n",
    "        return\n",
    "    else:\n",
    "        ## Create all directories\n",
    "        os.mkdir(train_dir)\n",
    "        os.mkdir(validation_dir)\n",
    "        os.mkdir(train_cats_dir)\n",
    "        os.mkdir(train_dogs_dir)\n",
    "        os.mkdir(validation_cats_dir)\n",
    "        os.mkdir(validation_dogs_dir)\n",
    "        logger.info(f'Training data directory is created \\n {train_cats_dir} & {train_dogs_dir} \\n validation data directory is created {validation_cats_dir} & {validation_dogs_dir}')"
   ]
  },
  {
   "cell_type": "code",
   "execution_count": 12,
   "metadata": {},
   "outputs": [
    {
     "name": "stderr",
     "output_type": "stream",
     "text": [
      "INFO:03:53:14 PM: Training data directory is created \n",
      " /tmp/dogs_vs_cats/training/cats & /tmp/dogs_vs_cats/training/dogs \n",
      " validation data directory is created /tmp/dogs_vs_cats/validation/cats & /tmp/dogs_vs_cats/validation/dogs\n"
     ]
    }
   ],
   "source": [
    "create_dataset_structure(dir_name = ['training','validation'], sub_dir_name=['cats', 'dogs'])"
   ]
  },
  {
   "cell_type": "code",
   "execution_count": 13,
   "metadata": {},
   "outputs": [],
   "source": [
    "import random\n",
    "def pre_process_data():\n",
    "    \n",
    "    if not os.path.exists(unzip_train_dir):\n",
    "        logger.error(f\"The path {unzip_train_dir} does not exist.\")\n",
    "        return\n",
    "    \n",
    "    if len(os.listdir(unzip_train_dir)) ==0:\n",
    "        logger.warning(f\"There are {len(os.listdir(unzip_train_dir))} dataset in unzip_train_dir to copy.\")\n",
    "        logger.info(f\"There are already {len(os.listdir(train_dogs_dir))} dogs examples in {train_dogs_dir} & \\n there are {len(os.listdir(train_cats_dir))} cats example in {train_cats_dir}\")\n",
    "        return\n",
    "\n",
    "    for fname in os.listdir(unzip_train_dir):\n",
    "        ## first dogs data\n",
    "        if fname.startswith(\"dog\"):\n",
    "            os.replace(os.path.join(unzip_train_dir, fname), os.path.join(train_dogs_dir, fname))\n",
    "        \n",
    "        ## now cats data\n",
    "        if fname.startswith(\"cat\"):\n",
    "            os.replace(os.path.join(unzip_train_dir, fname), os.path.join(train_cats_dir, fname))\n",
    "    \n",
    "    logger.info(f'Finished moving the file. There are {len(os.listdir(train_dogs_dir))} dogs examples in {train_dogs_dir}')\n",
    "    logger.info(f'& there are {len(os.listdir(train_cats_dir))} cats example in {train_cats_dir}')\n"
   ]
  },
  {
   "cell_type": "code",
   "execution_count": 14,
   "metadata": {},
   "outputs": [
    {
     "name": "stderr",
     "output_type": "stream",
     "text": [
      "INFO:03:53:22 PM: Finished moving the file. There are 12500 dogs examples in /tmp/dogs_vs_cats/training/dogs\n",
      "INFO:03:53:22 PM: & there are 12500 cats example in /tmp/dogs_vs_cats/training/cats\n"
     ]
    }
   ],
   "source": [
    "pre_process_data()"
   ]
  },
  {
   "cell_type": "code",
   "execution_count": 17,
   "metadata": {},
   "outputs": [],
   "source": [
    "def prepare_validation_dataset(split_dataset_percentage):\n",
    "    \n",
    "    ## Dogs Dataset\n",
    "    # list all files in dir that are jpg image\n",
    "    dog_files = [f for f in os.listdir(train_dogs_dir) if f.endswith('jpg') & f.startswith(\"dog\")]\n",
    "    logger.info(f\"Out of {int(len(os.listdir(train_dogs_dir)))} dogs images in {train_dogs_dir}, {int(len(dog_files)*float(split_dataset_percentage))} will be moved to {validation_dogs_dir}\")\n",
    "\n",
    "    # select a percent of the files randomly \n",
    "    random_dog_files = random.sample(dog_files, int(len(dog_files)*split_dataset_percentage))\n",
    "\n",
    "    # move the randomly selected images by renaming directory \n",
    "    for random_file_name in random_dog_files:      \n",
    "        #logger.debug(train_dogs_dir+'/'+random_file_name, validation_dogs_dir+'/'+random_file_name)\n",
    "        os.replace(train_dogs_dir+'/'+random_file_name, validation_dogs_dir+'/'+random_file_name) \n",
    "        continue\n",
    "        \n",
    "    ### CATs dataset\n",
    "    cat_files = [f for f in os.listdir(train_cats_dir) if f.endswith('jpg') & f.startswith(\"cat\")]\n",
    "    logger.info(f\"Out of {int(len(os.listdir(train_cats_dir)))} cats images in {train_cats_dir}, {int(len(cat_files)*float(split_dataset_percentage))} will be moved to {validation_cats_dir}\")\n",
    "    random_cats_files = random.sample(cat_files, int(len(cat_files)*split_dataset_percentage))\n",
    "    for random_file_name in random_cats_files:      \n",
    "        os.replace(train_cats_dir+'/'+random_file_name, validation_cats_dir+'/'+random_file_name) \n",
    "        continue\n",
    "\n",
    "    logger.info(f\"Splitting is performed. There are {len(os.listdir(validation_cats_dir))} cats images in {validation_cats_dir} \\n and {len(os.listdir(validation_dogs_dir))} dog images in {validation_dogs_dir}\")"
   ]
  },
  {
   "cell_type": "code",
   "execution_count": 18,
   "metadata": {},
   "outputs": [
    {
     "name": "stderr",
     "output_type": "stream",
     "text": [
      "INFO:03:53:53 PM: Out of 12500 dogs images in /tmp/dogs_vs_cats/training/dogs, 2500 will be moved to /tmp/dogs_vs_cats/validation/dogs\n",
      "INFO:03:53:56 PM: Out of 12500 cats images in /tmp/dogs_vs_cats/training/cats, 2500 will be moved to /tmp/dogs_vs_cats/validation/cats\n",
      "INFO:03:53:58 PM: Splitting is performed. There are 2500 cats images in /tmp/dogs_vs_cats/validation/cats \n",
      " and 2500 dog images in /tmp/dogs_vs_cats/validation/dogs\n"
     ]
    }
   ],
   "source": [
    "prepare_validation_dataset(0.2)"
   ]
  },
  {
   "cell_type": "code",
   "execution_count": null,
   "metadata": {},
   "outputs": [],
   "source": [
    "## Lets check the images\n",
    "%matplotlib inline\n",
    "\n",
    "import matplotlib.image as mpimg\n",
    "import matplotlib.pyplot as plt\n",
    "\n",
    "# Parameters for our graph; we'll output images in a 4x4 configuration\n",
    "nrows = 4\n",
    "ncols = 4"
   ]
  },
  {
   "cell_type": "code",
   "execution_count": null,
   "metadata": {},
   "outputs": [],
   "source": [
    "pic_index = 0 # Index for iterating over images\n",
    "\n",
    "# Set up matplotlib fig, and size it to fit 4x4 pics\n",
    "fig = plt.gcf()\n",
    "fig.set_size_inches(ncols*4, nrows*4)\n",
    "\n",
    "pic_index+=8\n",
    "\n",
    "next_cat_pix = [os.path.join(train_cats_dir, fname) \n",
    "                for fname in os.listdir(train_cats_dir)[ pic_index-8:pic_index] \n",
    "               ]\n",
    "\n",
    "next_dog_pix = [os.path.join(train_dogs_dir, fname) \n",
    "                for fname in os.listdir(train_dogs_dir)[ pic_index-8:pic_index]\n",
    "               ]\n",
    "\n",
    "for i, img_path in enumerate(next_cat_pix+next_dog_pix):\n",
    "  # Set up subplot; subplot indices start at 1\n",
    "  sp = plt.subplot(nrows, ncols, i + 1)\n",
    "  #sp.axis('Off') # Don't show axes (or gridlines)\n",
    "\n",
    "  img = mpimg.imread(img_path)\n",
    "  plt.imshow(img)\n",
    "\n",
    "plt.show()"
   ]
  },
  {
   "cell_type": "markdown",
   "metadata": {},
   "source": [
    "## Model definition"
   ]
  },
  {
   "cell_type": "code",
   "execution_count": 19,
   "metadata": {},
   "outputs": [
    {
     "name": "stdout",
     "output_type": "stream",
     "text": [
      "2.6.0\n"
     ]
    }
   ],
   "source": [
    "import tensorflow as tf\n",
    "print(tf.__version__)"
   ]
  },
  {
   "cell_type": "code",
   "execution_count": 20,
   "metadata": {},
   "outputs": [
    {
     "name": "stdout",
     "output_type": "stream",
     "text": [
      "Model: \"sequential\"\n",
      "_________________________________________________________________\n",
      "Layer (type)                 Output Shape              Param #   \n",
      "=================================================================\n",
      "conv2d (Conv2D)              (None, 148, 148, 16)      448       \n",
      "_________________________________________________________________\n",
      "max_pooling2d (MaxPooling2D) (None, 74, 74, 16)        0         \n",
      "_________________________________________________________________\n",
      "conv2d_1 (Conv2D)            (None, 72, 72, 32)        4640      \n",
      "_________________________________________________________________\n",
      "max_pooling2d_1 (MaxPooling2 (None, 36, 36, 32)        0         \n",
      "_________________________________________________________________\n",
      "conv2d_2 (Conv2D)            (None, 34, 34, 64)        18496     \n",
      "_________________________________________________________________\n",
      "max_pooling2d_2 (MaxPooling2 (None, 17, 17, 64)        0         \n",
      "_________________________________________________________________\n",
      "flatten (Flatten)            (None, 18496)             0         \n",
      "_________________________________________________________________\n",
      "dense (Dense)                (None, 512)               9470464   \n",
      "_________________________________________________________________\n",
      "dense_1 (Dense)              (None, 1)                 513       \n",
      "=================================================================\n",
      "Total params: 9,494,561\n",
      "Trainable params: 9,494,561\n",
      "Non-trainable params: 0\n",
      "_________________________________________________________________\n"
     ]
    },
    {
     "name": "stderr",
     "output_type": "stream",
     "text": [
      "2021-09-27 15:54:08.373537: I tensorflow/core/platform/cpu_feature_guard.cc:142] This TensorFlow binary is optimized with oneAPI Deep Neural Network Library (oneDNN) to use the following CPU instructions in performance-critical operations:  AVX2 FMA\n",
      "To enable them in other operations, rebuild TensorFlow with the appropriate compiler flags.\n"
     ]
    }
   ],
   "source": [
    "model = tf.keras.models.Sequential([\n",
    "    # Note the input shape is the desired size of the image 150x150 with 3 bytes color\n",
    "    ## layer 01\n",
    "    tf.keras.layers.Conv2D(16, (3,3), activation='relu', input_shape=(150, 150, 3)),\n",
    "    tf.keras.layers.MaxPooling2D(2,2),\n",
    "    ## layer 02\n",
    "    tf.keras.layers.Conv2D(32, (3,3), activation='relu'),\n",
    "    tf.keras.layers.MaxPooling2D(2,2), \n",
    "    ## layer 03\n",
    "    tf.keras.layers.Conv2D(64, (3,3), activation='relu'), \n",
    "    tf.keras.layers.MaxPooling2D(2,2),\n",
    "    ## layer 04\n",
    "    tf.keras.layers.Flatten(), \n",
    "    # layer 05\n",
    "    tf.keras.layers.Dense(512, activation='relu'), \n",
    "    ## layer 06\n",
    "    # Only 1 output neuron. It will contain a value from 0-1 where 0 for 1 class ('cats') and 1 for the other ('dogs')\n",
    "    tf.keras.layers.Dense(1, activation='sigmoid')  \n",
    "])\n",
    "model.summary()"
   ]
  },
  {
   "cell_type": "code",
   "execution_count": 21,
   "metadata": {},
   "outputs": [],
   "source": [
    "from tensorflow.keras.optimizers import RMSprop\n",
    "\n",
    "model.compile(optimizer=RMSprop(learning_rate=0.001),\n",
    "              loss='binary_crossentropy',\n",
    "              metrics = ['accuracy'])"
   ]
  },
  {
   "cell_type": "code",
   "execution_count": 22,
   "metadata": {},
   "outputs": [
    {
     "name": "stdout",
     "output_type": "stream",
     "text": [
      "Found 20000 images belonging to 2 classes.\n",
      "Found 5000 images belonging to 2 classes.\n"
     ]
    }
   ],
   "source": [
    "from tensorflow.keras.preprocessing.image import ImageDataGenerator\n",
    "\n",
    "# All images will be rescaled by 1./255.\n",
    "train_datagen = ImageDataGenerator( rescale = 1.0/255. )\n",
    "test_datagen  = ImageDataGenerator( rescale = 1.0/255. )\n",
    "\n",
    "# --------------------\n",
    "# Flow training images in batches of 20 using train_datagen generator\n",
    "# --------------------\n",
    "train_generator = train_datagen.flow_from_directory(train_dir,\n",
    "                                                    batch_size=20,\n",
    "                                                    class_mode='binary',\n",
    "                                                    target_size=(150, 150))     \n",
    "# --------------------\n",
    "# Flow validation images in batches of 20 using test_datagen generator\n",
    "# --------------------\n",
    "validation_generator =  test_datagen.flow_from_directory(validation_dir,\n",
    "                                                         batch_size=20,\n",
    "                                                         class_mode  = 'binary',\n",
    "                                                         target_size = (150, 150))"
   ]
  },
  {
   "cell_type": "code",
   "execution_count": 23,
   "metadata": {},
   "outputs": [
    {
     "name": "stderr",
     "output_type": "stream",
     "text": [
      "2021-09-27 15:54:22.112099: I tensorflow/compiler/mlir/mlir_graph_optimization_pass.cc:185] None of the MLIR Optimization Passes are enabled (registered 2)\n"
     ]
    },
    {
     "name": "stdout",
     "output_type": "stream",
     "text": [
      "Epoch 1/20\n",
      "100/100 - 18s - loss: 0.8761 - accuracy: 0.5455 - val_loss: 0.6604 - val_accuracy: 0.6210\n",
      "Epoch 2/20\n",
      "100/100 - 18s - loss: 0.6700 - accuracy: 0.6210 - val_loss: 0.6075 - val_accuracy: 0.6830\n",
      "Epoch 3/20\n",
      "100/100 - 18s - loss: 0.6346 - accuracy: 0.6635 - val_loss: 0.5971 - val_accuracy: 0.6830\n",
      "Epoch 4/20\n",
      "100/100 - 19s - loss: 0.5863 - accuracy: 0.7100 - val_loss: 0.5700 - val_accuracy: 0.6980\n",
      "Epoch 5/20\n",
      "100/100 - 19s - loss: 0.5888 - accuracy: 0.6885 - val_loss: 0.5743 - val_accuracy: 0.7080\n",
      "Epoch 6/20\n",
      "100/100 - 18s - loss: 0.5674 - accuracy: 0.6985 - val_loss: 0.5484 - val_accuracy: 0.7480\n",
      "Epoch 7/20\n",
      "100/100 - 18s - loss: 0.5440 - accuracy: 0.7250 - val_loss: 0.5501 - val_accuracy: 0.7250\n",
      "Epoch 8/20\n",
      "100/100 - 18s - loss: 0.5146 - accuracy: 0.7415 - val_loss: 0.5109 - val_accuracy: 0.7740\n",
      "Epoch 9/20\n",
      "100/100 - 19s - loss: 0.5239 - accuracy: 0.7555 - val_loss: 0.5040 - val_accuracy: 0.7620\n",
      "Epoch 10/20\n",
      "100/100 - 21s - loss: 0.4972 - accuracy: 0.7650 - val_loss: 0.4737 - val_accuracy: 0.7820\n",
      "Epoch 11/20\n",
      "100/100 - 19s - loss: 0.4864 - accuracy: 0.7630 - val_loss: 0.4736 - val_accuracy: 0.7790\n",
      "Epoch 12/20\n",
      "100/100 - 18s - loss: 0.4944 - accuracy: 0.7740 - val_loss: 0.5152 - val_accuracy: 0.7400\n",
      "Epoch 13/20\n",
      "100/100 - 19s - loss: 0.4594 - accuracy: 0.7845 - val_loss: 0.4880 - val_accuracy: 0.7730\n",
      "Epoch 14/20\n",
      "100/100 - 21s - loss: 0.4719 - accuracy: 0.7660 - val_loss: 0.4962 - val_accuracy: 0.7590\n",
      "Epoch 15/20\n",
      "100/100 - 18s - loss: 0.4602 - accuracy: 0.7915 - val_loss: 0.4864 - val_accuracy: 0.7740\n",
      "Epoch 16/20\n",
      "100/100 - 19s - loss: 0.4451 - accuracy: 0.7970 - val_loss: 0.4994 - val_accuracy: 0.7590\n",
      "Epoch 17/20\n",
      "100/100 - 19s - loss: 0.4502 - accuracy: 0.7925 - val_loss: 0.4758 - val_accuracy: 0.7800\n",
      "Epoch 18/20\n",
      "100/100 - 19s - loss: 0.4453 - accuracy: 0.8000 - val_loss: 0.4603 - val_accuracy: 0.8040\n",
      "Epoch 19/20\n",
      "100/100 - 20s - loss: 0.4378 - accuracy: 0.8040 - val_loss: 0.4545 - val_accuracy: 0.7870\n",
      "Epoch 20/20\n",
      "100/100 - 20s - loss: 0.4255 - accuracy: 0.8025 - val_loss: 0.4409 - val_accuracy: 0.7860\n"
     ]
    }
   ],
   "source": [
    "history = model.fit(train_generator,\n",
    "                              validation_data=validation_generator,\n",
    "                              steps_per_epoch=100,\n",
    "                              epochs=20,\n",
    "                              validation_steps=50,\n",
    "                              verbose=2)"
   ]
  },
  {
   "cell_type": "markdown",
   "metadata": {},
   "source": [
    "## Plotting"
   ]
  },
  {
   "cell_type": "code",
   "execution_count": 24,
   "metadata": {},
   "outputs": [
    {
     "name": "stdout",
     "output_type": "stream",
     "text": [
      "['/Users/psaxena/Documents/weitebildung/tensorflow-developer-zertificate-coursera/course2_convolutional-neural-networks-tensorflow/09_working_application', '/usr/local/Cellar/python@3.9/3.9.7/Frameworks/Python.framework/Versions/3.9/lib/python39.zip', '/usr/local/Cellar/python@3.9/3.9.7/Frameworks/Python.framework/Versions/3.9/lib/python3.9', '/usr/local/Cellar/python@3.9/3.9.7/Frameworks/Python.framework/Versions/3.9/lib/python3.9/lib-dynload', '', '/Users/psaxena/Library/Python/3.9/lib/python/site-packages', '/usr/local/lib/python3.9/site-packages', '/usr/local/lib/python3.9/site-packages/IPython/extensions', '/Users/psaxena/.ipython']\n"
     ]
    }
   ],
   "source": [
    "import sys\n",
    "print(sys.path)\n",
    "sys.path.append(\"/Users/psaxena/Documents/weitebildung/tensorflow-developer-zertificate-coursera/pool_common_scripts\")"
   ]
  },
  {
   "cell_type": "code",
   "execution_count": 25,
   "metadata": {},
   "outputs": [
    {
     "name": "stdout",
     "output_type": "stream",
     "text": [
      "Help on function plot_n_model in module ploting_script:\n",
      "\n",
      "plot_n_model(num_history=2, name_history=[], ylim_low=0.4, ylim_high=1.0, label_list=[], leg_loc='lower left', is_sparse_categorical=False, is_saved_history=False)\n",
      "    num_history  : no of history to be plotted\n",
      "    name_history : list of history name, ex [history_1, history_2]\n",
      "    label_list   : list of label names, ex ['simple_model', 'model_cnn']\n",
      "    y_lim_low    : lowest y scale\n",
      "    y_lim_high   : highest y scale\n",
      "    leg_loc      : location of legend ex: 'lower left', 'lower right', 'upper right', 'upper left'\n",
      "    is_sparse_categorical : True, if sparse_categorical_accuracy is being used. \n",
      "    is_saved_history : if plotting saved history via pickle\n",
      "    \n",
      "                     @@ Saving part--\n",
      "                     try:\n",
      "                       import dill as pickle\n",
      "                     except ImportError:\n",
      "                        import pickle\n",
      "                     with open('trainHistoryDict', 'wb') as file_pi:\n",
      "                     pickle.dump(history.history, file_pi)\n",
      "                     \n",
      "                     @@ Calling part --\n",
      "                     try:\n",
      "                        import dill as pickle\n",
      "                     except ImportError:\n",
      "                        import pickle\n",
      "                     calling_saved_history = pickle.load(open('trainHistoryDict', \"rb\"))\n",
      "    \n",
      "    @usage::plot_n_model(num_history=2, name_history=[history1, history2], label_list=['simple', 'complex'])\n",
      "\n"
     ]
    },
    {
     "data": {
      "text/plain": [
       "<Figure size 432x288 with 0 Axes>"
      ]
     },
     "metadata": {},
     "output_type": "display_data"
    },
    {
     "data": {
      "image/png": "[encoded data removed]",
      "text/plain": [
       "<Figure size 1080x360 with 2 Axes>"
      ]
     },
     "metadata": {
      "needs_background": "light"
     },
     "output_type": "display_data"
    }
   ],
   "source": [
    "from ploting_script import plot_n_model\n",
    "plot_n_model(num_history=1, name_history=[history], label_list=[\"cnn\"])"
   ]
  },
  {
   "cell_type": "markdown",
   "metadata": {},
   "source": [
    "## Testing"
   ]
  },
  {
   "cell_type": "code",
   "execution_count": 26,
   "metadata": {},
   "outputs": [
    {
     "ename": "ModuleNotFoundError",
     "evalue": "No module named 'google.colab'",
     "output_type": "error",
     "traceback": [
      "\u001b[0;31m---------------------------------------------------------------------------\u001b[0m",
      "\u001b[0;31mModuleNotFoundError\u001b[0m                       Traceback (most recent call last)",
      "\u001b[0;32m/var/folders/6n/xskqb5954jsfxw29ddrrqp74tqq6_x/T/ipykernel_17998/3903585702.py\u001b[0m in \u001b[0;36m<module>\u001b[0;34m\u001b[0m\n\u001b[1;32m      2\u001b[0m \u001b[0;32mimport\u001b[0m \u001b[0mnumpy\u001b[0m \u001b[0;32mas\u001b[0m \u001b[0mnp\u001b[0m\u001b[0;34m\u001b[0m\u001b[0;34m\u001b[0m\u001b[0m\n\u001b[1;32m      3\u001b[0m \u001b[0;34m\u001b[0m\u001b[0m\n\u001b[0;32m----> 4\u001b[0;31m \u001b[0;32mfrom\u001b[0m \u001b[0mgoogle\u001b[0m\u001b[0;34m.\u001b[0m\u001b[0mcolab\u001b[0m \u001b[0;32mimport\u001b[0m \u001b[0mfiles\u001b[0m\u001b[0;34m\u001b[0m\u001b[0;34m\u001b[0m\u001b[0m\n\u001b[0m\u001b[1;32m      5\u001b[0m \u001b[0;32mfrom\u001b[0m \u001b[0mkeras\u001b[0m\u001b[0;34m.\u001b[0m\u001b[0mpreprocessing\u001b[0m \u001b[0;32mimport\u001b[0m \u001b[0mimage\u001b[0m\u001b[0;34m\u001b[0m\u001b[0;34m\u001b[0m\u001b[0m\n\u001b[1;32m      6\u001b[0m \u001b[0;34m\u001b[0m\u001b[0m\n",
      "\u001b[0;31mModuleNotFoundError\u001b[0m: No module named 'google.colab'"
     ]
    }
   ],
   "source": [
    "## Testing on uploaded images\n",
    "import numpy as np\n",
    "\n",
    "from google.colab import files\n",
    "from keras.preprocessing import image\n",
    "\n",
    "uploaded=files.upload()\n",
    "\n",
    "for fn in uploaded.keys():\n",
    " \n",
    "  # predicting images\n",
    "  path='/content/' + fn\n",
    "  img=image.load_img(path, target_size=(150, 150))\n",
    "  \n",
    "  x=image.img_to_array(img)\n",
    "  x=np.expand_dims(x, axis=0)\n",
    "  images = np.vstack([x])\n",
    "  \n",
    "  classes = model.predict(images, batch_size=10)\n",
    "  \n",
    "  print(classes[0])\n",
    "  \n",
    "  if classes[0]>0:\n",
    "    print(fn + \" is a dog\")\n",
    "    \n",
    "  else:\n",
    "    print(fn + \" is a cat\")\n",
    " "
   ]
  },
  {
   "cell_type": "code",
   "execution_count": null,
   "metadata": {},
   "outputs": [],
   "source": []
  }
 ],
 "metadata": {
  "colab": {
   "authorship_tag": "ABX9TyMdp0UBKFYw/PYwbQBMFJA9",
   "include_colab_link": true,
   "name": "Untitled2.ipynb",
   "provenance": []
  },
  "kernelspec": {
   "display_name": "Python 3 (ipykernel)",
   "language": "python",
   "name": "python3"
  },
  "language_info": {
   "codemirror_mode": {
    "name": "ipython",
    "version": 3
   },
   "file_extension": ".py",
   "mimetype": "text/x-python",
   "name": "python",
   "nbconvert_exporter": "python",
   "pygments_lexer": "ipython3",
   "version": "3.9.7"
  },
  "toc": {
   "base_numbering": 1,
   "nav_menu": {},
   "number_sections": true,
   "sideBar": true,
   "skip_h1_title": false,
   "title_cell": "Table of Contents",
   "title_sidebar": "Contents",
   "toc_cell": false,
   "toc_position": {
    "height": "calc(100% - 180px)",
    "left": "10px",
    "top": "150px",
    "width": "165px"
   },
   "toc_section_display": true,
   "toc_window_display": true
  }
 },
 "nbformat": 4,
 "nbformat_minor": 1
}
