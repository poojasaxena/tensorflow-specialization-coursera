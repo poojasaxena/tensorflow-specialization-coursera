{
  "nbformat": 4,
  "nbformat_minor": 5,
  "metadata": {
    "accelerator": "TPU",
    "colab": {
      "name": "Course_2_Part_10_Lesson_2_Notebook_KerasTuner_mnist.ipynb",
      "provenance": [],
      "collapsed_sections": [
        "african-titanium",
        "instructional-tutorial",
        "regulated-blade",
        "together-ladder"
      ],
      "toc_visible": true,
      "include_colab_link": true
    },
    "kernelspec": {
      "display_name": "Python 3",
      "language": "python",
      "name": "python3"
    },
    "language_info": {
      "codemirror_mode": {
        "name": "ipython",
        "version": 3
      },
      "file_extension": ".py",
      "mimetype": "text/x-python",
      "name": "python",
      "nbconvert_exporter": "python",
      "pygments_lexer": "ipython3",
      "version": "3.8.0"
    }
  },
  "cells": [
    {
      "cell_type": "markdown",
      "metadata": {
        "id": "view-in-github",
        "colab_type": "text"
      },
      "source": [
        "<a href=\"https://colab.research.google.com/github/poojasaxena/tensorflow-developer-zertificate-coursera/blob/main/course2_convolutional-neural-networks-tensorflow/05_tuning_hyperparameters/Course_2_Part_10_Lesson_2_Notebook_KerasTuner_mnist.ipynb\" target=\"_parent\"><img src=\"https://colab.research.google.com/assets/colab-badge.svg\" alt=\"Open In Colab\"/></a>"
      ]
    },
    {
      "cell_type": "markdown",
      "metadata": {
        "id": "material-pillow"
      },
      "source": [
        "# Step1. Setup"
      ],
      "id": "material-pillow"
    },
    {
      "cell_type": "code",
      "metadata": {
        "colab": {
          "base_uri": "https://localhost:8080/"
        },
        "id": "portable-committee",
        "outputId": "bff9c3b5-d1db-431d-be5e-2ca37bd6f98d"
      },
      "source": [
        "from platform import python_version\n",
        "print(python_version())"
      ],
      "id": "portable-committee",
      "execution_count": null,
      "outputs": [
        {
          "output_type": "stream",
          "text": [
            "3.8.0\n"
          ],
          "name": "stdout"
        }
      ]
    },
    {
      "cell_type": "code",
      "metadata": {
        "colab": {
          "base_uri": "https://localhost:8080/"
        },
        "id": "cubic-insight",
        "outputId": "55fda254-9135-45b0-b266-0d03e45df661"
      },
      "source": [
        "import tensorflow as tf\n",
        "from tensorflow import keras\n",
        "import matplotlib.pyplot as plt\n",
        "print(tf.__version__)"
      ],
      "id": "cubic-insight",
      "execution_count": null,
      "outputs": [
        {
          "output_type": "stream",
          "text": [
            "2.4.1\n"
          ],
          "name": "stdout"
        }
      ]
    },
    {
      "cell_type": "code",
      "metadata": {
        "id": "wLdqU0CKEVp_"
      },
      "source": [
        "#!pip install -q -U keras-tuner"
      ],
      "id": "wLdqU0CKEVp_",
      "execution_count": null,
      "outputs": []
    },
    {
      "cell_type": "code",
      "metadata": {
        "id": "handed-creation"
      },
      "source": [
        "### install keras-tuner\n",
        "#python3 -m pip install --user keras-tuner \n",
        "import kerastuner as kt"
      ],
      "id": "handed-creation",
      "execution_count": null,
      "outputs": []
    },
    {
      "cell_type": "markdown",
      "metadata": {
        "id": "loaded-essay"
      },
      "source": [
        "# Step 2. Download and prepare the dataset \n",
        "\n",
        "we will use the Fashion MNIST dataset, ie. images of clothing. "
      ],
      "id": "loaded-essay"
    },
    {
      "cell_type": "code",
      "metadata": {
        "id": "attached-imaging"
      },
      "source": [
        "(img_train, label_train), (img_test, label_test) = keras.datasets.fashion_mnist.load_data()"
      ],
      "id": "attached-imaging",
      "execution_count": null,
      "outputs": []
    },
    {
      "cell_type": "code",
      "metadata": {
        "colab": {
          "base_uri": "https://localhost:8080/"
        },
        "id": "common-recall",
        "outputId": "e7734dfa-57a9-42a5-9fbc-8eba5a34fc32"
      },
      "source": [
        "## lets check the number of train/test images\n",
        "print('No of train images: ', img_train.shape)\n",
        "print('No of test images: ', img_test.shape)\n",
        "print('label format for trainig:', label_train.shape)\n",
        "print('label format for testing:', label_test.shape)\n",
        "print('unique lables are :', np.unique(label_train))"
      ],
      "id": "common-recall",
      "execution_count": null,
      "outputs": [
        {
          "output_type": "stream",
          "text": [
            "No of train images:  (60000, 28, 28)\n",
            "No of test images:  (10000, 28, 28)\n",
            "label format for trainig: (60000,)\n",
            "label format for testing: (10000,)\n"
          ],
          "name": "stdout"
        }
      ]
    },
    {
      "cell_type": "code",
      "metadata": {
        "colab": {
          "base_uri": "https://localhost:8080/",
          "height": 282
        },
        "id": "speaking-harris",
        "outputId": "1fe25380-db37-4d2b-e5b1-88e6e64217a0"
      },
      "source": [
        "## Lets visualize the dataset\n",
        "import matplotlib.pyplot as plt\n",
        "\n",
        "indx=2202\n",
        "plt.imshow(img_train[indx])\n",
        "print('Label of indx',indx,': ',label_train[indx])"
      ],
      "id": "speaking-harris",
      "execution_count": null,
      "outputs": [
        {
          "output_type": "stream",
          "text": [
            "Label of indx 2202 :  [0. 0. 0. 0. 0. 0. 1. 0. 0. 0.]\n"
          ],
          "name": "stdout"
        },
        {
          "output_type": "display_data",
          "data": {
            "image/png": "[encoded data removed]",
            "text/plain": [
              "<Figure size 432x288 with 1 Axes>"
            ]
          },
          "metadata": {
            "tags": [],
            "needs_background": "light"
          }
        }
      ]
    },
    {
      "cell_type": "code",
      "metadata": {
        "id": "paperback-orlando"
      },
      "source": [
        "## Normalize the dataset\n",
        "img_train = img_train.astype('float32')/255.0\n",
        "img_test = img_test.astype('float32')/255.0"
      ],
      "id": "paperback-orlando",
      "execution_count": null,
      "outputs": []
    },
    {
      "cell_type": "code",
      "metadata": {
        "id": "strong-twist"
      },
      "source": [
        "img_train = img_train.reshape(list(img_train.shape) + [1])\n",
        "img_test = img_test.reshape(list(img_test.shape) + [1])\n",
        "\n",
        "# Normalize pixel values to be between 0 and 1\n",
        "from tensorflow.keras.utils import to_categorical \n",
        "import numpy as np\n",
        "label_train = to_categorical(label_train, len(np.unique(label_train)))\n",
        "label_test = to_categorical(label_test, len(np.unique(label_test)))"
      ],
      "id": "strong-twist",
      "execution_count": null,
      "outputs": []
    },
    {
      "cell_type": "markdown",
      "metadata": {
        "id": "sufficient-finger"
      },
      "source": [
        "# Step 3. Plotting Scripts"
      ],
      "id": "sufficient-finger"
    },
    {
      "cell_type": "code",
      "metadata": {
        "id": "approved-racing",
        "outputId": "3c3aaf49-c30f-47cb-ee56-f3de910c5c99"
      },
      "source": [
        "## To plot any number of model_history for comparison\n",
        "fig = plt.figure()\n",
        "fig.patch.set_facecolor('white')\n",
        "\n",
        "def plot_n_model(n=2, model_history=[],\n",
        "          ylim_low=0.4, ylim_high=1.0, \n",
        "          label_list=[]    ,       \n",
        "          leg_loc='lower left'):\n",
        "    fig = plt.figure(figsize=(15,5))\n",
        "\n",
        "    assert(len(model_history) ==n)\n",
        "    \n",
        "    variable1, variable2='accuracy','val_accuracy'\n",
        "    variable3, variable4='loss', 'val_loss'\n",
        "    \n",
        "    color=['red','blue', 'orange', 'green', 'black', 'aqua','yellow']\n",
        "    \n",
        "    plt.subplot(1,2,1)\n",
        "    for index, history in enumerate(model_history):\n",
        "        print(index, history)\n",
        "        \n",
        "        plt.plot(history.history['accuracy'], label=label_list[index], c=color[index], ls='-')\n",
        "        plt.plot(history.history['val_accuracy'], c=color[index],ls='--')\n",
        "        plt.ylabel('accuracy')\n",
        "        plt.xlabel('Epoch')\n",
        "        plt.grid(True)\n",
        "        plt.legend(loc=leg_loc)\n",
        "        plt.title('Training - , Validation ---')\n",
        "\n",
        "        \n",
        "    plt.subplot(1,2,2)\n",
        "    for index, history in enumerate(model_history):\n",
        "        plt.plot(history.history['loss'], label=label_list[index], c=color[index], ls='-')\n",
        "        plt.plot(history.history['val_loss'],  c=color[index],ls='--')\n",
        "        plt.title('Training - , Validation ---')\n",
        "\n",
        "    plt.xlabel('Epoch')\n",
        "    plt.ylabel('loss')\n",
        "    plt.grid(True)\n",
        "    plt.legend(loc=leg_loc)\n",
        "    plt.ylim(ylim_low,ylim_high)"
      ],
      "id": "approved-racing",
      "execution_count": null,
      "outputs": [
        {
          "output_type": "display_data",
          "data": {
            "text/plain": [
              "<Figure size 432x288 with 0 Axes>"
            ]
          },
          "metadata": {
            "tags": []
          }
        }
      ]
    },
    {
      "cell_type": "markdown",
      "metadata": {
        "id": "usual-prevention"
      },
      "source": [
        "# Step 4. Define model\n",
        "\n",
        "while building a model for hypertuning, one should define the hyperparamet search spave in addition to the model architecture.\n",
        "The model setup for hypertuning is called a hypermodel. It could be defined through two approaches:\n",
        "    \n",
        "    * By using a model builder function\n",
        "    * By subclassing the HyperModel class of the Keras Tuner API"
      ],
      "id": "usual-prevention"
    },
    {
      "cell_type": "code",
      "metadata": {
        "id": "anonymous-supervision"
      },
      "source": [
        "from kerastuner import HyperModel\n",
        "\n",
        "\n",
        "class CustomHyperModel(HyperModel):\n",
        "\n",
        "    def __init__(self, isvgg=False, L1=0):\n",
        "        self.isvgg = isvgg\n",
        "        self.L1=L1\n",
        "        \n",
        "    def build(self, hp):\n",
        "        if self.isvgg:\n",
        "            INPUT_SHAPE= (28, 28, 1)\n",
        "        else:\n",
        "            INPUT_SHAPE=(28,28)\n",
        "\n",
        "        \n",
        "        model= keras.Sequential()                \n",
        "    \n",
        "        if(self.isvgg):\n",
        "            # First Layer\n",
        "            model.add(keras.layers.Conv2D(32, (3,3), activation='relu', padding='same',input_shape=INPUT_SHAPE))\n",
        "            model.add(keras.layers.Conv2D(32, (3,3), activation='relu', padding='same'))\n",
        "            model.add(keras.layers.MaxPooling2D(2, 2))\n",
        "        \n",
        "            # The second convolution\n",
        "            model.add(keras.layers.Conv2D(64, (3,3), activation='relu', padding='same'))\n",
        "            model.add(keras.layers.Conv2D(64, (3,3), activation='relu', padding='same'))\n",
        "            model.add(keras.layers.MaxPooling2D(2,2))\n",
        "        \n",
        "            # The third convolution\n",
        "            model.add(keras.layers.Conv2D(128, (3,3), activation='relu', padding='same'))\n",
        "            model.add(keras.layers.Conv2D(128, (3,3), activation='relu', padding='same'))\n",
        "            model.add(keras.layers.MaxPooling2D(2,2))\n",
        "            model.add(keras.layers.Flatten())\n",
        "        else:\n",
        "            model.add(keras.layers.Flatten(input_shape=INPUT_SHAPE))\n",
        "\n",
        "        hp_units = hp.Int('units', min_value=32, max_value=512, step=32)\n",
        "        model.add(keras.layers.Dense(units=hp_units, activation='relu',kernel_regularizer=tf.keras.regularizers.L1(l1=self.L1)))\n",
        "        model.add(keras.layers.Dense(10, activation='softmax'))\n",
        "    \n",
        "        hp_learning_rate = hp.Choice('learning_rate', values=[1e-2, 1e-3, 1e-4])\n",
        "        model.compile(optimizer=keras.optimizers.Adam(learning_rate=hp_learning_rate), \n",
        "                  loss='categorical_crossentropy', \n",
        "                  metrics=['accuracy'])\n",
        "        model.summary()\n",
        "        return model"
      ],
      "id": "anonymous-supervision",
      "execution_count": null,
      "outputs": []
    },
    {
      "cell_type": "markdown",
      "metadata": {
        "id": "representative-chosen"
      },
      "source": [
        "## Step 4.1 Simple Model"
      ],
      "id": "representative-chosen"
    },
    {
      "cell_type": "markdown",
      "metadata": {
        "id": "democratic-incidence"
      },
      "source": [
        "### Instentiate the tuner and perform hypertuning\n",
        "\n",
        "1. keras tuner has four tuners: RandomSearch, Hyperband, BayesianOptimization and Sklearn\n",
        "2. To instentiate the Hyperband tuner, one must specify the hypermodel, the 'pobjective' to optimize and the  maximum number of epoches to train 'max_epochs'"
      ],
      "id": "democratic-incidence"
    },
    {
      "cell_type": "code",
      "metadata": {
        "id": "secondary-subscriber"
      },
      "source": [
        "## ?kt.Hyperband"
      ],
      "id": "secondary-subscriber",
      "execution_count": null,
      "outputs": []
    },
    {
      "cell_type": "code",
      "metadata": {
        "id": "legislative-shopper",
        "outputId": "c5c925e6-5d93-470d-812c-1d13d857550a"
      },
      "source": [
        "simple_hypermodel = CustomHyperModel()\n",
        "tuner = kt.Hyperband(simple_hypermodel, \n",
        "                    objective='val_accuracy',\n",
        "                    max_epochs=10,\n",
        "                    factor=3, # Int. Reduction factor for the number of epochs/number of models for each bracket.\n",
        "                    directory='my_dir',\n",
        "                    project_name='intro_to_tuning')"
      ],
      "id": "legislative-shopper",
      "execution_count": null,
      "outputs": [
        {
          "output_type": "stream",
          "text": [
            "INFO:tensorflow:Reloading Oracle from existing project my_dir/intro_to_tuning/oracle.json\n",
            "Model: \"sequential\"\n",
            "_________________________________________________________________\n",
            "Layer (type)                 Output Shape              Param #   \n",
            "=================================================================\n",
            "flatten (Flatten)            (None, 784)               0         \n",
            "_________________________________________________________________\n",
            "dense (Dense)                (None, 32)                25120     \n",
            "_________________________________________________________________\n",
            "dense_1 (Dense)              (None, 10)                330       \n",
            "=================================================================\n",
            "Total params: 25,450\n",
            "Trainable params: 25,450\n",
            "Non-trainable params: 0\n",
            "_________________________________________________________________\n",
            "INFO:tensorflow:Reloading Tuner from my_dir/intro_to_tuning/tuner0.json\n"
          ],
          "name": "stdout"
        }
      ]
    },
    {
      "cell_type": "code",
      "metadata": {
        "id": "considerable-switch"
      },
      "source": [
        "stop_early = tf.keras.callbacks.EarlyStopping(monitor='val_loss', patience=5)"
      ],
      "id": "considerable-switch",
      "execution_count": null,
      "outputs": []
    },
    {
      "cell_type": "code",
      "metadata": {
        "id": "freelance-medicaid",
        "outputId": "23613af7-f250-4561-a4eb-d85da9ede150"
      },
      "source": [
        "tuner.search(img_train, label_train, epochs=15, validation_split=0.2, callbacks=[stop_early])\n",
        "\n",
        "## get the optimal hyperparameters\n",
        "best_hps=tuner.get_best_hyperparameters(num_trials=1)[0]\n",
        "\n",
        "print(f\"\"\"\n",
        "The Optimal number of units in the first dense layeer is {best_hps.get('units')} and \n",
        "the optimal learning rate for the optimal learning_rate is {best_hps.get('learning_rate')}\"\"\")"
      ],
      "id": "freelance-medicaid",
      "execution_count": null,
      "outputs": [
        {
          "output_type": "stream",
          "text": [
            "Trial 29 Complete [00h 00m 35s]\n",
            "val_accuracy: 0.8820833563804626\n",
            "\n",
            "Best val_accuracy So Far: 0.8820833563804626\n",
            "Total elapsed time: 00h 05m 23s\n",
            "INFO:tensorflow:Oracle triggered exit\n",
            "\n",
            "The Optimal number of units in the first dense layeer is 448 and \n",
            "the optimal learning rate for the optimal learning_rate is 0.0001\n"
          ],
          "name": "stdout"
        }
      ]
    },
    {
      "cell_type": "markdown",
      "metadata": {
        "id": "african-titanium"
      },
      "source": [
        "### Train the Model\n",
        "\n",
        "Find the optimal number of epoches to train the model with the hyperparameter obrained from the search.\n",
        "\n"
      ],
      "id": "african-titanium"
    },
    {
      "cell_type": "code",
      "metadata": {
        "id": "white-promise",
        "outputId": "4d18e4e7-d50a-400e-9729-76a690265fa5"
      },
      "source": [
        "# Build the model with the optimal hyperparamers and train it on the data for 15 epochs\n",
        "model=tuner.hypermodel.build(best_hps)\n",
        "history=model.fit(img_train, label_train, epochs=20, validation_split=0.2)\n",
        "\n",
        "val_acc_per_epoch = history.history['val_accuracy']\n",
        "best_epoch = val_acc_per_epoch.index(max(val_acc_per_epoch)) +1\n",
        "print('Best epoch: %d' % (best_epoch,))"
      ],
      "id": "white-promise",
      "execution_count": null,
      "outputs": [
        {
          "output_type": "stream",
          "text": [
            "Model: \"sequential\"\n",
            "_________________________________________________________________\n",
            "Layer (type)                 Output Shape              Param #   \n",
            "=================================================================\n",
            "flatten (Flatten)            (None, 784)               0         \n",
            "_________________________________________________________________\n",
            "dense (Dense)                (None, 448)               351680    \n",
            "_________________________________________________________________\n",
            "dense_1 (Dense)              (None, 10)                4490      \n",
            "=================================================================\n",
            "Total params: 356,170\n",
            "Trainable params: 356,170\n",
            "Non-trainable params: 0\n",
            "_________________________________________________________________\n",
            "Epoch 1/20\n",
            "1500/1500 [==============================] - 4s 3ms/step - loss: 0.8739 - accuracy: 0.7220 - val_loss: 0.4724 - val_accuracy: 0.8392\n",
            "Epoch 2/20\n",
            "1500/1500 [==============================] - 4s 3ms/step - loss: 0.4581 - accuracy: 0.8462 - val_loss: 0.4349 - val_accuracy: 0.8502\n",
            "Epoch 3/20\n",
            "1500/1500 [==============================] - 4s 3ms/step - loss: 0.4021 - accuracy: 0.8625 - val_loss: 0.3952 - val_accuracy: 0.8641\n",
            "Epoch 4/20\n",
            "1500/1500 [==============================] - 4s 2ms/step - loss: 0.3804 - accuracy: 0.8687 - val_loss: 0.3885 - val_accuracy: 0.8654\n",
            "Epoch 5/20\n",
            "1500/1500 [==============================] - 4s 2ms/step - loss: 0.3609 - accuracy: 0.8719 - val_loss: 0.3783 - val_accuracy: 0.8712\n",
            "Epoch 6/20\n",
            "1500/1500 [==============================] - 4s 2ms/step - loss: 0.3432 - accuracy: 0.8793 - val_loss: 0.3667 - val_accuracy: 0.8712\n",
            "Epoch 7/20\n",
            "1500/1500 [==============================] - 4s 2ms/step - loss: 0.3269 - accuracy: 0.8837 - val_loss: 0.3545 - val_accuracy: 0.8752\n",
            "Epoch 8/20\n",
            "1500/1500 [==============================] - 3s 2ms/step - loss: 0.3151 - accuracy: 0.8885 - val_loss: 0.3441 - val_accuracy: 0.8783\n",
            "Epoch 9/20\n",
            "1500/1500 [==============================] - 4s 2ms/step - loss: 0.3037 - accuracy: 0.8913 - val_loss: 0.3462 - val_accuracy: 0.8733\n",
            "Epoch 10/20\n",
            "1500/1500 [==============================] - 4s 2ms/step - loss: 0.2890 - accuracy: 0.8972 - val_loss: 0.3421 - val_accuracy: 0.8798\n",
            "Epoch 11/20\n",
            "1500/1500 [==============================] - 4s 2ms/step - loss: 0.2867 - accuracy: 0.8986 - val_loss: 0.3316 - val_accuracy: 0.8830\n",
            "Epoch 12/20\n",
            "1500/1500 [==============================] - 4s 2ms/step - loss: 0.2797 - accuracy: 0.9010 - val_loss: 0.3236 - val_accuracy: 0.8841\n",
            "Epoch 13/20\n",
            "1500/1500 [==============================] - 4s 2ms/step - loss: 0.2719 - accuracy: 0.9044 - val_loss: 0.3234 - val_accuracy: 0.8829\n",
            "Epoch 14/20\n",
            "1500/1500 [==============================] - 4s 2ms/step - loss: 0.2640 - accuracy: 0.9054 - val_loss: 0.3192 - val_accuracy: 0.8854\n",
            "Epoch 15/20\n",
            "1500/1500 [==============================] - 4s 2ms/step - loss: 0.2525 - accuracy: 0.9099 - val_loss: 0.3258 - val_accuracy: 0.8827\n",
            "Epoch 16/20\n",
            "1500/1500 [==============================] - 4s 3ms/step - loss: 0.2490 - accuracy: 0.9109 - val_loss: 0.3131 - val_accuracy: 0.8869\n",
            "Epoch 17/20\n",
            "1500/1500 [==============================] - 3s 2ms/step - loss: 0.2498 - accuracy: 0.9114 - val_loss: 0.3204 - val_accuracy: 0.8846\n",
            "Epoch 18/20\n",
            "1500/1500 [==============================] - 4s 2ms/step - loss: 0.2366 - accuracy: 0.9161 - val_loss: 0.3178 - val_accuracy: 0.8857\n",
            "Epoch 19/20\n",
            "1500/1500 [==============================] - 4s 3ms/step - loss: 0.2339 - accuracy: 0.9158 - val_loss: 0.3068 - val_accuracy: 0.8889\n",
            "Epoch 20/20\n",
            "1500/1500 [==============================] - 4s 2ms/step - loss: 0.2360 - accuracy: 0.9172 - val_loss: 0.3096 - val_accuracy: 0.8863\n",
            "Best epoch: 19\n"
          ],
          "name": "stdout"
        }
      ]
    },
    {
      "cell_type": "code",
      "metadata": {
        "id": "chief-corruption",
        "outputId": "c6d132c8-f32f-4ab1-eae8-73984e671998"
      },
      "source": [
        "## Reinstiate the hypermodel and train it with optimal nunber of epoches\n",
        "hypermodel = tuner.hypermodel.build(best_hps)\n",
        "hypermodel.fit(img_train, label_train, epochs=best_epoch, validation_split=0.2)"
      ],
      "id": "chief-corruption",
      "execution_count": null,
      "outputs": [
        {
          "output_type": "stream",
          "text": [
            "Model: \"sequential\"\n",
            "_________________________________________________________________\n",
            "Layer (type)                 Output Shape              Param #   \n",
            "=================================================================\n",
            "flatten (Flatten)            (None, 784)               0         \n",
            "_________________________________________________________________\n",
            "dense (Dense)                (None, 448)               351680    \n",
            "_________________________________________________________________\n",
            "dense_1 (Dense)              (None, 10)                4490      \n",
            "=================================================================\n",
            "Total params: 356,170\n",
            "Trainable params: 356,170\n",
            "Non-trainable params: 0\n",
            "_________________________________________________________________\n",
            "Epoch 1/19\n",
            "1500/1500 [==============================] - 4s 2ms/step - loss: 0.8694 - accuracy: 0.7297 - val_loss: 0.4809 - val_accuracy: 0.8341\n",
            "Epoch 2/19\n",
            "1500/1500 [==============================] - 4s 2ms/step - loss: 0.4502 - accuracy: 0.8461 - val_loss: 0.4219 - val_accuracy: 0.8528\n",
            "Epoch 3/19\n",
            "1500/1500 [==============================] - 4s 3ms/step - loss: 0.4065 - accuracy: 0.8596 - val_loss: 0.3913 - val_accuracy: 0.8644\n",
            "Epoch 4/19\n",
            "1500/1500 [==============================] - 4s 2ms/step - loss: 0.3742 - accuracy: 0.8697 - val_loss: 0.3877 - val_accuracy: 0.8648\n",
            "Epoch 5/19\n",
            "1500/1500 [==============================] - 4s 2ms/step - loss: 0.3583 - accuracy: 0.8734 - val_loss: 0.3713 - val_accuracy: 0.8701\n",
            "Epoch 6/19\n",
            "1500/1500 [==============================] - 3s 2ms/step - loss: 0.3407 - accuracy: 0.8803 - val_loss: 0.3547 - val_accuracy: 0.8772\n",
            "Epoch 7/19\n",
            "1500/1500 [==============================] - 3s 2ms/step - loss: 0.3303 - accuracy: 0.8834 - val_loss: 0.3479 - val_accuracy: 0.8764\n",
            "Epoch 8/19\n",
            "1500/1500 [==============================] - 3s 2ms/step - loss: 0.3119 - accuracy: 0.8892 - val_loss: 0.3501 - val_accuracy: 0.8760\n",
            "Epoch 9/19\n",
            "1500/1500 [==============================] - 3s 2ms/step - loss: 0.3054 - accuracy: 0.8925 - val_loss: 0.3394 - val_accuracy: 0.8798\n",
            "Epoch 10/19\n",
            "1500/1500 [==============================] - 3s 2ms/step - loss: 0.2952 - accuracy: 0.8947 - val_loss: 0.3345 - val_accuracy: 0.8830\n",
            "Epoch 11/19\n",
            "1500/1500 [==============================] - 3s 2ms/step - loss: 0.2907 - accuracy: 0.8976 - val_loss: 0.3283 - val_accuracy: 0.8828\n",
            "Epoch 12/19\n",
            "1500/1500 [==============================] - 3s 2ms/step - loss: 0.2772 - accuracy: 0.9024 - val_loss: 0.3292 - val_accuracy: 0.8851\n",
            "Epoch 13/19\n",
            "1500/1500 [==============================] - 3s 2ms/step - loss: 0.2673 - accuracy: 0.9042 - val_loss: 0.3175 - val_accuracy: 0.8885\n",
            "Epoch 14/19\n",
            "1500/1500 [==============================] - 3s 2ms/step - loss: 0.2637 - accuracy: 0.9065 - val_loss: 0.3170 - val_accuracy: 0.8865\n",
            "Epoch 15/19\n",
            "1500/1500 [==============================] - 3s 2ms/step - loss: 0.2604 - accuracy: 0.9062 - val_loss: 0.3138 - val_accuracy: 0.8877\n",
            "Epoch 16/19\n",
            "1500/1500 [==============================] - 3s 2ms/step - loss: 0.2490 - accuracy: 0.9107 - val_loss: 0.3164 - val_accuracy: 0.8879\n",
            "Epoch 17/19\n",
            "1500/1500 [==============================] - 4s 3ms/step - loss: 0.2461 - accuracy: 0.9130 - val_loss: 0.3152 - val_accuracy: 0.8889\n",
            "Epoch 18/19\n",
            "1500/1500 [==============================] - 4s 2ms/step - loss: 0.2375 - accuracy: 0.9155 - val_loss: 0.3107 - val_accuracy: 0.8889\n",
            "Epoch 19/19\n",
            "1500/1500 [==============================] - 4s 3ms/step - loss: 0.2348 - accuracy: 0.9172 - val_loss: 0.3058 - val_accuracy: 0.8922\n"
          ],
          "name": "stdout"
        },
        {
          "output_type": "execute_result",
          "data": {
            "text/plain": [
              "<tensorflow.python.keras.callbacks.History at 0x7f4ee7711520>"
            ]
          },
          "metadata": {
            "tags": []
          },
          "execution_count": 18
        }
      ]
    },
    {
      "cell_type": "code",
      "metadata": {
        "id": "international-prairie",
        "outputId": "2c761e14-cd5e-4b7c-e7b0-451f57794f2b"
      },
      "source": [
        "plot_n_model(n=1, model_history=[history], label_list=['simple'],ylim_low=0, leg_loc='upper left')"
      ],
      "id": "international-prairie",
      "execution_count": null,
      "outputs": [
        {
          "output_type": "stream",
          "text": [
            "0 <tensorflow.python.keras.callbacks.History object at 0x7f4eb0791910>\n"
          ],
          "name": "stdout"
        },
        {
          "output_type": "display_data",
          "data": {
            "image/png": "[encoded data removed]",
            "text/plain": [
              "<Figure size 1080x360 with 2 Axes>"
            ]
          },
          "metadata": {
            "tags": [],
            "needs_background": "light"
          }
        }
      ]
    },
    {
      "cell_type": "markdown",
      "metadata": {
        "id": "instructional-tutorial"
      },
      "source": [
        "###  Evaluate on test data"
      ],
      "id": "instructional-tutorial"
    },
    {
      "cell_type": "code",
      "metadata": {
        "id": "occupational-surfing",
        "outputId": "6f21336d-1c57-4f56-fc65-4db9c18eb1f9"
      },
      "source": [
        "## Evaluate the hyoermodel on the test data\n",
        "eval_result =hypermodel.evaluate(img_test, label_test)\n",
        "print(\"[test loss, test accuracy]:\", eval_result)"
      ],
      "id": "occupational-surfing",
      "execution_count": null,
      "outputs": [
        {
          "output_type": "stream",
          "text": [
            "313/313 [==============================] - 1s 1ms/step - loss: 0.3296 - accuracy: 0.8837\n",
            "[test loss, test accuracy]: [0.32956886291503906, 0.8837000131607056]\n"
          ],
          "name": "stdout"
        }
      ]
    },
    {
      "cell_type": "markdown",
      "metadata": {
        "id": "regulated-blade"
      },
      "source": [
        "## Step 4.2  VGG model"
      ],
      "id": "regulated-blade"
    },
    {
      "cell_type": "code",
      "metadata": {
        "id": "imposed-underground",
        "outputId": "0c7e1a2c-350a-4ae6-915e-de17f424bcaa"
      },
      "source": [
        "hypermodel = CustomHyperModel(isvgg=True)\n",
        "\n",
        "tuner_vgg = kt.Hyperband(hypermodel, \n",
        "                    objective='val_accuracy',\n",
        "                    max_epochs=10,\n",
        "                    factor=3, # Int. Reduction factor for the number of epochs/number of models for each bracket.\n",
        "                    )"
      ],
      "id": "imposed-underground",
      "execution_count": null,
      "outputs": [
        {
          "output_type": "stream",
          "text": [
            "Model: \"sequential\"\n",
            "_________________________________________________________________\n",
            "Layer (type)                 Output Shape              Param #   \n",
            "=================================================================\n",
            "conv2d (Conv2D)              (None, 28, 28, 32)        320       \n",
            "_________________________________________________________________\n",
            "conv2d_1 (Conv2D)            (None, 28, 28, 32)        9248      \n",
            "_________________________________________________________________\n",
            "max_pooling2d (MaxPooling2D) (None, 14, 14, 32)        0         \n",
            "_________________________________________________________________\n",
            "conv2d_2 (Conv2D)            (None, 14, 14, 64)        18496     \n",
            "_________________________________________________________________\n",
            "conv2d_3 (Conv2D)            (None, 14, 14, 64)        36928     \n",
            "_________________________________________________________________\n",
            "max_pooling2d_1 (MaxPooling2 (None, 7, 7, 64)          0         \n",
            "_________________________________________________________________\n",
            "conv2d_4 (Conv2D)            (None, 7, 7, 128)         73856     \n",
            "_________________________________________________________________\n",
            "conv2d_5 (Conv2D)            (None, 7, 7, 128)         147584    \n",
            "_________________________________________________________________\n",
            "max_pooling2d_2 (MaxPooling2 (None, 3, 3, 128)         0         \n",
            "_________________________________________________________________\n",
            "flatten (Flatten)            (None, 1152)              0         \n",
            "_________________________________________________________________\n",
            "dense (Dense)                (None, 32)                36896     \n",
            "_________________________________________________________________\n",
            "dense_1 (Dense)              (None, 10)                330       \n",
            "=================================================================\n",
            "Total params: 323,658\n",
            "Trainable params: 323,658\n",
            "Non-trainable params: 0\n",
            "_________________________________________________________________\n"
          ],
          "name": "stdout"
        }
      ]
    },
    {
      "cell_type": "code",
      "metadata": {
        "id": "hidden-location",
        "outputId": "978d28bb-75b9-4532-ae62-ea9ef3e0f28e"
      },
      "source": [
        "tuner_vgg.search(img_train, label_train, epochs=20, validation_split=0.2, callbacks=[stop_early])\n",
        "\n",
        "## get the optimal hyperparameters\n",
        "best_hp_vgg=tuner_vgg.get_best_hyperparameters(num_trials=1)[0]\n",
        "\n",
        "print(f\"\"\"\n",
        "The Optimal number of units in the first dense layeer is {best_hp_vgg.get('units')} and \n",
        "the optimal learning rate for the optimal learning_rate is {best_hp_vgg.get('learning_rate')}\"\"\")"
      ],
      "id": "hidden-location",
      "execution_count": null,
      "outputs": [
        {
          "output_type": "stream",
          "text": [
            "Trial 30 Complete [00h 14m 07s]\n",
            "val_accuracy: 0.9265000224113464\n",
            "\n",
            "Best val_accuracy So Far: 0.9265000224113464\n",
            "Total elapsed time: 03h 02m 10s\n",
            "INFO:tensorflow:Oracle triggered exit\n",
            "\n",
            "The Optimal number of units in the first dense layeer is 224 and \n",
            "the optimal learning rate for the optimal learning_rate is 0.001\n"
          ],
          "name": "stdout"
        }
      ]
    },
    {
      "cell_type": "code",
      "metadata": {
        "id": "sonic-format",
        "outputId": "6e11875c-4eb9-4192-a345-e4e22adbc31f"
      },
      "source": [
        "# Build the model with the optimal hyperparamers and train it on the data for 50 epochs\n",
        "model_vgg=tuner_vgg.hypermodel.build(best_hp_vgg)\n",
        "history_vgg=model_vgg.fit(img_train, label_train, epochs=20, validation_split=0.2)"
      ],
      "id": "sonic-format",
      "execution_count": null,
      "outputs": [
        {
          "output_type": "stream",
          "text": [
            "Model: \"sequential\"\n",
            "_________________________________________________________________\n",
            "Layer (type)                 Output Shape              Param #   \n",
            "=================================================================\n",
            "conv2d (Conv2D)              (None, 28, 28, 32)        320       \n",
            "_________________________________________________________________\n",
            "conv2d_1 (Conv2D)            (None, 28, 28, 32)        9248      \n",
            "_________________________________________________________________\n",
            "max_pooling2d (MaxPooling2D) (None, 14, 14, 32)        0         \n",
            "_________________________________________________________________\n",
            "conv2d_2 (Conv2D)            (None, 14, 14, 64)        18496     \n",
            "_________________________________________________________________\n",
            "conv2d_3 (Conv2D)            (None, 14, 14, 64)        36928     \n",
            "_________________________________________________________________\n",
            "max_pooling2d_1 (MaxPooling2 (None, 7, 7, 64)          0         \n",
            "_________________________________________________________________\n",
            "conv2d_4 (Conv2D)            (None, 7, 7, 128)         73856     \n",
            "_________________________________________________________________\n",
            "conv2d_5 (Conv2D)            (None, 7, 7, 128)         147584    \n",
            "_________________________________________________________________\n",
            "max_pooling2d_2 (MaxPooling2 (None, 3, 3, 128)         0         \n",
            "_________________________________________________________________\n",
            "flatten (Flatten)            (None, 1152)              0         \n",
            "_________________________________________________________________\n",
            "dense (Dense)                (None, 224)               258272    \n",
            "_________________________________________________________________\n",
            "dense_1 (Dense)              (None, 10)                2250      \n",
            "=================================================================\n",
            "Total params: 546,954\n",
            "Trainable params: 546,954\n",
            "Non-trainable params: 0\n",
            "_________________________________________________________________\n",
            "Epoch 1/20\n",
            "1500/1500 [==============================] - 86s 57ms/step - loss: 0.6447 - accuracy: 0.7651 - val_loss: 0.3185 - val_accuracy: 0.8860\n",
            "Epoch 2/20\n",
            "1500/1500 [==============================] - 85s 56ms/step - loss: 0.2793 - accuracy: 0.8968 - val_loss: 0.2791 - val_accuracy: 0.8991\n",
            "Epoch 3/20\n",
            "1500/1500 [==============================] - 84s 56ms/step - loss: 0.2234 - accuracy: 0.9179 - val_loss: 0.2337 - val_accuracy: 0.9140\n",
            "Epoch 4/20\n",
            "1500/1500 [==============================] - 84s 56ms/step - loss: 0.1956 - accuracy: 0.9277 - val_loss: 0.2347 - val_accuracy: 0.9153\n",
            "Epoch 5/20\n",
            "1500/1500 [==============================] - 84s 56ms/step - loss: 0.1695 - accuracy: 0.9365 - val_loss: 0.2294 - val_accuracy: 0.9202\n",
            "Epoch 6/20\n",
            "1500/1500 [==============================] - 85s 56ms/step - loss: 0.1448 - accuracy: 0.9458 - val_loss: 0.2398 - val_accuracy: 0.9183\n",
            "Epoch 7/20\n",
            "1500/1500 [==============================] - 84s 56ms/step - loss: 0.1260 - accuracy: 0.9530 - val_loss: 0.2403 - val_accuracy: 0.9189\n",
            "Epoch 8/20\n",
            "1500/1500 [==============================] - 84s 56ms/step - loss: 0.1078 - accuracy: 0.9598 - val_loss: 0.2711 - val_accuracy: 0.9187\n",
            "Epoch 9/20\n",
            "1500/1500 [==============================] - 84s 56ms/step - loss: 0.0928 - accuracy: 0.9646 - val_loss: 0.2496 - val_accuracy: 0.9221\n",
            "Epoch 10/20\n",
            "1500/1500 [==============================] - 84s 56ms/step - loss: 0.0814 - accuracy: 0.9693 - val_loss: 0.3004 - val_accuracy: 0.9178\n",
            "Epoch 11/20\n",
            "1500/1500 [==============================] - 84s 56ms/step - loss: 0.0731 - accuracy: 0.9725 - val_loss: 0.3183 - val_accuracy: 0.9181\n",
            "Epoch 12/20\n",
            "1500/1500 [==============================] - 84s 56ms/step - loss: 0.0732 - accuracy: 0.9729 - val_loss: 0.3123 - val_accuracy: 0.9207\n",
            "Epoch 13/20\n",
            "1500/1500 [==============================] - 85s 56ms/step - loss: 0.0599 - accuracy: 0.9774 - val_loss: 0.3080 - val_accuracy: 0.9202\n",
            "Epoch 14/20\n",
            "1500/1500 [==============================] - 84s 56ms/step - loss: 0.0517 - accuracy: 0.9810 - val_loss: 0.3467 - val_accuracy: 0.9208\n",
            "Epoch 15/20\n",
            "1500/1500 [==============================] - 84s 56ms/step - loss: 0.0574 - accuracy: 0.9794 - val_loss: 0.4160 - val_accuracy: 0.9207\n",
            "Epoch 16/20\n",
            "1500/1500 [==============================] - 84s 56ms/step - loss: 0.0517 - accuracy: 0.9811 - val_loss: 0.3876 - val_accuracy: 0.9158\n",
            "Epoch 17/20\n",
            "1500/1500 [==============================] - 84s 56ms/step - loss: 0.0513 - accuracy: 0.9826 - val_loss: 0.3950 - val_accuracy: 0.9208\n",
            "Epoch 18/20\n",
            "1500/1500 [==============================] - 84s 56ms/step - loss: 0.0412 - accuracy: 0.9851 - val_loss: 0.3745 - val_accuracy: 0.9240\n",
            "Epoch 19/20\n",
            "1500/1500 [==============================] - 84s 56ms/step - loss: 0.0460 - accuracy: 0.9845 - val_loss: 0.4327 - val_accuracy: 0.9137\n",
            "Epoch 20/20\n",
            "1500/1500 [==============================] - 84s 56ms/step - loss: 0.0500 - accuracy: 0.9820 - val_loss: 0.4570 - val_accuracy: 0.9154\n"
          ],
          "name": "stdout"
        }
      ]
    },
    {
      "cell_type": "code",
      "metadata": {
        "id": "elementary-festival",
        "outputId": "4502c27c-a337-45ef-ae8e-8109d9751ecd"
      },
      "source": [
        "val_acc_per_epoch_vgg = history_vgg.history['val_accuracy']\n",
        "best_epoch_vgg = val_acc_per_epoch_vgg.index(max(val_acc_per_epoch_vgg)) +1\n",
        "print('Best epoch: %d' % (best_epoch_vgg,))"
      ],
      "id": "elementary-festival",
      "execution_count": null,
      "outputs": [
        {
          "output_type": "stream",
          "text": [
            "Best epoch: 18\n"
          ],
          "name": "stdout"
        }
      ]
    },
    {
      "cell_type": "code",
      "metadata": {
        "id": "adequate-hands",
        "outputId": "5d4fbff0-1905-4507-c070-feeac8053014"
      },
      "source": [
        "## Reinstiate the hypermodel and train it with optimal number of epoches\n",
        "hypermodel_vgg = tuner_vgg.hypermodel.build(best_hp_vgg)\n",
        "hypermodel_vgg.fit(img_train, label_train, epochs=best_epoch_vgg, validation_split=0.2)"
      ],
      "id": "adequate-hands",
      "execution_count": null,
      "outputs": [
        {
          "output_type": "stream",
          "text": [
            "Model: \"sequential\"\n",
            "_________________________________________________________________\n",
            "Layer (type)                 Output Shape              Param #   \n",
            "=================================================================\n",
            "conv2d (Conv2D)              (None, 28, 28, 32)        320       \n",
            "_________________________________________________________________\n",
            "conv2d_1 (Conv2D)            (None, 28, 28, 32)        9248      \n",
            "_________________________________________________________________\n",
            "max_pooling2d (MaxPooling2D) (None, 14, 14, 32)        0         \n",
            "_________________________________________________________________\n",
            "conv2d_2 (Conv2D)            (None, 14, 14, 64)        18496     \n",
            "_________________________________________________________________\n",
            "conv2d_3 (Conv2D)            (None, 14, 14, 64)        36928     \n",
            "_________________________________________________________________\n",
            "max_pooling2d_1 (MaxPooling2 (None, 7, 7, 64)          0         \n",
            "_________________________________________________________________\n",
            "conv2d_4 (Conv2D)            (None, 7, 7, 128)         73856     \n",
            "_________________________________________________________________\n",
            "conv2d_5 (Conv2D)            (None, 7, 7, 128)         147584    \n",
            "_________________________________________________________________\n",
            "max_pooling2d_2 (MaxPooling2 (None, 3, 3, 128)         0         \n",
            "_________________________________________________________________\n",
            "flatten (Flatten)            (None, 1152)              0         \n",
            "_________________________________________________________________\n",
            "dense (Dense)                (None, 224)               258272    \n",
            "_________________________________________________________________\n",
            "dense_1 (Dense)              (None, 10)                2250      \n",
            "=================================================================\n",
            "Total params: 546,954\n",
            "Trainable params: 546,954\n",
            "Non-trainable params: 0\n",
            "_________________________________________________________________\n",
            "Epoch 1/18\n",
            "1500/1500 [==============================] - 85s 57ms/step - loss: 0.6466 - accuracy: 0.7569 - val_loss: 0.3288 - val_accuracy: 0.8777\n",
            "Epoch 2/18\n",
            "1500/1500 [==============================] - 85s 56ms/step - loss: 0.2755 - accuracy: 0.8981 - val_loss: 0.2521 - val_accuracy: 0.9065\n",
            "Epoch 3/18\n",
            "1500/1500 [==============================] - 84s 56ms/step - loss: 0.2199 - accuracy: 0.9162 - val_loss: 0.2247 - val_accuracy: 0.9193\n",
            "Epoch 4/18\n",
            "1500/1500 [==============================] - 84s 56ms/step - loss: 0.1877 - accuracy: 0.9312 - val_loss: 0.2436 - val_accuracy: 0.9109\n",
            "Epoch 5/18\n",
            "1500/1500 [==============================] - 84s 56ms/step - loss: 0.1615 - accuracy: 0.9406 - val_loss: 0.2270 - val_accuracy: 0.9181\n",
            "Epoch 6/18\n",
            "1500/1500 [==============================] - 84s 56ms/step - loss: 0.1378 - accuracy: 0.9487 - val_loss: 0.2299 - val_accuracy: 0.9198\n",
            "Epoch 7/18\n",
            "1500/1500 [==============================] - 84s 56ms/step - loss: 0.1215 - accuracy: 0.9543 - val_loss: 0.2232 - val_accuracy: 0.9243\n",
            "Epoch 8/18\n",
            "1500/1500 [==============================] - 84s 56ms/step - loss: 0.1061 - accuracy: 0.9594 - val_loss: 0.2474 - val_accuracy: 0.9252\n",
            "Epoch 9/18\n",
            "1500/1500 [==============================] - 84s 56ms/step - loss: 0.0914 - accuracy: 0.9664 - val_loss: 0.2651 - val_accuracy: 0.9222\n",
            "Epoch 10/18\n",
            "1500/1500 [==============================] - 84s 56ms/step - loss: 0.0778 - accuracy: 0.9707 - val_loss: 0.2748 - val_accuracy: 0.9197\n",
            "Epoch 11/18\n",
            "1500/1500 [==============================] - 85s 56ms/step - loss: 0.0711 - accuracy: 0.9733 - val_loss: 0.3001 - val_accuracy: 0.9228\n",
            "Epoch 12/18\n",
            "1500/1500 [==============================] - 84s 56ms/step - loss: 0.0599 - accuracy: 0.9777 - val_loss: 0.3351 - val_accuracy: 0.9095\n",
            "Epoch 13/18\n",
            "1500/1500 [==============================] - 84s 56ms/step - loss: 0.0660 - accuracy: 0.9762 - val_loss: 0.3181 - val_accuracy: 0.9218\n",
            "Epoch 14/18\n",
            "1500/1500 [==============================] - 84s 56ms/step - loss: 0.0531 - accuracy: 0.9805 - val_loss: 0.3452 - val_accuracy: 0.9224\n",
            "Epoch 15/18\n",
            "1500/1500 [==============================] - 85s 56ms/step - loss: 0.0489 - accuracy: 0.9827 - val_loss: 0.3586 - val_accuracy: 0.9180\n",
            "Epoch 16/18\n",
            "1500/1500 [==============================] - 84s 56ms/step - loss: 0.0495 - accuracy: 0.9828 - val_loss: 0.3627 - val_accuracy: 0.9217\n",
            "Epoch 17/18\n",
            "1500/1500 [==============================] - 84s 56ms/step - loss: 0.0463 - accuracy: 0.9837 - val_loss: 0.3866 - val_accuracy: 0.9213\n",
            "Epoch 18/18\n",
            "1500/1500 [==============================] - 84s 56ms/step - loss: 0.0461 - accuracy: 0.9840 - val_loss: 0.4080 - val_accuracy: 0.9203\n"
          ],
          "name": "stdout"
        },
        {
          "output_type": "execute_result",
          "data": {
            "text/plain": [
              "<tensorflow.python.keras.callbacks.History at 0x7f4e848ebd60>"
            ]
          },
          "metadata": {
            "tags": []
          },
          "execution_count": 47
        }
      ]
    },
    {
      "cell_type": "code",
      "metadata": {
        "id": "engaged-development",
        "outputId": "a47a0d36-0ef3-4ea1-e3b4-b57d390159d6"
      },
      "source": [
        "## Evaluate the hyoermodel on the test data\n",
        "eval_result_vgg =hypermodel_vgg.evaluate(img_test, label_test)\n",
        "print(\"[test loss, test accuracy]:\", eval_result_vgg)"
      ],
      "id": "engaged-development",
      "execution_count": null,
      "outputs": [
        {
          "output_type": "stream",
          "text": [
            "313/313 [==============================] - 5s 15ms/step - loss: 0.4562 - accuracy: 0.9161\n",
            "[test loss, test accuracy]: [0.45617392659187317, 0.916100025177002]\n"
          ],
          "name": "stdout"
        }
      ]
    },
    {
      "cell_type": "code",
      "metadata": {
        "id": "expected-cotton",
        "outputId": "1ea9960d-f7f8-4621-9776-ec87a4d27fc7"
      },
      "source": [
        "plot_n_model(n=1, model_history=[history_vgg], label_list=['vgg'],ylim_low=0, leg_loc='upper left')"
      ],
      "id": "expected-cotton",
      "execution_count": null,
      "outputs": [
        {
          "output_type": "stream",
          "text": [
            "0 <tensorflow.python.keras.callbacks.History object at 0x7f4e84d89700>\n"
          ],
          "name": "stdout"
        },
        {
          "output_type": "display_data",
          "data": {
            "image/png": "[encoded data removed]",
            "text/plain": [
              "<Figure size 1080x360 with 2 Axes>"
            ]
          },
          "metadata": {
            "tags": [],
            "needs_background": "light"
          }
        }
      ]
    },
    {
      "cell_type": "code",
      "metadata": {
        "id": "contemporary-ending",
        "outputId": "ff268802-f5fe-4c8b-8995-1382c2c51555"
      },
      "source": [
        "plot_n_model(n=2, model_history=[history, history_vgg], label_list=['simple','cnn'],ylim_low=0, leg_loc='upper left')"
      ],
      "id": "contemporary-ending",
      "execution_count": null,
      "outputs": [
        {
          "output_type": "stream",
          "text": [
            "0 <tensorflow.python.keras.callbacks.History object at 0x7f4eb0791910>\n",
            "1 <tensorflow.python.keras.callbacks.History object at 0x7f4e84d89700>\n"
          ],
          "name": "stdout"
        },
        {
          "output_type": "display_data",
          "data": {
            "image/png": "[encoded data removed]",
            "text/plain": [
              "<Figure size 1080x360 with 2 Axes>"
            ]
          },
          "metadata": {
            "tags": [],
            "needs_background": "light"
          }
        }
      ]
    },
    {
      "cell_type": "markdown",
      "metadata": {
        "id": "exotic-louis"
      },
      "source": [
        "### Plotting\n",
        "1. As we observe, the validation accuracy (92%) is bit better than the no-cnn model (88%).\n",
        "2. However, the loss plot also make it clear that we are doing overtraining.\n",
        "3. Lets loosen the model and use Regularization"
      ],
      "id": "exotic-louis"
    },
    {
      "cell_type": "markdown",
      "metadata": {
        "id": "opposite-description"
      },
      "source": [
        "## Step 4.3 VGG with L1 Regularization"
      ],
      "id": "opposite-description"
    },
    {
      "cell_type": "code",
      "metadata": {
        "colab": {
          "base_uri": "https://localhost:8080/"
        },
        "id": "accessory-greece",
        "outputId": "5247b64c-749c-4657-bbd8-4d36d7d9b98b"
      },
      "source": [
        "hypermodel_vgg_L1 = CustomHyperModel(isvgg=True, L1=0.001)\n",
        "tuner_vgg_L1reg = kt.Hyperband(hypermodel_vgg_L1, \n",
        "                    objective='val_accuracy',\n",
        "                    max_epochs=10,\n",
        "                    factor=3, # Int. Reduction factor for the number of epochs/number of models for each bracket.\n",
        "                        )"
      ],
      "id": "accessory-greece",
      "execution_count": null,
      "outputs": [
        {
          "output_type": "stream",
          "text": [
            "INFO:tensorflow:Reloading Oracle from existing project ./untitled_project/oracle.json\n",
            "Model: \"sequential\"\n",
            "_________________________________________________________________\n",
            "Layer (type)                 Output Shape              Param #   \n",
            "=================================================================\n",
            "conv2d (Conv2D)              (None, 28, 28, 32)        320       \n",
            "_________________________________________________________________\n",
            "conv2d_1 (Conv2D)            (None, 28, 28, 32)        9248      \n",
            "_________________________________________________________________\n",
            "max_pooling2d (MaxPooling2D) (None, 14, 14, 32)        0         \n",
            "_________________________________________________________________\n",
            "conv2d_2 (Conv2D)            (None, 14, 14, 64)        18496     \n",
            "_________________________________________________________________\n",
            "conv2d_3 (Conv2D)            (None, 14, 14, 64)        36928     \n",
            "_________________________________________________________________\n",
            "max_pooling2d_1 (MaxPooling2 (None, 7, 7, 64)          0         \n",
            "_________________________________________________________________\n",
            "conv2d_4 (Conv2D)            (None, 7, 7, 128)         73856     \n",
            "_________________________________________________________________\n",
            "conv2d_5 (Conv2D)            (None, 7, 7, 128)         147584    \n",
            "_________________________________________________________________\n",
            "max_pooling2d_2 (MaxPooling2 (None, 3, 3, 128)         0         \n",
            "_________________________________________________________________\n",
            "flatten (Flatten)            (None, 1152)              0         \n",
            "_________________________________________________________________\n",
            "dense (Dense)                (None, 32)                36896     \n",
            "_________________________________________________________________\n",
            "dense_1 (Dense)              (None, 10)                330       \n",
            "=================================================================\n",
            "Total params: 323,658\n",
            "Trainable params: 323,658\n",
            "Non-trainable params: 0\n",
            "_________________________________________________________________\n",
            "INFO:tensorflow:Reloading Tuner from ./untitled_project/tuner0.json\n"
          ],
          "name": "stdout"
        }
      ]
    },
    {
      "cell_type": "code",
      "metadata": {
        "colab": {
          "base_uri": "https://localhost:8080/"
        },
        "id": "broke-heading",
        "outputId": "e219cb00-5516-4561-a2d2-24394c52f14d"
      },
      "source": [
        "tuner_vgg_L1reg.search(img_train, label_train, epochs=20, validation_split=0.2, callbacks=[stop_early])\n",
        "\n",
        "## get the optimal hyperparameters\n",
        "best_hp_vgg_L1reg=tuner_vgg_L1reg.get_best_hyperparameters(num_trials=1)[0]\n",
        "\n",
        "print(f\"\"\"\n",
        "The Optimal number of units in the first dense layeer is {best_hp_vgg_L1reg.get('units')} and \n",
        "the optimal learning rate for the optimal learning_rate is {best_hp_vgg_L1reg.get('learning_rate')}\"\"\")"
      ],
      "id": "broke-heading",
      "execution_count": null,
      "outputs": [
        {
          "output_type": "stream",
          "text": [
            "Trial 12 Complete [00h 08m 09s]\n",
            "val_accuracy: 0.10266666859388351\n",
            "\n",
            "Best val_accuracy So Far: 0.9265000224113464\n",
            "Total elapsed time: 01h 39m 15s\n",
            "INFO:tensorflow:Oracle triggered exit\n",
            "\n",
            "The Optimal number of units in the first dense layeer is 224 and \n",
            "the optimal learning rate for the optimal learning_rate is 0.001\n"
          ],
          "name": "stdout"
        }
      ]
    },
    {
      "cell_type": "code",
      "metadata": {
        "id": "9yrQxZbbWAO6",
        "outputId": "75041246-d445-4588-b235-095d03febffc"
      },
      "source": [
        "# Build the model with the optimal hyperparamers and train it on the data for 20 epochs\n",
        "model_vgg_L1reg=tuner_vgg_L1reg.hypermodel.build(best_hp_vgg_L1reg)\n",
        "history_vgg_L1reg=model_vgg_L1reg.fit(img_train, label_train, epochs=20, validation_split=0.2)"
      ],
      "id": "9yrQxZbbWAO6",
      "execution_count": null,
      "outputs": [
        {
          "output_type": "stream",
          "text": [
            "Model: \"sequential\"\n",
            "_________________________________________________________________\n",
            "Layer (type)                 Output Shape              Param #   \n",
            "=================================================================\n",
            "conv2d (Conv2D)              (None, 28, 28, 32)        320       \n",
            "_________________________________________________________________\n",
            "conv2d_1 (Conv2D)            (None, 28, 28, 32)        9248      \n",
            "_________________________________________________________________\n",
            "max_pooling2d (MaxPooling2D) (None, 14, 14, 32)        0         \n",
            "_________________________________________________________________\n",
            "conv2d_2 (Conv2D)            (None, 14, 14, 64)        18496     \n",
            "_________________________________________________________________\n",
            "conv2d_3 (Conv2D)            (None, 14, 14, 64)        36928     \n",
            "_________________________________________________________________\n",
            "max_pooling2d_1 (MaxPooling2 (None, 7, 7, 64)          0         \n",
            "_________________________________________________________________\n",
            "conv2d_4 (Conv2D)            (None, 7, 7, 128)         73856     \n",
            "_________________________________________________________________\n",
            "conv2d_5 (Conv2D)            (None, 7, 7, 128)         147584    \n",
            "_________________________________________________________________\n",
            "max_pooling2d_2 (MaxPooling2 (None, 3, 3, 128)         0         \n",
            "_________________________________________________________________\n",
            "flatten (Flatten)            (None, 1152)              0         \n",
            "_________________________________________________________________\n",
            "dense (Dense)                (None, 224)               258272    \n",
            "_________________________________________________________________\n",
            "dense_1 (Dense)              (None, 10)                2250      \n",
            "=================================================================\n",
            "Total params: 546,954\n",
            "Trainable params: 546,954\n",
            "Non-trainable params: 0\n",
            "_________________________________________________________________\n",
            "Epoch 1/20\n",
            "1500/1500 [==============================] - 86s 57ms/step - loss: 2.0446 - accuracy: 0.7491 - val_loss: 0.4658 - val_accuracy: 0.8813\n",
            "Epoch 2/20\n",
            "1500/1500 [==============================] - 85s 56ms/step - loss: 0.4498 - accuracy: 0.8803 - val_loss: 0.3981 - val_accuracy: 0.8943\n",
            "Epoch 3/20\n",
            "1500/1500 [==============================] - 85s 57ms/step - loss: 0.3692 - accuracy: 0.9035 - val_loss: 0.3840 - val_accuracy: 0.8977\n",
            "Epoch 4/20\n",
            "1500/1500 [==============================] - 85s 56ms/step - loss: 0.3305 - accuracy: 0.9147 - val_loss: 0.3742 - val_accuracy: 0.8987\n",
            "Epoch 5/20\n",
            "1500/1500 [==============================] - 84s 56ms/step - loss: 0.2990 - accuracy: 0.9226 - val_loss: 0.3237 - val_accuracy: 0.9133\n",
            "Epoch 6/20\n",
            "1500/1500 [==============================] - 84s 56ms/step - loss: 0.2691 - accuracy: 0.9286 - val_loss: 0.3192 - val_accuracy: 0.9112\n",
            "Epoch 7/20\n",
            "1500/1500 [==============================] - 84s 56ms/step - loss: 0.2462 - accuracy: 0.9376 - val_loss: 0.3086 - val_accuracy: 0.9159\n",
            "Epoch 8/20\n",
            "1500/1500 [==============================] - 84s 56ms/step - loss: 0.2343 - accuracy: 0.9409 - val_loss: 0.2969 - val_accuracy: 0.9212\n",
            "Epoch 9/20\n",
            "1500/1500 [==============================] - 84s 56ms/step - loss: 0.2122 - accuracy: 0.9478 - val_loss: 0.3107 - val_accuracy: 0.9194\n",
            "Epoch 10/20\n",
            "1500/1500 [==============================] - 84s 56ms/step - loss: 0.1956 - accuracy: 0.9537 - val_loss: 0.3044 - val_accuracy: 0.9199\n",
            "Epoch 11/20\n",
            "1500/1500 [==============================] - 84s 56ms/step - loss: 0.1805 - accuracy: 0.9600 - val_loss: 0.3001 - val_accuracy: 0.9215\n",
            "Epoch 12/20\n",
            "1500/1500 [==============================] - 84s 56ms/step - loss: 0.1612 - accuracy: 0.9658 - val_loss: 0.3140 - val_accuracy: 0.9221\n",
            "Epoch 13/20\n",
            "1500/1500 [==============================] - 84s 56ms/step - loss: 0.1511 - accuracy: 0.9686 - val_loss: 0.3320 - val_accuracy: 0.9219\n",
            "Epoch 14/20\n",
            "1500/1500 [==============================] - 84s 56ms/step - loss: 0.1409 - accuracy: 0.9724 - val_loss: 0.3509 - val_accuracy: 0.9163\n",
            "Epoch 15/20\n",
            "1500/1500 [==============================] - 84s 56ms/step - loss: 0.1345 - accuracy: 0.9753 - val_loss: 0.3572 - val_accuracy: 0.9178\n",
            "Epoch 16/20\n",
            "1500/1500 [==============================] - 85s 56ms/step - loss: 0.1233 - accuracy: 0.9788 - val_loss: 0.3634 - val_accuracy: 0.9165\n",
            "Epoch 17/20\n",
            "1500/1500 [==============================] - 84s 56ms/step - loss: 0.1200 - accuracy: 0.9801 - val_loss: 0.3968 - val_accuracy: 0.9186\n",
            "Epoch 18/20\n",
            "1500/1500 [==============================] - 84s 56ms/step - loss: 0.1143 - accuracy: 0.9813 - val_loss: 0.3804 - val_accuracy: 0.9196\n",
            "Epoch 19/20\n",
            "1500/1500 [==============================] - 84s 56ms/step - loss: 0.1108 - accuracy: 0.9838 - val_loss: 0.3798 - val_accuracy: 0.9178\n",
            "Epoch 20/20\n",
            "1500/1500 [==============================] - 84s 56ms/step - loss: 0.1018 - accuracy: 0.9860 - val_loss: 0.4293 - val_accuracy: 0.9177\n"
          ],
          "name": "stdout"
        }
      ]
    },
    {
      "cell_type": "code",
      "metadata": {
        "id": "FitLwNckWomO",
        "outputId": "52a2c5b3-5210-4fe9-9f23-74ebaf526c48"
      },
      "source": [
        "val_acc_per_epoch_vgg_L1reg = history_vgg_L1reg.history['val_accuracy']\n",
        "best_epoch_vgg_L1reg = val_acc_per_epoch_vgg_L1reg.index(max(val_acc_per_epoch_vgg_L1reg)) +1\n",
        "print('Best epoch: %d' % (best_epoch_vgg_L1reg,))"
      ],
      "id": "FitLwNckWomO",
      "execution_count": null,
      "outputs": [
        {
          "output_type": "stream",
          "text": [
            "Best epoch: 12\n"
          ],
          "name": "stdout"
        }
      ]
    },
    {
      "cell_type": "code",
      "metadata": {
        "id": "ZW0AdyGLW2kb",
        "outputId": "67a9c59d-5f3c-4a26-b803-21af59d89adb"
      },
      "source": [
        "## Reinstiate the hypermodel and train it with optimal number of epoches\n",
        "hypermodel_vgg_L1reg = tuner_vgg_L1reg.hypermodel.build(best_hp_vgg_L1reg)\n",
        "hypermodel_vgg_L1reg.fit(img_train, label_train, epochs=best_epoch_vgg_L1reg, validation_split=0.2)"
      ],
      "id": "ZW0AdyGLW2kb",
      "execution_count": null,
      "outputs": [
        {
          "output_type": "stream",
          "text": [
            "Model: \"sequential\"\n",
            "_________________________________________________________________\n",
            "Layer (type)                 Output Shape              Param #   \n",
            "=================================================================\n",
            "conv2d (Conv2D)              (None, 28, 28, 32)        320       \n",
            "_________________________________________________________________\n",
            "conv2d_1 (Conv2D)            (None, 28, 28, 32)        9248      \n",
            "_________________________________________________________________\n",
            "max_pooling2d (MaxPooling2D) (None, 14, 14, 32)        0         \n",
            "_________________________________________________________________\n",
            "conv2d_2 (Conv2D)            (None, 14, 14, 64)        18496     \n",
            "_________________________________________________________________\n",
            "conv2d_3 (Conv2D)            (None, 14, 14, 64)        36928     \n",
            "_________________________________________________________________\n",
            "max_pooling2d_1 (MaxPooling2 (None, 7, 7, 64)          0         \n",
            "_________________________________________________________________\n",
            "conv2d_4 (Conv2D)            (None, 7, 7, 128)         73856     \n",
            "_________________________________________________________________\n",
            "conv2d_5 (Conv2D)            (None, 7, 7, 128)         147584    \n",
            "_________________________________________________________________\n",
            "max_pooling2d_2 (MaxPooling2 (None, 3, 3, 128)         0         \n",
            "_________________________________________________________________\n",
            "flatten (Flatten)            (None, 1152)              0         \n",
            "_________________________________________________________________\n",
            "dense (Dense)                (None, 224)               258272    \n",
            "_________________________________________________________________\n",
            "dense_1 (Dense)              (None, 10)                2250      \n",
            "=================================================================\n",
            "Total params: 546,954\n",
            "Trainable params: 546,954\n",
            "Non-trainable params: 0\n",
            "_________________________________________________________________\n",
            "Epoch 1/12\n",
            "1500/1500 [==============================] - 88s 58ms/step - loss: 2.0747 - accuracy: 0.7517 - val_loss: 0.5144 - val_accuracy: 0.8716\n",
            "Epoch 2/12\n",
            "1500/1500 [==============================] - 95s 63ms/step - loss: 0.4561 - accuracy: 0.8819 - val_loss: 0.4043 - val_accuracy: 0.8930\n",
            "Epoch 3/12\n",
            "1500/1500 [==============================] - 88s 59ms/step - loss: 0.3681 - accuracy: 0.9048 - val_loss: 0.3467 - val_accuracy: 0.9049\n",
            "Epoch 4/12\n",
            "1500/1500 [==============================] - 95s 63ms/step - loss: 0.3182 - accuracy: 0.9149 - val_loss: 0.3406 - val_accuracy: 0.9097\n",
            "Epoch 5/12\n",
            "1500/1500 [==============================] - 93s 62ms/step - loss: 0.2869 - accuracy: 0.9238 - val_loss: 0.3011 - val_accuracy: 0.9191\n",
            "Epoch 6/12\n",
            "1500/1500 [==============================] - 90s 60ms/step - loss: 0.2626 - accuracy: 0.9328 - val_loss: 0.3058 - val_accuracy: 0.9169\n",
            "Epoch 7/12\n",
            "1500/1500 [==============================] - 90s 60ms/step - loss: 0.2394 - accuracy: 0.9397 - val_loss: 0.3249 - val_accuracy: 0.9127\n",
            "Epoch 8/12\n",
            "1500/1500 [==============================] - 90s 60ms/step - loss: 0.2220 - accuracy: 0.9452 - val_loss: 0.3059 - val_accuracy: 0.9191\n",
            "Epoch 9/12\n",
            "1500/1500 [==============================] - 92s 61ms/step - loss: 0.2039 - accuracy: 0.9511 - val_loss: 0.3065 - val_accuracy: 0.9181\n",
            "Epoch 10/12\n",
            "1500/1500 [==============================] - 91s 61ms/step - loss: 0.1896 - accuracy: 0.9567 - val_loss: 0.3333 - val_accuracy: 0.9125\n",
            "Epoch 11/12\n",
            "1500/1500 [==============================] - 91s 61ms/step - loss: 0.1718 - accuracy: 0.9636 - val_loss: 0.3037 - val_accuracy: 0.9224\n",
            "Epoch 12/12\n",
            "1500/1500 [==============================] - 91s 61ms/step - loss: 0.1585 - accuracy: 0.9650 - val_loss: 0.3294 - val_accuracy: 0.9156\n"
          ],
          "name": "stdout"
        },
        {
          "output_type": "execute_result",
          "data": {
            "text/plain": [
              "<tensorflow.python.keras.callbacks.History at 0x7f4e6ec649a0>"
            ]
          },
          "metadata": {
            "tags": []
          },
          "execution_count": 55
        }
      ]
    },
    {
      "cell_type": "code",
      "metadata": {
        "id": "consistent-blair",
        "outputId": "8015fc70-1d00-4a5b-897e-fffe0e5b6f4f"
      },
      "source": [
        "## Evaluate the hyoermodel on the test data\n",
        "eval_result_vgg_L1reg =hypermodel_vgg_L1reg.evaluate(img_test, label_test)\n",
        "print(\"[test loss, test accuracy]:\", eval_result_vgg_L1reg)"
      ],
      "id": "consistent-blair",
      "execution_count": null,
      "outputs": [
        {
          "output_type": "stream",
          "text": [
            "313/313 [==============================] - 4s 11ms/step - loss: 0.3536 - accuracy: 0.9097\n",
            "[test loss, test accuracy]: [0.3535778522491455, 0.9096999764442444]\n"
          ],
          "name": "stdout"
        }
      ]
    },
    {
      "cell_type": "markdown",
      "metadata": {
        "id": "downtown-recovery"
      },
      "source": [
        "### Plotting"
      ],
      "id": "downtown-recovery"
    },
    {
      "cell_type": "code",
      "metadata": {
        "id": "material-routine",
        "outputId": "cb768f7d-0fd5-4422-ea0d-e10dea52b772"
      },
      "source": [
        "plot_n_model(n=1, model_history=[history_vgg_L1reg], label_list=['cnn/L1'],ylim_low=0, leg_loc='upper left')"
      ],
      "id": "material-routine",
      "execution_count": null,
      "outputs": [
        {
          "output_type": "stream",
          "text": [
            "0 <tensorflow.python.keras.callbacks.History object at 0x7f4e6ecb13a0>\n"
          ],
          "name": "stdout"
        },
        {
          "output_type": "display_data",
          "data": {
            "image/png": "[encoded data removed]",
            "text/plain": [
              "<Figure size 1080x360 with 2 Axes>"
            ]
          },
          "metadata": {
            "tags": [],
            "needs_background": "light"
          }
        }
      ]
    },
    {
      "cell_type": "code",
      "metadata": {
        "id": "hungarian-tournament",
        "outputId": "c7df2b5f-4e38-492b-cceb-680fc5568921"
      },
      "source": [
        "plot_n_model(n=3, model_history=[history, history_vgg, history_vgg_L1reg], label_list=['simple','cnn','cnn/L1'],ylim_low=0, leg_loc='upper left')"
      ],
      "id": "hungarian-tournament",
      "execution_count": null,
      "outputs": [
        {
          "output_type": "stream",
          "text": [
            "0 <tensorflow.python.keras.callbacks.History object at 0x7f4eb0791910>\n",
            "1 <tensorflow.python.keras.callbacks.History object at 0x7f4e84d89700>\n",
            "2 <tensorflow.python.keras.callbacks.History object at 0x7f4e6ecb13a0>\n"
          ],
          "name": "stdout"
        },
        {
          "output_type": "display_data",
          "data": {
            "image/png": "[encoded data removed]",
            "text/plain": [
              "<Figure size 1080x360 with 2 Axes>"
            ]
          },
          "metadata": {
            "tags": [],
            "needs_background": "light"
          }
        }
      ]
    },
    {
      "cell_type": "markdown",
      "metadata": {
        "id": "together-ladder"
      },
      "source": [
        "## Referenz.\n",
        "\n",
        "[kerastuner_on_RandomForest](https://github.com/keras-team/keras-tuner)"
      ],
      "id": "together-ladder"
    },
    {
      "cell_type": "code",
      "metadata": {
        "id": "painful-taiwan"
      },
      "source": [
        ""
      ],
      "id": "painful-taiwan",
      "execution_count": null,
      "outputs": []
    }
  ]
}