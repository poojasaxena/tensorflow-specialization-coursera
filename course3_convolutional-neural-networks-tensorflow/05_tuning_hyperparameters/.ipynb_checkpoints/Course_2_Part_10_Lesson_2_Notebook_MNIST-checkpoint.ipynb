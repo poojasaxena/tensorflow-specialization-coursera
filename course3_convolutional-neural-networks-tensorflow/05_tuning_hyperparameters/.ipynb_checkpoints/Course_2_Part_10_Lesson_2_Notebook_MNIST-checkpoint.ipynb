{
 "cells": [
  {
   "cell_type": "markdown",
   "id": "reserved-roulette",
   "metadata": {},
   "source": [
    "## Step1. Setup"
   ]
  },
  {
   "cell_type": "code",
   "execution_count": 10,
   "id": "desirable-queen",
   "metadata": {},
   "outputs": [
    {
     "name": "stdout",
     "output_type": "stream",
     "text": [
      "3.8.0\n"
     ]
    }
   ],
   "source": [
    "from platform import python_version\n",
    "print(python_version())"
   ]
  },
  {
   "cell_type": "code",
   "execution_count": 52,
   "id": "genuine-walker",
   "metadata": {},
   "outputs": [
    {
     "name": "stdout",
     "output_type": "stream",
     "text": [
      "2.4.1\n"
     ]
    }
   ],
   "source": [
    "import tensorflow as tf\n",
    "from tensorflow import keras\n",
    "import matplotlib.pyplot as plt\n",
    "print(tf.__version__)"
   ]
  },
  {
   "cell_type": "code",
   "execution_count": 12,
   "id": "surgical-duplicate",
   "metadata": {},
   "outputs": [],
   "source": [
    "### install keras-tuner\n",
    "## python3 -m pip install --user keras-tuner \n",
    "import kerastuner as kt"
   ]
  },
  {
   "cell_type": "markdown",
   "id": "furnished-patch",
   "metadata": {},
   "source": [
    "## Step 2. Download and prepare the dataset \n",
    "\n",
    "we will use the Fashion MNIST dataset, ie. images of clothing. "
   ]
  },
  {
   "cell_type": "code",
   "execution_count": 13,
   "id": "trying-champagne",
   "metadata": {},
   "outputs": [],
   "source": [
    "(img_train, label_train), (img_test, label_test) = keras.datasets.fashion_mnist.load_data()"
   ]
  },
  {
   "cell_type": "code",
   "execution_count": 18,
   "id": "refined-blood",
   "metadata": {},
   "outputs": [
    {
     "name": "stdout",
     "output_type": "stream",
     "text": [
      "No of train images:  (60000, 28, 28)\n",
      "No of test images:  (10000, 28, 28)\n",
      "label format for trainig: (60000,)\n",
      "label format for testing: (10000,)\n"
     ]
    }
   ],
   "source": [
    "## lets check the number of train/test images\n",
    "print('No of train images: ', img_train.shape)\n",
    "print('No of test images: ', img_test.shape)\n",
    "print('label format for trainig:', label_train.shape)\n",
    "print('label format for testing:', label_test.shape)"
   ]
  },
  {
   "cell_type": "code",
   "execution_count": 19,
   "id": "eastern-constitutional",
   "metadata": {},
   "outputs": [],
   "source": [
    "## Normalize the dataset\n",
    "img_train = img_train.astype('float32')/255.0\n",
    "img_test = img_test.astype('float32')/255.0"
   ]
  },
  {
   "cell_type": "markdown",
   "id": "altered-spokesman",
   "metadata": {},
   "source": [
    "## Step 3. Define the model\n",
    "\n",
    "while building a model for hypertuning, one should define the hyperparamet search spave in addition to the model architecture.\n",
    "The model setup for hypertuning is called a hypermodel. It could be defined through two approaches:\n",
    "    \n",
    "    * By using a model builder function\n",
    "    * By subclassing the HyperModel class of the Keras Tuner API"
   ]
  },
  {
   "cell_type": "code",
   "execution_count": 28,
   "id": "urban-interview",
   "metadata": {},
   "outputs": [],
   "source": [
    "def model_builder(hp):\n",
    "    model = keras.Sequential()\n",
    "    model.add(keras.layers.Flatten(input_shape=(28, 28)))\n",
    "\n",
    "    # Tune the number of units in the first Dense layer\n",
    "    # Choose an optimal value between 32-512\n",
    "    hp_units = hp.Int('units', min_value=32, max_value=512, step=32)\n",
    "    model.add(keras.layers.Dense(units=hp_units, activation='relu'))\n",
    "    model.add(keras.layers.Dense(10))\n",
    "\n",
    "    # Tune the learning rate for the optimizer\n",
    "    # Choose an optimal value from 0.01, 0.001, or 0.0001\n",
    "    hp_learning_rate = hp.Choice('learning_rate', values=[1e-2, 1e-3, 1e-4])\n",
    "\n",
    "    model.compile(optimizer=keras.optimizers.Adam(learning_rate=hp_learning_rate),\n",
    "                loss=keras.losses.SparseCategoricalCrossentropy(from_logits=True),\n",
    "                metrics=['accuracy'])\n",
    "\n",
    "    return model"
   ]
  },
  {
   "cell_type": "markdown",
   "id": "alpine-exhaust",
   "metadata": {},
   "source": [
    "### Instentiate the tuner and perform hypertuning\n",
    "\n",
    "1. keras tuner has four tuners: RandomSearch, Hyperband, BayesianOptimization and Sklearn\n",
    "2. To instentiate the Hyperband tuner, one must specify the hypermodel, the 'pobjective' to optimize and the  maximum number of epoches to train 'max_epochs'"
   ]
  },
  {
   "cell_type": "code",
   "execution_count": 25,
   "id": "institutional-bernard",
   "metadata": {},
   "outputs": [],
   "source": [
    "## ?kt.Hyperband"
   ]
  },
  {
   "cell_type": "code",
   "execution_count": 29,
   "id": "pediatric-appeal",
   "metadata": {},
   "outputs": [],
   "source": [
    "tuner = kt.Hyperband(model_builder, \n",
    "                    objective='val_accuracy',\n",
    "                    max_epochs=10,\n",
    "                    factor=3, # Int. Reduction factor for the number of epochs/number of models for each bracket.\n",
    "                    directory='my_dir',\n",
    "                    project_name='intro_to_tuning')"
   ]
  },
  {
   "cell_type": "code",
   "execution_count": 30,
   "id": "derived-moment",
   "metadata": {},
   "outputs": [],
   "source": [
    "stop_early = tf.keras.callbacks.EarlyStopping(monitor='val_loss', patience=5)"
   ]
  },
  {
   "cell_type": "code",
   "execution_count": 31,
   "id": "gentle-nancy",
   "metadata": {},
   "outputs": [
    {
     "name": "stdout",
     "output_type": "stream",
     "text": [
      "Trial 30 Complete [00h 00m 41s]\n",
      "val_accuracy: 0.8922500014305115\n",
      "\n",
      "Best val_accuracy So Far: 0.8922500014305115\n",
      "Total elapsed time: 00h 05m 53s\n",
      "INFO:tensorflow:Oracle triggered exit\n",
      "\n",
      "The Optimal number of units in the first dense layeer is 512 and \n",
      "the optimal learning rate for the optimal learning_rate is 0.001\n"
     ]
    }
   ],
   "source": [
    "tuner.search(img_train, label_train, epochs=50, validation_split=0.2, callbacks=[stop_early])\n",
    "\n",
    "## get the optimal hyperparameters\n",
    "best_hps=tuner.get_best_hyperparameters(num_trials=1)[0]\n",
    "\n",
    "print(f\"\"\"\n",
    "The Optimal number of units in the first dense layeer is {best_hps.get('units')} and \n",
    "the optimal learning rate for the optimal learning_rate is {best_hps.get('learning_rate')}\"\"\")"
   ]
  },
  {
   "cell_type": "markdown",
   "id": "ancient-lewis",
   "metadata": {},
   "source": [
    "## Step 4. Train the Model\n",
    "\n",
    "Find the optimal number of epoches to train the model with the hyperparameter obrained from the search.\n",
    "\n"
   ]
  },
  {
   "cell_type": "code",
   "execution_count": 32,
   "id": "split-visitor",
   "metadata": {},
   "outputs": [
    {
     "name": "stdout",
     "output_type": "stream",
     "text": [
      "Epoch 1/50\n",
      "1500/1500 [==============================] - 4s 3ms/step - loss: 0.6049 - accuracy: 0.7848 - val_loss: 0.4129 - val_accuracy: 0.8533\n",
      "Epoch 2/50\n",
      "1500/1500 [==============================] - 4s 3ms/step - loss: 0.3763 - accuracy: 0.8632 - val_loss: 0.3914 - val_accuracy: 0.8608\n",
      "Epoch 3/50\n",
      "1500/1500 [==============================] - 4s 3ms/step - loss: 0.3347 - accuracy: 0.8763 - val_loss: 0.3311 - val_accuracy: 0.8816\n",
      "Epoch 4/50\n",
      "1500/1500 [==============================] - 4s 3ms/step - loss: 0.2992 - accuracy: 0.8892 - val_loss: 0.3287 - val_accuracy: 0.8808\n",
      "Epoch 5/50\n",
      "1500/1500 [==============================] - 4s 3ms/step - loss: 0.2831 - accuracy: 0.8930 - val_loss: 0.3240 - val_accuracy: 0.8801\n",
      "Epoch 6/50\n",
      "1500/1500 [==============================] - 4s 3ms/step - loss: 0.2674 - accuracy: 0.8984 - val_loss: 0.3270 - val_accuracy: 0.8837\n",
      "Epoch 7/50\n",
      "1500/1500 [==============================] - 4s 3ms/step - loss: 0.2550 - accuracy: 0.9078 - val_loss: 0.3487 - val_accuracy: 0.8764\n",
      "Epoch 8/50\n",
      "1500/1500 [==============================] - 5s 3ms/step - loss: 0.2478 - accuracy: 0.9054 - val_loss: 0.3228 - val_accuracy: 0.8870\n",
      "Epoch 9/50\n",
      "1500/1500 [==============================] - 5s 3ms/step - loss: 0.2302 - accuracy: 0.9135 - val_loss: 0.3227 - val_accuracy: 0.8887\n",
      "Epoch 10/50\n",
      "1500/1500 [==============================] - 4s 3ms/step - loss: 0.2200 - accuracy: 0.9158 - val_loss: 0.3366 - val_accuracy: 0.8806\n",
      "Epoch 11/50\n",
      "1500/1500 [==============================] - 4s 3ms/step - loss: 0.2057 - accuracy: 0.9236 - val_loss: 0.3307 - val_accuracy: 0.8878\n",
      "Epoch 12/50\n",
      "1500/1500 [==============================] - 4s 3ms/step - loss: 0.2055 - accuracy: 0.9240 - val_loss: 0.3034 - val_accuracy: 0.8942\n",
      "Epoch 13/50\n",
      "1500/1500 [==============================] - 4s 3ms/step - loss: 0.1918 - accuracy: 0.9281 - val_loss: 0.3326 - val_accuracy: 0.8907\n",
      "Epoch 14/50\n",
      "1500/1500 [==============================] - 4s 3ms/step - loss: 0.1850 - accuracy: 0.9328 - val_loss: 0.3232 - val_accuracy: 0.8921\n",
      "Epoch 15/50\n",
      "1500/1500 [==============================] - 4s 3ms/step - loss: 0.1814 - accuracy: 0.9326 - val_loss: 0.3269 - val_accuracy: 0.8957\n",
      "Epoch 16/50\n",
      "1500/1500 [==============================] - 4s 3ms/step - loss: 0.1777 - accuracy: 0.9333 - val_loss: 0.3440 - val_accuracy: 0.8936\n",
      "Epoch 17/50\n",
      "1500/1500 [==============================] - 4s 3ms/step - loss: 0.1689 - accuracy: 0.9376 - val_loss: 0.3437 - val_accuracy: 0.8938\n",
      "Epoch 18/50\n",
      "1500/1500 [==============================] - 4s 3ms/step - loss: 0.1621 - accuracy: 0.9383 - val_loss: 0.3313 - val_accuracy: 0.9018\n",
      "Epoch 19/50\n",
      "1500/1500 [==============================] - 4s 3ms/step - loss: 0.1508 - accuracy: 0.9424 - val_loss: 0.4114 - val_accuracy: 0.8796\n",
      "Epoch 20/50\n",
      "1500/1500 [==============================] - 4s 3ms/step - loss: 0.1561 - accuracy: 0.9408 - val_loss: 0.3414 - val_accuracy: 0.8943\n",
      "Epoch 21/50\n",
      "1500/1500 [==============================] - 4s 3ms/step - loss: 0.1465 - accuracy: 0.9441 - val_loss: 0.3600 - val_accuracy: 0.8923\n",
      "Epoch 22/50\n",
      "1500/1500 [==============================] - 4s 3ms/step - loss: 0.1424 - accuracy: 0.9461 - val_loss: 0.3775 - val_accuracy: 0.8882\n",
      "Epoch 23/50\n",
      "1500/1500 [==============================] - 4s 3ms/step - loss: 0.1389 - accuracy: 0.9485 - val_loss: 0.3657 - val_accuracy: 0.8947\n",
      "Epoch 24/50\n",
      "1500/1500 [==============================] - 4s 3ms/step - loss: 0.1333 - accuracy: 0.9494 - val_loss: 0.3643 - val_accuracy: 0.8944\n",
      "Epoch 25/50\n",
      "1500/1500 [==============================] - 4s 3ms/step - loss: 0.1271 - accuracy: 0.9528 - val_loss: 0.3694 - val_accuracy: 0.8923\n",
      "Epoch 26/50\n",
      "1500/1500 [==============================] - 4s 3ms/step - loss: 0.1266 - accuracy: 0.9529 - val_loss: 0.3761 - val_accuracy: 0.8949\n",
      "Epoch 27/50\n",
      "1500/1500 [==============================] - 4s 3ms/step - loss: 0.1192 - accuracy: 0.9564 - val_loss: 0.3711 - val_accuracy: 0.8984\n",
      "Epoch 28/50\n",
      "1500/1500 [==============================] - 4s 3ms/step - loss: 0.1204 - accuracy: 0.9534 - val_loss: 0.3817 - val_accuracy: 0.8943\n",
      "Epoch 29/50\n",
      "1500/1500 [==============================] - 4s 3ms/step - loss: 0.1173 - accuracy: 0.9568 - val_loss: 0.3840 - val_accuracy: 0.8942\n",
      "Epoch 30/50\n",
      "1500/1500 [==============================] - 5s 3ms/step - loss: 0.1131 - accuracy: 0.9560 - val_loss: 0.3775 - val_accuracy: 0.8974\n",
      "Epoch 31/50\n",
      "1500/1500 [==============================] - 4s 3ms/step - loss: 0.1123 - accuracy: 0.9586 - val_loss: 0.4899 - val_accuracy: 0.8775\n",
      "Epoch 32/50\n",
      "1500/1500 [==============================] - 5s 3ms/step - loss: 0.1069 - accuracy: 0.9600 - val_loss: 0.4169 - val_accuracy: 0.8901\n",
      "Epoch 33/50\n",
      "1500/1500 [==============================] - 5s 4ms/step - loss: 0.1068 - accuracy: 0.9614 - val_loss: 0.4246 - val_accuracy: 0.8942\n",
      "Epoch 34/50\n",
      "1500/1500 [==============================] - 6s 4ms/step - loss: 0.0985 - accuracy: 0.9633 - val_loss: 0.4392 - val_accuracy: 0.8940\n",
      "Epoch 35/50\n",
      "1500/1500 [==============================] - 6s 4ms/step - loss: 0.0980 - accuracy: 0.9630 - val_loss: 0.4671 - val_accuracy: 0.8902\n",
      "Epoch 36/50\n",
      "1500/1500 [==============================] - 5s 3ms/step - loss: 0.0920 - accuracy: 0.9650 - val_loss: 0.4351 - val_accuracy: 0.8970\n",
      "Epoch 37/50\n",
      "1500/1500 [==============================] - 5s 3ms/step - loss: 0.0928 - accuracy: 0.9643 - val_loss: 0.4194 - val_accuracy: 0.8967\n",
      "Epoch 38/50\n",
      "1500/1500 [==============================] - 5s 3ms/step - loss: 0.0886 - accuracy: 0.9660 - val_loss: 0.4468 - val_accuracy: 0.8965\n",
      "Epoch 39/50\n",
      "1500/1500 [==============================] - 5s 3ms/step - loss: 0.0854 - accuracy: 0.9693 - val_loss: 0.4536 - val_accuracy: 0.8951\n",
      "Epoch 40/50\n",
      "1500/1500 [==============================] - 5s 3ms/step - loss: 0.0923 - accuracy: 0.9644 - val_loss: 0.4613 - val_accuracy: 0.8942\n",
      "Epoch 41/50\n",
      "1500/1500 [==============================] - 5s 3ms/step - loss: 0.0852 - accuracy: 0.9681 - val_loss: 0.4765 - val_accuracy: 0.8966\n",
      "Epoch 42/50\n",
      "1500/1500 [==============================] - 5s 3ms/step - loss: 0.0808 - accuracy: 0.9704 - val_loss: 0.4777 - val_accuracy: 0.8948\n",
      "Epoch 43/50\n",
      "1500/1500 [==============================] - 6s 4ms/step - loss: 0.0850 - accuracy: 0.9673 - val_loss: 0.4830 - val_accuracy: 0.8968\n",
      "Epoch 44/50\n",
      "1500/1500 [==============================] - 5s 3ms/step - loss: 0.0823 - accuracy: 0.9686 - val_loss: 0.5077 - val_accuracy: 0.8956\n",
      "Epoch 45/50\n",
      "1500/1500 [==============================] - 5s 3ms/step - loss: 0.0790 - accuracy: 0.9706 - val_loss: 0.5377 - val_accuracy: 0.8915\n",
      "Epoch 46/50\n",
      "1500/1500 [==============================] - 5s 3ms/step - loss: 0.0751 - accuracy: 0.9721 - val_loss: 0.5051 - val_accuracy: 0.8894\n",
      "Epoch 47/50\n",
      "1500/1500 [==============================] - 5s 3ms/step - loss: 0.0767 - accuracy: 0.9715 - val_loss: 0.5275 - val_accuracy: 0.8953\n",
      "Epoch 48/50\n",
      "1500/1500 [==============================] - 5s 4ms/step - loss: 0.0703 - accuracy: 0.9735 - val_loss: 0.5292 - val_accuracy: 0.8936\n",
      "Epoch 49/50\n",
      "1500/1500 [==============================] - 4s 3ms/step - loss: 0.0765 - accuracy: 0.9721 - val_loss: 0.5514 - val_accuracy: 0.8888\n",
      "Epoch 50/50\n",
      "1500/1500 [==============================] - 4s 3ms/step - loss: 0.0727 - accuracy: 0.9723 - val_loss: 0.5235 - val_accuracy: 0.8962\n",
      "Best epoch: 18\n"
     ]
    }
   ],
   "source": [
    "# Build the model with the optimal hyperparamers and train it on the data for 50 epochs\n",
    "model=tuner.hypermodel.build(best_hps)\n",
    "history=model.fit(img_train, label_train, epochs=50, validation_split=0.2)\n",
    "\n",
    "val_acc_per_epoch = history.history['val_accuracy']\n",
    "best_epoch = val_acc_per_epoch.index(max(val_acc_per_epoch)) +1\n",
    "print('Best epoch: %d' % (best_epoch,))"
   ]
  },
  {
   "cell_type": "code",
   "execution_count": 61,
   "id": "express-bundle",
   "metadata": {},
   "outputs": [
    {
     "data": {
      "text/plain": [
       "<Figure size 432x288 with 0 Axes>"
      ]
     },
     "metadata": {},
     "output_type": "display_data"
    }
   ],
   "source": [
    "## to plot four plots side by side\n",
    "fig = plt.figure()\n",
    "fig.patch.set_facecolor('white')\n",
    "\n",
    "def plot_2(history=history,\n",
    "          ylim_low=0.4, ylim_high=1.0, \n",
    "          label_list=[]    ,       \n",
    "          leg_loc='lower left'):\n",
    "    fig = plt.figure(figsize=(15,5))\n",
    "\n",
    "    plt.subplot(1,2,1)\n",
    "    plt.plot(history.history['accuracy'], label=label_list[0], c='green', ls='-')\n",
    "    plt.plot(history.history['val_accuracy'],label=label_list[1], c='green',ls='--')\n",
    "\n",
    "    plt.ylabel('accuracy')\n",
    "    plt.xlabel('Epoch')\n",
    "    plt.grid(True)\n",
    "    plt.legend(loc=leg_loc)\n",
    "\n",
    "    plt.subplot(1,2,2)\n",
    "    plt.plot(history.history['loss'], label=label_list[0], c='red', ls='-')\n",
    "    plt.plot(history.history['val_loss'],label=label_list[1],  c='red',ls='--')\n",
    "\n",
    "    plt.xlabel('Epoch')\n",
    "    plt.ylabel('loss')\n",
    "    plt.grid(True)\n",
    "    plt.legend(loc=leg_loc)\n",
    "    plt.ylim(ylim_low,ylim_high)"
   ]
  },
  {
   "cell_type": "code",
   "execution_count": 63,
   "id": "banned-cycle",
   "metadata": {},
   "outputs": [
    {
     "data": {
      "image/png": "[encoded data removed]",
      "text/plain": [
       "<Figure size 1080x360 with 2 Axes>"
      ]
     },
     "metadata": {
      "needs_background": "light"
     },
     "output_type": "display_data"
    }
   ],
   "source": [
    "plot_2(history=history, label_list=['train_acc', 'validation_acc'], ylim_low=0, leg_loc='upper left')"
   ]
  },
  {
   "cell_type": "code",
   "execution_count": 64,
   "id": "opened-manner",
   "metadata": {
    "scrolled": true
   },
   "outputs": [
    {
     "name": "stdout",
     "output_type": "stream",
     "text": [
      "Epoch 1/18\n",
      "1500/1500 [==============================] - 4s 3ms/step - loss: 0.6214 - accuracy: 0.7843 - val_loss: 0.4287 - val_accuracy: 0.8420\n",
      "Epoch 2/18\n",
      "1500/1500 [==============================] - 5s 3ms/step - loss: 0.3806 - accuracy: 0.8628 - val_loss: 0.3686 - val_accuracy: 0.8688\n",
      "Epoch 3/18\n",
      "1500/1500 [==============================] - 4s 3ms/step - loss: 0.3329 - accuracy: 0.8763 - val_loss: 0.3547 - val_accuracy: 0.8690\n",
      "Epoch 4/18\n",
      "1500/1500 [==============================] - 4s 3ms/step - loss: 0.2995 - accuracy: 0.8902 - val_loss: 0.3435 - val_accuracy: 0.8745\n",
      "Epoch 5/18\n",
      "1500/1500 [==============================] - 4s 3ms/step - loss: 0.2837 - accuracy: 0.8948 - val_loss: 0.3507 - val_accuracy: 0.8737\n",
      "Epoch 6/18\n",
      "1500/1500 [==============================] - 4s 3ms/step - loss: 0.2692 - accuracy: 0.8983 - val_loss: 0.3181 - val_accuracy: 0.8900\n",
      "Epoch 7/18\n",
      "1500/1500 [==============================] - 4s 3ms/step - loss: 0.2526 - accuracy: 0.9060 - val_loss: 0.3118 - val_accuracy: 0.8878\n",
      "Epoch 8/18\n",
      "1500/1500 [==============================] - 4s 3ms/step - loss: 0.2425 - accuracy: 0.9104 - val_loss: 0.3119 - val_accuracy: 0.8903\n",
      "Epoch 9/18\n",
      "1500/1500 [==============================] - 4s 3ms/step - loss: 0.2326 - accuracy: 0.9120 - val_loss: 0.3125 - val_accuracy: 0.8918\n",
      "Epoch 10/18\n",
      "1500/1500 [==============================] - 4s 3ms/step - loss: 0.2234 - accuracy: 0.9171 - val_loss: 0.3469 - val_accuracy: 0.8819\n",
      "Epoch 11/18\n",
      "1500/1500 [==============================] - 4s 3ms/step - loss: 0.2078 - accuracy: 0.9222 - val_loss: 0.3163 - val_accuracy: 0.8903\n",
      "Epoch 12/18\n",
      "1500/1500 [==============================] - 4s 3ms/step - loss: 0.1994 - accuracy: 0.9242 - val_loss: 0.3362 - val_accuracy: 0.8857\n",
      "Epoch 13/18\n",
      "1500/1500 [==============================] - 4s 3ms/step - loss: 0.1979 - accuracy: 0.9264 - val_loss: 0.3106 - val_accuracy: 0.8913\n",
      "Epoch 14/18\n",
      "1500/1500 [==============================] - 4s 3ms/step - loss: 0.1877 - accuracy: 0.9280 - val_loss: 0.3161 - val_accuracy: 0.8935\n",
      "Epoch 15/18\n",
      "1500/1500 [==============================] - 4s 3ms/step - loss: 0.1807 - accuracy: 0.9319 - val_loss: 0.3261 - val_accuracy: 0.8937\n",
      "Epoch 16/18\n",
      "1500/1500 [==============================] - 4s 3ms/step - loss: 0.1778 - accuracy: 0.9330 - val_loss: 0.3561 - val_accuracy: 0.8844\n",
      "Epoch 17/18\n",
      "1500/1500 [==============================] - 4s 3ms/step - loss: 0.1705 - accuracy: 0.9348 - val_loss: 0.3648 - val_accuracy: 0.8876\n",
      "Epoch 18/18\n",
      "1500/1500 [==============================] - 4s 3ms/step - loss: 0.1627 - accuracy: 0.9392 - val_loss: 0.3321 - val_accuracy: 0.8899\n"
     ]
    },
    {
     "data": {
      "text/plain": [
       "<tensorflow.python.keras.callbacks.History at 0x7fd7f4aeb5e0>"
      ]
     },
     "execution_count": 64,
     "metadata": {},
     "output_type": "execute_result"
    }
   ],
   "source": [
    "## Reinstiate the hypermodel and train it with optimal nunber of epoches\n",
    "\n",
    "hypermodel = tuner.hypermodel.build(best_hps)\n",
    "hypermodel.fit(img_train, label_train, epochs=best_epoch, validation_split=0.2)"
   ]
  },
  {
   "cell_type": "markdown",
   "id": "dutch-trash",
   "metadata": {},
   "source": [
    "## Step 5. Evaluate on test data"
   ]
  },
  {
   "cell_type": "code",
   "execution_count": 65,
   "id": "postal-investment",
   "metadata": {},
   "outputs": [
    {
     "name": "stdout",
     "output_type": "stream",
     "text": [
      "313/313 [==============================] - 1s 2ms/step - loss: 0.3791 - accuracy: 0.8840\n",
      "[test loss, test accuracy]: [0.3790961802005768, 0.8840000033378601]\n"
     ]
    }
   ],
   "source": [
    "## Evaluate the hyoermodel on the test data\n",
    "eval_result =hypermodel.evaluate(img_test, label_test)\n",
    "print(\"[test loss, test accuracy]:\", eval_result)"
   ]
  },
  {
   "cell_type": "code",
   "execution_count": null,
   "id": "hawaiian-confusion",
   "metadata": {},
   "outputs": [],
   "source": []
  }
 ],
 "metadata": {
  "kernelspec": {
   "display_name": "Python 3",
   "language": "python",
   "name": "python3"
  },
  "language_info": {
   "codemirror_mode": {
    "name": "ipython",
    "version": 3
   },
   "file_extension": ".py",
   "mimetype": "text/x-python",
   "name": "python",
   "nbconvert_exporter": "python",
   "pygments_lexer": "ipython3",
   "version": "3.8.0"
  }
 },
 "nbformat": 4,
 "nbformat_minor": 5
}
