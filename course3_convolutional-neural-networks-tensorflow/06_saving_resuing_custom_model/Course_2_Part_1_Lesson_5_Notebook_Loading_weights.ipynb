{
  "nbformat": 4,
  "nbformat_minor": 5,
  "metadata": {
    "kernelspec": {
      "display_name": "Python 3",
      "language": "python",
      "name": "python3"
    },
    "language_info": {
      "codemirror_mode": {
        "name": "ipython",
        "version": 3
      },
      "file_extension": ".py",
      "mimetype": "text/x-python",
      "name": "python",
      "nbconvert_exporter": "python",
      "pygments_lexer": "ipython3",
      "version": "3.8.0"
    },
    "varInspector": {
      "cols": {
        "lenName": 16,
        "lenType": 16,
        "lenVar": 40
      },
      "kernels_config": {
        "python": {
          "delete_cmd_postfix": "",
          "delete_cmd_prefix": "del ",
          "library": "var_list.py",
          "varRefreshCmd": "print(var_dic_list())"
        },
        "r": {
          "delete_cmd_postfix": ") ",
          "delete_cmd_prefix": "rm(",
          "library": "var_list.r",
          "varRefreshCmd": "cat(var_dic_list()) "
        }
      },
      "types_to_exclude": [
        "module",
        "function",
        "builtin_function_or_method",
        "instance",
        "_Feature"
      ],
      "window_display": false
    },
    "colab": {
      "name": "Course_2_Part_1_Lesson_5_Notebook_Loading_weights.ipynb",
      "provenance": [],
      "toc_visible": true,
      "include_colab_link": true
    }
  },
  "cells": [
    {
      "cell_type": "markdown",
      "metadata": {
        "id": "view-in-github",
        "colab_type": "text"
      },
      "source": [
        "<a href=\"https://colab.research.google.com/github/poojasaxena/tensorflow-developer-zertificate-coursera/blob/main/course2_convolutional-neural-networks-tensorflow/06_saving_resuing_custom_model/Course_2_Part_1_Lesson_5_Notebook_Loading_weights.ipynb\" target=\"_parent\"><img src=\"https://colab.research.google.com/assets/colab-badge.svg\" alt=\"Open In Colab\"/></a>"
      ]
    },
    {
      "cell_type": "code",
      "metadata": {
        "id": "legislative-companion",
        "outputId": "e3894776-6b69-4930-d173-c87986094466",
        "colab": {
          "base_uri": "https://localhost:8080/",
          "height": 34
        }
      },
      "source": [
        "%autosave 60"
      ],
      "id": "legislative-companion",
      "execution_count": 1,
      "outputs": [
        {
          "output_type": "display_data",
          "data": {
            "application/javascript": [
              "IPython.notebook.set_autosave_interval(60000)"
            ]
          },
          "metadata": {
            "tags": []
          }
        },
        {
          "output_type": "stream",
          "text": [
            "Autosaving every 60 seconds\n"
          ],
          "name": "stdout"
        }
      ]
    },
    {
      "cell_type": "markdown",
      "metadata": {
        "id": "purple-carter"
      },
      "source": [
        "## 1. Setup"
      ],
      "id": "purple-carter"
    },
    {
      "cell_type": "code",
      "metadata": {
        "id": "diverse-arrangement",
        "outputId": "0a1dae4c-9d07-489e-97fa-607778f83d83",
        "colab": {
          "base_uri": "https://localhost:8080/"
        }
      },
      "source": [
        "import numpy as np\n",
        "import tensorflow as tf\n",
        "import keras\n",
        "print(tf.__version__)"
      ],
      "id": "diverse-arrangement",
      "execution_count": 2,
      "outputs": [
        {
          "output_type": "stream",
          "text": [
            "2.5.0\n"
          ],
          "name": "stdout"
        }
      ]
    },
    {
      "cell_type": "code",
      "metadata": {
        "id": "WLbuBH4uieth",
        "outputId": "0896aff7-fda8-4088-a0bb-99bcc4b6fd6a",
        "colab": {
          "base_uri": "https://localhost:8080/"
        }
      },
      "source": [
        "! pip3 install --user pydot #pydotplus #graphviz"
      ],
      "id": "WLbuBH4uieth",
      "execution_count": 8,
      "outputs": [
        {
          "output_type": "stream",
          "text": [
            "Requirement already satisfied: pydot in /usr/local/lib/python3.7/dist-packages (1.3.0)\n",
            "Requirement already satisfied: pyparsing>=2.1.4 in /usr/local/lib/python3.7/dist-packages (from pydot) (2.4.7)\n"
          ],
          "name": "stdout"
        }
      ]
    },
    {
      "cell_type": "markdown",
      "metadata": {
        "id": "amateur-morrison"
      },
      "source": [
        "## 2. Saving Weights\n",
        "You can choose to only save & load a model's weights. This can be useful if:\n",
        "\n",
        "1. You only need the model for inference: in this case you won't need to restart training, so you don't need the compilation information or optimizer state.\n",
        "2. You are doing transfer learning: in this case you will be training a new model reusing the state of a prior model, so you don't need the compilation information of the prior model.\n",
        "\n",
        "**APIs for in-memory weight transfer**\n",
        "\n",
        "Weights can be copied between different objects by using get_weights and set_weights:\n",
        "\n",
        "1. tf.keras.layers.Layer.get_weights(): Returns a list of numpy arrays.\n",
        "2. tf.keras.layers.Layer.set_weights(): Sets the model weights to the values in the weights argument.\n",
        "\n"
      ],
      "id": "amateur-morrison"
    },
    {
      "cell_type": "markdown",
      "metadata": {
        "id": "constant-attendance"
      },
      "source": [
        "### 2.1 Transfering weights from one layer to another, in memory\n",
        "\n"
      ],
      "id": "constant-attendance"
    },
    {
      "cell_type": "code",
      "metadata": {
        "id": "controlled-check"
      },
      "source": [
        "def create_layer():\n",
        "    layer = keras.layers.Dense(64, activation='relu', name='dense_2')\n",
        "    layer.build((None, 784))\n",
        "    return layer"
      ],
      "id": "controlled-check",
      "execution_count": null,
      "outputs": []
    },
    {
      "cell_type": "code",
      "metadata": {
        "id": "hidden-interview",
        "outputId": "d464bd6b-2d8e-4839-c39c-3162bf4bf5c3"
      },
      "source": [
        "layer_1 = create_layer()\n",
        "layer_2 = create_layer()\n",
        "layer_1.get_weights()"
      ],
      "id": "hidden-interview",
      "execution_count": null,
      "outputs": [
        {
          "output_type": "execute_result",
          "data": {
            "text/plain": [
              "[array([[ 0.06705026,  0.0302926 , -0.00659138, ...,  0.08303652,\n",
              "         -0.01864984, -0.08171301],\n",
              "        [-0.01530679, -0.0321387 , -0.01983957, ...,  0.06687555,\n",
              "          0.06886926, -0.05028033],\n",
              "        [ 0.06656461, -0.0038603 ,  0.0155442 , ..., -0.051704  ,\n",
              "         -0.05591897,  0.05771992],\n",
              "        ...,\n",
              "        [ 0.02942144,  0.07910962,  0.05550406, ..., -0.05196543,\n",
              "          0.07128374, -0.00816881],\n",
              "        [ 0.04229943,  0.0442199 ,  0.08373808, ...,  0.0478973 ,\n",
              "          0.02713925, -0.00378484],\n",
              "        [-0.06299121, -0.00890368, -0.03250149, ..., -0.06255534,\n",
              "          0.03694487,  0.00574443]], dtype=float32),\n",
              " array([0., 0., 0., 0., 0., 0., 0., 0., 0., 0., 0., 0., 0., 0., 0., 0., 0.,\n",
              "        0., 0., 0., 0., 0., 0., 0., 0., 0., 0., 0., 0., 0., 0., 0., 0., 0.,\n",
              "        0., 0., 0., 0., 0., 0., 0., 0., 0., 0., 0., 0., 0., 0., 0., 0., 0.,\n",
              "        0., 0., 0., 0., 0., 0., 0., 0., 0., 0., 0., 0., 0.], dtype=float32)]"
            ]
          },
          "metadata": {
            "tags": []
          },
          "execution_count": 9
        }
      ]
    },
    {
      "cell_type": "code",
      "metadata": {
        "id": "light-evolution"
      },
      "source": [
        "# copy weights from layer_1 to layer_2\n",
        "layer_2.set_weights(layer_1.get_weights())"
      ],
      "id": "light-evolution",
      "execution_count": null,
      "outputs": []
    },
    {
      "cell_type": "code",
      "metadata": {
        "id": "official-giant",
        "outputId": "278760de-f455-41ca-ab8c-3dea2c4d686a"
      },
      "source": [
        "layer_2.get_weights()"
      ],
      "id": "official-giant",
      "execution_count": null,
      "outputs": [
        {
          "output_type": "execute_result",
          "data": {
            "text/plain": [
              "[array([[ 0.06705026,  0.0302926 , -0.00659138, ...,  0.08303652,\n",
              "         -0.01864984, -0.08171301],\n",
              "        [-0.01530679, -0.0321387 , -0.01983957, ...,  0.06687555,\n",
              "          0.06886926, -0.05028033],\n",
              "        [ 0.06656461, -0.0038603 ,  0.0155442 , ..., -0.051704  ,\n",
              "         -0.05591897,  0.05771992],\n",
              "        ...,\n",
              "        [ 0.02942144,  0.07910962,  0.05550406, ..., -0.05196543,\n",
              "          0.07128374, -0.00816881],\n",
              "        [ 0.04229943,  0.0442199 ,  0.08373808, ...,  0.0478973 ,\n",
              "          0.02713925, -0.00378484],\n",
              "        [-0.06299121, -0.00890368, -0.03250149, ..., -0.06255534,\n",
              "          0.03694487,  0.00574443]], dtype=float32),\n",
              " array([0., 0., 0., 0., 0., 0., 0., 0., 0., 0., 0., 0., 0., 0., 0., 0., 0.,\n",
              "        0., 0., 0., 0., 0., 0., 0., 0., 0., 0., 0., 0., 0., 0., 0., 0., 0.,\n",
              "        0., 0., 0., 0., 0., 0., 0., 0., 0., 0., 0., 0., 0., 0., 0., 0., 0.,\n",
              "        0., 0., 0., 0., 0., 0., 0., 0., 0., 0., 0., 0., 0.], dtype=float32)]"
            ]
          },
          "metadata": {
            "tags": []
          },
          "execution_count": 11
        }
      ]
    },
    {
      "cell_type": "markdown",
      "metadata": {
        "id": "understanding-tragedy"
      },
      "source": [
        "### 2.2 Transfering weights from one model to another model with a compatible architecture, in memory\n",
        "\n"
      ],
      "id": "understanding-tragedy"
    },
    {
      "cell_type": "code",
      "metadata": {
        "id": "biological-signature"
      },
      "source": [
        "## create a simple functional model\n",
        "inputs = keras.Input(shape=(784, ), name='digits')\n",
        "x = keras.layers.Dense(64, activation='relu', name='dense_1')(inputs)\n",
        "x = keras.layers.Dense(64, activation='relu', name='dense_2')(x)\n",
        "outputs= keras.layers.Dense(10, activation='softmax', name='prediction')(x)\n",
        "functional_model = keras.Model(inputs, outputs, name=\"3_layer_mlp\" )"
      ],
      "id": "biological-signature",
      "execution_count": 3,
      "outputs": []
    },
    {
      "cell_type": "code",
      "metadata": {
        "id": "fgD5LX2Ri0SS",
        "outputId": "82d332b5-419b-46b0-a39f-f462387bf2c6",
        "colab": {
          "base_uri": "https://localhost:8080/"
        }
      },
      "source": [
        "!apt-get -qq install -y graphviz && pip install pydot\n",
        "import pydot"
      ],
      "id": "fgD5LX2Ri0SS",
      "execution_count": 10,
      "outputs": [
        {
          "output_type": "stream",
          "text": [
            "Requirement already satisfied: pydot in /usr/local/lib/python3.7/dist-packages (1.3.0)\n",
            "Requirement already satisfied: pyparsing>=2.1.4 in /usr/local/lib/python3.7/dist-packages (from pydot) (2.4.7)\n"
          ],
          "name": "stdout"
        }
      ]
    },
    {
      "cell_type": "code",
      "metadata": {
        "id": "eA39r95uiNO7",
        "outputId": "ac907b1c-c270-4943-fb03-1bf8bc3708a6",
        "colab": {
          "base_uri": "https://localhost:8080/",
          "height": 314
        }
      },
      "source": [
        "from keras.utils import plot_model"
      ],
      "id": "eA39r95uiNO7",
      "execution_count": 11,
      "outputs": [
        {
          "output_type": "error",
          "ename": "ImportError",
          "evalue": "ignored",
          "traceback": [
            "\u001b[0;31m---------------------------------------------------------------------------\u001b[0m",
            "\u001b[0;31mImportError\u001b[0m                               Traceback (most recent call last)",
            "\u001b[0;32m<ipython-input-11-c334d400fae5>\u001b[0m in \u001b[0;36m<module>\u001b[0;34m()\u001b[0m\n\u001b[0;32m----> 1\u001b[0;31m \u001b[0;32mfrom\u001b[0m \u001b[0mkeras\u001b[0m\u001b[0;34m.\u001b[0m\u001b[0mutils\u001b[0m \u001b[0;32mimport\u001b[0m \u001b[0mplot_model\u001b[0m\u001b[0;34m\u001b[0m\u001b[0;34m\u001b[0m\u001b[0m\n\u001b[0m",
            "\u001b[0;31mImportError\u001b[0m: cannot import name 'plot_model' from 'keras.utils' (/usr/local/lib/python3.7/dist-packages/keras/utils/__init__.py)",
            "",
            "\u001b[0;31m---------------------------------------------------------------------------\u001b[0;32m\nNOTE: If your import is failing due to a missing package, you can\nmanually install dependencies using either !pip or !apt.\n\nTo view examples of installing some common dependencies, click the\n\"Open Examples\" button below.\n\u001b[0;31m---------------------------------------------------------------------------\u001b[0m\n"
          ]
        }
      ]
    },
    {
      "cell_type": "code",
      "metadata": {
        "id": "nI_ZZeeNi3wM",
        "outputId": "d6f82b60-c530-4ae8-eae4-98a5c771587b",
        "colab": {
          "base_uri": "https://localhost:8080/",
          "height": 163
        }
      },
      "source": [
        "keras.utils.plot_model(functional_model, \"mini_model.png\", show_shapes=True)\n"
      ],
      "id": "nI_ZZeeNi3wM",
      "execution_count": 13,
      "outputs": [
        {
          "output_type": "error",
          "ename": "AttributeError",
          "evalue": "ignored",
          "traceback": [
            "\u001b[0;31m---------------------------------------------------------------------------\u001b[0m",
            "\u001b[0;31mAttributeError\u001b[0m                            Traceback (most recent call last)",
            "\u001b[0;32m<ipython-input-13-b785e633203f>\u001b[0m in \u001b[0;36m<module>\u001b[0;34m()\u001b[0m\n\u001b[0;32m----> 1\u001b[0;31m \u001b[0mkeras\u001b[0m\u001b[0;34m.\u001b[0m\u001b[0mutils\u001b[0m\u001b[0;34m.\u001b[0m\u001b[0mplot_model\u001b[0m\u001b[0;34m(\u001b[0m\u001b[0mfunctional_model\u001b[0m\u001b[0;34m,\u001b[0m \u001b[0;34m\"mini_model.png\"\u001b[0m\u001b[0;34m,\u001b[0m \u001b[0mshow_shapes\u001b[0m\u001b[0;34m=\u001b[0m\u001b[0;32mTrue\u001b[0m\u001b[0;34m)\u001b[0m\u001b[0;34m\u001b[0m\u001b[0;34m\u001b[0m\u001b[0m\n\u001b[0m",
            "\u001b[0;31mAttributeError\u001b[0m: module 'keras.utils' has no attribute 'plot_model'"
          ]
        }
      ]
    },
    {
      "cell_type": "code",
      "metadata": {
        "id": "dense-sucking"
      },
      "source": [
        "## Create a subclass model with the same architecture\n",
        "class SubClassModel(keras.Model):\n",
        "    def __init__(self, output_dim, name='None'):\n",
        "        super(SubClassModel, self).__init__(name=name)\n",
        "        self.output_dim=output_dim\n",
        "        self.dense_1 = keras.layers.Dense(64, activation='relu', name='dense_1')\n",
        "        self.dense_2 = keras.layers.Dense(64, activation='relu', name='dense_2')\n",
        "        self.dense_3 = keras.layers.Dense(output_dim, activation='softmax', name='prediction')\n",
        "        \n",
        "    def call(self, inputs):\n",
        "        x = self.dense_1(inputs)\n",
        "        x = self.dense_2(x)\n",
        "        x = self.dense_3(x)\n",
        "        return x\n",
        "    \n",
        "    def get_config(self):\n",
        "        return {\"output_dim\":self.output_dim, \"name\":self.name}"
      ],
      "id": "dense-sucking",
      "execution_count": null,
      "outputs": []
    },
    {
      "cell_type": "code",
      "metadata": {
        "id": "instrumental-holocaust"
      },
      "source": [
        "subclassmodel = SubClassModel(10)"
      ],
      "id": "instrumental-holocaust",
      "execution_count": null,
      "outputs": []
    },
    {
      "cell_type": "code",
      "metadata": {
        "id": "horizontal-seventh",
        "outputId": "77122ea2-1e23-4331-a765-682986419a91"
      },
      "source": [
        "## call the SubclassModel once again to create the weights\n",
        "subclassmodel(tf.ones((1, 784)))"
      ],
      "id": "horizontal-seventh",
      "execution_count": null,
      "outputs": [
        {
          "output_type": "execute_result",
          "data": {
            "text/plain": [
              "<tf.Tensor: shape=(1, 10), dtype=float32, numpy=\n",
              "array([[0.03246441, 0.07404255, 0.02485879, 0.03151626, 0.13495013,\n",
              "        0.15786797, 0.15588643, 0.20923835, 0.08573047, 0.09344468]],\n",
              "      dtype=float32)>"
            ]
          },
          "metadata": {
            "tags": []
          },
          "execution_count": 34
        }
      ]
    },
    {
      "cell_type": "code",
      "metadata": {
        "id": "adopted-earthquake"
      },
      "source": [
        "## Copy weights from functional weights to custom model\n",
        "subclassmodel.set_weights(functional_model.get_weights())"
      ],
      "id": "adopted-earthquake",
      "execution_count": null,
      "outputs": []
    },
    {
      "cell_type": "code",
      "metadata": {
        "id": "above-vegetable"
      },
      "source": [
        "assert len(functional_model.weights) == len(subclassmodel.weights)"
      ],
      "id": "above-vegetable",
      "execution_count": null,
      "outputs": []
    },
    {
      "cell_type": "code",
      "metadata": {
        "id": "photographic-oasis"
      },
      "source": [
        "for a, b in zip(functional_model.weights, subclassmodel.weights):\n",
        "    np.testing.assert_allclose(a.numpy(), b.numpy())"
      ],
      "id": "photographic-oasis",
      "execution_count": null,
      "outputs": []
    },
    {
      "cell_type": "markdown",
      "metadata": {
        "id": "impressive-shopping"
      },
      "source": [
        "### 2.3 The case of stateless layers\n",
        "Because stateless layers do not change the order or number of weights, models can have compatible architectures even if there are extra/missing stateless layers.\n",
        "\n",
        "\n",
        "\n"
      ],
      "id": "impressive-shopping"
    },
    {
      "cell_type": "code",
      "metadata": {
        "id": "stunning-phoenix"
      },
      "source": [
        "inputs = keras.Input(shape=(784,), name=\"digits\")\n",
        "x = keras.layers.Dense(64, activation=\"relu\", name=\"dense_1\")(inputs)\n",
        "x = keras.layers.Dense(64, activation=\"relu\", name=\"dense_2\")(x)\n",
        "outputs = keras.layers.Dense(10, name=\"predictions\")(x)\n",
        "functional_model = keras.Model(inputs=inputs, outputs=outputs, name=\"3_layer_mlp\")\n",
        "\n",
        "inputs = keras.Input(shape=(784,), name=\"digits\")\n",
        "x = keras.layers.Dense(64, activation=\"relu\", name=\"dense_1\")(inputs)\n",
        "x = keras.layers.Dense(64, activation=\"relu\", name=\"dense_2\")(x)\n",
        "\n",
        "# Add a dropout layer, which does not contain any weights.\n",
        "x = keras.layers.Dropout(0.5)(x)\n",
        "outputs = keras.layers.Dense(10, name=\"predictions\")(x)\n",
        "functional_model_with_dropout = keras.Model(\n",
        "    inputs=inputs, outputs=outputs, name=\"3_layer_mlp\"\n",
        ")\n",
        "\n",
        "functional_model_with_dropout.set_weights(functional_model.get_weights())"
      ],
      "id": "stunning-phoenix",
      "execution_count": null,
      "outputs": []
    },
    {
      "cell_type": "code",
      "metadata": {
        "id": "ceramic-effects"
      },
      "source": [
        "for a, b in zip(functional_model.weights, functional_model_with_dropout.weights):\n",
        "    np.testing.assert_allclose(a.numpy(), b.numpy())"
      ],
      "id": "ceramic-effects",
      "execution_count": null,
      "outputs": []
    },
    {
      "cell_type": "markdown",
      "metadata": {
        "id": "recorded-player"
      },
      "source": [
        "## 3. Saving weights to disk and loading them back\n",
        "Weights can be saved to disk by calling model.save_weights in the following formats:\n",
        "\n",
        "1. TensorFlow Checkpoint\n",
        "2. HDF5\n",
        "\n",
        "The default format for model.save_weights is TensorFlow checkpoint. There are two ways to specify the save format:\n",
        "\n",
        "1. **save_format** argument: Set the value to save_format=\"tf\" or save_format=\"h5\".\n",
        "2. **path** argument: If the path ends with .h5 or .hdf5, then the HDF5 format is used. Other suffixes will result in a TensorFlow checkpoint unless save_format is set.\n"
      ],
      "id": "recorded-player"
    },
    {
      "cell_type": "markdown",
      "metadata": {
        "id": "hawaiian-major"
      },
      "source": [
        "### 3.1 TensorFlow Checkpoint"
      ],
      "id": "hawaiian-major"
    },
    {
      "cell_type": "code",
      "metadata": {
        "id": "requested-moore"
      },
      "source": [
        "sequencial_model = keras.Sequential(\n",
        "    [\n",
        "        keras.Input(shape=(784, ), name='digits'),\n",
        "        keras.layers.Dense(64, activation='relu', name='dense_1'),\n",
        "        keras.layers.Dense(64, activation='relu', name='dense_2'),\n",
        "        keras.layers.Dense(10, activation='softmax', name='prediction')\n",
        "    ]\n",
        ")"
      ],
      "id": "requested-moore",
      "execution_count": null,
      "outputs": []
    },
    {
      "cell_type": "code",
      "metadata": {
        "id": "hollow-invitation"
      },
      "source": [
        "sequencial_model.save_weights('ckpt')\n",
        "load_status = sequencial_model.load_weights('ckpt')"
      ],
      "id": "hollow-invitation",
      "execution_count": null,
      "outputs": []
    },
    {
      "cell_type": "code",
      "metadata": {
        "id": "breathing-complex",
        "outputId": "a68d4084-fda2-4a27-aecf-6096cd7edc55"
      },
      "source": [
        "load_status.assert_consumed()\n"
      ],
      "id": "breathing-complex",
      "execution_count": null,
      "outputs": [
        {
          "output_type": "execute_result",
          "data": {
            "text/plain": [
              "<tensorflow.python.training.tracking.util.CheckpointLoadStatus at 0x7ff89054e910>"
            ]
          },
          "metadata": {
            "tags": []
          },
          "execution_count": 33
        }
      ]
    },
    {
      "cell_type": "markdown",
      "metadata": {
        "id": "liked-indian"
      },
      "source": [
        "#### 3.1.1 Transfer Learning Example\n",
        "Essentially, as long as two models have the same architecture, they are able to share the same checkpoint.\n",
        "\n"
      ],
      "id": "liked-indian"
    },
    {
      "cell_type": "code",
      "metadata": {
        "id": "bearing-republic"
      },
      "source": [
        "inputs = keras.Input(shape=(784, ), name='digits')\n",
        "x = keras.layers.Dense(64, activation='relu', name='dense_1')(inputs)\n",
        "x = keras.layers.Dense(64, activation='relu', name='dense_2')(x)\n",
        "outputs = keras.layers.Dense(10, activation='softmax', name='prediction')(x)\n",
        "functional_model = keras.Model(inputs, outputs, name='3_layer_mlp')"
      ],
      "id": "bearing-republic",
      "execution_count": null,
      "outputs": []
    },
    {
      "cell_type": "code",
      "metadata": {
        "id": "swedish-export",
        "outputId": "0ced08d9-9c6a-44da-e03d-7977e76043ae"
      },
      "source": [
        "functional_model.summary()"
      ],
      "id": "swedish-export",
      "execution_count": null,
      "outputs": [
        {
          "output_type": "stream",
          "text": [
            "Model: \"3_layer_mlp\"\n",
            "_________________________________________________________________\n",
            "Layer (type)                 Output Shape              Param #   \n",
            "=================================================================\n",
            "digits (InputLayer)          [(None, 784)]             0         \n",
            "_________________________________________________________________\n",
            "dense_1 (Dense)              (None, 64)                50240     \n",
            "_________________________________________________________________\n",
            "dense_2 (Dense)              (None, 64)                4160      \n",
            "_________________________________________________________________\n",
            "prediction (Dense)           (None, 10)                650       \n",
            "=================================================================\n",
            "Total params: 55,050\n",
            "Trainable params: 55,050\n",
            "Non-trainable params: 0\n",
            "_________________________________________________________________\n"
          ],
          "name": "stdout"
        }
      ]
    },
    {
      "cell_type": "markdown",
      "metadata": {
        "id": "involved-slovak"
      },
      "source": [
        "#### 3.1.2 Extract a portion of functional model defined in the Setup section.\n",
        "the follwing lines produce a new model that excludes the final output layer of the functional_model"
      ],
      "id": "involved-slovak"
    },
    {
      "cell_type": "code",
      "metadata": {
        "id": "confident-picking"
      },
      "source": [
        "pretrained = keras.Model(\n",
        "            functional_model.inputs, functional_model.layers[-1].input, name='pretrained_model')"
      ],
      "id": "confident-picking",
      "execution_count": null,
      "outputs": []
    },
    {
      "cell_type": "code",
      "metadata": {
        "id": "accomplished-annex"
      },
      "source": [
        "## Randomly assigned 'trained' weights.\n",
        "for w in pretrained.weights:\n",
        "    w.assign(tf.random.normal(w.shape))\n",
        "pretrained.save_weights('pretrained_ckpt')"
      ],
      "id": "accomplished-annex",
      "execution_count": null,
      "outputs": []
    },
    {
      "cell_type": "code",
      "metadata": {
        "id": "digital-median",
        "outputId": "da7c1dfe-81ee-4a2f-fd29-ac4f712c345f"
      },
      "source": [
        "pretrained.summary()"
      ],
      "id": "digital-median",
      "execution_count": null,
      "outputs": [
        {
          "output_type": "stream",
          "text": [
            "Model: \"pretrained_model\"\n",
            "_________________________________________________________________\n",
            "Layer (type)                 Output Shape              Param #   \n",
            "=================================================================\n",
            "digits (InputLayer)          [(None, 784)]             0         \n",
            "_________________________________________________________________\n",
            "dense_1 (Dense)              (None, 64)                50240     \n",
            "_________________________________________________________________\n",
            "dense_2 (Dense)              (None, 64)                4160      \n",
            "=================================================================\n",
            "Total params: 54,400\n",
            "Trainable params: 54,400\n",
            "Non-trainable params: 0\n",
            "_________________________________________________________________\n"
          ],
          "name": "stdout"
        }
      ]
    },
    {
      "cell_type": "code",
      "metadata": {
        "id": "juvenile-capital",
        "outputId": "1f62fccf-e5f6-4b74-cfbf-09b8cd2dc086"
      },
      "source": [
        "## Assume this is a seperate program where only pretrained_ckpt exists.\n",
        "# Create a new functional model with a different output dimension\n",
        "inputs = keras.Input(shape=(784,), name='digits')\n",
        "x = keras.layers.Dense(64, activation='relu', name='dense_1')(inputs)\n",
        "x = keras.layers.Dense(64, activation='relu', name='dense_2')(x)\n",
        "outputs=keras.layers.Dense(5, name='predictions')(x)\n",
        "model = keras.Model(inputs=inputs, outputs=outputs, name='new_digit_model')\n",
        "model.summaryry()"
      ],
      "id": "juvenile-capital",
      "execution_count": null,
      "outputs": [
        {
          "output_type": "stream",
          "text": [
            "Model: \"new_digit_model\"\n",
            "_________________________________________________________________\n",
            "Layer (type)                 Output Shape              Param #   \n",
            "=================================================================\n",
            "digits (InputLayer)          [(None, 784)]             0         \n",
            "_________________________________________________________________\n",
            "dense_1 (Dense)              (None, 64)                50240     \n",
            "_________________________________________________________________\n",
            "dense_2 (Dense)              (None, 64)                4160      \n",
            "_________________________________________________________________\n",
            "predictions (Dense)          (None, 5)                 325       \n",
            "=================================================================\n",
            "Total params: 54,725\n",
            "Trainable params: 54,725\n",
            "Non-trainable params: 0\n",
            "_________________________________________________________________\n"
          ],
          "name": "stdout"
        }
      ]
    },
    {
      "cell_type": "code",
      "metadata": {
        "id": "atlantic-notice",
        "outputId": "af9a6d85-7526-47e3-9813-8405cbf05ae1"
      },
      "source": [
        "## Load the weights from pretrained_ckpt into model\n",
        "model.load_weights('pretrained_ckpt')"
      ],
      "id": "atlantic-notice",
      "execution_count": null,
      "outputs": [
        {
          "output_type": "execute_result",
          "data": {
            "text/plain": [
              "<tensorflow.python.training.tracking.util.CheckpointLoadStatus at 0x7ff87a14cd90>"
            ]
          },
          "metadata": {
            "tags": []
          },
          "execution_count": 51
        }
      ]
    },
    {
      "cell_type": "code",
      "metadata": {
        "id": "silent-volume"
      },
      "source": [
        "## Check that all the pretrained weights have been loaded\n",
        "for a, b in zip(pretrained.weights, model.weights):\n",
        "    np.testing.assert_allclose(a.numpy(), b.numpy())"
      ],
      "id": "silent-volume",
      "execution_count": null,
      "outputs": []
    },
    {
      "cell_type": "code",
      "metadata": {
        "id": "close-fraud",
        "outputId": "1d315ba2-88f2-4b45-b872-0f56a68ebdc6"
      },
      "source": [
        "### print(\"\\n\", \"-\" * 50)\n",
        "model.summary()"
      ],
      "id": "close-fraud",
      "execution_count": null,
      "outputs": [
        {
          "output_type": "stream",
          "text": [
            "Model: \"new_digit_model\"\n",
            "_________________________________________________________________\n",
            "Layer (type)                 Output Shape              Param #   \n",
            "=================================================================\n",
            "digits (InputLayer)          [(None, 784)]             0         \n",
            "_________________________________________________________________\n",
            "dense_1 (Dense)              (None, 64)                50240     \n",
            "_________________________________________________________________\n",
            "dense_2 (Dense)              (None, 64)                4160      \n",
            "_________________________________________________________________\n",
            "predictions (Dense)          (None, 5)                 325       \n",
            "=================================================================\n",
            "Total params: 54,725\n",
            "Trainable params: 54,725\n",
            "Non-trainable params: 0\n",
            "_________________________________________________________________\n"
          ],
          "name": "stdout"
        }
      ]
    },
    {
      "cell_type": "markdown",
      "metadata": {
        "id": "composed-simple"
      },
      "source": [
        "#### Sequential model\n",
        "It is generally recommended to stick to the same API for building models. If you switch between Sequential and Functional, or Functional and subclassed, etc., then always rebuild the pre-trained model and load the pre-trained weights to that model.\n"
      ],
      "id": "composed-simple"
    },
    {
      "cell_type": "code",
      "metadata": {
        "id": "suspected-bidding",
        "outputId": "4afa56e8-4d63-4803-aa23-68a95151c5db"
      },
      "source": [
        "# Recreate the pretrained model, and load the saved weights.\n",
        "inputs = keras.Input(shape=(784,), name=\"digits\")\n",
        "x = keras.layers.Dense(64, activation=\"relu\", name=\"dense_1\")(inputs)\n",
        "x = keras.layers.Dense(64, activation=\"relu\", name=\"dense_2\")(x)\n",
        "pretrained_model = keras.Model(inputs=inputs, outputs=x, name=\"pretrained\")\n",
        "pretrained_model.summary()"
      ],
      "id": "suspected-bidding",
      "execution_count": null,
      "outputs": [
        {
          "output_type": "stream",
          "text": [
            "Model: \"pretrained\"\n",
            "_________________________________________________________________\n",
            "Layer (type)                 Output Shape              Param #   \n",
            "=================================================================\n",
            "digits (InputLayer)          [(None, 784)]             0         \n",
            "_________________________________________________________________\n",
            "dense_1 (Dense)              (None, 64)                50240     \n",
            "_________________________________________________________________\n",
            "dense_2 (Dense)              (None, 64)                4160      \n",
            "=================================================================\n",
            "Total params: 54,400\n",
            "Trainable params: 54,400\n",
            "Non-trainable params: 0\n",
            "_________________________________________________________________\n"
          ],
          "name": "stdout"
        }
      ]
    },
    {
      "cell_type": "code",
      "metadata": {
        "id": "polyphonic-liability",
        "outputId": "b32d28c3-8625-438e-8d97-f5a724b1930f"
      },
      "source": [
        "# Sequential example:\n",
        "model = keras.Sequential([pretrained_model, keras.layers.Dense(5, name=\"predictions\")])\n",
        "model.summary()"
      ],
      "id": "polyphonic-liability",
      "execution_count": null,
      "outputs": [
        {
          "output_type": "stream",
          "text": [
            "Model: \"sequential_2\"\n",
            "_________________________________________________________________\n",
            "Layer (type)                 Output Shape              Param #   \n",
            "=================================================================\n",
            "pretrained (Functional)      (None, 64)                54400     \n",
            "_________________________________________________________________\n",
            "predictions (Dense)          (None, 5)                 325       \n",
            "=================================================================\n",
            "Total params: 54,725\n",
            "Trainable params: 54,725\n",
            "Non-trainable params: 0\n",
            "_________________________________________________________________\n"
          ],
          "name": "stdout"
        }
      ]
    },
    {
      "cell_type": "code",
      "metadata": {
        "id": "early-empire",
        "outputId": "b43f8d37-d1cd-435d-da5c-fe454a67bd92"
      },
      "source": [
        "pretrained_model.load_weights(\"pretrained_ckpt\")\n",
        "\n",
        "# Warning! Calling `model.load_weights('pretrained_ckpt')` won't throw an error,\n",
        "# but will *not* work as expected. If you inspect the weights, you'll see that\n",
        "# none of the weights will have loaded. `pretrained_model.load_weights()` is the\n",
        "# correct method to call.\n"
      ],
      "id": "early-empire",
      "execution_count": null,
      "outputs": [
        {
          "output_type": "execute_result",
          "data": {
            "text/plain": [
              "<tensorflow.python.training.tracking.util.CheckpointLoadStatus at 0x7ff86f1b2460>"
            ]
          },
          "metadata": {
            "tags": []
          },
          "execution_count": 60
        }
      ]
    },
    {
      "cell_type": "code",
      "metadata": {
        "id": "infectious-probe",
        "outputId": "8841afb2-bbf1-4546-b2ba-ea9f1b1c0cfe"
      },
      "source": [
        "pretrained_model.weights"
      ],
      "id": "infectious-probe",
      "execution_count": null,
      "outputs": [
        {
          "output_type": "execute_result",
          "data": {
            "text/plain": [
              "[<tf.Variable 'dense_1/kernel:0' shape=(784, 64) dtype=float32, numpy=\n",
              " array([[ 1.0397673 , -0.05201967, -0.745365  , ..., -0.18462151,\n",
              "         -0.29110402,  1.1428523 ],\n",
              "        [-0.29544547,  0.74784327, -0.24215454, ..., -0.61429846,\n",
              "         -0.362189  ,  0.49086893],\n",
              "        [-1.390071  , -0.0760475 , -0.21802928, ...,  0.17000744,\n",
              "         -0.9297128 , -0.31069708],\n",
              "        ...,\n",
              "        [ 0.38178557, -1.5539563 , -1.2718143 , ...,  0.14016278,\n",
              "          0.15168095,  1.1837689 ],\n",
              "        [-0.33036786,  0.05328415, -0.8898189 , ..., -0.17068684,\n",
              "          1.8069929 ,  0.1003458 ],\n",
              "        [-1.2287658 ,  0.6008524 ,  1.3724065 , ...,  0.45753354,\n",
              "          0.51558656,  0.70640534]], dtype=float32)>,\n",
              " <tf.Variable 'dense_1/bias:0' shape=(64,) dtype=float32, numpy=\n",
              " array([ 0.55976397,  0.11353584,  0.99737406, -0.3814695 ,  1.1309181 ,\n",
              "         0.22690475,  0.4245775 , -0.56957513,  0.34856254,  1.1837989 ,\n",
              "        -0.3682391 ,  0.80762017,  0.2070313 , -1.6404922 ,  0.7442746 ,\n",
              "         2.537187  , -0.3446481 ,  0.79263765, -0.17748122,  0.7853605 ,\n",
              "        -1.0364085 , -1.0808961 ,  1.0681243 , -1.1502583 , -0.16103679,\n",
              "        -1.5629222 , -1.2934492 , -0.01324979, -1.1181822 , -0.3278043 ,\n",
              "         0.81949764, -0.59280246,  0.655778  ,  1.364453  ,  0.8523937 ,\n",
              "        -1.9344916 ,  1.6892966 ,  0.51489896,  0.35684252,  0.91984946,\n",
              "         1.0561016 ,  0.73442054, -0.7813088 , -1.1732981 , -0.8521261 ,\n",
              "        -0.20393382, -1.0983824 ,  0.7661012 ,  0.54231906, -0.08363444,\n",
              "         0.6455875 ,  0.64583224,  0.5132669 , -0.03948854,  1.064148  ,\n",
              "         0.45309317,  0.94597864, -0.75018334, -0.7185095 ,  0.24374239,\n",
              "         0.7336418 ,  0.0117858 ,  1.5223166 ,  0.7901687 ], dtype=float32)>,\n",
              " <tf.Variable 'dense_2/kernel:0' shape=(64, 64) dtype=float32, numpy=\n",
              " array([[ 1.0943213 ,  0.5321827 ,  0.14781788, ...,  1.1089804 ,\n",
              "          1.1295502 , -2.2372832 ],\n",
              "        [-0.09362198,  0.18082626, -1.8948672 , ..., -0.05933895,\n",
              "          1.2125633 ,  1.2326332 ],\n",
              "        [-0.013424  ,  0.35563532, -0.50336045, ...,  0.21083976,\n",
              "          1.4897451 ,  1.2191291 ],\n",
              "        ...,\n",
              "        [-0.5247174 , -0.4813013 , -0.7370198 , ..., -0.87418866,\n",
              "         -0.9257861 ,  1.076249  ],\n",
              "        [-1.1780045 ,  0.53010345,  1.1654832 , ...,  1.0432107 ,\n",
              "          0.19541608, -0.2810406 ],\n",
              "        [-0.11498813,  1.2386936 , -1.0858126 , ...,  1.6279789 ,\n",
              "         -0.42877364, -0.5274687 ]], dtype=float32)>,\n",
              " <tf.Variable 'dense_2/bias:0' shape=(64,) dtype=float32, numpy=\n",
              " array([-1.1482807 ,  0.7081032 ,  1.1427139 , -0.6328507 , -0.12916481,\n",
              "         0.6461347 ,  0.84405303, -1.0089175 ,  0.6382247 , -0.33685094,\n",
              "         0.96927327,  0.71711034, -0.99086165,  1.8121935 ,  0.6292872 ,\n",
              "        -0.27128085, -0.29406357, -0.94286877,  0.5604359 ,  1.3480572 ,\n",
              "         0.35619313,  3.0708346 ,  1.8728316 , -1.0356444 ,  0.20221433,\n",
              "        -0.084998  , -0.93757486, -0.52492994,  0.8946796 , -1.6124489 ,\n",
              "        -0.60943604, -0.88809144,  0.23106745, -0.92267776, -0.04511998,\n",
              "         0.11670179,  0.622934  ,  0.68202084, -1.968575  ,  0.39317277,\n",
              "        -0.16234978, -0.6892769 , -0.5918921 ,  0.83270115,  0.6408291 ,\n",
              "        -0.9386966 ,  1.1304734 , -0.12049389, -0.0656331 ,  0.30968982,\n",
              "        -0.45229384, -0.04944981, -1.3853921 , -1.1814731 , -0.18054217,\n",
              "        -0.03669224, -0.49656734,  0.83194053, -0.3429552 ,  0.7475084 ,\n",
              "         1.3231562 ,  0.596438  ,  1.2724546 ,  0.4265903 ], dtype=float32)>]"
            ]
          },
          "metadata": {
            "tags": []
          },
          "execution_count": 61
        }
      ]
    },
    {
      "cell_type": "markdown",
      "metadata": {
        "id": "imposed-cause"
      },
      "source": [
        "### 3.2 HDF5 format                      \n",
        "The HDF5 format contains weights grouped by layer names. The weights are lists ordered by concatenating the list of trainable weights to the list of non-trainable weights (same as layer.weights). Thus, a model can use a hdf5 checkpoint if it has the same layers and trainable statuses as saved in the checkpoint.\n",
        "\n"
      ],
      "id": "imposed-cause"
    },
    {
      "cell_type": "code",
      "metadata": {
        "id": "executed-pharmacy",
        "outputId": "dba712ac-fd16-47f5-fe0a-6bd66f625721"
      },
      "source": [
        "# Runable Example\n",
        "sequential_model = keras.Sequential(\n",
        "    [\n",
        "            keras.Input(shape=(784, ), name='digits'),\n",
        "            keras.layers.Dense(64, activation='relu', name='dense_1'),\n",
        "            keras.layers.Dense(64, activation='relu', name='dense_2'),\n",
        "            keras.layers.Dense(10, name='predictions')\n",
        "    ]\n",
        ")\n",
        "sequential_model.summary()"
      ],
      "id": "executed-pharmacy",
      "execution_count": null,
      "outputs": [
        {
          "output_type": "stream",
          "text": [
            "Model: \"sequential_8\"\n",
            "_________________________________________________________________\n",
            "Layer (type)                 Output Shape              Param #   \n",
            "=================================================================\n",
            "dense_1 (Dense)              (None, 64)                50240     \n",
            "_________________________________________________________________\n",
            "dense_2 (Dense)              (None, 64)                4160      \n",
            "_________________________________________________________________\n",
            "predictions (Dense)          (None, 10)                650       \n",
            "=================================================================\n",
            "Total params: 55,050\n",
            "Trainable params: 55,050\n",
            "Non-trainable params: 0\n",
            "_________________________________________________________________\n"
          ],
          "name": "stdout"
        }
      ]
    },
    {
      "cell_type": "code",
      "metadata": {
        "id": "progressive-detective",
        "outputId": "11ffe6d1-7d84-4d95-e102-9b64dfb76b15"
      },
      "source": [
        "sequencial_model.weights"
      ],
      "id": "progressive-detective",
      "execution_count": null,
      "outputs": [
        {
          "output_type": "execute_result",
          "data": {
            "text/plain": [
              "[<tf.Variable 'dense_1/kernel:0' shape=(784, 64) dtype=float32, numpy=\n",
              " array([[ 0.03807154, -0.03411273, -0.01539298, ...,  0.0016689 ,\n",
              "         -0.08054363, -0.01071978],\n",
              "        [-0.08316234, -0.01622465, -0.03813309, ..., -0.065508  ,\n",
              "          0.03159596, -0.03234336],\n",
              "        [-0.02673952, -0.04008139,  0.0438318 , ...,  0.07462753,\n",
              "         -0.01570794, -0.07352149],\n",
              "        ...,\n",
              "        [-0.04511328,  0.07932205, -0.02177209, ..., -0.08256465,\n",
              "         -0.03875379, -0.04457112],\n",
              "        [-0.00677938, -0.0766691 , -0.05910678, ..., -0.04280933,\n",
              "         -0.04971677,  0.02203134],\n",
              "        [ 0.05214521,  0.02506733,  0.04064305, ...,  0.06933377,\n",
              "          0.03606524, -0.04857475]], dtype=float32)>,\n",
              " <tf.Variable 'dense_1/bias:0' shape=(64,) dtype=float32, numpy=\n",
              " array([0., 0., 0., 0., 0., 0., 0., 0., 0., 0., 0., 0., 0., 0., 0., 0., 0.,\n",
              "        0., 0., 0., 0., 0., 0., 0., 0., 0., 0., 0., 0., 0., 0., 0., 0., 0.,\n",
              "        0., 0., 0., 0., 0., 0., 0., 0., 0., 0., 0., 0., 0., 0., 0., 0., 0.,\n",
              "        0., 0., 0., 0., 0., 0., 0., 0., 0., 0., 0., 0., 0.], dtype=float32)>,\n",
              " <tf.Variable 'dense_2/kernel:0' shape=(64, 64) dtype=float32, numpy=\n",
              " array([[ 0.09304003, -0.1613926 ,  0.03167887, ...,  0.00728986,\n",
              "          0.15074547,  0.04368858],\n",
              "        [-0.146554  , -0.0181593 ,  0.02082962, ...,  0.18243267,\n",
              "          0.01344225,  0.16223909],\n",
              "        [ 0.1817006 ,  0.18831016,  0.20279671, ..., -0.16237986,\n",
              "          0.09981288,  0.19865902],\n",
              "        ...,\n",
              "        [ 0.00134835, -0.20639752,  0.09019707, ..., -0.20827031,\n",
              "         -0.06121023,  0.08199079],\n",
              "        [ 0.04568748,  0.04619215, -0.13304564, ..., -0.12640117,\n",
              "         -0.12197854, -0.11019973],\n",
              "        [ 0.0847771 ,  0.15650158,  0.12810327, ..., -0.08442186,\n",
              "         -0.13908327, -0.0901503 ]], dtype=float32)>,\n",
              " <tf.Variable 'dense_2/bias:0' shape=(64,) dtype=float32, numpy=\n",
              " array([0., 0., 0., 0., 0., 0., 0., 0., 0., 0., 0., 0., 0., 0., 0., 0., 0.,\n",
              "        0., 0., 0., 0., 0., 0., 0., 0., 0., 0., 0., 0., 0., 0., 0., 0., 0.,\n",
              "        0., 0., 0., 0., 0., 0., 0., 0., 0., 0., 0., 0., 0., 0., 0., 0., 0.,\n",
              "        0., 0., 0., 0., 0., 0., 0., 0., 0., 0., 0., 0., 0.], dtype=float32)>,\n",
              " <tf.Variable 'prediction/kernel:0' shape=(64, 10) dtype=float32, numpy=\n",
              " array([[-0.26853934,  0.20207888,  0.04257494,  0.11776933, -0.13869052,\n",
              "         -0.04784027,  0.10383865, -0.06834114, -0.05405219, -0.24399236],\n",
              "        [ 0.00433418, -0.00935721,  0.02368671,  0.08062309, -0.05209047,\n",
              "         -0.13381858, -0.11452478,  0.1803706 , -0.28276497,  0.03394073],\n",
              "        [ 0.00910616, -0.16403499, -0.25910828, -0.11258343,  0.26324978,\n",
              "         -0.05376685, -0.20820397,  0.07887998,  0.17364368, -0.19854498],\n",
              "        [-0.09483357, -0.0982118 ,  0.18632019, -0.07961453,  0.22607347,\n",
              "         -0.2388165 , -0.05874291, -0.11444876, -0.11275567,  0.09975308],\n",
              "        [ 0.02784204, -0.13629654, -0.04663911,  0.16719705,  0.08900353,\n",
              "         -0.196332  , -0.10320842,  0.11739275, -0.05622587,  0.24806157],\n",
              "        [-0.11150996, -0.14880796,  0.02264541, -0.18864694,  0.25207838,\n",
              "         -0.22122997,  0.27749893, -0.21140024,  0.19132191, -0.15390323],\n",
              "        [-0.18594028, -0.27525908,  0.14434147,  0.05677196,  0.25316688,\n",
              "         -0.0229744 ,  0.00924981, -0.19450504, -0.09007013,  0.16262922],\n",
              "        [-0.12321037, -0.26118743,  0.16474119, -0.10313652, -0.12517875,\n",
              "         -0.06855017,  0.13646367,  0.04026031,  0.02403376,  0.11677217],\n",
              "        [-0.17556655,  0.16062784, -0.16744798,  0.19398949, -0.11300875,\n",
              "          0.01623711,  0.01879311, -0.02351236, -0.07804935,  0.05727854],\n",
              "        [-0.06328525,  0.13030988, -0.04788311, -0.16941786, -0.13654847,\n",
              "          0.18478304,  0.2635089 ,  0.20964625,  0.06193948, -0.13209094],\n",
              "        [-0.18110631, -0.01441789,  0.03810987, -0.00035942,  0.2530397 ,\n",
              "          0.02073243,  0.2665787 ,  0.09709516, -0.03769031, -0.16810168],\n",
              "        [ 0.02345392,  0.19732514,  0.12843281, -0.28193346, -0.03136334,\n",
              "         -0.11834164,  0.20186585, -0.0783131 ,  0.04031131, -0.1692177 ],\n",
              "        [ 0.18836725, -0.00184387,  0.20918617, -0.14425382, -0.28371942,\n",
              "          0.01619229,  0.16095847,  0.12968034,  0.20859188, -0.12788169],\n",
              "        [-0.10579751,  0.04435948, -0.00975096, -0.21389097, -0.09203647,\n",
              "          0.2163671 ,  0.0821605 ,  0.09522501,  0.20501819, -0.05741636],\n",
              "        [ 0.14809376,  0.22832969,  0.02271846,  0.12567618,  0.14842212,\n",
              "          0.2146382 ,  0.17730853, -0.07493915, -0.15984991, -0.09418806],\n",
              "        [-0.26226327,  0.18361706,  0.01862463,  0.14187619,  0.13609341,\n",
              "          0.16908696, -0.21665743, -0.11169754, -0.27854118,  0.10020807],\n",
              "        [ 0.19330245, -0.14320086,  0.06187388, -0.27151868,  0.08954906,\n",
              "          0.1550253 , -0.27826235,  0.05664596,  0.23475048, -0.04689953],\n",
              "        [-0.2509366 ,  0.22216842, -0.10123   , -0.00758728, -0.07940978,\n",
              "         -0.25137576,  0.03987464, -0.22555253,  0.2695473 ,  0.04038402],\n",
              "        [ 0.06604004, -0.02525046, -0.2768275 ,  0.13366088, -0.01747227,\n",
              "          0.2705334 ,  0.04948625,  0.07480037,  0.1604878 ,  0.08961785],\n",
              "        [-0.12996472, -0.01202655,  0.06083912, -0.07438625,  0.13219231,\n",
              "          0.06824672,  0.15052643, -0.09965476, -0.0287874 , -0.08497749],\n",
              "        [ 0.17804995,  0.12936431,  0.00793344, -0.25017494, -0.00981906,\n",
              "         -0.22216046, -0.0976866 ,  0.2406458 , -0.21743518,  0.2661822 ],\n",
              "        [ 0.06481302,  0.10166809, -0.17774743, -0.07923687,  0.1342166 ,\n",
              "         -0.16436791,  0.2602037 , -0.28204623, -0.05339339, -0.17061311],\n",
              "        [ 0.27664194, -0.0772974 , -0.01357633,  0.09008399, -0.1257873 ,\n",
              "          0.05958706, -0.23344532, -0.2195789 , -0.04709886,  0.18042919],\n",
              "        [ 0.16372949,  0.11066598,  0.11572385, -0.0956468 , -0.14369413,\n",
              "         -0.11263089, -0.03468066, -0.08593255,  0.01776406,  0.23518714],\n",
              "        [-0.14553142,  0.23292258, -0.10446492,  0.17365989, -0.16170111,\n",
              "         -0.17008439,  0.09176558, -0.23101509, -0.1422056 ,  0.25914368],\n",
              "        [-0.24275129,  0.04385972,  0.03313884,  0.07182649, -0.2826377 ,\n",
              "          0.12366009, -0.2551528 , -0.13734698, -0.24635613, -0.1692099 ],\n",
              "        [-0.14718764, -0.07386345,  0.22006878, -0.16964358, -0.13968569,\n",
              "          0.1231769 , -0.02431303,  0.23836133,  0.14929119,  0.15521866],\n",
              "        [-0.03143045, -0.06019866,  0.06563842,  0.14251593,  0.06954271,\n",
              "         -0.01596621,  0.01788077,  0.13477167, -0.22683   ,  0.13901666],\n",
              "        [ 0.27801844, -0.25286525, -0.06255557,  0.09752068,  0.08570254,\n",
              "          0.02817911, -0.21119006, -0.24837236, -0.20401344, -0.13696395],\n",
              "        [ 0.27880904,  0.01380157, -0.17583622,  0.08946896, -0.05472729,\n",
              "         -0.17457558, -0.05471303,  0.22421697, -0.06370072,  0.05406517],\n",
              "        [ 0.24062154,  0.05285081, -0.13236733,  0.20848352,  0.24127051,\n",
              "          0.15799111,  0.10295302,  0.00857875,  0.25190863, -0.15895858],\n",
              "        [-0.07331334,  0.1992251 , -0.15700461,  0.08636364, -0.25213274,\n",
              "         -0.10311291,  0.26921764, -0.143498  , -0.01141235,  0.22959867],\n",
              "        [ 0.00248256, -0.03962366, -0.14301682,  0.03661963,  0.13425261,\n",
              "         -0.1658302 , -0.13418125, -0.03152043, -0.2102874 , -0.14514168],\n",
              "        [ 0.13754115,  0.17010877, -0.02666995,  0.23191008, -0.03339475,\n",
              "         -0.27468005, -0.281971  ,  0.20563856, -0.2591503 , -0.18438229],\n",
              "        [-0.15346928,  0.08724892,  0.0895651 ,  0.1246281 , -0.05120213,\n",
              "          0.15685254,  0.04207066, -0.172692  , -0.04730245, -0.14060226],\n",
              "        [-0.21621569,  0.11782128,  0.05060649,  0.27419075,  0.24785545,\n",
              "         -0.01472372,  0.18099958,  0.19612065, -0.22567087,  0.24432144],\n",
              "        [-0.03683117,  0.15517458, -0.16343004, -0.04688779,  0.01565093,\n",
              "          0.1108048 , -0.08760236,  0.16323757, -0.25532508, -0.1721863 ],\n",
              "        [ 0.14738438, -0.11824423,  0.17602828, -0.21401566,  0.27699003,\n",
              "          0.11373746, -0.18296015,  0.16340837,  0.26746485, -0.12814225],\n",
              "        [-0.12522492,  0.04227248, -0.09760968, -0.2745467 ,  0.01914349,\n",
              "         -0.05797611,  0.11855909, -0.04723626, -0.02787688,  0.06425577],\n",
              "        [-0.11498541, -0.22693367,  0.12068781, -0.1379368 ,  0.12495643,\n",
              "         -0.22509795, -0.23572388, -0.0610916 , -0.1595271 , -0.18568596],\n",
              "        [-0.23706475, -0.25807175,  0.10830554,  0.17537925,  0.11861631,\n",
              "          0.22826573, -0.01747629, -0.09832421, -0.27965653, -0.01981932],\n",
              "        [ 0.03765181,  0.03951007,  0.05162814, -0.17006749,  0.17881554,\n",
              "          0.12345079,  0.13991931, -0.14943571, -0.15983951, -0.14614893],\n",
              "        [-0.28277528,  0.1105541 ,  0.24325868, -0.20708448, -0.26695848,\n",
              "          0.07872477, -0.28047705, -0.22301993, -0.07815804,  0.05811155],\n",
              "        [ 0.16962287, -0.05013159, -0.03358927,  0.01622581,  0.16766259,\n",
              "         -0.04596247, -0.01507416, -0.26688   , -0.24298503, -0.22249372],\n",
              "        [-0.22020063,  0.07611865,  0.28203532, -0.18016998,  0.02339029,\n",
              "          0.12411752, -0.19451848,  0.1904765 ,  0.06344798, -0.1711011 ],\n",
              "        [-0.09879848, -0.00166836,  0.03648454,  0.19577646,  0.10019624,\n",
              "         -0.14341003, -0.1701979 , -0.13594861,  0.23565027,  0.26573148],\n",
              "        [ 0.22793797, -0.16102168,  0.2529703 , -0.26897928, -0.05445315,\n",
              "         -0.16569394,  0.16603142,  0.01163   ,  0.24701145, -0.1523331 ],\n",
              "        [ 0.20064443, -0.26700187, -0.17359397,  0.04360399, -0.23350717,\n",
              "          0.2797071 ,  0.06467792, -0.12322918, -0.01280862,  0.21520597],\n",
              "        [-0.21436374, -0.22244139, -0.23915704,  0.21657732,  0.18417177,\n",
              "          0.15367696, -0.02439973,  0.14344504, -0.17920895,  0.06920591],\n",
              "        [ 0.14767787,  0.04967111,  0.27930853,  0.22642931,  0.03776282,\n",
              "          0.19233787,  0.12914455, -0.06066771, -0.15183546, -0.066019  ],\n",
              "        [ 0.20383686,  0.07645747, -0.17234142,  0.04006791, -0.03654991,\n",
              "          0.28250316, -0.10661985,  0.24116197,  0.07334456,  0.01046464],\n",
              "        [-0.17554396, -0.08412169, -0.15658444, -0.1225839 , -0.16142792,\n",
              "          0.01655406, -0.06171021,  0.07690156, -0.24696678,  0.05696273],\n",
              "        [-0.21436714,  0.13033643, -0.20818114,  0.12027568,  0.25345877,\n",
              "          0.22065625,  0.2664961 ,  0.07191509, -0.10200387, -0.06785479],\n",
              "        [-0.08417036, -0.2741774 , -0.00451463,  0.03559703,  0.05120215,\n",
              "         -0.27057153, -0.19361392,  0.0735462 , -0.24009858,  0.00038481],\n",
              "        [ 0.00575584,  0.24379763,  0.27613655, -0.21677998, -0.2677917 ,\n",
              "         -0.21561018, -0.16815518, -0.16521436, -0.2700624 , -0.18880099],\n",
              "        [-0.18189749,  0.02739304,  0.22571954, -0.09407552,  0.04893085,\n",
              "          0.11991212,  0.16045982, -0.22979274,  0.03731287,  0.05030918],\n",
              "        [-0.14623855,  0.21130419,  0.13208625,  0.19897723,  0.12917727,\n",
              "          0.10562256,  0.11500645, -0.06808873,  0.15784976,  0.14019737],\n",
              "        [ 0.03376362,  0.0305306 , -0.28055823,  0.24945232,  0.10171685,\n",
              "          0.1046578 , -0.22816233, -0.06636842,  0.20864674, -0.26218018],\n",
              "        [-0.00403443,  0.0437192 , -0.14385374, -0.19923243,  0.08107775,\n",
              "         -0.1308166 ,  0.1791465 ,  0.27533123, -0.2358484 ,  0.20718977],\n",
              "        [-0.04583177, -0.21820423, -0.23405197,  0.1505003 ,  0.18999565,\n",
              "         -0.1829776 , -0.15103492, -0.02994078, -0.26293233, -0.01574543],\n",
              "        [-0.28199905, -0.24248047,  0.0077312 ,  0.05082998,  0.12812567,\n",
              "          0.2386618 ,  0.08048859, -0.23034747,  0.15471008,  0.12504601],\n",
              "        [-0.0907072 ,  0.10109034,  0.03028136, -0.04688528,  0.05973601,\n",
              "          0.01140848,  0.20721012, -0.20664312, -0.21879771,  0.15573603],\n",
              "        [ 0.12340528,  0.2498059 ,  0.2701687 ,  0.0573245 , -0.01168901,\n",
              "         -0.14220235,  0.26981494, -0.06009194, -0.17613378,  0.22676542],\n",
              "        [ 0.13955197,  0.15691262, -0.26442814, -0.00724438,  0.04694211,\n",
              "          0.17413858, -0.01987159,  0.0974997 , -0.07629143, -0.05260371]],\n",
              "       dtype=float32)>,\n",
              " <tf.Variable 'prediction/bias:0' shape=(10,) dtype=float32, numpy=array([0., 0., 0., 0., 0., 0., 0., 0., 0., 0.], dtype=float32)>]"
            ]
          },
          "metadata": {
            "tags": []
          },
          "execution_count": 76
        }
      ]
    },
    {
      "cell_type": "code",
      "metadata": {
        "id": "monetary-access"
      },
      "source": [
        "sequential_model.save_weights('weights.h5')"
      ],
      "id": "monetary-access",
      "execution_count": null,
      "outputs": []
    },
    {
      "cell_type": "code",
      "metadata": {
        "id": "reserved-spirit"
      },
      "source": [
        "sequential_model.load_weights('weights.h5')"
      ],
      "id": "reserved-spirit",
      "execution_count": null,
      "outputs": []
    },
    {
      "cell_type": "markdown",
      "metadata": {
        "id": "binary-antarctica"
      },
      "source": [
        "Note that changing layer.trainable may result in a different layer.weights ordering when the model contains nested layers."
      ],
      "id": "binary-antarctica"
    },
    {
      "cell_type": "code",
      "metadata": {
        "id": "worse-animal"
      },
      "source": [
        "class NestedDenseLayer(keras.layers.Layer):\n",
        "    def __init__(self, units, name=None):\n",
        "        super(NestedDenseLayer, self).__init__(name=name)\n",
        "        self.dense_1 = keras.layers.Dense(units, name=\"dense_1\")\n",
        "        self.dense_2 = keras.layers.Dense(units, name=\"dense_2\")\n",
        "\n",
        "    def call(self, inputs):\n",
        "        return self.dense_2(self.dense_1(inputs))"
      ],
      "id": "worse-animal",
      "execution_count": null,
      "outputs": []
    },
    {
      "cell_type": "code",
      "metadata": {
        "id": "harmful-sender"
      },
      "source": [
        "nested_model = keras.Sequential([keras.Input((784,)), NestedDenseLayer(10, \"nested\")])"
      ],
      "id": "harmful-sender",
      "execution_count": null,
      "outputs": []
    },
    {
      "cell_type": "code",
      "metadata": {
        "id": "realistic-strip",
        "outputId": "bff1bc5c-d2aa-46dc-be2c-e0a38402738b"
      },
      "source": [
        "variable_names = [v.name for v in nested_model.weights]\n",
        "print(\"variables: {}\".format(variable_names))"
      ],
      "id": "realistic-strip",
      "execution_count": null,
      "outputs": [
        {
          "output_type": "stream",
          "text": [
            "variables: ['nested/dense_1/kernel:0', 'nested/dense_1/bias:0', 'nested/dense_2/kernel:0', 'nested/dense_2/bias:0']\n"
          ],
          "name": "stdout"
        }
      ]
    },
    {
      "cell_type": "code",
      "metadata": {
        "id": "functioning-kingdom",
        "outputId": "4d02ac3b-c5c6-4318-c60b-07f01e403f66"
      },
      "source": [
        "print(\"\\nChanging trainable status of one of the nested layers...\")\n",
        "nested_model.get_layer(\"nested\").dense_1.trainable = False\n"
      ],
      "id": "functioning-kingdom",
      "execution_count": null,
      "outputs": [
        {
          "output_type": "stream",
          "text": [
            "\n",
            "Changing trainable status of one of the nested layers...\n"
          ],
          "name": "stdout"
        }
      ]
    },
    {
      "cell_type": "code",
      "metadata": {
        "id": "beautiful-fireplace",
        "outputId": "03903965-8856-485f-8bc2-71208e3d8d28"
      },
      "source": [
        "variable_names_2 = [v.name for v in nested_model.weights]\n",
        "print(\"\\nvariables: {}\".format(variable_names_2))\n",
        "print(\"variable ordering changed:\", variable_names != variable_names_2)\n"
      ],
      "id": "beautiful-fireplace",
      "execution_count": null,
      "outputs": [
        {
          "output_type": "stream",
          "text": [
            "\n",
            "variables: ['nested/dense_2/kernel:0', 'nested/dense_2/bias:0', 'nested/dense_1/kernel:0', 'nested/dense_1/bias:0']\n",
            "variable ordering changed: True\n"
          ],
          "name": "stdout"
        }
      ]
    },
    {
      "cell_type": "markdown",
      "metadata": {
        "id": "appointed-therapist"
      },
      "source": [
        "#### Transfer learning example\n",
        "When loading pretrained weights from HDF5, it is recommended to load the weights into the original checkpointed model, and then extract the desired weights/layers into a new model.\n",
        "\n"
      ],
      "id": "appointed-therapist"
    },
    {
      "cell_type": "code",
      "metadata": {
        "id": "fewer-observer",
        "outputId": "70b348ca-10eb-4802-dd9e-bb389a0abc49"
      },
      "source": [
        "def create_functional_model():\n",
        "    inputs = keras.Input(shape=(784,), name=\"digits\")\n",
        "    x = keras.layers.Dense(64, activation=\"relu\", name=\"dense_1\")(inputs)\n",
        "    x = keras.layers.Dense(64, activation=\"relu\", name=\"dense_2\")(x)\n",
        "    outputs = keras.layers.Dense(10, name=\"predictions\")(x)\n",
        "    return keras.Model(inputs=inputs, outputs=outputs, name=\"3_layer_mlp\")\n",
        "\n",
        "\n",
        "functional_model = create_functional_model()\n",
        "functional_model.save_weights(\"pretrained_weights.h5\")\n",
        "\n",
        "# In a separate program:\n",
        "pretrained_model = create_functional_model()\n",
        "pretrained_model.load_weights(\"pretrained_weights.h5\")\n",
        "\n",
        "# Create a new model by extracting layers from the original model:\n",
        "extracted_layers = pretrained_model.layers[:-1]\n",
        "extracted_layers.append(keras.layers.Dense(5, name=\"dense_3\"))\n",
        "model = keras.Sequential(extracted_layers)\n",
        "model.summary()\n"
      ],
      "id": "fewer-observer",
      "execution_count": null,
      "outputs": [
        {
          "output_type": "stream",
          "text": [
            "Model: \"sequential_10\"\n",
            "_________________________________________________________________\n",
            "Layer (type)                 Output Shape              Param #   \n",
            "=================================================================\n",
            "dense_1 (Dense)              (None, 64)                50240     \n",
            "_________________________________________________________________\n",
            "dense_2 (Dense)              (None, 64)                4160      \n",
            "_________________________________________________________________\n",
            "dense_3 (Dense)              (None, 5)                 325       \n",
            "=================================================================\n",
            "Total params: 54,725\n",
            "Trainable params: 54,725\n",
            "Non-trainable params: 0\n",
            "_________________________________________________________________\n"
          ],
          "name": "stdout"
        }
      ]
    },
    {
      "cell_type": "code",
      "metadata": {
        "id": "phantom-macro"
      },
      "source": [
        ""
      ],
      "id": "phantom-macro",
      "execution_count": null,
      "outputs": []
    },
    {
      "cell_type": "code",
      "metadata": {
        "id": "directed-offense"
      },
      "source": [
        ""
      ],
      "id": "directed-offense",
      "execution_count": null,
      "outputs": []
    }
  ]
}