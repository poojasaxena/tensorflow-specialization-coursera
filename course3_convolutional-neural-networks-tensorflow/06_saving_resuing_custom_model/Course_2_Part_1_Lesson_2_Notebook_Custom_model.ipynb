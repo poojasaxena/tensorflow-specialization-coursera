{
 "cells": [
  {
   "cell_type": "markdown",
   "id": "civilian-equipment",
   "metadata": {},
   "source": [
    "## 1. Setup"
   ]
  },
  {
   "cell_type": "code",
   "execution_count": 1,
   "id": "respiratory-barcelona",
   "metadata": {},
   "outputs": [
    {
     "data": {
      "application/javascript": [
       "IPython.notebook.set_autosave_interval(60000)"
      ]
     },
     "metadata": {},
     "output_type": "display_data"
    },
    {
     "name": "stdout",
     "output_type": "stream",
     "text": [
      "Autosaving every 60 seconds\n"
     ]
    }
   ],
   "source": [
    "%autosave 60"
   ]
  },
  {
   "cell_type": "code",
   "execution_count": 2,
   "id": "enormous-richmond",
   "metadata": {},
   "outputs": [
    {
     "name": "stdout",
     "output_type": "stream",
     "text": [
      "2.4.1\n"
     ]
    }
   ],
   "source": [
    "import numpy as np\n",
    "import tensorflow as tf\n",
    "import keras\n",
    "print(tf.__version__)"
   ]
  },
  {
   "cell_type": "markdown",
   "id": "middle-flavor",
   "metadata": {},
   "source": [
    "## 2. Custom Model\n",
    "\n",
    "reference: [keras.Model](https://keras.io/api/models/model/)"
   ]
  },
  {
   "cell_type": "code",
   "execution_count": 45,
   "id": "unavailable-chicago",
   "metadata": {},
   "outputs": [],
   "source": [
    "class CustomModel(keras.Model):\n",
    "    def __init__(self, hidden_units):\n",
    "        super(CustomModel, self).__init__()\n",
    "        self.hidden_units = hidden_units\n",
    "        self.dense_layers = [keras.layers.Dense(u) for u in hidden_units]\n",
    "        \n",
    "    def call(self, inputs):\n",
    "        x = inputs\n",
    "        for layers in self.dense_layers:\n",
    "            x = layers(x)\n",
    "        return x\n",
    "    \n",
    "    def get_config(self):\n",
    "        return {\"hidden_units \": self.hidden_units}\n",
    "    \n",
    "    def from_config(cls, config):\n",
    "        return cls(**config)\n",
    "    \n",
    "    @classmethod\n",
    "    def from_config(cls, config):\n",
    "        return cls(**config)\n",
    "    \n",
    "    ''' \n",
    "     def from_config(cls, config):\n",
    "      This method is the reverse of get_config,\n",
    "      capable of instantiating the same layer from the config\n",
    "      dictionary. It does not handle layer connectivity\n",
    "      (handled by Container), nor weights (handled by `set_weights`).\n",
    "      # Arguments\n",
    "          config: A Python dictionary, typically the\n",
    "              output of get_config.\n",
    "      \n",
    "      return cls(**config)\n",
    "    '''"
   ]
  },
  {
   "cell_type": "code",
   "execution_count": 47,
   "id": "empirical-maldives",
   "metadata": {},
   "outputs": [
    {
     "data": {
      "text/plain": [
       "{'hidden_units ': ListWrapper([16, 16, 10])}"
      ]
     },
     "execution_count": 47,
     "metadata": {},
     "output_type": "execute_result"
    }
   ],
   "source": [
    "model = CustomModel([16, 16, 10])\n",
    "model.get_config()"
   ]
  },
  {
   "cell_type": "code",
   "execution_count": 42,
   "id": "upper-relevance",
   "metadata": {},
   "outputs": [],
   "source": [
    "#inputs = tf.keras.Input(shape=(3,))\n",
    "#model.call(inputs)"
   ]
  },
  {
   "cell_type": "code",
   "execution_count": 7,
   "id": "bibliographic-rubber",
   "metadata": {},
   "outputs": [
    {
     "name": "stdout",
     "output_type": "stream",
     "text": [
      "INFO:tensorflow:Assets written to: my_model_2/assets\n"
     ]
    }
   ],
   "source": [
    "## Build the model by calling it\n",
    "input_arr = tf.random.uniform((1,5))\n",
    "outputs = model(input_arr)\n",
    "model.save(\"my_model_2\")"
   ]
  },
  {
   "cell_type": "code",
   "execution_count": 13,
   "id": "engaged-experiment",
   "metadata": {},
   "outputs": [
    {
     "data": {
      "text/plain": [
       "<tf.Tensor: shape=(1, 5), dtype=float32, numpy=\n",
       "array([[0.85459626, 0.27050006, 0.31505454, 0.77730906, 0.12544918]],\n",
       "      dtype=float32)>"
      ]
     },
     "execution_count": 13,
     "metadata": {},
     "output_type": "execute_result"
    }
   ],
   "source": [
    "input_arr"
   ]
  },
  {
   "cell_type": "code",
   "execution_count": 15,
   "id": "velvet-mechanics",
   "metadata": {},
   "outputs": [
    {
     "data": {
      "text/plain": [
       "<tf.Tensor: shape=(1, 10), dtype=float32, numpy=\n",
       "array([[-0.9674891 , -0.05207668,  0.20079112, -0.11602056, -0.29946184,\n",
       "         0.50982976,  1.2122071 ,  0.1363339 , -0.25818843,  0.8980546 ]],\n",
       "      dtype=float32)>"
      ]
     },
     "execution_count": 15,
     "metadata": {},
     "output_type": "execute_result"
    }
   ],
   "source": [
    "outputs"
   ]
  },
  {
   "cell_type": "markdown",
   "id": "after-anxiety",
   "metadata": {},
   "source": [
    "## 3. Load the model"
   ]
  },
  {
   "cell_type": "markdown",
   "id": "hundred-worst",
   "metadata": {},
   "source": [
    "### 3.1 Load with the CustomModel argument "
   ]
  },
  {
   "cell_type": "code",
   "execution_count": 8,
   "id": "welcome-banks",
   "metadata": {},
   "outputs": [
    {
     "name": "stdout",
     "output_type": "stream",
     "text": [
      "WARNING:tensorflow:No training configuration found in save file, so the model was *not* compiled. Compile it manually.\n"
     ]
    }
   ],
   "source": [
    "loaded_1 = keras.models.load_model(\n",
    "    \"my_model_2\", custom_objects={\"CustomModel\": CustomModel}\n",
    ")"
   ]
  },
  {
   "cell_type": "markdown",
   "id": "conservative-stock",
   "metadata": {},
   "source": [
    "### 3.2 Load without the CustomModel Class"
   ]
  },
  {
   "cell_type": "code",
   "execution_count": 9,
   "id": "reliable-gravity",
   "metadata": {},
   "outputs": [],
   "source": [
    "del CustomModel"
   ]
  },
  {
   "cell_type": "code",
   "execution_count": 10,
   "id": "assumed-carroll",
   "metadata": {},
   "outputs": [
    {
     "name": "stdout",
     "output_type": "stream",
     "text": [
      "WARNING:tensorflow:No training configuration found in save file, so the model was *not* compiled. Compile it manually.\n"
     ]
    }
   ],
   "source": [
    "loaded_2 = keras.models.load_model(\"my_model_2\")\n"
   ]
  },
  {
   "cell_type": "code",
   "execution_count": 11,
   "id": "musical-toner",
   "metadata": {},
   "outputs": [],
   "source": [
    "np.testing.assert_allclose(loaded_1(input_arr), outputs)\n",
    "np.testing.assert_allclose(loaded_2(input_arr), outputs)"
   ]
  },
  {
   "cell_type": "code",
   "execution_count": 12,
   "id": "celtic-front",
   "metadata": {},
   "outputs": [
    {
     "name": "stdout",
     "output_type": "stream",
     "text": [
      "--> Original model: <__main__.CustomModel object at 0x7f578def9c70>\n",
      "--> Model Loaded with custom objects: <__main__.CustomModel object at 0x7f578f1c2640>\n",
      "--> Model loaded without the custom object class: <tensorflow.python.keras.saving.saved_model.load.CustomModel object at 0x7f578f1d1cd0>\n"
     ]
    }
   ],
   "source": [
    "print(\"--> Original model:\", model)\n",
    "print(\"--> Model Loaded with custom objects:\", loaded_1)\n",
    "print(\"--> Model loaded without the custom object class:\", loaded_2)\n"
   ]
  },
  {
   "cell_type": "markdown",
   "id": "gross-exception",
   "metadata": {},
   "source": [
    "### Note\n",
    "The first loaded model is loaded using the config and CustomModel class. The second model is loaded by dynamically creating the model class that acts like the original model.\n",
    "\n"
   ]
  },
  {
   "cell_type": "code",
   "execution_count": null,
   "id": "numeric-egyptian",
   "metadata": {},
   "outputs": [],
   "source": []
  }
 ],
 "metadata": {
  "kernelspec": {
   "display_name": "Python 3",
   "language": "python",
   "name": "python3"
  },
  "language_info": {
   "codemirror_mode": {
    "name": "ipython",
    "version": 3
   },
   "file_extension": ".py",
   "mimetype": "text/x-python",
   "name": "python",
   "nbconvert_exporter": "python",
   "pygments_lexer": "ipython3",
   "version": "3.8.0"
  },
  "varInspector": {
   "cols": {
    "lenName": 16,
    "lenType": 16,
    "lenVar": 40
   },
   "kernels_config": {
    "python": {
     "delete_cmd_postfix": "",
     "delete_cmd_prefix": "del ",
     "library": "var_list.py",
     "varRefreshCmd": "print(var_dic_list())"
    },
    "r": {
     "delete_cmd_postfix": ") ",
     "delete_cmd_prefix": "rm(",
     "library": "var_list.r",
     "varRefreshCmd": "cat(var_dic_list()) "
    }
   },
   "types_to_exclude": [
    "module",
    "function",
    "builtin_function_or_method",
    "instance",
    "_Feature"
   ],
   "window_display": false
  }
 },
 "nbformat": 4,
 "nbformat_minor": 5
}
