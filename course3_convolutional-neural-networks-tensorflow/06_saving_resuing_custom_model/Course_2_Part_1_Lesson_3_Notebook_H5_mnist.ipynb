{
 "cells": [
  {
   "cell_type": "code",
   "execution_count": 6,
   "id": "blessed-museum",
   "metadata": {},
   "outputs": [
    {
     "data": {
      "application/javascript": [
       "IPython.notebook.set_autosave_interval(60000)"
      ]
     },
     "metadata": {},
     "output_type": "display_data"
    },
    {
     "name": "stdout",
     "output_type": "stream",
     "text": [
      "Autosaving every 60 seconds\n"
     ]
    }
   ],
   "source": [
    "%autosave 60"
   ]
  },
  {
   "cell_type": "markdown",
   "id": "official-suicide",
   "metadata": {},
   "source": [
    "## 1. Setup"
   ]
  },
  {
   "cell_type": "code",
   "execution_count": 33,
   "id": "duplicate-sender",
   "metadata": {},
   "outputs": [
    {
     "name": "stdout",
     "output_type": "stream",
     "text": [
      "2.4.1\n"
     ]
    }
   ],
   "source": [
    "import tensorflow as tf\n",
    "import numpy as np\n",
    "from tensorflow import keras\n",
    "print(tf.__version__)\n",
    "from keras.callbacks import CSVLogger"
   ]
  },
  {
   "cell_type": "markdown",
   "id": "paperback-weather",
   "metadata": {},
   "source": [
    "## 2. Model function"
   ]
  },
  {
   "cell_type": "code",
   "execution_count": 8,
   "id": "little-haven",
   "metadata": {},
   "outputs": [],
   "source": [
    "(img_train, label_train), (img_test, label_test)= keras.datasets.cifar10.load_data()"
   ]
  },
  {
   "cell_type": "code",
   "execution_count": 9,
   "id": "demanding-estimate",
   "metadata": {},
   "outputs": [
    {
     "name": "stdout",
     "output_type": "stream",
     "text": [
      "No of train images:  (50000, 32, 32, 3)\n",
      "No of test images:  (10000, 32, 32, 3)\n",
      "label format for trainig: (50000, 1)\n",
      "label format for testing: (10000, 1)\n",
      "unique lables are : [0 1 2 3 4 5 6 7 8 9]\n"
     ]
    }
   ],
   "source": [
    "## lets check the number of train/test images\n",
    "print('No of train images: ', img_train.shape)\n",
    "print('No of test images: ', img_test.shape)\n",
    "print('label format for trainig:', label_train.shape)\n",
    "print('label format for testing:', label_test.shape)\n",
    "print('unique lables are :', np.unique(label_train))"
   ]
  },
  {
   "cell_type": "code",
   "execution_count": 10,
   "id": "vital-harassment",
   "metadata": {},
   "outputs": [],
   "source": [
    "## Normalize the dataset\n",
    "img_train = img_train / 255.0\n",
    "img_test = img_test / 255.0"
   ]
  },
  {
   "cell_type": "code",
   "execution_count": 11,
   "id": "structural-method",
   "metadata": {},
   "outputs": [],
   "source": [
    "#img_train = img_train.reshape(list(img_train.shape) + [1])\n",
    "#img_test = img_test.reshape(list(img_test.shape) + [1])\n",
    "\n",
    "# Normalize pixel values to be between 0 and 1\n",
    "from tensorflow.keras.utils import to_categorical \n",
    "import numpy as np\n",
    "label_train = to_categorical(label_train, len(np.unique(label_train)))\n",
    "label_test = to_categorical(label_test, len(np.unique(label_test)))"
   ]
  },
  {
   "cell_type": "code",
   "execution_count": 12,
   "id": "cooperative-flood",
   "metadata": {},
   "outputs": [
    {
     "data": {
      "text/plain": [
       "<matplotlib.image.AxesImage at 0x7fd5a699fc70>"
      ]
     },
     "execution_count": 12,
     "metadata": {},
     "output_type": "execute_result"
    },
    {
     "data": {
      "image/png": "[encoded data removed]",
      "text/plain": [
       "<Figure size 432x288 with 1 Axes>"
      ]
     },
     "metadata": {
      "needs_background": "light"
     },
     "output_type": "display_data"
    }
   ],
   "source": [
    "import matplotlib.pyplot as plt\n",
    "plt.imshow(img_train[1])"
   ]
  },
  {
   "cell_type": "markdown",
   "id": "monthly-blanket",
   "metadata": {},
   "source": [
    "## Step 2. Model defination"
   ]
  },
  {
   "cell_type": "code",
   "execution_count": 13,
   "id": "understood-baghdad",
   "metadata": {},
   "outputs": [],
   "source": [
    "## As input, a CNN takes a shape (image_height, image_width, color_channels)\n",
    "def create_model(dense_neurons=64, L1=0):\n",
    "    model= tf.keras.models.Sequential([\n",
    "    # Note the input shape is the desired size of the image with 3 bytes color\n",
    "    # This is the first convolution\n",
    "    tf.keras.layers.Conv2D(32, (3,3), activation='relu', input_shape=(32, 32, 3)),\n",
    "    tf.keras.layers.MaxPooling2D(2, 2),\n",
    "    # The second convolution\n",
    "    tf.keras.layers.Conv2D(64, (3,3), activation='relu'),\n",
    "    tf.keras.layers.MaxPooling2D(2,2),\n",
    "    #tf.keras.layers.Dropout(0.2),\n",
    "    # 512 neuron hidden layer\n",
    "    tf.keras.layers.Flatten(),    \n",
    "    tf.keras.layers.Dense(dense_neurons, activation='relu', kernel_regularizer=tf.keras.regularizers.L1(l1=L1)),\n",
    "    tf.keras.layers.Dense(10, activation='softmax')\n",
    "    ])\n",
    "    \n",
    "    model.compile(optimizer='adam', loss='categorical_crossentropy', metrics=['accuracy'])\n",
    "    return model\n"
   ]
  },
  {
   "cell_type": "code",
   "execution_count": 14,
   "id": "dated-rolling",
   "metadata": {},
   "outputs": [
    {
     "name": "stdout",
     "output_type": "stream",
     "text": [
      "Model: \"sequential\"\n",
      "_________________________________________________________________\n",
      "Layer (type)                 Output Shape              Param #   \n",
      "=================================================================\n",
      "conv2d (Conv2D)              (None, 30, 30, 32)        896       \n",
      "_________________________________________________________________\n",
      "max_pooling2d (MaxPooling2D) (None, 15, 15, 32)        0         \n",
      "_________________________________________________________________\n",
      "conv2d_1 (Conv2D)            (None, 13, 13, 64)        18496     \n",
      "_________________________________________________________________\n",
      "max_pooling2d_1 (MaxPooling2 (None, 6, 6, 64)          0         \n",
      "_________________________________________________________________\n",
      "flatten (Flatten)            (None, 2304)              0         \n",
      "_________________________________________________________________\n",
      "dense (Dense)                (None, 64)                147520    \n",
      "_________________________________________________________________\n",
      "dense_1 (Dense)              (None, 10)                650       \n",
      "=================================================================\n",
      "Total params: 167,562\n",
      "Trainable params: 167,562\n",
      "Non-trainable params: 0\n",
      "_________________________________________________________________\n"
     ]
    }
   ],
   "source": [
    "model = create_model()\n",
    "model.summary()"
   ]
  },
  {
   "cell_type": "code",
   "execution_count": 35,
   "id": "informed-width",
   "metadata": {},
   "outputs": [
    {
     "name": "stdout",
     "output_type": "stream",
     "text": [
      "Epoch 1/2\n",
      "1563/1563 [==============================] - 16s 10ms/step - loss: 0.9910 - accuracy: 0.6539 - val_loss: 1.0090 - val_accuracy: 0.6518\n",
      "Epoch 2/2\n",
      "1563/1563 [==============================] - 19s 12ms/step - loss: 0.9136 - accuracy: 0.6826 - val_loss: 0.9940 - val_accuracy: 0.6592\n"
     ]
    }
   ],
   "source": [
    "csv_logger = CSVLogger('training_history.log', separator=',', append=False )\n",
    "history = model.fit(img_train, label_train, epochs=2, callbacks=[csv_logger],\n",
    "                        validation_data=(img_test, label_test))"
   ]
  },
  {
   "cell_type": "code",
   "execution_count": 18,
   "id": "greater-maria",
   "metadata": {},
   "outputs": [
    {
     "data": {
      "image/png": "[encoded data removed]",
      "text/plain": [
       "<Figure size 1080x360 with 2 Axes>"
      ]
     },
     "metadata": {
      "needs_background": "light"
     },
     "output_type": "display_data"
    }
   ],
   "source": [
    "from ploting_script import plot_n_model\n",
    "plot_n_model(n=1, model_history=[history], label_list=['simple_cnn'], ylim_low=0, ylim_high=3)"
   ]
  },
  {
   "cell_type": "markdown",
   "id": "limiting-franklin",
   "metadata": {},
   "source": [
    "## Step 3. Saving model"
   ]
  },
  {
   "cell_type": "code",
   "execution_count": 30,
   "id": "timely-concept",
   "metadata": {},
   "outputs": [
    {
     "data": {
      "text/plain": [
       "{'loss': [1.4727492332458496, 1.1193556785583496],\n",
       " 'accuracy': [0.47422000765800476, 0.6078799962997437],\n",
       " 'val_loss': [1.287886381149292, 1.058988332748413],\n",
       " 'val_accuracy': [0.5320000052452087, 0.6305999755859375]}"
      ]
     },
     "execution_count": 30,
     "metadata": {},
     "output_type": "execute_result"
    }
   ],
   "source": [
    "model.history.history"
   ]
  },
  {
   "cell_type": "code",
   "execution_count": 22,
   "id": "gorgeous-allowance",
   "metadata": {},
   "outputs": [],
   "source": [
    "model.save(\"cifar_h5_model.h5\")"
   ]
  },
  {
   "cell_type": "markdown",
   "id": "heavy-sweet",
   "metadata": {},
   "source": [
    "## Step 3. Saving history"
   ]
  },
  {
   "cell_type": "code",
   "execution_count": null,
   "id": "convenient-constitution",
   "metadata": {},
   "outputs": [],
   "source": [
    "try:\n",
    "    import dill as pickle\n",
    "except ImportError:\n",
    "    import pickle\n",
    "    \n",
    "with open('trainHistoryDict', 'wb') as file_pi:\n",
    "    pickle.dump(history.history, file_pi)\n"
   ]
  },
  {
   "cell_type": "markdown",
   "id": "established-switch",
   "metadata": {},
   "source": [
    "## Step 4. Plotting history in new session"
   ]
  },
  {
   "cell_type": "code",
   "execution_count": 1,
   "id": "chronic-norwegian",
   "metadata": {},
   "outputs": [],
   "source": [
    "try:\n",
    "    import dill as pickle\n",
    "except ImportError:\n",
    "    import pickle\n",
    "\n",
    "new_history = pickle.load(open('trainHistoryDict', \"rb\"))"
   ]
  },
  {
   "cell_type": "code",
   "execution_count": 2,
   "id": "illegal-society",
   "metadata": {},
   "outputs": [
    {
     "name": "stdout",
     "output_type": "stream",
     "text": [
      "Help on function plot_n_model in module ploting_script:\n",
      "\n",
      "plot_n_model(n=2, model_history=[], ylim_low=0.4, ylim_high=1.0, label_list=[], leg_loc='lower left', is_saved_history=False)\n",
      "    n: no of history to be plotted\n",
      "    model_history : list of history name, ex [history_1, history_2]\n",
      "    label_list : list of label names, ex ['simple_model', 'model_cnn']\n",
      "    y_lim_low : lowest y scale\n",
      "    y_lim_high : highest y scale\n",
      "    leg_loc : location of legend ex: 'lower left', 'lower right', 'upper right', 'upper left'\n",
      "    is_saved_history : if plotting saved history via pickle \n",
      "                     try:\n",
      "                      import dill as pickle\n",
      "                     except ImportError:\n",
      "                        import pickle\n",
      "                     with open('trainHistoryDict', 'wb') as file_pi:\n",
      "                     pickle.dump(history.history, file_pi)\n",
      "                     calling_saved_history = pickle.load(open('trainHistoryDict', \"rb\"))\n",
      "    \n",
      "    @usage::plot_n_model(n=2, model_history=[history1, history2], label_list=['simple', 'complex'])\n",
      "\n"
     ]
    },
    {
     "data": {
      "text/plain": [
       "<Figure size 432x288 with 0 Axes>"
      ]
     },
     "metadata": {},
     "output_type": "display_data"
    }
   ],
   "source": [
    "from ploting_script import  plot_n_model"
   ]
  },
  {
   "cell_type": "code",
   "execution_count": 5,
   "id": "higher-crossing",
   "metadata": {},
   "outputs": [
    {
     "data": {
      "image/png": "[encoded data removed]",
      "text/plain": [
       "<Figure size 1080x360 with 2 Axes>"
      ]
     },
     "metadata": {
      "needs_background": "light"
     },
     "output_type": "display_data"
    }
   ],
   "source": [
    "plot_n_model(n=1, model_history=[new_history], label_list=['simple-cmm'], is_saved_history=True, ylim_high=3)"
   ]
  },
  {
   "cell_type": "markdown",
   "id": "electoral-davis",
   "metadata": {},
   "source": [
    "## 3. Calling H5 format back\n",
    "Note : Keras also supports saving a single HDF5 file containing the model's architecture, weights values, and compile() information. It is a light-weight alternative to SavedModel.\n",
    "\n"
   ]
  },
  {
   "cell_type": "code",
   "execution_count": 23,
   "id": "undefined-soldier",
   "metadata": {},
   "outputs": [],
   "source": [
    "reconstructed_model = keras.models.load_model(\"cifar_h5_model.h5\")"
   ]
  },
  {
   "cell_type": "code",
   "execution_count": 24,
   "id": "surprising-registration",
   "metadata": {},
   "outputs": [
    {
     "name": "stdout",
     "output_type": "stream",
     "text": [
      "Model: \"sequential\"\n",
      "_________________________________________________________________\n",
      "Layer (type)                 Output Shape              Param #   \n",
      "=================================================================\n",
      "conv2d (Conv2D)              (None, 30, 30, 32)        896       \n",
      "_________________________________________________________________\n",
      "max_pooling2d (MaxPooling2D) (None, 15, 15, 32)        0         \n",
      "_________________________________________________________________\n",
      "conv2d_1 (Conv2D)            (None, 13, 13, 64)        18496     \n",
      "_________________________________________________________________\n",
      "max_pooling2d_1 (MaxPooling2 (None, 6, 6, 64)          0         \n",
      "_________________________________________________________________\n",
      "flatten (Flatten)            (None, 2304)              0         \n",
      "_________________________________________________________________\n",
      "dense (Dense)                (None, 64)                147520    \n",
      "_________________________________________________________________\n",
      "dense_1 (Dense)              (None, 10)                650       \n",
      "=================================================================\n",
      "Total params: 167,562\n",
      "Trainable params: 167,562\n",
      "Non-trainable params: 0\n",
      "_________________________________________________________________\n"
     ]
    }
   ],
   "source": [
    "reconstructed_model.summary()"
   ]
  },
  {
   "cell_type": "code",
   "execution_count": 26,
   "id": "exclusive-joyce",
   "metadata": {},
   "outputs": [
    {
     "ename": "AttributeError",
     "evalue": "'NoneType' object has no attribute 'history'",
     "output_type": "error",
     "traceback": [
      "\u001b[0;31m---------------------------------------------------------------------------\u001b[0m",
      "\u001b[0;31mAttributeError\u001b[0m                            Traceback (most recent call last)",
      "\u001b[0;32m<ipython-input-26-ef258bff6276>\u001b[0m in \u001b[0;36m<module>\u001b[0;34m\u001b[0m\n\u001b[0;32m----> 1\u001b[0;31m \u001b[0mreconstructed_model\u001b[0m\u001b[0;34m.\u001b[0m\u001b[0mhistory\u001b[0m\u001b[0;34m.\u001b[0m\u001b[0mhistory\u001b[0m \u001b[0;31m## Unfortunately empty!!!!\u001b[0m\u001b[0;34m\u001b[0m\u001b[0;34m\u001b[0m\u001b[0m\n\u001b[0m",
      "\u001b[0;31mAttributeError\u001b[0m: 'NoneType' object has no attribute 'history'"
     ]
    }
   ],
   "source": [
    "reconstructed_model.history.history ## Unfortunately empty!!!!"
   ]
  },
  {
   "cell_type": "code",
   "execution_count": 28,
   "id": "becoming-distinction",
   "metadata": {},
   "outputs": [
    {
     "data": {
      "text/plain": [
       "array([[2.3575064e-03, 4.7499835e-04, 1.8141937e-02, ..., 4.7868112e-04,\n",
       "        1.3820591e-02, 3.0955710e-03],\n",
       "       [8.3902188e-02, 1.9574019e-01, 1.7073404e-04, ..., 2.1897295e-06,\n",
       "        6.4421302e-01, 7.5894304e-02],\n",
       "       [5.4354127e-02, 4.6858424e-01, 6.1098179e-03, ..., 1.4322747e-03,\n",
       "        3.0544794e-01, 1.5341224e-01],\n",
       "       ...,\n",
       "       [3.1993538e-04, 8.8946017e-06, 8.9617334e-02, ..., 3.6070876e-02,\n",
       "        8.9900168e-05, 3.6756674e-04],\n",
       "       [1.2420276e-02, 6.9622791e-01, 9.1827922e-03, ..., 7.0204623e-03,\n",
       "        1.1230045e-03, 2.2305511e-02],\n",
       "       [5.9909088e-04, 1.4925564e-03, 8.7260082e-03, ..., 8.4192073e-01,\n",
       "        7.0585273e-05, 7.4452236e-03]], dtype=float32)"
      ]
     },
     "execution_count": 28,
     "metadata": {},
     "output_type": "execute_result"
    }
   ],
   "source": [
    "reconstructed_model.predict(img_test)"
   ]
  },
  {
   "cell_type": "markdown",
   "id": "oriental-contractor",
   "metadata": {},
   "source": [
    "### Note\n",
    " The reconstructed model is already compiled and has retained the optimizer\n",
    " state, so training can resume:\n"
   ]
  },
  {
   "cell_type": "code",
   "execution_count": 38,
   "id": "orange-radar",
   "metadata": {},
   "outputs": [
    {
     "name": "stdout",
     "output_type": "stream",
     "text": [
      "313/313 [==============================] - 3s 10ms/step - loss: 1.0611 - accuracy: 0.6318\n"
     ]
    },
    {
     "data": {
      "text/plain": [
       "<tensorflow.python.keras.callbacks.History at 0x7fd544179670>"
      ]
     },
     "execution_count": 38,
     "metadata": {},
     "output_type": "execute_result"
    }
   ],
   "source": [
    "reconstructed_model.fit(img_test, label_test)"
   ]
  },
  {
   "cell_type": "markdown",
   "id": "organized-mining",
   "metadata": {},
   "source": [
    "## Step 4. Ploting history via script\n",
    "1. not working, need to optimize it\n",
    "2. I prefer pickle better"
   ]
  },
  {
   "cell_type": "code",
   "execution_count": 4,
   "id": "imported-curtis",
   "metadata": {},
   "outputs": [],
   "source": [
    "import json, codecs\n",
    "\n",
    "def saveHist(path, history):\n",
    "    with codecs.open(path, 'w', encoding='utf-8') as f:\n",
    "        json.dump(history, f, separators=(',', ':'), sort_keys=True, indent=4)\n",
    "\n",
    "def loadHist(path):\n",
    "    n = {} # set history to empty                                                                                                              \n",
    "    if os.path.exists(path): # reload history if it exists                                                                                     \n",
    "        with codecs.open(path, 'r', encoding='utf-8') as f:\n",
    "            n = json.loads(f.read())\n",
    "    return n\n",
    "\n",
    "def appendHist(h1, h2):\n",
    "    print('h1', h1, '\\n h2 :',h2)\n",
    "    if h1 == {}:\n",
    "        #print('h1 in loop:', h1)\n",
    "        return h2\n",
    "    else:\n",
    "        print(\"h2 in loop: \", h2)\n",
    "        print('h1 in sec loop', h1.history)\n",
    "        dest = {}\n",
    "        for key, value in h1.history.items():\n",
    "            dest[key] = value + h2[key]\n",
    "        return dest\n"
   ]
  },
  {
   "cell_type": "markdown",
   "id": "according-fighter",
   "metadata": {},
   "source": [
    "## 4. Comment\n",
    "### Limitations\n",
    "Compared to the SavedModel format, there are two things that don't get included in the H5 file:\n",
    "\n",
    "1. **External losses & metrics** added via model.add_loss() & model.add_metric() are not saved (unlike SavedModel). If you have such losses & metrics on your model and you want to resume training, you need to add these losses back yourself after loading the model. Note that this does not apply to losses/metrics created inside layers via self.add_loss() & self.add_metric(). As long as the layer gets loaded, these losses & metrics are kept, since they are part of the call method of the layer.\n",
    "2. **The computation graph of custom objects** such as custom layers is not included in the saved file. At loading time, Keras will need access to the Python classes/functions of these objects in order to reconstruct the model. See Custom objects.\n"
   ]
  },
  {
   "cell_type": "code",
   "execution_count": null,
   "id": "israeli-major",
   "metadata": {},
   "outputs": [],
   "source": []
  }
 ],
 "metadata": {
  "kernelspec": {
   "display_name": "Python 3",
   "language": "python",
   "name": "python3"
  },
  "language_info": {
   "codemirror_mode": {
    "name": "ipython",
    "version": 3
   },
   "file_extension": ".py",
   "mimetype": "text/x-python",
   "name": "python",
   "nbconvert_exporter": "python",
   "pygments_lexer": "ipython3",
   "version": "3.8.0"
  },
  "varInspector": {
   "cols": {
    "lenName": 16,
    "lenType": 16,
    "lenVar": 40
   },
   "kernels_config": {
    "python": {
     "delete_cmd_postfix": "",
     "delete_cmd_prefix": "del ",
     "library": "var_list.py",
     "varRefreshCmd": "print(var_dic_list())"
    },
    "r": {
     "delete_cmd_postfix": ") ",
     "delete_cmd_prefix": "rm(",
     "library": "var_list.r",
     "varRefreshCmd": "cat(var_dic_list()) "
    }
   },
   "position": {
    "height": "601px",
    "left": "1503px",
    "right": "20px",
    "top": "120px",
    "width": "350px"
   },
   "types_to_exclude": [
    "module",
    "function",
    "builtin_function_or_method",
    "instance",
    "_Feature"
   ],
   "window_display": false
  }
 },
 "nbformat": 4,
 "nbformat_minor": 5
}
