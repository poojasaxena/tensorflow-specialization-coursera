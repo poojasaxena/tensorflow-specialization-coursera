{
 "cells": [
  {
   "cell_type": "markdown",
   "metadata": {
    "colab_type": "text",
    "id": "view-in-github"
   },
   "source": [
    "<a href=\"https://colab.research.google.com/github/poojasaxena/tensorflow-developer-zertificate-coursera/blob/main/course2_convolutional-neural-networks-tensorflow/03_transfer-learning/Course_2_Part_6_Lesson_3_Notebook.ipynb\" target=\"_parent\"><img src=\"https://colab.research.google.com/assets/colab-badge.svg\" alt=\"Open In Colab\"/></a>"
   ]
  },
  {
   "cell_type": "code",
   "execution_count": 20,
   "metadata": {
    "id": "HcaYLqXoBtz-"
   },
   "outputs": [],
   "source": [
    "import os\n",
    "\n",
    "from tensorflow.keras import layers\n",
    "from tensorflow.keras import Model\n",
    "from tensorflow.keras.applications.inception_v3 import InceptionV3"
   ]
  },
  {
   "cell_type": "code",
   "execution_count": 21,
   "metadata": {
    "colab": {
     "base_uri": "https://localhost:8080/"
    },
    "id": "-ML1Oep8BxqH",
    "outputId": "84117f5f-14d7-4b57-8d59-fddea1012884"
   },
   "outputs": [
    {
     "name": "stdout",
     "output_type": "stream",
     "text": [
      ">>>>>>> inception_v3_weights file exist ['inception_v3_weights_tf_dim_ordering_tf_kernels_notop.h5', 'dap_multiplexer.f5058b7314c5.root.log.INFO.20210310-072547.48', 'debugger_96wpwb0cp', 'initgoogle_syslog_dir.0', 'dap_multiplexer.INFO']\n"
     ]
    }
   ],
   "source": [
    "if os.path.isfile('/tmp/inception_v3_weights_tf_dim_ordering_tf_kernels_notop.h5'):\n",
    "  print('>>>>>>> inception_v3_weights file exist', os.listdir('/tmp'))\n",
    "else:\n",
    "  print('>>>>>> Uploading inception h5 file in /tmp ============================')\n",
    "  !wget --no-check-certificate \\\n",
    "  https://storage.googleapis.com/mledu-datasets/inception_v3_weights_tf_dim_ordering_tf_kernels_notop.h5 \\\n",
    "  -O /tmp/inception_v3_weights_tf_dim_ordering_tf_kernels_notop.h5\n",
    "\n",
    "local_weights_file = '/tmp/inception_v3_weights_tf_dim_ordering_tf_kernels_notop.h5'\n",
    " "
   ]
  },
  {
   "cell_type": "code",
   "execution_count": 22,
   "metadata": {
    "colab": {
     "base_uri": "https://localhost:8080/"
    },
    "id": "1xJZ5glPPCRz",
    "outputId": "76616b39-bfed-4abf-babb-0e6fbe862713"
   },
   "outputs": [
    {
     "name": "stdout",
     "output_type": "stream",
     "text": [
      "last layer output shape:  (None, 7, 7, 768)\n"
     ]
    }
   ],
   "source": [
    "pre_trained_model = InceptionV3(input_shape = (150, 150, 3), #needed if include_top:False, E.g: (150,150,3)\n",
    "                                include_top = False,  #include_top: Boolean, if include the fully-connected layer at the top, as the last layer of the network. Default to `True`.\n",
    "                                weights = None)\n",
    "\n",
    "pre_trained_model.load_weights(local_weights_file)\n",
    "\n",
    "for layer in pre_trained_model.layers:\n",
    "  layer.trainable = False\n",
    "  \n",
    "# pre_trained_model.summary()\n",
    "\n",
    "last_layer = pre_trained_model.get_layer('mixed7')\n",
    "print('last layer output shape: ', last_layer.output_shape)\n",
    "last_output = last_layer.output"
   ]
  },
  {
   "cell_type": "code",
   "execution_count": 24,
   "metadata": {
    "id": "BMXb913pbvFg"
   },
   "outputs": [],
   "source": [
    "from tensorflow.keras.optimizers import RMSprop\n",
    "\n",
    "# Flatten the output layer to 1 dimension\n",
    "x = layers.Flatten()(last_output)\n",
    "# Add a fully connected layer with 1,024 hidden units and ReLU activation\n",
    "x = layers.Dense(1024, activation='relu')(x)\n",
    "# Add a dropout rate of 0.2\n",
    "x = layers.Dropout(0.2)(x)                  \n",
    "# Add a final sigmoid layer for classification\n",
    "x = layers.Dense  (1, activation='sigmoid')(x)           \n",
    "\n",
    "model = Model( pre_trained_model.input, x) \n",
    "\n",
    "model.compile(optimizer = RMSprop(lr=0.0001), \n",
    "              loss = 'binary_crossentropy', \n",
    "              metrics = ['accuracy'])\n"
   ]
  },
  {
   "cell_type": "code",
   "execution_count": 28,
   "metadata": {
    "colab": {
     "base_uri": "https://localhost:8080/"
    },
    "id": "-2SXxsnaNzAU",
    "outputId": "4f7d82b7-ebbf-430c-885c-92a23a9d09b8"
   },
   "outputs": [
    {
     "name": "stdout",
     "output_type": "stream",
     "text": [
      "cats_and_dogs_filtered.zip\n",
      "dap_multiplexer.f5058b7314c5.root.log.INFO.20210310-072547.48\n",
      "dap_multiplexer.INFO\n",
      "debugger_96wpwb0cp\n",
      "inception_v3_weights_tf_dim_ordering_tf_kernels_notop.h5\n",
      "initgoogle_syslog_dir.0\n"
     ]
    }
   ],
   "source": [
    "! ls /tmp/"
   ]
  },
  {
   "cell_type": "code",
   "execution_count": 29,
   "metadata": {
    "colab": {
     "base_uri": "https://localhost:8080/"
    },
    "id": "O4s8HckqGlnb",
    "outputId": "2a5a967f-47c6-43f1-fcee-ae6d6894da5a"
   },
   "outputs": [
    {
     "name": "stdout",
     "output_type": "stream",
     "text": [
      ">>>>>>>>>>>>>> Uploading dataset========\n",
      "--2021-03-10 08:19:04--  https://storage.googleapis.com/mledu-datasets/cats_and_dogs_filtered.zip\n",
      "Resolving storage.googleapis.com (storage.googleapis.com)... 172.253.122.128, 172.217.13.240, 172.253.63.128, ...\n",
      "Connecting to storage.googleapis.com (storage.googleapis.com)|172.253.122.128|:443... connected.\n",
      "HTTP request sent, awaiting response... 200 OK\n",
      "Length: 68606236 (65M) [application/zip]\n",
      "Saving to: ‘/tmp/cats_and_dogs_filtered.zip’\n",
      "\n",
      "/tmp/cats_and_dogs_ 100%[===================>]  65.43M   149MB/s    in 0.4s    \n",
      "\n",
      "2021-03-10 08:19:04 (149 MB/s) - ‘/tmp/cats_and_dogs_filtered.zip’ saved [68606236/68606236]\n",
      "\n",
      "Found 2000 images belonging to 2 classes.\n",
      "Found 1000 images belonging to 2 classes.\n"
     ]
    }
   ],
   "source": [
    "import zipfile\n",
    "from tensorflow.keras.preprocessing.image import ImageDataGenerator\n",
    "\n",
    "## upload cats_vs_dogs dataset\n",
    "local_zip = '/tmp/cats_and_dogs_filtered.zip'\n",
    "\n",
    "if os.path.exists('/tmp/cats_and_dogs_filtered'):\n",
    "  print('>>>>>>>>>>>>>>> Dataset exist:', os.listdir('/tmp/cats_and_dogs_filtered'))\n",
    "else:\n",
    "  print('>>>>>>>>>>>>>> Uploading dataset========') \n",
    "  !wget --no-check-certificate \\\n",
    "  https://storage.googleapis.com/mledu-datasets/cats_and_dogs_filtered.zip \\\n",
    "  -O /tmp/cats_and_dogs_filtered.zip\n",
    "  zip_ref = zipfile.ZipFile(local_zip, 'r')\n",
    "  zip_ref.extractall('/tmp')\n",
    "  zip_ref.close()\n",
    "\n",
    "\n",
    "# Define our example directories and files\n",
    "base_dir = '/tmp/cats_and_dogs_filtered'\n",
    "\n",
    "train_dir = os.path.join( base_dir, 'train')\n",
    "validation_dir = os.path.join( base_dir, 'validation')\n",
    "\n",
    "train_cats_dir = os.path.join(train_dir, 'cats') # Directory with our training cat pictures\n",
    "train_dogs_dir = os.path.join(train_dir, 'dogs') # Directory with our training dog pictures\n",
    "validation_cats_dir = os.path.join(validation_dir, 'cats') # Directory with our validation cat pictures\n",
    "validation_dogs_dir = os.path.join(validation_dir, 'dogs')# Directory with our validation dog pictures\n",
    "\n",
    "train_cat_fnames = os.listdir(train_cats_dir)\n",
    "train_dog_fnames = os.listdir(train_dogs_dir)\n",
    "\n",
    "# Add our data-augmentation parameters to ImageDataGenerator\n",
    "train_datagen = ImageDataGenerator(rescale = 1./255.,\n",
    "                                   rotation_range = 40,\n",
    "                                   width_shift_range = 0.2,\n",
    "                                   height_shift_range = 0.2,\n",
    "                                   shear_range = 0.2,\n",
    "                                   zoom_range = 0.2,\n",
    "                                   horizontal_flip = True)\n",
    "\n",
    "# Note that the validation data should not be augmented!\n",
    "test_datagen = ImageDataGenerator( rescale = 1.0/255. )\n",
    "\n",
    "# Flow training images in batches of 20 using train_datagen generator\n",
    "train_generator = train_datagen.flow_from_directory(train_dir,\n",
    "                                                    batch_size = 20,\n",
    "                                                    class_mode = 'binary', \n",
    "                                                    target_size = (150, 150))     \n",
    "\n",
    "# Flow validation images in batches of 20 using test_datagen generator\n",
    "validation_generator =  test_datagen.flow_from_directory( validation_dir,\n",
    "                                                          batch_size  = 20,\n",
    "                                                          class_mode  = 'binary', \n",
    "                                                          target_size = (150, 150))"
   ]
  },
  {
   "cell_type": "code",
   "execution_count": 30,
   "metadata": {
    "colab": {
     "base_uri": "https://localhost:8080/"
    },
    "id": "Blhq2MAUeyGA",
    "outputId": "2e7e4b61-b1f4-47ed-8667-b8e2fbe78337"
   },
   "outputs": [
    {
     "name": "stdout",
     "output_type": "stream",
     "text": [
      "Epoch 1/20\n",
      "100/100 - 53s - loss: 0.3683 - accuracy: 0.8510 - val_loss: 0.1080 - val_accuracy: 0.9610\n",
      "Epoch 2/20\n",
      "100/100 - 18s - loss: 0.2172 - accuracy: 0.9215 - val_loss: 0.1738 - val_accuracy: 0.9420\n",
      "Epoch 3/20\n",
      "100/100 - 18s - loss: 0.2132 - accuracy: 0.9175 - val_loss: 0.1124 - val_accuracy: 0.9610\n",
      "Epoch 4/20\n",
      "100/100 - 18s - loss: 0.1846 - accuracy: 0.9305 - val_loss: 0.1741 - val_accuracy: 0.9510\n",
      "Epoch 5/20\n",
      "100/100 - 18s - loss: 0.1624 - accuracy: 0.9390 - val_loss: 0.1072 - val_accuracy: 0.9670\n",
      "Epoch 6/20\n",
      "100/100 - 18s - loss: 0.1626 - accuracy: 0.9435 - val_loss: 0.1049 - val_accuracy: 0.9690\n",
      "Epoch 7/20\n",
      "100/100 - 18s - loss: 0.1908 - accuracy: 0.9340 - val_loss: 0.1001 - val_accuracy: 0.9680\n",
      "Epoch 8/20\n",
      "100/100 - 18s - loss: 0.1635 - accuracy: 0.9385 - val_loss: 0.1219 - val_accuracy: 0.9680\n",
      "Epoch 9/20\n",
      "100/100 - 18s - loss: 0.1639 - accuracy: 0.9395 - val_loss: 0.1137 - val_accuracy: 0.9670\n",
      "Epoch 10/20\n",
      "100/100 - 18s - loss: 0.1561 - accuracy: 0.9480 - val_loss: 0.1302 - val_accuracy: 0.9670\n",
      "Epoch 11/20\n",
      "100/100 - 18s - loss: 0.1748 - accuracy: 0.9420 - val_loss: 0.0942 - val_accuracy: 0.9710\n",
      "Epoch 12/20\n",
      "100/100 - 18s - loss: 0.1665 - accuracy: 0.9430 - val_loss: 0.0923 - val_accuracy: 0.9730\n",
      "Epoch 13/20\n",
      "100/100 - 17s - loss: 0.1231 - accuracy: 0.9540 - val_loss: 0.1372 - val_accuracy: 0.9650\n",
      "Epoch 14/20\n",
      "100/100 - 18s - loss: 0.1205 - accuracy: 0.9575 - val_loss: 0.1237 - val_accuracy: 0.9650\n",
      "Epoch 15/20\n",
      "100/100 - 18s - loss: 0.1602 - accuracy: 0.9500 - val_loss: 0.1512 - val_accuracy: 0.9610\n",
      "Epoch 16/20\n",
      "100/100 - 18s - loss: 0.1196 - accuracy: 0.9560 - val_loss: 0.1263 - val_accuracy: 0.9690\n",
      "Epoch 17/20\n",
      "100/100 - 18s - loss: 0.1382 - accuracy: 0.9565 - val_loss: 0.1202 - val_accuracy: 0.9710\n",
      "Epoch 18/20\n",
      "100/100 - 18s - loss: 0.1268 - accuracy: 0.9605 - val_loss: 0.1198 - val_accuracy: 0.9720\n",
      "Epoch 19/20\n",
      "100/100 - 18s - loss: 0.1250 - accuracy: 0.9595 - val_loss: 0.1427 - val_accuracy: 0.9650\n",
      "Epoch 20/20\n",
      "100/100 - 18s - loss: 0.1163 - accuracy: 0.9595 - val_loss: 0.1264 - val_accuracy: 0.9680\n"
     ]
    }
   ],
   "source": [
    "history = model.fit(\n",
    "            train_generator,\n",
    "            validation_data = validation_generator,\n",
    "            steps_per_epoch = 100, ## 2000 = steps_per_epoch * epochs\n",
    "            epochs = 20,\n",
    "            validation_steps = 50,\n",
    "            verbose = 2)"
   ]
  },
  {
   "cell_type": "code",
   "execution_count": 34,
   "metadata": {
    "colab": {
     "base_uri": "https://localhost:8080/",
     "height": 562
    },
    "id": "C2Fp6Se9rKuL",
    "outputId": "0f5a3a25-fe85-4c61-921e-0497eada2a8a"
   },
   "outputs": [
    {
     "data": {
      "image/png": "[encoded data removed]",
      "text/plain": [
       "<Figure size 432x288 with 1 Axes>"
      ]
     },
     "metadata": {
      "needs_background": "light",
      "tags": []
     },
     "output_type": "display_data"
    },
    {
     "data": {
      "image/png": "[encoded data removed]",
      "text/plain": [
       "<Figure size 432x288 with 1 Axes>"
      ]
     },
     "metadata": {
      "needs_background": "light",
      "tags": []
     },
     "output_type": "display_data"
    },
    {
     "data": {
      "text/plain": [
       "<Figure size 432x288 with 0 Axes>"
      ]
     },
     "metadata": {
      "tags": []
     },
     "output_type": "display_data"
    }
   ],
   "source": [
    "import matplotlib.pyplot as plt\n",
    "acc = history.history['accuracy']\n",
    "val_acc = history.history['val_accuracy']\n",
    "\n",
    "loss = history.history['loss']\n",
    "val_loss = history.history['val_loss']\n",
    "\n",
    "epochs = range(len(acc))\n",
    "\n",
    "plt.plot(epochs, acc, 'r', label='Training accuracy')\n",
    "plt.plot(epochs, val_acc, 'b', label='Validation accuracy')\n",
    "plt.title('Training and validation accuracy')\n",
    "plt.grid(True)\n",
    "plt.legend(loc=0)\n",
    "plt.figure()\n",
    "\n",
    "plt.plot(epochs, loss, 'r', label='Training accuracy')\n",
    "plt.plot(epochs, val_loss, 'b', label='Validation accuracy')\n",
    "plt.title('Training and validation loss')\n",
    "plt.legend(loc=0)\n",
    "plt.grid(True)\n",
    "plt.figure()\n",
    "\n",
    "\n",
    "plt.show()"
   ]
  },
  {
   "cell_type": "code",
   "execution_count": null,
   "metadata": {
    "id": "l1IU7EHTPi6n"
   },
   "outputs": [],
   "source": []
  }
 ],
 "metadata": {
  "accelerator": "GPU",
  "colab": {
   "collapsed_sections": [],
   "include_colab_link": true,
   "name": "Course 2 - Part 6 - Lesson 3 - Notebook.ipynb",
   "provenance": [],
   "toc_visible": true
  },
  "kernelspec": {
   "display_name": "Python 3",
   "language": "python",
   "name": "python3"
  },
  "language_info": {
   "codemirror_mode": {
    "name": "ipython",
    "version": 3
   },
   "file_extension": ".py",
   "mimetype": "text/x-python",
   "name": "python",
   "nbconvert_exporter": "python",
   "pygments_lexer": "ipython3",
   "version": "3.8.0"
  },
  "varInspector": {
   "cols": {
    "lenName": 16,
    "lenType": 16,
    "lenVar": 40
   },
   "kernels_config": {
    "python": {
     "delete_cmd_postfix": "",
     "delete_cmd_prefix": "del ",
     "library": "var_list.py",
     "varRefreshCmd": "print(var_dic_list())"
    },
    "r": {
     "delete_cmd_postfix": ") ",
     "delete_cmd_prefix": "rm(",
     "library": "var_list.r",
     "varRefreshCmd": "cat(var_dic_list()) "
    }
   },
   "types_to_exclude": [
    "module",
    "function",
    "builtin_function_or_method",
    "instance",
    "_Feature"
   ],
   "window_display": false
  }
 },
 "nbformat": 4,
 "nbformat_minor": 1
}
