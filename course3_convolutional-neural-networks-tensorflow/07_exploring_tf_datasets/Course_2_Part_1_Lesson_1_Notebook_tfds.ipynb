{
  "nbformat": 4,
  "nbformat_minor": 5,
  "metadata": {
    "kernelspec": {
      "display_name": "Python 3",
      "language": "python",
      "name": "python3"
    },
    "language_info": {
      "codemirror_mode": {
        "name": "ipython",
        "version": 3
      },
      "file_extension": ".py",
      "mimetype": "text/x-python",
      "name": "python",
      "nbconvert_exporter": "python",
      "pygments_lexer": "ipython3",
      "version": "3.8.0"
    },
    "varInspector": {
      "cols": {
        "lenName": 16,
        "lenType": 16,
        "lenVar": 40
      },
      "kernels_config": {
        "python": {
          "delete_cmd_postfix": "",
          "delete_cmd_prefix": "del ",
          "library": "var_list.py",
          "varRefreshCmd": "print(var_dic_list())"
        },
        "r": {
          "delete_cmd_postfix": ") ",
          "delete_cmd_prefix": "rm(",
          "library": "var_list.r",
          "varRefreshCmd": "cat(var_dic_list()) "
        }
      },
      "types_to_exclude": [
        "module",
        "function",
        "builtin_function_or_method",
        "instance",
        "_Feature"
      ],
      "window_display": false
    },
    "colab": {
      "name": "Course_2_Part_1_Lesson_1_Notebook_tfds.ipynb",
      "provenance": [],
      "include_colab_link": true
    }
  },
  "cells": [
    {
      "cell_type": "markdown",
      "metadata": {
        "id": "view-in-github",
        "colab_type": "text"
      },
      "source": [
        "<a href=\"https://colab.research.google.com/github/poojasaxena/tensorflow-developer-zertificate-coursera/blob/main/course2_convolutional-neural-networks-tensorflow/07_exploring_tf_datasets/Course_2_Part_1_Lesson_1_Notebook_tfds.ipynb\" target=\"_parent\"><img src=\"https://colab.research.google.com/assets/colab-badge.svg\" alt=\"Open In Colab\"/></a>"
      ]
    },
    {
      "cell_type": "markdown",
      "metadata": {
        "id": "LWwv8QEJ7Uv5"
      },
      "source": [
        "# Introduction\n",
        "TFDS provides a collection of ready-to-use datasets for use with TensorFlow, Jax, and other Machine Learning frameworks.\n",
        "\n",
        "It handles downloading and preparing the data deterministically and constructing a tf.data.Dataset (or np.array).\n",
        "\n"
      ],
      "id": "LWwv8QEJ7Uv5"
    },
    {
      "cell_type": "code",
      "metadata": {
        "id": "4xPksF8k7XwF"
      },
      "source": [
        ""
      ],
      "id": "4xPksF8k7XwF",
      "execution_count": null,
      "outputs": []
    },
    {
      "cell_type": "markdown",
      "metadata": {
        "id": "PbyLc3TL7Yi7"
      },
      "source": [
        "#Installation\n",
        "TFDS exists in two packages:\n",
        "\n",
        "1. pip install tensorflow-datasets: The stable version, released every few months.\n",
        "2. pip install tfds-nightly: Released every day, contains the last versions of the datasets.\n",
        "\n",
        "This colab uses tfds-nightly:\n",
        "\n"
      ],
      "id": "PbyLc3TL7Yi7"
    },
    {
      "cell_type": "code",
      "metadata": {
        "id": "Qp_68WgQ7awU",
        "outputId": "dd66dcbf-935f-425c-f7a3-40883c9ed993",
        "colab": {
          "base_uri": "https://localhost:8080/"
        }
      },
      "source": [
        "pip install -q tfds-nightly tensorflow matplotlib"
      ],
      "id": "Qp_68WgQ7awU",
      "execution_count": 1,
      "outputs": [
        {
          "output_type": "stream",
          "text": [
            "\u001b[K     |████████████████████████████████| 3.9MB 27.1MB/s \n",
            "\u001b[?25h"
          ],
          "name": "stdout"
        }
      ]
    },
    {
      "cell_type": "code",
      "metadata": {
        "id": "SJDvp1c68JiK"
      },
      "source": [
        "import tensorflow as tf\n",
        "import numpy as np\n",
        "import matplotlib.pyplot as plt\n",
        "import tensorflow_datasets as tfds    "
      ],
      "id": "SJDvp1c68JiK",
      "execution_count": 4,
      "outputs": []
    },
    {
      "cell_type": "markdown",
      "metadata": {
        "id": "H8kzZ9x97bG1"
      },
      "source": [
        "# Find available datasets"
      ],
      "id": "H8kzZ9x97bG1"
    },
    {
      "cell_type": "code",
      "metadata": {
        "id": "EZiakqZ47gy9"
      },
      "source": [
        "## To find all the availalbe datesets\n",
        "#tfds.list_builders() "
      ],
      "id": "EZiakqZ47gy9",
      "execution_count": 4,
      "outputs": []
    },
    {
      "cell_type": "code",
      "metadata": {
        "id": "Cj0CYaMM8XQi",
        "outputId": "10d6740d-3eff-4811-f43a-54e751f5ec6d",
        "colab": {
          "base_uri": "https://localhost:8080/"
        }
      },
      "source": [
        "[data for data in tfds.list_builders() if \"cat\" in data]"
      ],
      "id": "Cj0CYaMM8XQi",
      "execution_count": 6,
      "outputs": [
        {
          "output_type": "execute_result",
          "data": {
            "text/plain": [
              "['cats_vs_dogs',\n",
              " 'visual_domain_decathlon',\n",
              " 'huggingface:acronym_identification',\n",
              " 'huggingface:catalonia_independence',\n",
              " 'huggingface:interpress_news_category_tr']"
            ]
          },
          "metadata": {
            "tags": []
          },
          "execution_count": 6
        }
      ]
    },
    {
      "cell_type": "markdown",
      "metadata": {
        "id": "25m92dUh7hJy"
      },
      "source": [
        "# Load a Dataset\n",
        "The easiest way of loading a dataset is *tfds.load*. It will:\n",
        "\n",
        "1. Download the data and save it as *tfrecord* files.\n",
        "2. Load the tfrecord and create the *tf.data.Dataset*."
      ],
      "id": "25m92dUh7hJy"
    },
    {
      "cell_type": "markdown",
      "metadata": {
        "id": "Gorz41lP_bqh"
      },
      "source": [
        "## 4.1 tfds.load\n",
        "tfds.load is a thin wrapper around tfds.core.DatasetBuilder."
      ],
      "id": "Gorz41lP_bqh"
    },
    {
      "cell_type": "code",
      "metadata": {
        "id": "T9sVXKfZ7kzA"
      },
      "source": [
        "ds, info = tfds.load(name='mnist', split='train', as_supervised=True, shuffle_files=True, with_info=True)"
      ],
      "id": "T9sVXKfZ7kzA",
      "execution_count": 19,
      "outputs": []
    },
    {
      "cell_type": "code",
      "metadata": {
        "id": "LFSiz0Sn91h1"
      },
      "source": [
        "assert isinstance(ds, tf.data.Dataset)"
      ],
      "id": "LFSiz0Sn91h1",
      "execution_count": 17,
      "outputs": []
    },
    {
      "cell_type": "code",
      "metadata": {
        "id": "C4FITsOL9mMW",
        "outputId": "3ec4b9ca-d923-44fe-896f-27fdb5a87d48",
        "colab": {
          "base_uri": "https://localhost:8080/"
        }
      },
      "source": [
        "print(ds)"
      ],
      "id": "C4FITsOL9mMW",
      "execution_count": 20,
      "outputs": [
        {
          "output_type": "stream",
          "text": [
            "<_OptionsDataset shapes: ((28, 28, 1), ()), types: (tf.uint8, tf.int64)>\n"
          ],
          "name": "stdout"
        }
      ]
    },
    {
      "cell_type": "code",
      "metadata": {
        "id": "c3ndsXs2_wH5",
        "outputId": "35e7941d-f58e-4d4b-a885-bfbe8949a5fd",
        "colab": {
          "base_uri": "https://localhost:8080/"
        }
      },
      "source": [
        "print(info)"
      ],
      "id": "c3ndsXs2_wH5",
      "execution_count": 22,
      "outputs": [
        {
          "output_type": "stream",
          "text": [
            "tfds.core.DatasetInfo(\n",
            "    name='mnist',\n",
            "    full_name='mnist/3.0.1',\n",
            "    description=\"\"\"\n",
            "    The MNIST database of handwritten digits.\n",
            "    \"\"\",\n",
            "    homepage='http://yann.lecun.com/exdb/mnist/',\n",
            "    data_path='/root/tensorflow_datasets/mnist/3.0.1',\n",
            "    download_size=11.06 MiB,\n",
            "    dataset_size=21.00 MiB,\n",
            "    features=FeaturesDict({\n",
            "        'image': Image(shape=(28, 28, 1), dtype=tf.uint8),\n",
            "        'label': ClassLabel(shape=(), dtype=tf.int64, num_classes=10),\n",
            "    }),\n",
            "    supervised_keys=('image', 'label'),\n",
            "    disable_shuffling=False,\n",
            "    splits={\n",
            "        'test': <SplitInfo num_examples=10000, num_shards=1>,\n",
            "        'train': <SplitInfo num_examples=60000, num_shards=1>,\n",
            "    },\n",
            "    citation=\"\"\"@article{lecun2010mnist,\n",
            "      title={MNIST handwritten digit database},\n",
            "      author={LeCun, Yann and Cortes, Corinna and Burges, CJ},\n",
            "      journal={ATT Labs [Online]. Available: http://yann.lecun.com/exdb/mnist},\n",
            "      volume={2},\n",
            "      year={2010}\n",
            "    }\"\"\",\n",
            ")\n"
          ],
          "name": "stdout"
        }
      ]
    },
    {
      "cell_type": "code",
      "metadata": {
        "id": "mEtD2XBj_13W",
        "outputId": "f25f445e-9d08-4781-b5cb-72edc1d93aaf",
        "colab": {
          "base_uri": "https://localhost:8080/"
        }
      },
      "source": [
        "type(ds)"
      ],
      "id": "mEtD2XBj_13W",
      "execution_count": 28,
      "outputs": [
        {
          "output_type": "execute_result",
          "data": {
            "text/plain": [
              "tensorflow.python.data.ops.dataset_ops._OptionsDataset"
            ]
          },
          "metadata": {
            "tags": []
          },
          "execution_count": 28
        }
      ]
    },
    {
      "cell_type": "markdown",
      "metadata": {
        "id": "uQf25w_8_jFN"
      },
      "source": [
        "## 4.2 tfds.builder"
      ],
      "id": "uQf25w_8_jFN"
    },
    {
      "cell_type": "code",
      "metadata": {
        "id": "XUgeRebd_mlU"
      },
      "source": [
        "builder = tfds.builder('mnist')"
      ],
      "id": "XUgeRebd_mlU",
      "execution_count": 29,
      "outputs": []
    },
    {
      "cell_type": "code",
      "metadata": {
        "id": "ib2gRmWDAs0b"
      },
      "source": [
        "# 1. Create the tfrecord files (no-op if already exists)\n",
        "builder.download_and_prepare()\n"
      ],
      "id": "ib2gRmWDAs0b",
      "execution_count": 30,
      "outputs": []
    },
    {
      "cell_type": "code",
      "metadata": {
        "id": "3JQSyswvAxMh",
        "outputId": "f9869e7e-e989-4f2c-de92-eb51075f22ec",
        "colab": {
          "base_uri": "https://localhost:8080/"
        }
      },
      "source": [
        "# 2. Load the `tf.data.Dataset`\n",
        "ds = builder.as_dataset(split='train', shuffle_files=True, as_supervised=True)\n",
        "print(ds)"
      ],
      "id": "3JQSyswvAxMh",
      "execution_count": 38,
      "outputs": [
        {
          "output_type": "stream",
          "text": [
            "<_OptionsDataset shapes: ((28, 28, 1), ()), types: (tf.uint8, tf.int64)>\n"
          ],
          "name": "stdout"
        }
      ]
    },
    {
      "cell_type": "code",
      "metadata": {
        "id": "yXfHfX42A2yA"
      },
      "source": [
        "assert isinstance(ds, tf.data.Dataset)"
      ],
      "id": "yXfHfX42A2yA",
      "execution_count": 39,
      "outputs": []
    },
    {
      "cell_type": "code",
      "metadata": {
        "id": "CJwcpQ-t7k3z",
        "outputId": "a229cfbb-8659-4821-af2a-a1a6301f3951",
        "colab": {
          "base_uri": "https://localhost:8080/"
        }
      },
      "source": [
        "type(ds)"
      ],
      "id": "CJwcpQ-t7k3z",
      "execution_count": 40,
      "outputs": [
        {
          "output_type": "execute_result",
          "data": {
            "text/plain": [
              "tensorflow.python.data.ops.dataset_ops._OptionsDataset"
            ]
          },
          "metadata": {
            "tags": []
          },
          "execution_count": 40
        }
      ]
    },
    {
      "cell_type": "code",
      "metadata": {
        "id": "ujt-bZqtA-Zf",
        "outputId": "8b89e63f-87cd-4f74-fc9d-5f8f25ef38ef",
        "colab": {
          "base_uri": "https://localhost:8080/"
        }
      },
      "source": [
        "print(ds)"
      ],
      "id": "ujt-bZqtA-Zf",
      "execution_count": 41,
      "outputs": [
        {
          "output_type": "stream",
          "text": [
            "<_OptionsDataset shapes: ((28, 28, 1), ()), types: (tf.uint8, tf.int64)>\n"
          ],
          "name": "stdout"
        }
      ]
    },
    {
      "cell_type": "markdown",
      "metadata": {
        "id": "y6noS0jsBRuc"
      },
      "source": [
        "## 4.3 tfds.build CLI\n",
        "If you want to generate a specific dataset, you can use the tfds command line. For example:\n",
        "\n"
      ],
      "id": "y6noS0jsBRuc"
    },
    {
      "cell_type": "code",
      "metadata": {
        "id": "g2qNAR6ZBWzv",
        "outputId": "91239f46-9e05-4f1f-b26d-71686dd10a15",
        "colab": {
          "base_uri": "https://localhost:8080/",
          "height": 130
        }
      },
      "source": [
        "tfds build mnist"
      ],
      "id": "g2qNAR6ZBWzv",
      "execution_count": 45,
      "outputs": [
        {
          "output_type": "error",
          "ename": "SyntaxError",
          "evalue": "ignored",
          "traceback": [
            "\u001b[0;36m  File \u001b[0;32m\"<ipython-input-45-61fd027d5bdf>\"\u001b[0;36m, line \u001b[0;32m1\u001b[0m\n\u001b[0;31m    tfds build mnist\u001b[0m\n\u001b[0m             ^\u001b[0m\n\u001b[0;31mSyntaxError\u001b[0m\u001b[0;31m:\u001b[0m invalid syntax\n"
          ]
        }
      ]
    },
    {
      "cell_type": "markdown",
      "metadata": {
        "id": "DXAqaTS1CJFb"
      },
      "source": [
        "## 5. Iterate over a dataset"
      ],
      "id": "DXAqaTS1CJFb"
    },
    {
      "cell_type": "markdown",
      "metadata": {
        "id": "uiTyINFTCNcO"
      },
      "source": [
        "## 5.1 As dict\n",
        "By default, the tf.data.Dataset object contains a dict of tf.Tensors:\n",
        "\n"
      ],
      "id": "uiTyINFTCNcO"
    },
    {
      "cell_type": "code",
      "metadata": {
        "id": "h81x1n5ICTeD"
      },
      "source": [
        "ds = tfds.load('mnist', split='train')"
      ],
      "id": "h81x1n5ICTeD",
      "execution_count": 5,
      "outputs": []
    },
    {
      "cell_type": "code",
      "metadata": {
        "id": "3WJ3OytbC__C",
        "outputId": "37d72927-05b1-4c62-cd6f-16ad355f0aa4",
        "colab": {
          "base_uri": "https://localhost:8080/"
        }
      },
      "source": [
        "for example in ds.take(2):\n",
        "  print(list(example.keys()))\n",
        "  image = example['image']\n",
        "  label = example['label']\n",
        "  print(image.shape, label)"
      ],
      "id": "3WJ3OytbC__C",
      "execution_count": 8,
      "outputs": [
        {
          "output_type": "stream",
          "text": [
            "['image', 'label']\n",
            "(28, 28, 1) tf.Tensor(4, shape=(), dtype=int64)\n",
            "['image', 'label']\n",
            "(28, 28, 1) tf.Tensor(1, shape=(), dtype=int64)\n"
          ],
          "name": "stdout"
        }
      ]
    },
    {
      "cell_type": "markdown",
      "metadata": {
        "id": "lvFi-QZSeQcz"
      },
      "source": [
        "## 5.2 As tuple"
      ],
      "id": "lvFi-QZSeQcz"
    },
    {
      "cell_type": "code",
      "metadata": {
        "id": "nSffhi_5eSn5"
      },
      "source": [
        "ds = tfds.load('mnist', split='train', as_supervised=True)\n"
      ],
      "id": "nSffhi_5eSn5",
      "execution_count": 10,
      "outputs": []
    },
    {
      "cell_type": "code",
      "metadata": {
        "id": "LfKKp_95fCD5",
        "outputId": "eef2a91f-7745-4f17-f343-4d1c126e4220",
        "colab": {
          "base_uri": "https://localhost:8080/"
        }
      },
      "source": [
        "for image, label in ds.take(2):\n",
        "  print(image.shape, label)"
      ],
      "id": "LfKKp_95fCD5",
      "execution_count": 11,
      "outputs": [
        {
          "output_type": "stream",
          "text": [
            "(28, 28, 1) tf.Tensor(4, shape=(), dtype=int64)\n",
            "(28, 28, 1) tf.Tensor(1, shape=(), dtype=int64)\n"
          ],
          "name": "stdout"
        }
      ]
    },
    {
      "cell_type": "markdown",
      "metadata": {
        "id": "3m6rrg6OfLJ8"
      },
      "source": [
        "## 5.3 As Numpy\n",
        "\n",
        "Uses tfds.as_numpy to convert:\n",
        "\n",
        "1. tf.Tensor -> np.array\n",
        "2. tf.data.Dataset -> Iterator[Tree[np.array]] (Tree can be arbitrary nested Dict, Tuple)\n",
        "\n",
        "\n"
      ],
      "id": "3m6rrg6OfLJ8"
    },
    {
      "cell_type": "code",
      "metadata": {
        "id": "VGiMX6HgfNuJ",
        "outputId": "039113ff-1ecc-4fd2-ea6a-9be411b06a1e",
        "colab": {
          "base_uri": "https://localhost:8080/"
        }
      },
      "source": [
        "ds = tfds.load('mnist', as_supervised=True, split='train')\n",
        "for image, label in tfds.as_numpy(ds.take(4)):\n",
        "  print(type(image), type(label), label)"
      ],
      "id": "VGiMX6HgfNuJ",
      "execution_count": 30,
      "outputs": [
        {
          "output_type": "stream",
          "text": [
            "<class 'numpy.ndarray'> <class 'numpy.int64'> 4\n",
            "<class 'numpy.ndarray'> <class 'numpy.int64'> 1\n",
            "<class 'numpy.ndarray'> <class 'numpy.int64'> 0\n",
            "<class 'numpy.ndarray'> <class 'numpy.int64'> 7\n"
          ],
          "name": "stdout"
        }
      ]
    },
    {
      "cell_type": "markdown",
      "metadata": {
        "id": "ECe_kHA1hW1Z"
      },
      "source": [
        "## 5.4 As batched tf.Tensor (batch_size=-1)\n",
        "By using batch_size=-1, you can load the full dataset in a single batch.\n",
        "\n",
        "This can be combined with as_supervised=True and tfds.as_numpy to get the the data as (np.array, np.array):\n",
        "\n"
      ],
      "id": "ECe_kHA1hW1Z"
    },
    {
      "cell_type": "code",
      "metadata": {
        "id": "rEOYDiqKhZTc",
        "outputId": "a983a378-05e5-4253-e55d-abd323af32d2",
        "colab": {
          "base_uri": "https://localhost:8080/"
        }
      },
      "source": [
        "image, label = tfds.as_numpy(tfds.load(\n",
        "    'mnist',\n",
        "    split='test',\n",
        "    batch_size=-1,\n",
        "    as_supervised=True,\n",
        "))\n",
        "\n",
        "print(type(image), image.shape)"
      ],
      "id": "rEOYDiqKhZTc",
      "execution_count": 31,
      "outputs": [
        {
          "output_type": "stream",
          "text": [
            "<class 'numpy.ndarray'> (10000, 28, 28, 1)\n"
          ],
          "name": "stdout"
        }
      ]
    },
    {
      "cell_type": "code",
      "metadata": {
        "id": "mEUgMJSrhg7Z"
      },
      "source": [
        ""
      ],
      "id": "mEUgMJSrhg7Z",
      "execution_count": null,
      "outputs": []
    }
  ]
}