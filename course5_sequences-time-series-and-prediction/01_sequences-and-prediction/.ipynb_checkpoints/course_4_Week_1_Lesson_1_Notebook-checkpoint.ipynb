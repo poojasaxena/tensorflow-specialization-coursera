{
 "cells": [
  {
   "cell_type": "code",
   "execution_count": null,
   "metadata": {},
   "outputs": [],
   "source": [
    "import numpy as np\n",
    "import matplotlib.pyplot as plt"
   ]
  },
  {
   "cell_type": "code",
   "execution_count": null,
   "metadata": {},
   "outputs": [],
   "source": [
    "\n",
    "def plot_series(time, series):\n",
    "    plt.figure(figsize=(10, 6))\n",
    "    plt.plot(time, series)\n",
    "    plt.xlabel(\"time\")\n",
    "    plt.ylabel(\"value\")\n",
    "    plt.grid(True)\n",
    "    plt.show()"
   ]
  },
  {
   "cell_type": "code",
   "execution_count": null,
   "metadata": {},
   "outputs": [],
   "source": [
    "def trend(time, slope=0):\n",
    "    return slope * time\n"
   ]
  },
  {
   "cell_type": "code",
   "execution_count": null,
   "metadata": {},
   "outputs": [],
   "source": [
    "time = np.arange(4 * 365 + 1)\n",
    "baseline = 10\n",
    "series = trend(time, 0.1)\n",
    "plot_series(time, series)"
   ]
  },
  {
   "cell_type": "code",
   "execution_count": null,
   "metadata": {},
   "outputs": [],
   "source": [
    "\n",
    "def seasonal_pattern(season_time):\n",
    "    return np.where(season_time < 0.4,\n",
    "                    np.cos(season_time * 2 * np.pi),\n",
    "                    1 / np.exp(3 * season_time))\n",
    "\n",
    "def seasonality(time, period, amplitude=1, phase=0):\n",
    "    season_time = ((time + phase) % period) / period\n",
    "    return amplitude * seasonal_pattern(season_time)"
   ]
  },
  {
   "cell_type": "code",
   "execution_count": null,
   "metadata": {},
   "outputs": [],
   "source": [
    "baseline = 10\n",
    "amplitude = 40\n",
    "series = seasonality(time, period=365, amplitude=amplitude)\n",
    "plot_series(time, series)\n"
   ]
  },
  {
   "cell_type": "code",
   "execution_count": null,
   "metadata": {},
   "outputs": [],
   "source": [
    "slope = 0.05\n",
    "series = baseline + trend(time, slope) + seasonality(time, period=365, amplitude=amplitude)\n",
    "plot_series(time, series)\n"
   ]
  },
  {
   "cell_type": "code",
   "execution_count": null,
   "metadata": {},
   "outputs": [],
   "source": [
    "def noise(time, noise_level=1):\n",
    "    return np.random.randn(len(time)) * noise_level\n"
   ]
  },
  {
   "cell_type": "code",
   "execution_count": null,
   "metadata": {},
   "outputs": [],
   "source": [
    "noise_level = 15\n",
    "noisy_series = series + noise(time, noise_level)\n",
    "plot_series(time, noisy_series)\n"
   ]
  },
  {
   "cell_type": "code",
   "execution_count": null,
   "metadata": {},
   "outputs": [],
   "source": [
    "noise_level = 40\n",
    "noisy_series = series + noise(time, noise_level)\n",
    "plot_series(time, noisy_series)\n"
   ]
  },
  {
   "cell_type": "code",
   "execution_count": null,
   "metadata": {},
   "outputs": [],
   "source": [
    "def autocorrelation(time, amplitude):\n",
    "    rho1 = 0.5\n",
    "    rho2 = -0.1\n",
    "    ar = np.random.randn(len(time) + 50)\n",
    "    ar[:50] = 100\n",
    "    for step in range(50, len(time) + 50):\n",
    "        ar[step] += rho1 * ar[step - 50]\n",
    "        ar[step] += rho2 * ar[step - 33]\n",
    "    return ar[50:] * amplitude\n"
   ]
  },
  {
   "cell_type": "code",
   "execution_count": null,
   "metadata": {},
   "outputs": [],
   "source": [
    "def autocorrelation(time, amplitude):\n",
    "    rho = 0.8\n",
    "    ar = np.random.randn(len(time) + 1)\n",
    "    for step in range(1, len(time) + 1):\n",
    "        ar[step] += rho * ar[step - 1]\n",
    "    return ar[1:] * amplitude"
   ]
  },
  {
   "cell_type": "code",
   "execution_count": null,
   "metadata": {},
   "outputs": [],
   "source": [
    "series = autocorrelation(time, 10)\n",
    "plot_series(time[:200], series[:200])"
   ]
  },
  {
   "cell_type": "code",
   "execution_count": null,
   "metadata": {},
   "outputs": [],
   "source": [
    "series = noise(time)\n",
    "plot_series(time[:200], series[:200])"
   ]
  },
  {
   "cell_type": "code",
   "execution_count": null,
   "metadata": {},
   "outputs": [],
   "source": [
    "series = autocorrelation(time, 10) + trend(time, 2)\n",
    "plot_series(time[:200], series[:200])"
   ]
  },
  {
   "cell_type": "code",
   "execution_count": null,
   "metadata": {},
   "outputs": [],
   "source": [
    "series = autocorrelation(time, 10) + seasonality(time, period=50, amplitude=150) + trend(time, 2)\n",
    "plot_series(time[:200], series[:200])"
   ]
  },
  {
   "cell_type": "code",
   "execution_count": null,
   "metadata": {},
   "outputs": [],
   "source": [
    "series = autocorrelation(time, 10) + seasonality(time, period=50, amplitude=150) + trend(time, 2)\n",
    "series2 = autocorrelation(time, 5) + seasonality(time, period=50, amplitude=2) + trend(time, -1) + 550\n",
    "series[200:] = series2[200:]\n",
    "#series += noise(time, 30)\n",
    "plot_series(time[:300], series[:300])"
   ]
  }
 ],
 "metadata": {
  "kernelspec": {
   "display_name": "Python 3",
   "language": "python",
   "name": "python3"
  },
  "language_info": {
   "codemirror_mode": {
    "name": "ipython",
    "version": 3
   },
   "file_extension": ".py",
   "mimetype": "text/x-python",
   "name": "python",
   "nbconvert_exporter": "python",
   "pygments_lexer": "ipython3",
   "version": "3.5.2"
  }
 },
 "nbformat": 4,
 "nbformat_minor": 2
}
