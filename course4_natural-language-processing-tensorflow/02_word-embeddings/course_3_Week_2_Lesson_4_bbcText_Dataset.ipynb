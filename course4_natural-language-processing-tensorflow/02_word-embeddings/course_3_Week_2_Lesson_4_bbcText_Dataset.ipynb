{
 "cells": [
  {
   "cell_type": "markdown",
   "metadata": {},
   "source": [
    "# Basics"
   ]
  },
  {
   "cell_type": "markdown",
   "metadata": {},
   "source": [
    "## Import Liberaries"
   ]
  },
  {
   "cell_type": "code",
   "execution_count": 1,
   "metadata": {
    "id": "gnwiOnGyW5JK"
   },
   "outputs": [
    {
     "name": "stdout",
     "output_type": "stream",
     "text": [
      "--2021-12-15 10:23:07--  https://storage.googleapis.com/laurencemoroney-blog.appspot.com/bbc-text.csv\n",
      "Resolving storage.googleapis.com (storage.googleapis.com)... 142.250.186.112, 142.250.74.208, 142.250.186.80, ...\n",
      "Connecting to storage.googleapis.com (storage.googleapis.com)|142.250.186.112|:443... connected.\n",
      "HTTP request sent, awaiting response... 200 OK\n",
      "Length: 5057493 (4,8M) [text/csv]\n",
      "Saving to: ‘/tmp/bbc-text.csv’\n",
      "\n",
      "/tmp/bbc-text.csv   100%[===================>]   4,82M  5,36MB/s    in 0,9s    \n",
      "\n",
      "2021-12-15 10:23:09 (5,36 MB/s) - ‘/tmp/bbc-text.csv’ saved [5057493/5057493]\n",
      "\n"
     ]
    }
   ],
   "source": [
    "import csv\n",
    "import tensorflow as tf\n",
    "import numpy as np\n",
    "from tensorflow.keras.preprocessing.text import Tokenizer\n",
    "from tensorflow.keras.preprocessing.sequence import pad_sequences"
   ]
  },
  {
   "cell_type": "markdown",
   "metadata": {},
   "source": [
    "## Download Dataset"
   ]
  },
  {
   "cell_type": "code",
   "execution_count": 21,
   "metadata": {},
   "outputs": [
    {
     "name": "stdout",
     "output_type": "stream",
     "text": [
      "--2021-12-15 10:27:27--  https://storage.googleapis.com/laurencemoroney-blog.appspot.com/bbc-text.csv\n",
      "Resolving storage.googleapis.com (storage.googleapis.com)... 142.250.74.208, 142.250.186.48, 172.217.18.112, ...\n",
      "Connecting to storage.googleapis.com (storage.googleapis.com)|142.250.74.208|:443... connected.\n",
      "HTTP request sent, awaiting response... 200 OK\n",
      "Length: 5057493 (4,8M) [text/csv]\n",
      "Saving to: ‘/tmp/bbc-text.csv’\n",
      "\n",
      "/tmp/bbc-text.csv   100%[===================>]   4,82M  5,92MB/s    in 0,8s    \n",
      "\n",
      "2021-12-15 10:27:28 (5,92 MB/s) - ‘/tmp/bbc-text.csv’ saved [5057493/5057493]\n",
      "\n"
     ]
    }
   ],
   "source": [
    "!wget --no-check-certificate \\\n",
    "    https://storage.googleapis.com/laurencemoroney-blog.appspot.com/bbc-text.csv \\\n",
    "    -O /tmp/bbc-text.csv"
   ]
  },
  {
   "cell_type": "markdown",
   "metadata": {},
   "source": [
    "# Data Preprocessing"
   ]
  },
  {
   "cell_type": "code",
   "execution_count": 2,
   "metadata": {
    "id": "EYo6A4v5ZABQ"
   },
   "outputs": [],
   "source": [
    "vocab_size = 1000\n",
    "embedding_dim = 16\n",
    "max_length = 120\n",
    "trunc_type='post'\n",
    "padding_type='post'\n",
    "oov_tok = \"<OOV>\"\n",
    "training_portion = .8"
   ]
  },
  {
   "cell_type": "code",
   "execution_count": 3,
   "metadata": {
    "id": "iU1qq3_SZBx_"
   },
   "outputs": [
    {
     "name": "stdout",
     "output_type": "stream",
     "text": [
      "153\n"
     ]
    }
   ],
   "source": [
    "sentences = []\n",
    "labels = []\n",
    "stopwords = [ \"a\", \"about\", \"above\", \"after\", \"again\", \"against\", \"all\", \"am\", \"an\", \"and\", \"any\", \"are\", \"as\", \"at\", \"be\", \"because\", \"been\", \"before\", \"being\", \"below\", \"between\", \"both\", \"but\", \"by\", \"could\", \"did\", \"do\", \"does\", \"doing\", \"down\", \"during\", \"each\", \"few\", \"for\", \"from\", \"further\", \"had\", \"has\", \"have\", \"having\", \"he\", \"he'd\", \"he'll\", \"he's\", \"her\", \"here\", \"here's\", \"hers\", \"herself\", \"him\", \"himself\", \"his\", \"how\", \"how's\", \"i\", \"i'd\", \"i'll\", \"i'm\", \"i've\", \"if\", \"in\", \"into\", \"is\", \"it\", \"it's\", \"its\", \"itself\", \"let's\", \"me\", \"more\", \"most\", \"my\", \"myself\", \"nor\", \"of\", \"on\", \"once\", \"only\", \"or\", \"other\", \"ought\", \"our\", \"ours\", \"ourselves\", \"out\", \"over\", \"own\", \"same\", \"she\", \"she'd\", \"she'll\", \"she's\", \"should\", \"so\", \"some\", \"such\", \"than\", \"that\", \"that's\", \"the\", \"their\", \"theirs\", \"them\", \"themselves\", \"then\", \"there\", \"there's\", \"these\", \"they\", \"they'd\", \"they'll\", \"they're\", \"they've\", \"this\", \"those\", \"through\", \"to\", \"too\", \"under\", \"until\", \"up\", \"very\", \"was\", \"we\", \"we'd\", \"we'll\", \"we're\", \"we've\", \"were\", \"what\", \"what's\", \"when\", \"when's\", \"where\", \"where's\", \"which\", \"while\", \"who\", \"who's\", \"whom\", \"why\", \"why's\", \"with\", \"would\", \"you\", \"you'd\", \"you'll\", \"you're\", \"you've\", \"your\", \"yours\", \"yourself\", \"yourselves\" ]\n",
    "print(len(stopwords))"
   ]
  },
  {
   "cell_type": "code",
   "execution_count": 4,
   "metadata": {
    "id": "eutB2xMiZD0e"
   },
   "outputs": [
    {
     "name": "stdout",
     "output_type": "stream",
     "text": [
      "2225\n",
      "2225\n",
      "tv future hands viewers home theatre systems  plasma high-definition tvs  digital video recorders moving living room  way people watch tv will radically different five years  time.  according expert panel gathered annual consumer electronics show las vegas discuss new technologies will impact one favourite pastimes. us leading trend  programmes content will delivered viewers via home networks  cable  satellite  telecoms companies  broadband service providers front rooms portable devices.  one talked-about technologies ces digital personal video recorders (dvr pvr). set-top boxes  like us s tivo uk s sky+ system  allow people record  store  play  pause forward wind tv programmes want.  essentially  technology allows much personalised tv. also built-in high-definition tv sets  big business japan us  slower take off europe lack high-definition programming. not can people forward wind adverts  can also forget abiding network channel schedules  putting together a-la-carte entertainment. us networks cable satellite companies worried means terms advertising revenues well  brand identity  viewer loyalty channels. although us leads technology moment  also concern raised europe  particularly growing uptake services like sky+.  happens today  will see nine months years  time uk   adam hume  bbc broadcast s futurologist told bbc news website. likes bbc  no issues lost advertising revenue yet. pressing issue moment commercial uk broadcasters  brand loyalty important everyone.  will talking content brands rather network brands   said tim hanlon  brand communications firm starcom mediavest.  reality broadband connections  anybody can producer content.  added:  challenge now hard promote programme much choice.   means  said stacey jolna  senior vice president tv guide tv group  way people find content want watch simplified tv viewers. means networks  us terms  channels take leaf google s book search engine future  instead scheduler help people find want watch. kind channel model might work younger ipod generation used taking control gadgets play them. might not suit everyone  panel recognised. older generations comfortable familiar schedules channel brands know getting. perhaps not want much choice put hands  mr hanlon suggested.  end  kids just diapers pushing buttons already - everything possible available   said mr hanlon.  ultimately  consumer will tell market want.   50 000 new gadgets technologies showcased ces  many enhancing tv-watching experience. high-definition tv sets everywhere many new models lcd (liquid crystal display) tvs launched dvr capability built  instead external boxes. one example launched show humax s 26-inch lcd tv 80-hour tivo dvr dvd recorder. one us s biggest satellite tv companies  directtv  even launched branded dvr show 100-hours recording capability  instant replay  search function. set can pause rewind tv 90 hours. microsoft chief bill gates announced pre-show keynote speech partnership tivo  called tivotogo  means people can play recorded programmes windows pcs mobile devices. reflect increasing trend freeing multimedia people can watch want  want.\n"
     ]
    }
   ],
   "source": [
    "with open(\"/tmp/bbc-text.csv\", 'r') as csvfile:\n",
    "    reader = csv.reader(csvfile, delimiter=',')\n",
    "    next(reader)\n",
    "    for row in reader:\n",
    "        labels.append(row[0])\n",
    "        sentence = row[1]\n",
    "        for word in stopwords:\n",
    "            token = \" \" + word + \" \"\n",
    "            sentence = sentence.replace(token, \" \")\n",
    "        sentences.append(sentence)\n",
    "\n",
    "print(len(labels))\n",
    "print(len(sentences))\n",
    "print(sentences[0])"
   ]
  },
  {
   "cell_type": "code",
   "execution_count": 5,
   "metadata": {
    "id": "XfdaWh06ZGe3"
   },
   "outputs": [
    {
     "name": "stdout",
     "output_type": "stream",
     "text": [
      "1780\n",
      "1780\n",
      "1780\n",
      "445\n",
      "445\n"
     ]
    }
   ],
   "source": [
    "train_size = int(len(sentences) * training_portion)\n",
    "\n",
    "train_sentences = sentences[:train_size]\n",
    "train_labels = labels[:train_size]\n",
    "\n",
    "validation_sentences = sentences[train_size:]\n",
    "validation_labels = labels[train_size:]\n",
    "\n",
    "print(train_size)\n",
    "print(len(train_sentences))\n",
    "print(len(train_labels))\n",
    "print(len(validation_sentences))\n",
    "print(len(validation_labels))"
   ]
  },
  {
   "cell_type": "code",
   "execution_count": 6,
   "metadata": {
    "id": "ULzA8xhwZI22"
   },
   "outputs": [
    {
     "name": "stdout",
     "output_type": "stream",
     "text": [
      "449\n",
      "120\n",
      "200\n",
      "120\n",
      "192\n",
      "120\n"
     ]
    }
   ],
   "source": [
    "tokenizer = Tokenizer(num_words = vocab_size, oov_token=oov_tok)\n",
    "tokenizer.fit_on_texts(train_sentences)\n",
    "word_index = tokenizer.word_index\n",
    "\n",
    "train_sequences = tokenizer.texts_to_sequences(train_sentences)\n",
    "train_padded = pad_sequences(train_sequences, padding=padding_type, maxlen=max_length)\n",
    "\n",
    "print(len(train_sequences[0]))\n",
    "print(len(train_padded[0]))\n",
    "\n",
    "print(len(train_sequences[1]))\n",
    "print(len(train_padded[1]))\n",
    "\n",
    "print(len(train_sequences[10]))\n",
    "print(len(train_padded[10]))"
   ]
  },
  {
   "cell_type": "code",
   "execution_count": 7,
   "metadata": {
    "id": "c8PeFWzPZLW_"
   },
   "outputs": [
    {
     "name": "stdout",
     "output_type": "stream",
     "text": [
      "445\n",
      "(445, 120)\n"
     ]
    }
   ],
   "source": [
    "validation_sequences = tokenizer.texts_to_sequences(validation_sentences)\n",
    "validation_padded = pad_sequences(validation_sequences, padding=padding_type, maxlen=max_length)\n",
    "\n",
    "print(len(validation_sequences))\n",
    "print(validation_padded.shape)"
   ]
  },
  {
   "cell_type": "code",
   "execution_count": 8,
   "metadata": {
    "id": "XkWiQ_FKZNp2"
   },
   "outputs": [
    {
     "name": "stdout",
     "output_type": "stream",
     "text": [
      "[4]\n",
      "[2]\n",
      "[1]\n",
      "(1780, 1)\n",
      "[5]\n",
      "[4]\n",
      "[3]\n",
      "(445, 1)\n"
     ]
    }
   ],
   "source": [
    "label_tokenizer = Tokenizer()\n",
    "label_tokenizer.fit_on_texts(labels)\n",
    "\n",
    "training_label_seq = np.array(label_tokenizer.texts_to_sequences(train_labels))\n",
    "validation_label_seq = np.array(label_tokenizer.texts_to_sequences(validation_labels))\n",
    "\n",
    "print(training_label_seq[0])\n",
    "print(training_label_seq[1])\n",
    "print(training_label_seq[2])\n",
    "print(training_label_seq.shape)\n",
    "\n",
    "print(validation_label_seq[0])\n",
    "print(validation_label_seq[1])\n",
    "print(validation_label_seq[2])\n",
    "print(validation_label_seq.shape)"
   ]
  },
  {
   "cell_type": "markdown",
   "metadata": {},
   "source": [
    "# Training"
   ]
  },
  {
   "cell_type": "code",
   "execution_count": 9,
   "metadata": {
    "id": "HZ5um4MWZP-W"
   },
   "outputs": [
    {
     "name": "stdout",
     "output_type": "stream",
     "text": [
      "Model: \"sequential\"\n",
      "_________________________________________________________________\n",
      "Layer (type)                 Output Shape              Param #   \n",
      "=================================================================\n",
      "embedding (Embedding)        (None, 120, 16)           16000     \n",
      "_________________________________________________________________\n",
      "global_average_pooling1d (Gl (None, 16)                0         \n",
      "_________________________________________________________________\n",
      "dense (Dense)                (None, 24)                408       \n",
      "_________________________________________________________________\n",
      "dense_1 (Dense)              (None, 6)                 150       \n",
      "=================================================================\n",
      "Total params: 16,558\n",
      "Trainable params: 16,558\n",
      "Non-trainable params: 0\n",
      "_________________________________________________________________\n"
     ]
    },
    {
     "name": "stderr",
     "output_type": "stream",
     "text": [
      "2021-12-15 10:23:10.868353: I tensorflow/core/platform/cpu_feature_guard.cc:142] This TensorFlow binary is optimized with oneAPI Deep Neural Network Library (oneDNN) to use the following CPU instructions in performance-critical operations:  AVX2 FMA\n",
      "To enable them in other operations, rebuild TensorFlow with the appropriate compiler flags.\n"
     ]
    }
   ],
   "source": [
    "model = tf.keras.Sequential([\n",
    "    tf.keras.layers.Embedding(vocab_size, embedding_dim, input_length=max_length),\n",
    "    tf.keras.layers.GlobalAveragePooling1D(),\n",
    "    tf.keras.layers.Dense(24, activation='relu'),\n",
    "    tf.keras.layers.Dense(6, activation='softmax')\n",
    "])\n",
    "model.compile(loss='sparse_categorical_crossentropy',optimizer='adam',metrics=['accuracy'])\n",
    "model.summary()"
   ]
  },
  {
   "cell_type": "code",
   "execution_count": 10,
   "metadata": {
    "id": "XsfdxySKZSXu"
   },
   "outputs": [
    {
     "name": "stderr",
     "output_type": "stream",
     "text": [
      "2021-12-15 10:23:11.298306: I tensorflow/compiler/mlir/mlir_graph_optimization_pass.cc:185] None of the MLIR Optimization Passes are enabled (registered 2)\n"
     ]
    },
    {
     "name": "stdout",
     "output_type": "stream",
     "text": [
      "Epoch 1/30\n",
      "56/56 - 1s - loss: 1.7694 - accuracy: 0.1899 - val_loss: 1.7375 - val_accuracy: 0.2652\n",
      "Epoch 2/30\n",
      "56/56 - 0s - loss: 1.6932 - accuracy: 0.4000 - val_loss: 1.6378 - val_accuracy: 0.5303\n",
      "Epoch 3/30\n",
      "56/56 - 0s - loss: 1.5715 - accuracy: 0.5281 - val_loss: 1.5030 - val_accuracy: 0.4584\n",
      "Epoch 4/30\n",
      "56/56 - 0s - loss: 1.4133 - accuracy: 0.4843 - val_loss: 1.3494 - val_accuracy: 0.5281\n",
      "Epoch 5/30\n",
      "56/56 - 0s - loss: 1.2487 - accuracy: 0.5910 - val_loss: 1.2077 - val_accuracy: 0.5910\n",
      "Epoch 6/30\n",
      "56/56 - 0s - loss: 1.1103 - accuracy: 0.7174 - val_loss: 1.0971 - val_accuracy: 0.6787\n",
      "Epoch 7/30\n",
      "56/56 - 0s - loss: 0.9928 - accuracy: 0.7534 - val_loss: 0.9895 - val_accuracy: 0.7888\n",
      "Epoch 8/30\n",
      "56/56 - 0s - loss: 0.8818 - accuracy: 0.8236 - val_loss: 0.8953 - val_accuracy: 0.8382\n",
      "Epoch 9/30\n",
      "56/56 - 0s - loss: 0.7723 - accuracy: 0.9000 - val_loss: 0.7903 - val_accuracy: 0.8472\n",
      "Epoch 10/30\n",
      "56/56 - 0s - loss: 0.6633 - accuracy: 0.9022 - val_loss: 0.6993 - val_accuracy: 0.8674\n",
      "Epoch 11/30\n",
      "56/56 - 0s - loss: 0.5654 - accuracy: 0.9326 - val_loss: 0.6121 - val_accuracy: 0.8809\n",
      "Epoch 12/30\n",
      "56/56 - 0s - loss: 0.4774 - accuracy: 0.9399 - val_loss: 0.5411 - val_accuracy: 0.8921\n",
      "Epoch 13/30\n",
      "56/56 - 0s - loss: 0.4037 - accuracy: 0.9461 - val_loss: 0.4769 - val_accuracy: 0.9079\n",
      "Epoch 14/30\n",
      "56/56 - 0s - loss: 0.3426 - accuracy: 0.9506 - val_loss: 0.4312 - val_accuracy: 0.9034\n",
      "Epoch 15/30\n",
      "56/56 - 0s - loss: 0.2924 - accuracy: 0.9573 - val_loss: 0.3882 - val_accuracy: 0.9169\n",
      "Epoch 16/30\n",
      "56/56 - 0s - loss: 0.2494 - accuracy: 0.9590 - val_loss: 0.3517 - val_accuracy: 0.9191\n",
      "Epoch 17/30\n",
      "56/56 - 0s - loss: 0.2133 - accuracy: 0.9652 - val_loss: 0.3222 - val_accuracy: 0.9213\n",
      "Epoch 18/30\n",
      "56/56 - 0s - loss: 0.1859 - accuracy: 0.9674 - val_loss: 0.3031 - val_accuracy: 0.9281\n",
      "Epoch 19/30\n",
      "56/56 - 0s - loss: 0.1634 - accuracy: 0.9691 - val_loss: 0.2856 - val_accuracy: 0.9303\n",
      "Epoch 20/30\n",
      "56/56 - 0s - loss: 0.1446 - accuracy: 0.9764 - val_loss: 0.2740 - val_accuracy: 0.9326\n",
      "Epoch 21/30\n",
      "56/56 - 0s - loss: 0.1301 - accuracy: 0.9803 - val_loss: 0.2630 - val_accuracy: 0.9348\n",
      "Epoch 22/30\n",
      "56/56 - 0s - loss: 0.1165 - accuracy: 0.9820 - val_loss: 0.2556 - val_accuracy: 0.9326\n",
      "Epoch 23/30\n",
      "56/56 - 0s - loss: 0.1053 - accuracy: 0.9843 - val_loss: 0.2485 - val_accuracy: 0.9371\n",
      "Epoch 24/30\n",
      "56/56 - 0s - loss: 0.0956 - accuracy: 0.9865 - val_loss: 0.2431 - val_accuracy: 0.9371\n",
      "Epoch 25/30\n",
      "56/56 - 0s - loss: 0.0866 - accuracy: 0.9882 - val_loss: 0.2390 - val_accuracy: 0.9393\n",
      "Epoch 26/30\n",
      "56/56 - 0s - loss: 0.0795 - accuracy: 0.9899 - val_loss: 0.2320 - val_accuracy: 0.9371\n",
      "Epoch 27/30\n",
      "56/56 - 0s - loss: 0.0726 - accuracy: 0.9916 - val_loss: 0.2293 - val_accuracy: 0.9393\n",
      "Epoch 28/30\n",
      "56/56 - 0s - loss: 0.0659 - accuracy: 0.9944 - val_loss: 0.2252 - val_accuracy: 0.9416\n",
      "Epoch 29/30\n",
      "56/56 - 0s - loss: 0.0602 - accuracy: 0.9955 - val_loss: 0.2226 - val_accuracy: 0.9348\n",
      "Epoch 30/30\n",
      "56/56 - 0s - loss: 0.0547 - accuracy: 0.9966 - val_loss: 0.2224 - val_accuracy: 0.9393\n"
     ]
    }
   ],
   "source": [
    "num_epochs = 30\n",
    "history = model.fit(train_padded, training_label_seq, epochs=num_epochs, validation_data=(validation_padded, validation_label_seq), verbose=2)"
   ]
  },
  {
   "cell_type": "markdown",
   "metadata": {},
   "source": [
    "## Plotting"
   ]
  },
  {
   "cell_type": "code",
   "execution_count": 20,
   "metadata": {
    "id": "dQ0BX2apXS9u"
   },
   "outputs": [
    {
     "data": {
      "image/png": "[encoded data removed]",
      "text/plain": [
       "<Figure size 1080x360 with 2 Axes>"
      ]
     },
     "metadata": {
      "needs_background": "light"
     },
     "output_type": "display_data"
    }
   ],
   "source": [
    "import os\n",
    "import sys\n",
    "script_path = os.environ.get('DirForPoolScripts')\n",
    "sys.path.append(script_path)\n",
    "\n",
    "from ploting_script import plot_n_model \n",
    "plot_n_model(num_history=1, name_history=[history], label_list=[\"nlp\"], ylim_low=0, ylim_high=2)"
   ]
  },
  {
   "cell_type": "code",
   "execution_count": 12,
   "metadata": {
    "id": "w7Xc-uWxXhML"
   },
   "outputs": [],
   "source": [
    "reverse_word_index = dict([(value, key) for (key, value) in word_index.items()])\n",
    "\n",
    "def decode_sentence(text):\n",
    "    return ' '.join([reverse_word_index.get(i, '?') for i in text])"
   ]
  },
  {
   "cell_type": "code",
   "execution_count": 13,
   "metadata": {
    "id": "OhnFA_TDXrih"
   },
   "outputs": [
    {
     "name": "stdout",
     "output_type": "stream",
     "text": [
      "(1000, 16)\n"
     ]
    }
   ],
   "source": [
    "e = model.layers[0]\n",
    "weights = e.get_weights()[0]\n",
    "print(weights.shape) # shape: (vocab_size, embedding_dim)"
   ]
  },
  {
   "cell_type": "code",
   "execution_count": 14,
   "metadata": {
    "id": "_POzcWWAXudL"
   },
   "outputs": [],
   "source": [
    "import io\n",
    "\n",
    "out_v = io.open('vecs.tsv', 'w', encoding='utf-8')\n",
    "out_m = io.open('meta.tsv', 'w', encoding='utf-8')\n",
    "for word_num in range(1, vocab_size):\n",
    "  word = reverse_word_index[word_num]\n",
    "  embeddings = weights[word_num]\n",
    "  out_m.write(word + \"\\n\")\n",
    "  out_v.write('\\t'.join([str(x) for x in embeddings]) + \"\\n\")\n",
    "out_v.close()\n",
    "out_m.close()"
   ]
  },
  {
   "cell_type": "code",
   "execution_count": 15,
   "metadata": {
    "id": "VmqpQMZ_XyOa"
   },
   "outputs": [],
   "source": [
    "try:\n",
    "  from google.colab import files\n",
    "except ImportError:\n",
    "  pass\n",
    "else:\n",
    "  files.download('vecs.tsv')\n",
    "  files.download('meta.tsv')"
   ]
  }
 ],
 "metadata": {
  "accelerator": "GPU",
  "colab": {
   "collapsed_sections": [],
   "name": "Course 3 - Week 2 - Exercise - Answer.ipynb",
   "provenance": [],
   "toc_visible": true
  },
  "kernelspec": {
   "display_name": "Python@3.8",
   "language": "python",
   "name": "python3.8"
  },
  "language_info": {
   "codemirror_mode": {
    "name": "ipython",
    "version": 3
   },
   "file_extension": ".py",
   "mimetype": "text/x-python",
   "name": "python",
   "nbconvert_exporter": "python",
   "pygments_lexer": "ipython3",
   "version": "3.8.12"
  },
  "toc": {
   "base_numbering": 1,
   "nav_menu": {},
   "number_sections": true,
   "sideBar": true,
   "skip_h1_title": false,
   "title_cell": "Table of Contents",
   "title_sidebar": "Contents",
   "toc_cell": false,
   "toc_position": {},
   "toc_section_display": true,
   "toc_window_display": true
  }
 },
 "nbformat": 4,
 "nbformat_minor": 1
}
