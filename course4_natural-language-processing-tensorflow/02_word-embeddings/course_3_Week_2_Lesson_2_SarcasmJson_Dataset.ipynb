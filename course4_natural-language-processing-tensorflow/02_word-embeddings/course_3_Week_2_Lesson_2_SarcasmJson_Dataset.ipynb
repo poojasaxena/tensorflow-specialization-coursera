{
 "cells": [
  {
   "cell_type": "markdown",
   "metadata": {},
   "source": [
    "# Basics"
   ]
  },
  {
   "cell_type": "code",
   "execution_count": 23,
   "metadata": {},
   "outputs": [
    {
     "data": {
      "application/javascript": [
       "IPython.notebook.set_autosave_interval(30000)"
      ]
     },
     "metadata": {},
     "output_type": "display_data"
    },
    {
     "name": "stdout",
     "output_type": "stream",
     "text": [
      "Autosaving every 30 seconds\n"
     ]
    }
   ],
   "source": [
    "%autosave 30"
   ]
  },
  {
   "cell_type": "markdown",
   "metadata": {
    "id": "XYYDvoskkE61"
   },
   "source": [
    "## Import Libraries"
   ]
  },
  {
   "cell_type": "code",
   "execution_count": 1,
   "metadata": {
    "id": "4gs9htvM7n_x"
   },
   "outputs": [
    {
     "name": "stdout",
     "output_type": "stream",
     "text": [
      "2.6.0\n"
     ]
    }
   ],
   "source": [
    "import os\n",
    "import sys\n",
    "import numpy as np\n",
    "import json\n",
    "import tensorflow as tf\n",
    "\n",
    "from tensorflow.keras.preprocessing.text import Tokenizer\n",
    "from tensorflow.keras.preprocessing.sequence import pad_sequences\n",
    "import tensorflow as tf\n",
    "print(tf.__version__)\n",
    "\n",
    "## For plotting script\n",
    "script_path=os.environ.get('DirForPoolScripts')\n",
    "sys.path.append(script_path)"
   ]
  },
  {
   "cell_type": "markdown",
   "metadata": {},
   "source": [
    "## Download Datasets"
   ]
  },
  {
   "cell_type": "code",
   "execution_count": 2,
   "metadata": {
    "id": "BQVuQrZNkPn9"
   },
   "outputs": [
    {
     "name": "stdout",
     "output_type": "stream",
     "text": [
      "--2021-12-16 11:23:26--  https://storage.googleapis.com/laurencemoroney-blog.appspot.com/sarcasm.json\n",
      "Resolving storage.googleapis.com (storage.googleapis.com)... 142.250.185.208, 142.250.184.240, 172.217.16.144, ...\n",
      "Connecting to storage.googleapis.com (storage.googleapis.com)|142.250.185.208|:443... connected.\n",
      "HTTP request sent, awaiting response... 200 OK\n",
      "Length: 5643545 (5,4M) [application/json]\n",
      "Saving to: ‘/tmp/sarcasm.json’\n",
      "\n",
      "/tmp/sarcasm.json   100%[===================>]   5,38M  8,83MB/s    in 0,6s    \n",
      "\n",
      "2021-12-16 11:23:26 (8,83 MB/s) - ‘/tmp/sarcasm.json’ saved [5643545/5643545]\n",
      "\n"
     ]
    }
   ],
   "source": [
    "!wget --no-check-certificate \\\n",
    "    https://storage.googleapis.com/laurencemoroney-blog.appspot.com/sarcasm.json \\\n",
    "    -O /tmp/sarcasm.json"
   ]
  },
  {
   "cell_type": "markdown",
   "metadata": {},
   "source": [
    "# Data Preprocessing"
   ]
  },
  {
   "cell_type": "code",
   "execution_count": 3,
   "metadata": {
    "id": "0eJSTTYnkJQd"
   },
   "outputs": [],
   "source": [
    "vocab_size    = 10000   # lenght of interesting vocab length from Corpus\n",
    "embedding_dim = 16      # dimension of different cluster for words to cluster\n",
    "max_length    = 100     # max length of single sentence\n",
    "trunc_type    = 'post'  # if exced max_length, truncate to end\n",
    "padding_type  = 'post'  # if padding needed, do it in the end\n",
    "oov_tok       = \"<OOV>\" # usual out-of-vocab token\n",
    "training_size = 20000   # 20k of 27k sentences for training, rest 7k we keep for testing"
   ]
  },
  {
   "cell_type": "markdown",
   "metadata": {},
   "source": [
    "## Opening json dataset"
   ]
  },
  {
   "cell_type": "code",
   "execution_count": 4,
   "metadata": {},
   "outputs": [
    {
     "data": {
      "text/plain": [
       "{'article_link': 'https://www.huffingtonpost.com/entry/versace-black-code_us_5861fbefe4b0de3a08f600d5',\n",
       " 'headline': \"former versace store clerk sues over secret 'black code' for minority shoppers\",\n",
       " 'is_sarcastic': 0}"
      ]
     },
     "execution_count": 4,
     "metadata": {},
     "output_type": "execute_result"
    }
   ],
   "source": [
    "with open(\"/tmp/sarcasm.json\", 'r') as f:\n",
    "    datastore = json.load(f)\n",
    "    \n",
    "## an example of type of data we got from json dataset\n",
    "## we are interested here in headline, is_sarcastic variable\n",
    "datastore[0]"
   ]
  },
  {
   "cell_type": "code",
   "execution_count": 5,
   "metadata": {
    "id": "oaLaaqhNkUPd"
   },
   "outputs": [],
   "source": [
    "labels    = []\n",
    "sentences = []\n",
    "\n",
    "for item in datastore:\n",
    "    sentences.append(item['headline'])\n",
    "    labels.append(item['is_sarcastic'])"
   ]
  },
  {
   "cell_type": "markdown",
   "metadata": {},
   "source": [
    "## Creating Trainnig/Testing dataset"
   ]
  },
  {
   "cell_type": "code",
   "execution_count": 6,
   "metadata": {
    "id": "S1sD-7v0kYWk"
   },
   "outputs": [],
   "source": [
    "## Training\n",
    "training_sentences = sentences[0:training_size]\n",
    "training_labels    = labels[0:training_size]\n",
    "\n",
    "## Testing\n",
    "testing_sentences  = sentences[training_size:]\n",
    "testing_labels     = labels[training_size:]"
   ]
  },
  {
   "cell_type": "markdown",
   "metadata": {},
   "source": [
    "## Initiating Tokenizer"
   ]
  },
  {
   "cell_type": "code",
   "execution_count": 7,
   "metadata": {
    "id": "3u8UB0MCkZ5N"
   },
   "outputs": [],
   "source": [
    "## on training data\n",
    "tokenizer = Tokenizer(num_words=vocab_size, oov_token=oov_tok)\n",
    "tokenizer.fit_on_texts(training_sentences)\n",
    "\n",
    "word_index          = tokenizer.word_index\n",
    "training_sequences  = tokenizer.texts_to_sequences(training_sentences)\n",
    "training_padded_seq = pad_sequences(training_sequences, maxlen=max_length, padding=padding_type, truncating=trunc_type)\n",
    "\n",
    "## on testing data\n",
    "testing_sequences  = tokenizer.texts_to_sequences(testing_sentences)\n",
    "testing_padded_seq = pad_sequences(testing_sequences, maxlen=max_length, padding=padding_type, truncating=trunc_type)"
   ]
  },
  {
   "cell_type": "code",
   "execution_count": 8,
   "metadata": {
    "id": "GrAlWBKf99Ya"
   },
   "outputs": [],
   "source": [
    "## Lets convert them to numpy array\n",
    "training_padded_seq = np.array(training_padded_seq)\n",
    "training_labels     = np.array(training_labels)\n",
    "testing_padded_seq  = np.array(testing_padded_seq)\n",
    "testing_labels      = np.array(testing_labels)"
   ]
  },
  {
   "cell_type": "markdown",
   "metadata": {},
   "source": [
    "# Modellling"
   ]
  },
  {
   "cell_type": "markdown",
   "metadata": {},
   "source": [
    "## Model Definiation"
   ]
  },
  {
   "cell_type": "code",
   "execution_count": 9,
   "metadata": {
    "id": "FufaT4vlkiDE"
   },
   "outputs": [
    {
     "name": "stderr",
     "output_type": "stream",
     "text": [
      "2021-12-16 11:23:27.901390: I tensorflow/core/platform/cpu_feature_guard.cc:142] This TensorFlow binary is optimized with oneAPI Deep Neural Network Library (oneDNN) to use the following CPU instructions in performance-critical operations:  AVX2 FMA\n",
      "To enable them in other operations, rebuild TensorFlow with the appropriate compiler flags.\n"
     ]
    }
   ],
   "source": [
    " model = tf.keras.Sequential([\n",
    "    tf.keras.layers.Embedding(vocab_size, embedding_dim, input_length=max_length),\n",
    "    tf.keras.layers.GlobalAveragePooling1D(),\n",
    "    tf.keras.layers.Dense(24, activation='relu'),\n",
    "    tf.keras.layers.Dense(1, activation='sigmoid')\n",
    "])\n",
    "model.compile(loss='binary_crossentropy',optimizer='adam',metrics=['accuracy'])"
   ]
  },
  {
   "cell_type": "code",
   "execution_count": 10,
   "metadata": {
    "id": "XfDt1hmYkiys"
   },
   "outputs": [
    {
     "name": "stdout",
     "output_type": "stream",
     "text": [
      "Model: \"sequential\"\n",
      "_________________________________________________________________\n",
      "Layer (type)                 Output Shape              Param #   \n",
      "=================================================================\n",
      "embedding (Embedding)        (None, 100, 16)           160000    \n",
      "_________________________________________________________________\n",
      "global_average_pooling1d (Gl (None, 16)                0         \n",
      "_________________________________________________________________\n",
      "dense (Dense)                (None, 24)                408       \n",
      "_________________________________________________________________\n",
      "dense_1 (Dense)              (None, 1)                 25        \n",
      "=================================================================\n",
      "Total params: 160,433\n",
      "Trainable params: 160,433\n",
      "Non-trainable params: 0\n",
      "_________________________________________________________________\n"
     ]
    }
   ],
   "source": [
    "model.summary()"
   ]
  },
  {
   "cell_type": "code",
   "execution_count": 11,
   "metadata": {
    "id": "2DTKQFf1kkyc"
   },
   "outputs": [
    {
     "name": "stderr",
     "output_type": "stream",
     "text": [
      "2021-12-16 11:23:28.267496: I tensorflow/compiler/mlir/mlir_graph_optimization_pass.cc:185] None of the MLIR Optimization Passes are enabled (registered 2)\n"
     ]
    },
    {
     "name": "stdout",
     "output_type": "stream",
     "text": [
      "Epoch 1/30\n",
      "625/625 - 1s - loss: 0.6638 - accuracy: 0.5814 - val_loss: 0.5832 - val_accuracy: 0.6554\n",
      "Epoch 2/30\n",
      "625/625 - 1s - loss: 0.4271 - accuracy: 0.8335 - val_loss: 0.3809 - val_accuracy: 0.8447\n",
      "Epoch 3/30\n",
      "625/625 - 1s - loss: 0.3070 - accuracy: 0.8791 - val_loss: 0.3519 - val_accuracy: 0.8535\n",
      "Epoch 4/30\n",
      "625/625 - 1s - loss: 0.2551 - accuracy: 0.9000 - val_loss: 0.3446 - val_accuracy: 0.8563\n",
      "Epoch 5/30\n",
      "625/625 - 1s - loss: 0.2206 - accuracy: 0.9136 - val_loss: 0.3480 - val_accuracy: 0.8538\n",
      "Epoch 6/30\n",
      "625/625 - 1s - loss: 0.1926 - accuracy: 0.9264 - val_loss: 0.3582 - val_accuracy: 0.8551\n",
      "Epoch 7/30\n",
      "625/625 - 1s - loss: 0.1723 - accuracy: 0.9345 - val_loss: 0.3672 - val_accuracy: 0.8545\n",
      "Epoch 8/30\n",
      "625/625 - 1s - loss: 0.1536 - accuracy: 0.9433 - val_loss: 0.3831 - val_accuracy: 0.8541\n",
      "Epoch 9/30\n",
      "625/625 - 1s - loss: 0.1391 - accuracy: 0.9482 - val_loss: 0.4019 - val_accuracy: 0.8512\n",
      "Epoch 10/30\n",
      "625/625 - 1s - loss: 0.1244 - accuracy: 0.9567 - val_loss: 0.4247 - val_accuracy: 0.8478\n",
      "Epoch 11/30\n",
      "625/625 - 1s - loss: 0.1132 - accuracy: 0.9614 - val_loss: 0.4514 - val_accuracy: 0.8448\n",
      "Epoch 12/30\n",
      "625/625 - 1s - loss: 0.1028 - accuracy: 0.9647 - val_loss: 0.4985 - val_accuracy: 0.8334\n",
      "Epoch 13/30\n",
      "625/625 - 1s - loss: 0.0945 - accuracy: 0.9686 - val_loss: 0.5151 - val_accuracy: 0.8386\n",
      "Epoch 14/30\n",
      "625/625 - 1s - loss: 0.0863 - accuracy: 0.9710 - val_loss: 0.5479 - val_accuracy: 0.8357\n",
      "Epoch 15/30\n",
      "625/625 - 1s - loss: 0.0781 - accuracy: 0.9739 - val_loss: 0.5733 - val_accuracy: 0.8371\n",
      "Epoch 16/30\n",
      "625/625 - 1s - loss: 0.0722 - accuracy: 0.9761 - val_loss: 0.6010 - val_accuracy: 0.8354\n",
      "Epoch 17/30\n",
      "625/625 - 1s - loss: 0.0663 - accuracy: 0.9782 - val_loss: 0.6436 - val_accuracy: 0.8299\n",
      "Epoch 18/30\n",
      "625/625 - 1s - loss: 0.0602 - accuracy: 0.9808 - val_loss: 0.6650 - val_accuracy: 0.8307\n",
      "Epoch 19/30\n",
      "625/625 - 1s - loss: 0.0549 - accuracy: 0.9829 - val_loss: 0.7861 - val_accuracy: 0.8207\n",
      "Epoch 20/30\n",
      "625/625 - 1s - loss: 0.0516 - accuracy: 0.9841 - val_loss: 0.7469 - val_accuracy: 0.8292\n",
      "Epoch 21/30\n",
      "625/625 - 1s - loss: 0.0480 - accuracy: 0.9844 - val_loss: 0.7727 - val_accuracy: 0.8240\n",
      "Epoch 22/30\n",
      "625/625 - 1s - loss: 0.0424 - accuracy: 0.9872 - val_loss: 0.8116 - val_accuracy: 0.8217\n",
      "Epoch 23/30\n",
      "625/625 - 1s - loss: 0.0390 - accuracy: 0.9886 - val_loss: 0.8489 - val_accuracy: 0.8216\n",
      "Epoch 24/30\n",
      "625/625 - 1s - loss: 0.0364 - accuracy: 0.9900 - val_loss: 0.9464 - val_accuracy: 0.8173\n",
      "Epoch 25/30\n",
      "625/625 - 1s - loss: 0.0340 - accuracy: 0.9893 - val_loss: 0.9589 - val_accuracy: 0.8182\n",
      "Epoch 26/30\n",
      "625/625 - 1s - loss: 0.0322 - accuracy: 0.9907 - val_loss: 0.9732 - val_accuracy: 0.8183\n",
      "Epoch 27/30\n",
      "625/625 - 1s - loss: 0.0281 - accuracy: 0.9916 - val_loss: 1.0193 - val_accuracy: 0.8174\n",
      "Epoch 28/30\n",
      "625/625 - 1s - loss: 0.0247 - accuracy: 0.9939 - val_loss: 1.0888 - val_accuracy: 0.8143\n",
      "Epoch 29/30\n",
      "625/625 - 1s - loss: 0.0231 - accuracy: 0.9937 - val_loss: 1.0898 - val_accuracy: 0.8156\n",
      "Epoch 30/30\n",
      "625/625 - 1s - loss: 0.0212 - accuracy: 0.9947 - val_loss: 1.1480 - val_accuracy: 0.8138\n"
     ]
    }
   ],
   "source": [
    "num_epochs = 30\n",
    "history = model.fit(training_padded_seq, \n",
    "                    training_labels, \n",
    "                    epochs=num_epochs, \n",
    "                    validation_data=(testing_padded_seq, testing_labels), \n",
    "                    verbose=2)"
   ]
  },
  {
   "cell_type": "markdown",
   "metadata": {},
   "source": [
    "## Plotting"
   ]
  },
  {
   "cell_type": "code",
   "execution_count": 15,
   "metadata": {},
   "outputs": [
    {
     "data": {
      "image/png": "[encoded data removed]",
      "text/plain": [
       "<Figure size 1080x360 with 2 Axes>"
      ]
     },
     "metadata": {
      "needs_background": "light"
     },
     "output_type": "display_data"
    }
   ],
   "source": [
    "from ploting_script import plot_n_model \n",
    "plot_n_model(num_history=1, name_history=[history], label_list=[\"nlp\"], \n",
    "             ylim_low_left=0.4, ylim_high_left=1.1,\n",
    "             ylim_low_right=0, ylim_high_right=1.2)"
   ]
  },
  {
   "cell_type": "code",
   "execution_count": null,
   "metadata": {
    "id": "7SBdAZAenvzL"
   },
   "outputs": [],
   "source": [
    "reverse_word_index = dict([(value, key) for (key, value) in word_index.items()])\n",
    "\n",
    "def decode_sentence(text):\n",
    "    return ' '.join([reverse_word_index.get(i, '?') for i in text])\n",
    "\n",
    "print(decode_sentence(training_padded[0]))\n",
    "print(training_sentences[2])\n",
    "print(labels[2])"
   ]
  },
  {
   "cell_type": "code",
   "execution_count": null,
   "metadata": {
    "id": "c9MqihtEkzQ9"
   },
   "outputs": [],
   "source": [
    "e = model.layers[0]\n",
    "weights = e.get_weights()[0]\n",
    "print(weights.shape) # shape: (vocab_size, embedding_dim)"
   ]
  },
  {
   "cell_type": "code",
   "execution_count": null,
   "metadata": {
    "id": "LoBXVffknldU"
   },
   "outputs": [],
   "source": [
    "import io\n",
    "\n",
    "out_v = io.open('vecs.tsv', 'w', encoding='utf-8')\n",
    "out_m = io.open('meta.tsv', 'w', encoding='utf-8')\n",
    "for word_num in range(1, vocab_size):\n",
    "  word = reverse_word_index[word_num]\n",
    "  embeddings = weights[word_num]\n",
    "  out_m.write(word + \"\\n\")\n",
    "  out_v.write('\\t'.join([str(x) for x in embeddings]) + \"\\n\")\n",
    "out_v.close()\n",
    "out_m.close()"
   ]
  },
  {
   "cell_type": "code",
   "execution_count": null,
   "metadata": {
    "id": "U4eZ5HtVnnEE"
   },
   "outputs": [],
   "source": [
    "try:\n",
    "  from google.colab import files\n",
    "except ImportError:\n",
    "  pass\n",
    "else:\n",
    "  files.download('vecs.tsv')\n",
    "  files.download('meta.tsv')"
   ]
  },
  {
   "cell_type": "code",
   "execution_count": null,
   "metadata": {
    "id": "cG8-ArY-qDcz"
   },
   "outputs": [],
   "source": [
    "sentence = [\"granny starting to fear spiders in the garden might be real\", \"game of thrones season finale showing this sunday night\"]\n",
    "sequences = tokenizer.texts_to_sequences(sentence)\n",
    "\n",
    "padded = pad_sequences(sequences, maxlen=max_length, padding=padding_type, truncating=trunc_type)\n",
    "print(model.predict(padded))"
   ]
  },
  {
   "cell_type": "markdown",
   "metadata": {},
   "source": [
    "# Optimizing accuracy/Loss function\n",
    "1. since we fell in Overfitting region, we need to do some parameter optimization\n"
   ]
  },
  {
   "cell_type": "markdown",
   "metadata": {},
   "source": [
    "## Approach-I"
   ]
  },
  {
   "cell_type": "code",
   "execution_count": 16,
   "metadata": {},
   "outputs": [
    {
     "name": "stdout",
     "output_type": "stream",
     "text": [
      "Epoch 1/30\n",
      "625/625 - 1s - loss: 0.5467 - accuracy: 0.7211 - val_loss: 0.4182 - val_accuracy: 0.8071\n",
      "Epoch 2/30\n",
      "625/625 - 0s - loss: 0.3835 - accuracy: 0.8249 - val_loss: 0.3977 - val_accuracy: 0.8156\n",
      "Epoch 3/30\n",
      "625/625 - 0s - loss: 0.3642 - accuracy: 0.8345 - val_loss: 0.3984 - val_accuracy: 0.8173\n",
      "Epoch 4/30\n",
      "625/625 - 0s - loss: 0.3563 - accuracy: 0.8395 - val_loss: 0.3995 - val_accuracy: 0.8135\n",
      "Epoch 5/30\n",
      "625/625 - 0s - loss: 0.3533 - accuracy: 0.8395 - val_loss: 0.4013 - val_accuracy: 0.8135\n",
      "Epoch 6/30\n",
      "625/625 - 0s - loss: 0.3520 - accuracy: 0.8403 - val_loss: 0.4025 - val_accuracy: 0.8140\n",
      "Epoch 7/30\n",
      "625/625 - 0s - loss: 0.3496 - accuracy: 0.8400 - val_loss: 0.4046 - val_accuracy: 0.8110\n",
      "Epoch 8/30\n",
      "625/625 - 0s - loss: 0.3475 - accuracy: 0.8415 - val_loss: 0.4027 - val_accuracy: 0.8126\n",
      "Epoch 9/30\n",
      "625/625 - 0s - loss: 0.3453 - accuracy: 0.8427 - val_loss: 0.4068 - val_accuracy: 0.8083\n",
      "Epoch 10/30\n",
      "625/625 - 0s - loss: 0.3419 - accuracy: 0.8443 - val_loss: 0.4060 - val_accuracy: 0.8135\n",
      "Epoch 11/30\n",
      "625/625 - 0s - loss: 0.3391 - accuracy: 0.8450 - val_loss: 0.3968 - val_accuracy: 0.8164\n",
      "Epoch 12/30\n",
      "625/625 - 0s - loss: 0.3353 - accuracy: 0.8480 - val_loss: 0.3950 - val_accuracy: 0.8208\n",
      "Epoch 13/30\n",
      "625/625 - 0s - loss: 0.3319 - accuracy: 0.8508 - val_loss: 0.3939 - val_accuracy: 0.8214\n",
      "Epoch 14/30\n",
      "625/625 - 0s - loss: 0.3297 - accuracy: 0.8518 - val_loss: 0.3970 - val_accuracy: 0.8204\n",
      "Epoch 15/30\n",
      "625/625 - 0s - loss: 0.3280 - accuracy: 0.8507 - val_loss: 0.3971 - val_accuracy: 0.8192\n",
      "Epoch 16/30\n",
      "625/625 - 0s - loss: 0.3250 - accuracy: 0.8540 - val_loss: 0.3952 - val_accuracy: 0.8214\n",
      "Epoch 17/30\n",
      "625/625 - 0s - loss: 0.3236 - accuracy: 0.8557 - val_loss: 0.3962 - val_accuracy: 0.8202\n",
      "Epoch 18/30\n",
      "625/625 - 0s - loss: 0.3207 - accuracy: 0.8557 - val_loss: 0.3945 - val_accuracy: 0.8231\n",
      "Epoch 19/30\n",
      "625/625 - 0s - loss: 0.3189 - accuracy: 0.8576 - val_loss: 0.3960 - val_accuracy: 0.8231\n",
      "Epoch 20/30\n",
      "625/625 - 0s - loss: 0.3163 - accuracy: 0.8601 - val_loss: 0.3962 - val_accuracy: 0.8217\n",
      "Epoch 21/30\n",
      "625/625 - 0s - loss: 0.3151 - accuracy: 0.8603 - val_loss: 0.4020 - val_accuracy: 0.8183\n",
      "Epoch 22/30\n",
      "625/625 - 0s - loss: 0.3133 - accuracy: 0.8626 - val_loss: 0.4013 - val_accuracy: 0.8207\n",
      "Epoch 23/30\n",
      "625/625 - 0s - loss: 0.3116 - accuracy: 0.8629 - val_loss: 0.4001 - val_accuracy: 0.8204\n",
      "Epoch 24/30\n",
      "625/625 - 0s - loss: 0.3104 - accuracy: 0.8626 - val_loss: 0.4026 - val_accuracy: 0.8167\n",
      "Epoch 25/30\n",
      "625/625 - 0s - loss: 0.3089 - accuracy: 0.8641 - val_loss: 0.4041 - val_accuracy: 0.8219\n",
      "Epoch 26/30\n",
      "625/625 - 0s - loss: 0.3080 - accuracy: 0.8629 - val_loss: 0.4031 - val_accuracy: 0.8201\n",
      "Epoch 27/30\n",
      "625/625 - 0s - loss: 0.3065 - accuracy: 0.8667 - val_loss: 0.4062 - val_accuracy: 0.8201\n",
      "Epoch 28/30\n",
      "625/625 - 0s - loss: 0.3053 - accuracy: 0.8665 - val_loss: 0.4100 - val_accuracy: 0.8183\n",
      "Epoch 29/30\n",
      "625/625 - 0s - loss: 0.3037 - accuracy: 0.8668 - val_loss: 0.4094 - val_accuracy: 0.8183\n",
      "Epoch 30/30\n",
      "625/625 - 0s - loss: 0.3031 - accuracy: 0.8666 - val_loss: 0.4102 - val_accuracy: 0.8171\n"
     ]
    }
   ],
   "source": [
    "vocab_size    = 1000   # lenght of interesting vocab length from Corpus\n",
    "embedding_dim = 16      # dimension of different cluster for words to cluster\n",
    "max_length    = 20     # max length of single sentence\n",
    "trunc_type    = 'post'  # if exced max_length, truncate to end\n",
    "padding_type  = 'post'  # if padding needed, do it in the end\n",
    "oov_tok       = \"<OOV>\" # usual out-of-vocab token\n",
    "training_size = 20000   # 20k of 27k sentences for training, rest 7k we keep for testing\n",
    "\n",
    "## on training data\n",
    "tokenizer = Tokenizer(num_words=vocab_size, oov_token=oov_tok)\n",
    "tokenizer.fit_on_texts(training_sentences)\n",
    "\n",
    "word_index          = tokenizer.word_index\n",
    "training_sequences  = tokenizer.texts_to_sequences(training_sentences)\n",
    "training_padded_seq = pad_sequences(training_sequences, maxlen=max_length, padding=padding_type, truncating=trunc_type)\n",
    "\n",
    "## on testing data\n",
    "testing_sequences  = tokenizer.texts_to_sequences(testing_sentences)\n",
    "testing_padded_seq = pad_sequences(testing_sequences, maxlen=max_length, padding=padding_type, truncating=trunc_type)\n",
    "\n",
    "model = tf.keras.Sequential([\n",
    "    tf.keras.layers.Embedding(vocab_size, embedding_dim, input_length=max_length),\n",
    "    tf.keras.layers.GlobalAveragePooling1D(),\n",
    "    tf.keras.layers.Dense(24, activation='relu'),\n",
    "    tf.keras.layers.Dense(1, activation='sigmoid')\n",
    "])\n",
    "model.compile(loss='binary_crossentropy',optimizer='adam',metrics=['accuracy'])\n",
    "\n",
    "num_epochs = 30\n",
    "history_approach_I = model.fit(training_padded_seq, \n",
    "                    training_labels, \n",
    "                    epochs=num_epochs, \n",
    "                    validation_data=(testing_padded_seq, testing_labels), \n",
    "                    verbose=2)"
   ]
  },
  {
   "cell_type": "code",
   "execution_count": 21,
   "metadata": {},
   "outputs": [
    {
     "data": {
      "image/png": "[encoded data removed]",
      "text/plain": [
       "<Figure size 1080x360 with 2 Axes>"
      ]
     },
     "metadata": {
      "needs_background": "light"
     },
     "output_type": "display_data"
    }
   ],
   "source": [
    "from ploting_script import plot_n_model \n",
    "plot_n_model(num_history=1, name_history=[history_approach_I], label_list=[\"App-I\"], \n",
    "             ylim_low_left=0.6, ylim_high_left=1.0,\n",
    "             ylim_low_right=0.2, ylim_high_right=0.6)"
   ]
  },
  {
   "cell_type": "markdown",
   "metadata": {},
   "source": [
    "## Approach-II"
   ]
  },
  {
   "cell_type": "code",
   "execution_count": 22,
   "metadata": {},
   "outputs": [
    {
     "name": "stdout",
     "output_type": "stream",
     "text": [
      "Epoch 1/30\n",
      "625/625 - 1s - loss: 0.5161 - accuracy: 0.7382 - val_loss: 0.4094 - val_accuracy: 0.8117\n",
      "Epoch 2/30\n",
      "625/625 - 0s - loss: 0.3779 - accuracy: 0.8273 - val_loss: 0.4013 - val_accuracy: 0.8153\n",
      "Epoch 3/30\n",
      "625/625 - 0s - loss: 0.3634 - accuracy: 0.8331 - val_loss: 0.4021 - val_accuracy: 0.8125\n",
      "Epoch 4/30\n",
      "625/625 - 0s - loss: 0.3576 - accuracy: 0.8360 - val_loss: 0.4100 - val_accuracy: 0.8083\n",
      "Epoch 5/30\n",
      "625/625 - 0s - loss: 0.3556 - accuracy: 0.8383 - val_loss: 0.4040 - val_accuracy: 0.8134\n",
      "Epoch 6/30\n",
      "625/625 - 0s - loss: 0.3536 - accuracy: 0.8401 - val_loss: 0.4047 - val_accuracy: 0.8122\n",
      "Epoch 7/30\n",
      "625/625 - 0s - loss: 0.3531 - accuracy: 0.8396 - val_loss: 0.4071 - val_accuracy: 0.8129\n",
      "Epoch 8/30\n",
      "625/625 - 0s - loss: 0.3511 - accuracy: 0.8412 - val_loss: 0.4045 - val_accuracy: 0.8131\n",
      "Epoch 9/30\n",
      "625/625 - 0s - loss: 0.3502 - accuracy: 0.8411 - val_loss: 0.4048 - val_accuracy: 0.8125\n",
      "Epoch 10/30\n",
      "625/625 - 0s - loss: 0.3492 - accuracy: 0.8407 - val_loss: 0.4055 - val_accuracy: 0.8134\n",
      "Epoch 11/30\n",
      "625/625 - 0s - loss: 0.3483 - accuracy: 0.8419 - val_loss: 0.4070 - val_accuracy: 0.8101\n",
      "Epoch 12/30\n",
      "625/625 - 0s - loss: 0.3470 - accuracy: 0.8427 - val_loss: 0.4049 - val_accuracy: 0.8137\n",
      "Epoch 13/30\n",
      "625/625 - 0s - loss: 0.3454 - accuracy: 0.8406 - val_loss: 0.4145 - val_accuracy: 0.8037\n",
      "Epoch 14/30\n",
      "625/625 - 0s - loss: 0.3449 - accuracy: 0.8440 - val_loss: 0.4075 - val_accuracy: 0.8114\n",
      "Epoch 15/30\n",
      "625/625 - 0s - loss: 0.3431 - accuracy: 0.8443 - val_loss: 0.4048 - val_accuracy: 0.8134\n",
      "Epoch 16/30\n",
      "625/625 - 0s - loss: 0.3430 - accuracy: 0.8436 - val_loss: 0.4105 - val_accuracy: 0.8070\n",
      "Epoch 17/30\n",
      "625/625 - 0s - loss: 0.3414 - accuracy: 0.8435 - val_loss: 0.4069 - val_accuracy: 0.8134\n",
      "Epoch 18/30\n",
      "625/625 - 0s - loss: 0.3393 - accuracy: 0.8452 - val_loss: 0.4050 - val_accuracy: 0.8144\n",
      "Epoch 19/30\n",
      "625/625 - 0s - loss: 0.3387 - accuracy: 0.8458 - val_loss: 0.4044 - val_accuracy: 0.8165\n",
      "Epoch 20/30\n",
      "625/625 - 0s - loss: 0.3373 - accuracy: 0.8463 - val_loss: 0.4053 - val_accuracy: 0.8146\n",
      "Epoch 21/30\n",
      "625/625 - 0s - loss: 0.3358 - accuracy: 0.8475 - val_loss: 0.4056 - val_accuracy: 0.8149\n",
      "Epoch 22/30\n",
      "625/625 - 0s - loss: 0.3337 - accuracy: 0.8503 - val_loss: 0.4060 - val_accuracy: 0.8147\n",
      "Epoch 23/30\n",
      "625/625 - 0s - loss: 0.3327 - accuracy: 0.8489 - val_loss: 0.4077 - val_accuracy: 0.8156\n",
      "Epoch 24/30\n",
      "625/625 - 0s - loss: 0.3310 - accuracy: 0.8497 - val_loss: 0.4037 - val_accuracy: 0.8141\n",
      "Epoch 25/30\n",
      "625/625 - 0s - loss: 0.3296 - accuracy: 0.8508 - val_loss: 0.3998 - val_accuracy: 0.8202\n",
      "Epoch 26/30\n",
      "625/625 - 0s - loss: 0.3263 - accuracy: 0.8530 - val_loss: 0.4039 - val_accuracy: 0.8177\n",
      "Epoch 27/30\n",
      "625/625 - 0s - loss: 0.3244 - accuracy: 0.8523 - val_loss: 0.4041 - val_accuracy: 0.8180\n",
      "Epoch 28/30\n",
      "625/625 - 0s - loss: 0.3223 - accuracy: 0.8526 - val_loss: 0.4020 - val_accuracy: 0.8189\n",
      "Epoch 29/30\n",
      "625/625 - 0s - loss: 0.3206 - accuracy: 0.8554 - val_loss: 0.4027 - val_accuracy: 0.8217\n",
      "Epoch 30/30\n",
      "625/625 - 0s - loss: 0.3182 - accuracy: 0.8579 - val_loss: 0.4030 - val_accuracy: 0.8228\n"
     ]
    }
   ],
   "source": [
    "vocab_size    = 1000   # lenght of interesting vocab length from Corpus\n",
    "embedding_dim = 32      # dimension of different cluster for words to cluster\n",
    "max_length    = 20     # max length of single sentence\n",
    "trunc_type    = 'post'  # if exced max_length, truncate to end\n",
    "padding_type  = 'post'  # if padding needed, do it in the end\n",
    "oov_tok       = \"<OOV>\" # usual out-of-vocab token\n",
    "training_size = 20000   # 20k of 27k sentences for training, rest 7k we keep for testing\n",
    "\n",
    "## on training data\n",
    "tokenizer = Tokenizer(num_words=vocab_size, oov_token=oov_tok)\n",
    "tokenizer.fit_on_texts(training_sentences)\n",
    "\n",
    "word_index          = tokenizer.word_index\n",
    "training_sequences  = tokenizer.texts_to_sequences(training_sentences)\n",
    "training_padded_seq = pad_sequences(training_sequences, maxlen=max_length, padding=padding_type, truncating=trunc_type)\n",
    "\n",
    "## on testing data\n",
    "testing_sequences  = tokenizer.texts_to_sequences(testing_sentences)\n",
    "testing_padded_seq = pad_sequences(testing_sequences, maxlen=max_length, padding=padding_type, truncating=trunc_type)\n",
    "\n",
    "model = tf.keras.Sequential([\n",
    "    tf.keras.layers.Embedding(vocab_size, embedding_dim, input_length=max_length),\n",
    "    tf.keras.layers.GlobalAveragePooling1D(),\n",
    "    tf.keras.layers.Dense(24, activation='relu'),\n",
    "    tf.keras.layers.Dense(1, activation='sigmoid')\n",
    "])\n",
    "model.compile(loss='binary_crossentropy',optimizer='adam',metrics=['accuracy'])\n",
    "\n",
    "num_epochs = 30\n",
    "history_approach_II = model.fit(training_padded_seq, \n",
    "                    training_labels, \n",
    "                    epochs=num_epochs, \n",
    "                    validation_data=(testing_padded_seq, testing_labels), \n",
    "                    verbose=2)"
   ]
  },
  {
   "cell_type": "markdown",
   "metadata": {},
   "source": [
    "# Comparison of Performance"
   ]
  },
  {
   "cell_type": "code",
   "execution_count": 29,
   "metadata": {},
   "outputs": [
    {
     "data": {
      "image/png": "[encoded data removed]",
      "text/plain": [
       "<Figure size 1080x360 with 2 Axes>"
      ]
     },
     "metadata": {
      "needs_background": "light"
     },
     "output_type": "display_data"
    }
   ],
   "source": [
    "from ploting_script import plot_n_model \n",
    "plot_n_model(num_history=3, name_history=[history, history_approach_I, history_approach_II], label_list=[\"Original\",\"app_I\", \"app_II\"], \n",
    "                 ylim_low_left=0.5, ylim_high_left=1.1,\n",
    "                 ylim_low_right=0, ylim_high_right=1.3,\n",
    "                 leg_loc=\"upper left\")"
   ]
  }
 ],
 "metadata": {
  "accelerator": "GPU",
  "colab": {
   "collapsed_sections": [],
   "name": "Course 3 - Week 2 - Lesson 2.ipynb",
   "provenance": [],
   "toc_visible": true
  },
  "kernelspec": {
   "display_name": "Python 3 (ipykernel)",
   "language": "python",
   "name": "python3"
  },
  "language_info": {
   "codemirror_mode": {
    "name": "ipython",
    "version": 3
   },
   "file_extension": ".py",
   "mimetype": "text/x-python",
   "name": "python",
   "nbconvert_exporter": "python",
   "pygments_lexer": "ipython3",
   "version": "3.7.12"
  },
  "toc": {
   "base_numbering": 1,
   "nav_menu": {},
   "number_sections": true,
   "sideBar": true,
   "skip_h1_title": false,
   "title_cell": "Table of Contents",
   "title_sidebar": "Contents",
   "toc_cell": false,
   "toc_position": {
    "height": "calc(100% - 180px)",
    "left": "10px",
    "top": "150px",
    "width": "347.20001220703125px"
   },
   "toc_section_display": true,
   "toc_window_display": true
  }
 },
 "nbformat": 4,
 "nbformat_minor": 1
}
