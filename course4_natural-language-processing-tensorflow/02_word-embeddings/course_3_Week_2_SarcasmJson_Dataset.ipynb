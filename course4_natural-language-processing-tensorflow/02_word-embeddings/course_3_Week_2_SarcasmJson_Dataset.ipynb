{
 "cells": [
  {
   "cell_type": "markdown",
   "metadata": {},
   "source": [
    "# Basics"
   ]
  },
  {
   "cell_type": "markdown",
   "metadata": {
    "id": "XYYDvoskkE61"
   },
   "source": [
    "## Import Libraries"
   ]
  },
  {
   "cell_type": "code",
   "execution_count": 1,
   "metadata": {
    "id": "4gs9htvM7n_x"
   },
   "outputs": [
    {
     "name": "stdout",
     "output_type": "stream",
     "text": [
      "2.6.0\n"
     ]
    }
   ],
   "source": [
    "import json\n",
    "import tensorflow as tf\n",
    "\n",
    "from tensorflow.keras.preprocessing.text import Tokenizer\n",
    "from tensorflow.keras.preprocessing.sequence import pad_sequences\n",
    "import tensorflow as tf\n",
    "print(tf.__version__)"
   ]
  },
  {
   "cell_type": "markdown",
   "metadata": {},
   "source": [
    "## Download Datasets"
   ]
  },
  {
   "cell_type": "code",
   "execution_count": 4,
   "metadata": {
    "id": "BQVuQrZNkPn9"
   },
   "outputs": [
    {
     "name": "stdout",
     "output_type": "stream",
     "text": [
      "--2021-12-15 10:02:14--  https://storage.googleapis.com/laurencemoroney-blog.appspot.com/sarcasm.json\n",
      "Resolving storage.googleapis.com (storage.googleapis.com)... 142.250.186.176, 142.250.185.240, 172.217.18.112, ...\n",
      "Connecting to storage.googleapis.com (storage.googleapis.com)|142.250.186.176|:443... connected.\n",
      "HTTP request sent, awaiting response... 200 OK\n",
      "Length: 5643545 (5,4M) [application/json]\n",
      "Saving to: ‘/tmp/sarcasm.json’\n",
      "\n",
      "/tmp/sarcasm.json   100%[===================>]   5,38M  4,32MB/s    in 1,2s    \n",
      "\n",
      "2021-12-15 10:02:15 (4,32 MB/s) - ‘/tmp/sarcasm.json’ saved [5643545/5643545]\n",
      "\n"
     ]
    }
   ],
   "source": [
    "!wget --no-check-certificate \\\n",
    "    https://storage.googleapis.com/laurencemoroney-blog.appspot.com/sarcasm.json \\\n",
    "    -O /tmp/sarcasm.json\n"
   ]
  },
  {
   "cell_type": "markdown",
   "metadata": {},
   "source": [
    "# Data Preprocessing"
   ]
  },
  {
   "cell_type": "code",
   "execution_count": 3,
   "metadata": {
    "id": "0eJSTTYnkJQd"
   },
   "outputs": [],
   "source": [
    "vocab_size = 10000\n",
    "embedding_dim = 16\n",
    "max_length = 100\n",
    "trunc_type='post'\n",
    "padding_type='post'\n",
    "oov_tok = \"<OOV>\"\n",
    "training_size = 20000"
   ]
  },
  {
   "cell_type": "code",
   "execution_count": 5,
   "metadata": {
    "id": "oaLaaqhNkUPd"
   },
   "outputs": [],
   "source": [
    "with open(\"/tmp/sarcasm.json\", 'r') as f:\n",
    "    datastore = json.load(f)\n",
    "\n",
    "sentences = []\n",
    "labels = []\n",
    "\n",
    "for item in datastore:\n",
    "    sentences.append(item['headline'])\n",
    "    labels.append(item['is_sarcastic'])"
   ]
  },
  {
   "cell_type": "code",
   "execution_count": 6,
   "metadata": {
    "id": "S1sD-7v0kYWk"
   },
   "outputs": [],
   "source": [
    "training_sentences = sentences[0:training_size]\n",
    "testing_sentences = sentences[training_size:]\n",
    "training_labels = labels[0:training_size]\n",
    "testing_labels = labels[training_size:]"
   ]
  },
  {
   "cell_type": "code",
   "execution_count": 7,
   "metadata": {
    "id": "3u8UB0MCkZ5N"
   },
   "outputs": [],
   "source": [
    "tokenizer = Tokenizer(num_words=vocab_size, oov_token=oov_tok)\n",
    "tokenizer.fit_on_texts(training_sentences)\n",
    "\n",
    "word_index = tokenizer.word_index\n",
    "\n",
    "training_sequences = tokenizer.texts_to_sequences(training_sentences)\n",
    "training_padded = pad_sequences(training_sequences, maxlen=max_length, padding=padding_type, truncating=trunc_type)\n",
    "\n",
    "testing_sequences = tokenizer.texts_to_sequences(testing_sentences)\n",
    "testing_padded = pad_sequences(testing_sequences, maxlen=max_length, padding=padding_type, truncating=trunc_type)"
   ]
  },
  {
   "cell_type": "code",
   "execution_count": 8,
   "metadata": {
    "id": "GrAlWBKf99Ya"
   },
   "outputs": [],
   "source": [
    "# Need this block to get it to work with TensorFlow 2.x\n",
    "import numpy as np\n",
    "training_padded = np.array(training_padded)\n",
    "training_labels = np.array(training_labels)\n",
    "testing_padded = np.array(testing_padded)\n",
    "testing_labels = np.array(testing_labels)"
   ]
  },
  {
   "cell_type": "markdown",
   "metadata": {},
   "source": [
    "# Training"
   ]
  },
  {
   "cell_type": "code",
   "execution_count": 9,
   "metadata": {
    "id": "FufaT4vlkiDE"
   },
   "outputs": [
    {
     "name": "stderr",
     "output_type": "stream",
     "text": [
      "2021-12-15 10:02:16.436837: I tensorflow/core/platform/cpu_feature_guard.cc:142] This TensorFlow binary is optimized with oneAPI Deep Neural Network Library (oneDNN) to use the following CPU instructions in performance-critical operations:  AVX2 FMA\n",
      "To enable them in other operations, rebuild TensorFlow with the appropriate compiler flags.\n"
     ]
    }
   ],
   "source": [
    " model = tf.keras.Sequential([\n",
    "    tf.keras.layers.Embedding(vocab_size, embedding_dim, input_length=max_length),\n",
    "    tf.keras.layers.GlobalAveragePooling1D(),\n",
    "    tf.keras.layers.Dense(24, activation='relu'),\n",
    "    tf.keras.layers.Dense(1, activation='sigmoid')\n",
    "])\n",
    "model.compile(loss='binary_crossentropy',optimizer='adam',metrics=['accuracy'])"
   ]
  },
  {
   "cell_type": "code",
   "execution_count": 10,
   "metadata": {
    "id": "XfDt1hmYkiys"
   },
   "outputs": [
    {
     "name": "stdout",
     "output_type": "stream",
     "text": [
      "Model: \"sequential\"\n",
      "_________________________________________________________________\n",
      "Layer (type)                 Output Shape              Param #   \n",
      "=================================================================\n",
      "embedding (Embedding)        (None, 100, 16)           160000    \n",
      "_________________________________________________________________\n",
      "global_average_pooling1d (Gl (None, 16)                0         \n",
      "_________________________________________________________________\n",
      "dense (Dense)                (None, 24)                408       \n",
      "_________________________________________________________________\n",
      "dense_1 (Dense)              (None, 1)                 25        \n",
      "=================================================================\n",
      "Total params: 160,433\n",
      "Trainable params: 160,433\n",
      "Non-trainable params: 0\n",
      "_________________________________________________________________\n"
     ]
    }
   ],
   "source": [
    "model.summary()"
   ]
  },
  {
   "cell_type": "code",
   "execution_count": 11,
   "metadata": {
    "id": "2DTKQFf1kkyc"
   },
   "outputs": [
    {
     "name": "stderr",
     "output_type": "stream",
     "text": [
      "2021-12-15 10:02:17.154328: I tensorflow/compiler/mlir/mlir_graph_optimization_pass.cc:185] None of the MLIR Optimization Passes are enabled (registered 2)\n"
     ]
    },
    {
     "name": "stdout",
     "output_type": "stream",
     "text": [
      "Epoch 1/30\n",
      "625/625 - 1s - loss: 0.6699 - accuracy: 0.5778 - val_loss: 0.6021 - val_accuracy: 0.7149\n",
      "Epoch 2/30\n",
      "625/625 - 1s - loss: 0.4510 - accuracy: 0.8249 - val_loss: 0.3933 - val_accuracy: 0.8362\n",
      "Epoch 3/30\n",
      "625/625 - 1s - loss: 0.3208 - accuracy: 0.8748 - val_loss: 0.3649 - val_accuracy: 0.8414\n",
      "Epoch 4/30\n",
      "625/625 - 1s - loss: 0.2692 - accuracy: 0.8950 - val_loss: 0.3439 - val_accuracy: 0.8571\n",
      "Epoch 5/30\n",
      "625/625 - 1s - loss: 0.2320 - accuracy: 0.9092 - val_loss: 0.3422 - val_accuracy: 0.8562\n",
      "Epoch 6/30\n",
      "625/625 - 1s - loss: 0.2042 - accuracy: 0.9211 - val_loss: 0.3462 - val_accuracy: 0.8560\n",
      "Epoch 7/30\n",
      "625/625 - 1s - loss: 0.1828 - accuracy: 0.9311 - val_loss: 0.3559 - val_accuracy: 0.8533\n",
      "Epoch 8/30\n",
      "625/625 - 1s - loss: 0.1630 - accuracy: 0.9400 - val_loss: 0.3677 - val_accuracy: 0.8548\n",
      "Epoch 9/30\n",
      "625/625 - 1s - loss: 0.1489 - accuracy: 0.9460 - val_loss: 0.3866 - val_accuracy: 0.8532\n",
      "Epoch 10/30\n",
      "625/625 - 1s - loss: 0.1359 - accuracy: 0.9517 - val_loss: 0.3976 - val_accuracy: 0.8526\n",
      "Epoch 11/30\n",
      "625/625 - 1s - loss: 0.1228 - accuracy: 0.9570 - val_loss: 0.4177 - val_accuracy: 0.8505\n",
      "Epoch 12/30\n",
      "625/625 - 1s - loss: 0.1136 - accuracy: 0.9612 - val_loss: 0.4570 - val_accuracy: 0.8396\n",
      "Epoch 13/30\n",
      "625/625 - 1s - loss: 0.1046 - accuracy: 0.9645 - val_loss: 0.4586 - val_accuracy: 0.8474\n",
      "Epoch 14/30\n",
      "625/625 - 1s - loss: 0.0946 - accuracy: 0.9688 - val_loss: 0.4899 - val_accuracy: 0.8410\n",
      "Epoch 15/30\n",
      "625/625 - 1s - loss: 0.0873 - accuracy: 0.9711 - val_loss: 0.5109 - val_accuracy: 0.8419\n",
      "Epoch 16/30\n",
      "625/625 - 1s - loss: 0.0799 - accuracy: 0.9747 - val_loss: 0.5357 - val_accuracy: 0.8395\n",
      "Epoch 17/30\n",
      "625/625 - 1s - loss: 0.0750 - accuracy: 0.9755 - val_loss: 0.6140 - val_accuracy: 0.8292\n",
      "Epoch 18/30\n",
      "625/625 - 1s - loss: 0.0691 - accuracy: 0.9775 - val_loss: 0.5932 - val_accuracy: 0.8344\n",
      "Epoch 19/30\n",
      "625/625 - 1s - loss: 0.0645 - accuracy: 0.9793 - val_loss: 0.6330 - val_accuracy: 0.8320\n",
      "Epoch 20/30\n",
      "625/625 - 1s - loss: 0.0585 - accuracy: 0.9823 - val_loss: 0.6888 - val_accuracy: 0.8278\n",
      "Epoch 21/30\n",
      "625/625 - 1s - loss: 0.0529 - accuracy: 0.9844 - val_loss: 0.7008 - val_accuracy: 0.8268\n",
      "Epoch 22/30\n",
      "625/625 - 1s - loss: 0.0509 - accuracy: 0.9844 - val_loss: 0.7257 - val_accuracy: 0.8244\n",
      "Epoch 23/30\n",
      "625/625 - 1s - loss: 0.0470 - accuracy: 0.9854 - val_loss: 0.7485 - val_accuracy: 0.8252\n",
      "Epoch 24/30\n",
      "625/625 - 1s - loss: 0.0423 - accuracy: 0.9880 - val_loss: 0.7945 - val_accuracy: 0.8219\n",
      "Epoch 25/30\n",
      "625/625 - 1s - loss: 0.0401 - accuracy: 0.9886 - val_loss: 0.8236 - val_accuracy: 0.8204\n",
      "Epoch 26/30\n",
      "625/625 - 1s - loss: 0.0366 - accuracy: 0.9895 - val_loss: 0.9111 - val_accuracy: 0.8182\n",
      "Epoch 27/30\n",
      "625/625 - 1s - loss: 0.0345 - accuracy: 0.9904 - val_loss: 0.9015 - val_accuracy: 0.8182\n",
      "Epoch 28/30\n",
      "625/625 - 1s - loss: 0.0313 - accuracy: 0.9913 - val_loss: 0.9421 - val_accuracy: 0.8168\n",
      "Epoch 29/30\n",
      "625/625 - 1s - loss: 0.0296 - accuracy: 0.9920 - val_loss: 0.9974 - val_accuracy: 0.8156\n",
      "Epoch 30/30\n",
      "625/625 - 1s - loss: 0.0274 - accuracy: 0.9929 - val_loss: 1.0009 - val_accuracy: 0.8150\n"
     ]
    }
   ],
   "source": [
    "num_epochs = 30\n",
    "history = model.fit(training_padded, training_labels, epochs=num_epochs, validation_data=(testing_padded, testing_labels), verbose=2)"
   ]
  },
  {
   "cell_type": "markdown",
   "metadata": {},
   "source": [
    "## Plotting"
   ]
  },
  {
   "cell_type": "code",
   "execution_count": 18,
   "metadata": {},
   "outputs": [],
   "source": [
    "import os\n",
    "import sys\n",
    "script_path=os.environ.get('DirForPoolScripts')\n",
    "sys.path.append(script_path)  "
   ]
  },
  {
   "cell_type": "code",
   "execution_count": 19,
   "metadata": {},
   "outputs": [
    {
     "data": {
      "text/plain": [
       "<Figure size 432x288 with 0 Axes>"
      ]
     },
     "metadata": {},
     "output_type": "display_data"
    },
    {
     "data": {
      "image/png": "[encoded data removed]",
      "text/plain": [
       "<Figure size 1080x360 with 2 Axes>"
      ]
     },
     "metadata": {
      "needs_background": "light"
     },
     "output_type": "display_data"
    }
   ],
   "source": [
    "from ploting_script import plot_n_model \n",
    "plot_n_model(num_history=1, name_history=[history], label_list=[\"nlp\"], ylim_low=0, ylim_high=1.5)"
   ]
  },
  {
   "cell_type": "code",
   "execution_count": 13,
   "metadata": {
    "id": "7SBdAZAenvzL"
   },
   "outputs": [
    {
     "name": "stdout",
     "output_type": "stream",
     "text": [
      "former <OOV> store clerk sues over secret 'black <OOV> for minority shoppers ? ? ? ? ? ? ? ? ? ? ? ? ? ? ? ? ? ? ? ? ? ? ? ? ? ? ? ? ? ? ? ? ? ? ? ? ? ? ? ? ? ? ? ? ? ? ? ? ? ? ? ? ? ? ? ? ? ? ? ? ? ? ? ? ? ? ? ? ? ? ? ? ? ? ? ? ? ? ? ? ? ? ? ? ? ? ? ?\n",
      "mom starting to fear son's web series closest thing she will have to grandchild\n",
      "1\n"
     ]
    }
   ],
   "source": [
    "reverse_word_index = dict([(value, key) for (key, value) in word_index.items()])\n",
    "\n",
    "def decode_sentence(text):\n",
    "    return ' '.join([reverse_word_index.get(i, '?') for i in text])\n",
    "\n",
    "print(decode_sentence(training_padded[0]))\n",
    "print(training_sentences[2])\n",
    "print(labels[2])"
   ]
  },
  {
   "cell_type": "code",
   "execution_count": 14,
   "metadata": {
    "id": "c9MqihtEkzQ9"
   },
   "outputs": [
    {
     "name": "stdout",
     "output_type": "stream",
     "text": [
      "(10000, 16)\n"
     ]
    }
   ],
   "source": [
    "e = model.layers[0]\n",
    "weights = e.get_weights()[0]\n",
    "print(weights.shape) # shape: (vocab_size, embedding_dim)"
   ]
  },
  {
   "cell_type": "code",
   "execution_count": 15,
   "metadata": {
    "id": "LoBXVffknldU"
   },
   "outputs": [],
   "source": [
    "import io\n",
    "\n",
    "out_v = io.open('vecs.tsv', 'w', encoding='utf-8')\n",
    "out_m = io.open('meta.tsv', 'w', encoding='utf-8')\n",
    "for word_num in range(1, vocab_size):\n",
    "  word = reverse_word_index[word_num]\n",
    "  embeddings = weights[word_num]\n",
    "  out_m.write(word + \"\\n\")\n",
    "  out_v.write('\\t'.join([str(x) for x in embeddings]) + \"\\n\")\n",
    "out_v.close()\n",
    "out_m.close()"
   ]
  },
  {
   "cell_type": "code",
   "execution_count": 16,
   "metadata": {
    "id": "U4eZ5HtVnnEE"
   },
   "outputs": [],
   "source": [
    "try:\n",
    "  from google.colab import files\n",
    "except ImportError:\n",
    "  pass\n",
    "else:\n",
    "  files.download('vecs.tsv')\n",
    "  files.download('meta.tsv')"
   ]
  },
  {
   "cell_type": "code",
   "execution_count": 17,
   "metadata": {
    "id": "cG8-ArY-qDcz"
   },
   "outputs": [
    {
     "name": "stdout",
     "output_type": "stream",
     "text": [
      "[[9.0370435e-01]\n",
      " [1.8445431e-05]]\n"
     ]
    }
   ],
   "source": [
    "sentence = [\"granny starting to fear spiders in the garden might be real\", \"game of thrones season finale showing this sunday night\"]\n",
    "sequences = tokenizer.texts_to_sequences(sentence)\n",
    "\n",
    "padded = pad_sequences(sequences, maxlen=max_length, padding=padding_type, truncating=trunc_type)\n",
    "print(model.predict(padded))"
   ]
  }
 ],
 "metadata": {
  "accelerator": "GPU",
  "colab": {
   "collapsed_sections": [],
   "name": "Course 3 - Week 2 - Lesson 2.ipynb",
   "provenance": [],
   "toc_visible": true
  },
  "kernelspec": {
   "display_name": "Python 3 (ipykernel)",
   "language": "python",
   "name": "python3"
  },
  "language_info": {
   "codemirror_mode": {
    "name": "ipython",
    "version": 3
   },
   "file_extension": ".py",
   "mimetype": "text/x-python",
   "name": "python",
   "nbconvert_exporter": "python",
   "pygments_lexer": "ipython3",
   "version": "3.7.12"
  },
  "toc": {
   "base_numbering": 1,
   "nav_menu": {},
   "number_sections": true,
   "sideBar": true,
   "skip_h1_title": false,
   "title_cell": "Table of Contents",
   "title_sidebar": "Contents",
   "toc_cell": false,
   "toc_position": {},
   "toc_section_display": true,
   "toc_window_display": true
  }
 },
 "nbformat": 4,
 "nbformat_minor": 1
}
