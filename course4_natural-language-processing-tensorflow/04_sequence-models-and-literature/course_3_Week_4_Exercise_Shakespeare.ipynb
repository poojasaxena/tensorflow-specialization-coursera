{
 "cells": [
  {
   "cell_type": "code",
   "execution_count": 1,
   "metadata": {},
   "outputs": [],
   "source": [
    "from tensorflow.keras.preprocessing.sequence import pad_sequences\n",
    "from tensorflow.keras.layers import Embedding, LSTM, Dense, Dropout, Bidirectional\n",
    "from tensorflow.keras.preprocessing.text import Tokenizer\n",
    "from tensorflow.keras.models import Sequential\n",
    "from tensorflow.keras.optimizers import Adam\n",
    "from tensorflow.keras import regularizers\n",
    "import tensorflow.keras.utils as ku \n",
    "import numpy as np"
   ]
  },
  {
   "cell_type": "code",
   "execution_count": 2,
   "metadata": {},
   "outputs": [
    {
     "name": "stdout",
     "output_type": "stream",
     "text": [
      "--2021-12-15 10:45:54--  https://storage.googleapis.com/laurencemoroney-blog.appspot.com/sonnets.txt\n",
      "Resolving storage.googleapis.com (storage.googleapis.com)... 142.250.186.144, 142.250.185.176, 142.250.186.80, ...\n",
      "Connecting to storage.googleapis.com (storage.googleapis.com)|142.250.186.144|:443... connected.\n",
      "HTTP request sent, awaiting response... 200 OK\n",
      "Length: 93578 (91K) [text/plain]\n",
      "Saving to: ‘/tmp/sonnets.txt’\n",
      "\n",
      "/tmp/sonnets.txt    100%[===================>]  91,38K  --.-KB/s    in 0,05s   \n",
      "\n",
      "2021-12-15 10:45:55 (1,68 MB/s) - ‘/tmp/sonnets.txt’ saved [93578/93578]\n",
      "\n"
     ]
    }
   ],
   "source": [
    "tokenizer = Tokenizer()\n",
    "!wget --no-check-certificate \\\n",
    "    https://storage.googleapis.com/laurencemoroney-blog.appspot.com/sonnets.txt \\\n",
    "    -O /tmp/sonnets.txt\n",
    "data = open('/tmp/sonnets.txt').read()\n",
    "\n",
    "corpus = data.lower().split(\"\\n\")\n",
    "\n",
    "\n",
    "tokenizer.fit_on_texts(corpus)\n",
    "total_words = len(tokenizer.word_index) + 1\n",
    "\n",
    "# create input sequences using list of tokens\n",
    "input_sequences = []\n",
    "for line in corpus:\n",
    "    token_list = tokenizer.texts_to_sequences([line])[0]\n",
    "    for i in range(1, len(token_list)):\n",
    "        n_gram_sequence = token_list[:i+1]\n",
    "        input_sequences.append(n_gram_sequence)\n",
    "\n",
    "\n",
    "# pad sequences \n",
    "max_sequence_len = max([len(x) for x in input_sequences])\n",
    "input_sequences = np.array(pad_sequences(input_sequences, maxlen=max_sequence_len, padding='pre'))\n",
    "\n",
    "# create predictors and label\n",
    "predictors, label = input_sequences[:,:-1],input_sequences[:,-1]\n",
    "\n",
    "label = ku.to_categorical(label, num_classes=total_words)"
   ]
  },
  {
   "cell_type": "code",
   "execution_count": 3,
   "metadata": {},
   "outputs": [
    {
     "name": "stderr",
     "output_type": "stream",
     "text": [
      "2021-12-15 10:45:55.902288: I tensorflow/core/platform/cpu_feature_guard.cc:142] This TensorFlow binary is optimized with oneAPI Deep Neural Network Library (oneDNN) to use the following CPU instructions in performance-critical operations:  AVX2 FMA\n",
      "To enable them in other operations, rebuild TensorFlow with the appropriate compiler flags.\n"
     ]
    },
    {
     "name": "stdout",
     "output_type": "stream",
     "text": [
      "Model: \"sequential\"\n",
      "_________________________________________________________________\n",
      "Layer (type)                 Output Shape              Param #   \n",
      "=================================================================\n",
      "embedding (Embedding)        (None, 10, 100)           321100    \n",
      "_________________________________________________________________\n",
      "bidirectional (Bidirectional (None, 10, 300)           301200    \n",
      "_________________________________________________________________\n",
      "dropout (Dropout)            (None, 10, 300)           0         \n",
      "_________________________________________________________________\n",
      "lstm_1 (LSTM)                (None, 100)               160400    \n",
      "_________________________________________________________________\n",
      "dense (Dense)                (None, 1605)              162105    \n",
      "_________________________________________________________________\n",
      "dense_1 (Dense)              (None, 3211)              5156866   \n",
      "=================================================================\n",
      "Total params: 6,101,671\n",
      "Trainable params: 6,101,671\n",
      "Non-trainable params: 0\n",
      "_________________________________________________________________\n",
      "None\n"
     ]
    }
   ],
   "source": [
    "model = Sequential()\n",
    "model.add(Embedding(total_words, 100, input_length=max_sequence_len-1))\n",
    "model.add(Bidirectional(LSTM(150, return_sequences = True)))\n",
    "model.add(Dropout(0.2))\n",
    "model.add(LSTM(100))\n",
    "model.add(Dense(total_words/2, activation='relu', kernel_regularizer=regularizers.l2(0.01)))\n",
    "model.add(Dense(total_words, activation='softmax'))\n",
    "model.compile(loss='categorical_crossentropy', optimizer='adam', metrics=['accuracy'])\n",
    "print(model.summary())"
   ]
  },
  {
   "cell_type": "code",
   "execution_count": 4,
   "metadata": {},
   "outputs": [
    {
     "name": "stderr",
     "output_type": "stream",
     "text": [
      "2021-12-15 10:45:57.366188: I tensorflow/compiler/mlir/mlir_graph_optimization_pass.cc:185] None of the MLIR Optimization Passes are enabled (registered 2)\n"
     ]
    },
    {
     "name": "stdout",
     "output_type": "stream",
     "text": [
      "Epoch 1/100\n",
      "484/484 [==============================] - 39s 69ms/step - loss: 6.9116 - accuracy: 0.0242\n",
      "Epoch 2/100\n",
      "484/484 [==============================] - 46s 96ms/step - loss: 6.5018 - accuracy: 0.0217\n",
      "Epoch 3/100\n",
      "484/484 [==============================] - 45s 92ms/step - loss: 6.3987 - accuracy: 0.0240\n",
      "Epoch 4/100\n",
      "484/484 [==============================] - 40s 84ms/step - loss: 6.2724 - accuracy: 0.0294\n",
      "Epoch 5/100\n",
      "484/484 [==============================] - 42s 87ms/step - loss: 6.1773 - accuracy: 0.0362\n",
      "Epoch 6/100\n",
      "484/484 [==============================] - 44s 90ms/step - loss: 6.0967 - accuracy: 0.0375\n",
      "Epoch 7/100\n",
      "484/484 [==============================] - 44s 92ms/step - loss: 6.0201 - accuracy: 0.0408\n",
      "Epoch 8/100\n",
      "484/484 [==============================] - 45s 93ms/step - loss: 5.9409 - accuracy: 0.0456\n",
      "Epoch 9/100\n",
      "484/484 [==============================] - 43s 89ms/step - loss: 5.8384 - accuracy: 0.0521\n",
      "Epoch 10/100\n",
      "484/484 [==============================] - 43s 89ms/step - loss: 5.7301 - accuracy: 0.0584\n",
      "Epoch 11/100\n",
      "484/484 [==============================] - 45s 92ms/step - loss: 5.6264 - accuracy: 0.0640\n",
      "Epoch 12/100\n",
      "484/484 [==============================] - 45s 93ms/step - loss: 5.5217 - accuracy: 0.0694\n",
      "Epoch 13/100\n",
      "484/484 [==============================] - 45s 92ms/step - loss: 5.4198 - accuracy: 0.0758\n",
      "Epoch 14/100\n",
      "484/484 [==============================] - 43s 88ms/step - loss: 5.3204 - accuracy: 0.0797\n",
      "Epoch 15/100\n",
      "484/484 [==============================] - 43s 89ms/step - loss: 5.2187 - accuracy: 0.0888\n",
      "Epoch 16/100\n",
      "484/484 [==============================] - 43s 89ms/step - loss: 5.1194 - accuracy: 0.0935\n",
      "Epoch 17/100\n",
      "484/484 [==============================] - 46s 94ms/step - loss: 5.0221 - accuracy: 0.1037\n",
      "Epoch 18/100\n",
      "484/484 [==============================] - 48s 99ms/step - loss: 4.9190 - accuracy: 0.1105\n",
      "Epoch 19/100\n",
      "484/484 [==============================] - 47s 98ms/step - loss: 4.8137 - accuracy: 0.1217\n",
      "Epoch 20/100\n",
      "484/484 [==============================] - 45s 93ms/step - loss: 4.7138 - accuracy: 0.1295\n",
      "Epoch 21/100\n",
      "484/484 [==============================] - 47s 97ms/step - loss: 4.6093 - accuracy: 0.1416\n",
      "Epoch 22/100\n",
      "484/484 [==============================] - 45s 92ms/step - loss: 4.5044 - accuracy: 0.1523\n",
      "Epoch 23/100\n",
      "484/484 [==============================] - 45s 92ms/step - loss: 4.4043 - accuracy: 0.1630\n",
      "Epoch 24/100\n",
      "484/484 [==============================] - 46s 95ms/step - loss: 4.2933 - accuracy: 0.1758\n",
      "Epoch 25/100\n",
      "484/484 [==============================] - 44s 91ms/step - loss: 4.1871 - accuracy: 0.1868\n",
      "Epoch 26/100\n",
      "484/484 [==============================] - 45s 92ms/step - loss: 4.0855 - accuracy: 0.2006\n",
      "Epoch 27/100\n",
      "484/484 [==============================] - 44s 92ms/step - loss: 3.9887 - accuracy: 0.2164\n",
      "Epoch 28/100\n",
      "484/484 [==============================] - 43s 89ms/step - loss: 3.8915 - accuracy: 0.2285\n",
      "Epoch 29/100\n",
      "484/484 [==============================] - 44s 90ms/step - loss: 3.7920 - accuracy: 0.2459\n",
      "Epoch 30/100\n",
      "484/484 [==============================] - 43s 89ms/step - loss: 3.6943 - accuracy: 0.2637\n",
      "Epoch 31/100\n",
      "484/484 [==============================] - 44s 91ms/step - loss: 3.6002 - accuracy: 0.2841\n",
      "Epoch 32/100\n",
      "484/484 [==============================] - 45s 93ms/step - loss: 3.5157 - accuracy: 0.3003\n",
      "Epoch 33/100\n",
      "484/484 [==============================] - 44s 90ms/step - loss: 3.4224 - accuracy: 0.3243\n",
      "Epoch 34/100\n",
      "484/484 [==============================] - 45s 93ms/step - loss: 3.3423 - accuracy: 0.3428\n",
      "Epoch 35/100\n",
      "484/484 [==============================] - 47s 96ms/step - loss: 3.2494 - accuracy: 0.3616\n",
      "Epoch 36/100\n",
      "484/484 [==============================] - 43s 89ms/step - loss: 3.1711 - accuracy: 0.3776\n",
      "Epoch 37/100\n",
      "484/484 [==============================] - 45s 92ms/step - loss: 3.0952 - accuracy: 0.3950\n",
      "Epoch 38/100\n",
      "484/484 [==============================] - 44s 91ms/step - loss: 3.0220 - accuracy: 0.4138\n",
      "Epoch 39/100\n",
      "484/484 [==============================] - 43s 88ms/step - loss: 2.9441 - accuracy: 0.4311\n",
      "Epoch 40/100\n",
      "484/484 [==============================] - 45s 94ms/step - loss: 2.8868 - accuracy: 0.4397\n",
      "Epoch 41/100\n",
      "484/484 [==============================] - 45s 93ms/step - loss: 2.8066 - accuracy: 0.4598\n",
      "Epoch 42/100\n",
      "484/484 [==============================] - 45s 92ms/step - loss: 2.7306 - accuracy: 0.4779\n",
      "Epoch 43/100\n",
      "484/484 [==============================] - 45s 92ms/step - loss: 2.6730 - accuracy: 0.4940\n",
      "Epoch 44/100\n",
      "484/484 [==============================] - 45s 92ms/step - loss: 2.6151 - accuracy: 0.5055\n",
      "Epoch 45/100\n",
      "484/484 [==============================] - 45s 92ms/step - loss: 2.5650 - accuracy: 0.5142\n",
      "Epoch 46/100\n",
      "484/484 [==============================] - 43s 89ms/step - loss: 2.5013 - accuracy: 0.5300\n",
      "Epoch 47/100\n",
      "484/484 [==============================] - 42s 87ms/step - loss: 2.4355 - accuracy: 0.5448\n",
      "Epoch 48/100\n",
      "484/484 [==============================] - 46s 94ms/step - loss: 2.3903 - accuracy: 0.5541\n",
      "Epoch 49/100\n",
      "484/484 [==============================] - 45s 94ms/step - loss: 2.3358 - accuracy: 0.5662\n",
      "Epoch 50/100\n",
      "484/484 [==============================] - 45s 92ms/step - loss: 2.2847 - accuracy: 0.5772\n",
      "Epoch 51/100\n",
      "484/484 [==============================] - 44s 91ms/step - loss: 2.2340 - accuracy: 0.5907\n",
      "Epoch 52/100\n",
      "484/484 [==============================] - 43s 89ms/step - loss: 2.1889 - accuracy: 0.5995\n",
      "Epoch 53/100\n",
      "484/484 [==============================] - 1885s 4s/step - loss: 2.1461 - accuracy: 0.6093\n",
      "Epoch 54/100\n",
      "484/484 [==============================] - 101s 209ms/step - loss: 2.1044 - accuracy: 0.6160\n",
      "Epoch 55/100\n",
      "484/484 [==============================] - 88s 183ms/step - loss: 2.0662 - accuracy: 0.6263\n",
      "Epoch 56/100\n",
      "484/484 [==============================] - 92s 189ms/step - loss: 2.0182 - accuracy: 0.6332\n",
      "Epoch 57/100\n",
      "484/484 [==============================] - 87s 180ms/step - loss: 1.9725 - accuracy: 0.6462\n",
      "Epoch 58/100\n",
      "484/484 [==============================] - 90s 185ms/step - loss: 1.9450 - accuracy: 0.6522\n",
      "Epoch 59/100\n",
      "484/484 [==============================] - 82s 169ms/step - loss: 1.8985 - accuracy: 0.6617\n",
      "Epoch 60/100\n",
      "484/484 [==============================] - 91s 189ms/step - loss: 1.8813 - accuracy: 0.6651\n",
      "Epoch 61/100\n",
      "484/484 [==============================] - 2868s 6s/step - loss: 1.8547 - accuracy: 0.6700\n",
      "Epoch 62/100\n",
      "484/484 [==============================] - 2834s 6s/step - loss: 1.8029 - accuracy: 0.6827\n",
      "Epoch 63/100\n",
      "484/484 [==============================] - 38s 79ms/step - loss: 1.7722 - accuracy: 0.6886\n",
      "Epoch 64/100\n",
      "484/484 [==============================] - 39s 80ms/step - loss: 1.7423 - accuracy: 0.6961\n",
      "Epoch 65/100\n",
      "484/484 [==============================] - 37s 77ms/step - loss: 1.7207 - accuracy: 0.6995\n",
      "Epoch 66/100\n",
      "484/484 [==============================] - 38s 78ms/step - loss: 1.7040 - accuracy: 0.6985\n",
      "Epoch 67/100\n",
      "484/484 [==============================] - 36s 75ms/step - loss: 1.6663 - accuracy: 0.7073\n",
      "Epoch 68/100\n",
      "484/484 [==============================] - 37s 77ms/step - loss: 1.6160 - accuracy: 0.7211\n",
      "Epoch 69/100\n",
      "484/484 [==============================] - 38s 79ms/step - loss: 1.5968 - accuracy: 0.7225\n",
      "Epoch 70/100\n",
      "484/484 [==============================] - 37s 77ms/step - loss: 1.5873 - accuracy: 0.7250\n",
      "Epoch 71/100\n",
      "484/484 [==============================] - 38s 79ms/step - loss: 1.5747 - accuracy: 0.7256\n",
      "Epoch 72/100\n",
      "484/484 [==============================] - 38s 78ms/step - loss: 1.5480 - accuracy: 0.7313\n",
      "Epoch 73/100\n",
      "484/484 [==============================] - 39s 80ms/step - loss: 1.5182 - accuracy: 0.7393\n",
      "Epoch 74/100\n",
      "484/484 [==============================] - 40s 82ms/step - loss: 1.5055 - accuracy: 0.7386\n",
      "Epoch 75/100\n",
      "484/484 [==============================] - 37s 76ms/step - loss: 1.4744 - accuracy: 0.7482\n",
      "Epoch 76/100\n",
      "484/484 [==============================] - 40s 82ms/step - loss: 1.4433 - accuracy: 0.7543\n",
      "Epoch 77/100\n",
      "484/484 [==============================] - 40s 82ms/step - loss: 1.4310 - accuracy: 0.7559\n",
      "Epoch 78/100\n",
      "484/484 [==============================] - 39s 81ms/step - loss: 1.4117 - accuracy: 0.7604\n",
      "Epoch 79/100\n"
     ]
    },
    {
     "name": "stdout",
     "output_type": "stream",
     "text": [
      "484/484 [==============================] - 38s 79ms/step - loss: 1.3969 - accuracy: 0.7607\n",
      "Epoch 80/100\n",
      "484/484 [==============================] - 39s 80ms/step - loss: 1.3893 - accuracy: 0.7624\n",
      "Epoch 81/100\n",
      "484/484 [==============================] - 41s 84ms/step - loss: 1.3666 - accuracy: 0.7648\n",
      "Epoch 82/100\n",
      "484/484 [==============================] - 38s 79ms/step - loss: 1.3422 - accuracy: 0.7712\n",
      "Epoch 83/100\n",
      "484/484 [==============================] - 40s 83ms/step - loss: 1.3289 - accuracy: 0.7739\n",
      "Epoch 84/100\n",
      "484/484 [==============================] - 41s 84ms/step - loss: 1.3198 - accuracy: 0.7729\n",
      "Epoch 85/100\n",
      "484/484 [==============================] - 40s 83ms/step - loss: 1.3089 - accuracy: 0.7763\n",
      "Epoch 86/100\n",
      "484/484 [==============================] - 40s 82ms/step - loss: 1.2905 - accuracy: 0.7803\n",
      "Epoch 87/100\n",
      "484/484 [==============================] - 40s 83ms/step - loss: 1.2788 - accuracy: 0.7826\n",
      "Epoch 88/100\n",
      "484/484 [==============================] - 41s 85ms/step - loss: 1.2507 - accuracy: 0.7857\n",
      "Epoch 89/100\n",
      "484/484 [==============================] - 39s 81ms/step - loss: 1.2355 - accuracy: 0.7892\n",
      "Epoch 90/100\n",
      "484/484 [==============================] - 39s 80ms/step - loss: 1.2428 - accuracy: 0.7857\n",
      "Epoch 91/100\n",
      "484/484 [==============================] - 40s 83ms/step - loss: 1.2340 - accuracy: 0.7870\n",
      "Epoch 92/100\n",
      "484/484 [==============================] - 39s 81ms/step - loss: 1.2123 - accuracy: 0.7944\n",
      "Epoch 93/100\n",
      "484/484 [==============================] - 37s 76ms/step - loss: 1.1929 - accuracy: 0.7958\n",
      "Epoch 94/100\n",
      "484/484 [==============================] - 40s 83ms/step - loss: 1.1836 - accuracy: 0.7982\n",
      "Epoch 95/100\n",
      "484/484 [==============================] - 37s 77ms/step - loss: 1.1751 - accuracy: 0.7996\n",
      "Epoch 96/100\n",
      "484/484 [==============================] - 38s 78ms/step - loss: 1.1734 - accuracy: 0.7982\n",
      "Epoch 97/100\n",
      "484/484 [==============================] - 38s 79ms/step - loss: 1.1687 - accuracy: 0.7989\n",
      "Epoch 98/100\n",
      "484/484 [==============================] - 38s 79ms/step - loss: 1.1402 - accuracy: 0.8033\n",
      "Epoch 99/100\n",
      "484/484 [==============================] - 38s 78ms/step - loss: 1.1289 - accuracy: 0.8086\n",
      "Epoch 100/100\n",
      "484/484 [==============================] - 37s 77ms/step - loss: 1.1227 - accuracy: 0.8058\n"
     ]
    }
   ],
   "source": [
    "history = model.fit(predictors, label, epochs=100, verbose=1)"
   ]
  },
  {
   "cell_type": "code",
   "execution_count": 7,
   "metadata": {},
   "outputs": [
    {
     "data": {
      "image/png": "[encoded data removed]",
      "text/plain": [
       "<Figure size 432x288 with 1 Axes>"
      ]
     },
     "metadata": {
      "needs_background": "light"
     },
     "output_type": "display_data"
    },
    {
     "data": {
      "image/png": "[encoded data removed]",
      "text/plain": [
       "<Figure size 432x288 with 1 Axes>"
      ]
     },
     "metadata": {
      "needs_background": "light"
     },
     "output_type": "display_data"
    }
   ],
   "source": [
    "import matplotlib.pyplot as plt\n",
    "acc =  history.history['accuracy']\n",
    "loss = history.history['loss']\n",
    "\n",
    "epochs = range(len(acc))\n",
    "\n",
    "plt.plot(epochs, acc, 'b', label='Training accuracy')\n",
    "plt.title('Training accuracy')\n",
    "\n",
    "plt.figure()\n",
    "\n",
    "plt.plot(epochs, loss, 'b', label='Training Loss')\n",
    "plt.title('Training loss')\n",
    "plt.legend()\n",
    "\n",
    "plt.show()"
   ]
  },
  {
   "cell_type": "code",
   "execution_count": 8,
   "metadata": {},
   "outputs": [
    {
     "name": "stdout",
     "output_type": "stream",
     "text": [
      "Help me Obi Wan Kenobi, you're my only hope must you be dumb 'will ' hate lies doth keep another way place ' lies 'will ' doth keep doth come tear free express'd grow of groan doth endure behold shade hate of room hate ' ' releasing dyed shine bright life again doth grow mad seen seen speak doth remain live decay despair you room bright go up room latch chary chary chary free speak away her wit green it live thy eye doth pry groan away away thine eyes must you have i have not know she doth foes near care is eyes must live be free of\n"
     ]
    }
   ],
   "source": [
    "seed_text = \"Help me Obi Wan Kenobi, you're my only hope\"\n",
    "next_words = 100\n",
    "  \n",
    "for _ in range(next_words):\n",
    "    token_list = tokenizer.texts_to_sequences([seed_text])[0]\n",
    "    token_list = pad_sequences([token_list], maxlen=max_sequence_len-1, padding='pre')\n",
    "    predict_output = model.predict(token_list)\n",
    "    predicted = np.argmax(predict_output, axis=1) #model.predict_classes(token_list, verbose=0)\n",
    "    output_word = \"\"\n",
    "    for word, index in tokenizer.word_index.items():\n",
    "        if index == predicted:\n",
    "            output_word = word\n",
    "            break\n",
    "    seed_text += \" \" + output_word\n",
    "print(seed_text)"
   ]
  },
  {
   "cell_type": "code",
   "execution_count": null,
   "metadata": {},
   "outputs": [],
   "source": []
  }
 ],
 "metadata": {
  "kernelspec": {
   "display_name": "Python@3.8",
   "language": "python",
   "name": "python3.8"
  },
  "language_info": {
   "codemirror_mode": {
    "name": "ipython",
    "version": 3
   },
   "file_extension": ".py",
   "mimetype": "text/x-python",
   "name": "python",
   "nbconvert_exporter": "python",
   "pygments_lexer": "ipython3",
   "version": "3.8.12"
  },
  "toc": {
   "base_numbering": 1,
   "nav_menu": {},
   "number_sections": true,
   "sideBar": true,
   "skip_h1_title": false,
   "title_cell": "Table of Contents",
   "title_sidebar": "Contents",
   "toc_cell": false,
   "toc_position": {},
   "toc_section_display": true,
   "toc_window_display": false
  }
 },
 "nbformat": 4,
 "nbformat_minor": 2
}
