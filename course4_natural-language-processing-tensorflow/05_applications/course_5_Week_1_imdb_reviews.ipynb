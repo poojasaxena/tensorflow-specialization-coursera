{
 "cells": [
  {
   "cell_type": "code",
   "execution_count": null,
   "id": "8967a786",
   "metadata": {},
   "outputs": [],
   "source": [
    "import numpy as np # linear algebra\n",
    "import pandas as pd # data processing, CSV file I/O (e.g. pd.read_csv)\n",
    "\n",
    "# Input data files are available in the read-only \"../input/\" directory\n",
    "# For example, running this (by clicking run or pressing Shift+Enter) will list all files under the input directory\n",
    "\n",
    "import os\n",
    "for dirname, _, filenames in os.walk('/kaggle/input'):\n",
    "    for filename in filenames:\n",
    "        print(os.path.join(dirname, filename))\n",
    "\n",
    "# You can write up to 20GB to the current directory (/kaggle/working/) that gets preserved as output when you create a version using \"Save & Run All\" \n",
    "# You can also write temporary files to /kaggle/temp/, but they won't be saved outside of the current session\n",
    "\n",
    "#Importing require Libraries\n",
    "\n",
    "# You can also write temporary files to /kaggle/temp/, but they won't be saved outside of the current session\n",
    "\n",
    "#Importing require Libraries\n",
    "import os\n",
    "\n",
    "import matplotlib.pyplot as plt\n",
    "import nltk\n",
    "from tkinter import *\n",
    "import seaborn as sns\n",
    "import matplotlib.pyplot as plt\n",
    "sns.set()\n",
    "import scipy\n",
    "\n",
    "import tensorflow as tf\n",
    "import tensorflow_hub as hub\n",
    "import tensorflow_datasets as tfds\n",
    "from tensorflow.python import keras\n",
    "\n",
    "from tensorflow.keras.models import Sequential\n",
    "from tensorflow.keras.layers import Dense, Embedding, LSTM\n",
    "\n",
    "from sklearn.model_selection import train_test_split\n",
    "from sklearn.metrics import confusion_matrix\n",
    "from sklearn.metrics import classification_report"
   ]
  },
  {
   "cell_type": "code",
   "execution_count": null,
   "id": "39596354",
   "metadata": {},
   "outputs": [],
   "source": [
    "# this cells takes time, please run once\n",
    "# Split the training set into 60% and 40%, so we'll end up with 15,000 examples\n",
    "# for training, 10,000 examples for validation and 25,000 examples for testing.\n",
    "original_train_data, original_validation_data, original_test_data = tfds.load(\n",
    "    name=\"imdb_reviews\", \n",
    "    split=('train[:60%]', 'train[60%:]', 'test'),\n",
    "    as_supervised=True)\n"
   ]
  },
  {
   "cell_type": "code",
   "execution_count": null,
   "id": "80283723",
   "metadata": {},
   "outputs": [],
   "source": [
    "#tokanizing by tensorflow\n",
    "word_index = tf.keras.datasets.imdb.get_word_index(\n",
    "    path='imdb_word_index.json'\n"
   ]
  },
  {
   "cell_type": "code",
   "execution_count": null,
   "id": "4703e70c",
   "metadata": {},
   "outputs": [],
   "source": [
    "{k:v for (k,v) in word_index.items() if v < 20}\n"
   ]
  },
  {
   "cell_type": "code",
   "execution_count": null,
   "id": "5d4c76cb",
   "metadata": {},
   "outputs": [],
   "source": [
    "## Positive/negative review comparison\n",
    "fig, ax = plt.subplots(figsize=(20,12))\n",
    "sns.distplot()"
   ]
  },
  {
   "cell_type": "markdown",
   "id": "618f62d9",
   "metadata": {},
   "source": [
    "<div>\n",
    "<img src=\"images/comparison.png\" width=\"300\" height=\"500\" style=\"float:left\"/>\n",
    "</div>"
   ]
  },
  {
   "cell_type": "code",
   "execution_count": null,
   "id": "be1e18bd",
   "metadata": {},
   "outputs": [],
   "source": [
    "link: https://www.analyticsvidhya.com/blog/2020/12/understanding-text-classification-in-nlp-with-movie-review-example-example/"
   ]
  },
  {
   "cell_type": "code",
   "execution_count": null,
   "id": "76de9830",
   "metadata": {},
   "outputs": [],
   "source": []
  },
  {
   "cell_type": "code",
   "execution_count": null,
   "id": "70258d63",
   "metadata": {},
   "outputs": [],
   "source": []
  }
 ],
 "metadata": {
  "kernelspec": {
   "display_name": "Python@3.8",
   "language": "python",
   "name": "python3.8"
  },
  "language_info": {
   "codemirror_mode": {
    "name": "ipython",
    "version": 3
   },
   "file_extension": ".py",
   "mimetype": "text/x-python",
   "name": "python",
   "nbconvert_exporter": "python",
   "pygments_lexer": "ipython3",
   "version": "3.8.12"
  }
 },
 "nbformat": 4,
 "nbformat_minor": 5
}
